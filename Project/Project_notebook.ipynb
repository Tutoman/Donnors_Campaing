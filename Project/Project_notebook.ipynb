{
 "cells": [
  {
   "cell_type": "markdown",
   "id": "f232d84f",
   "metadata": {},
   "source": [
    "# DSC Campaigns\n",
    "### Team 9 Members:\n",
    "##### Omar Mantilla\n",
    "##### Ahmad Omar Nakib\n",
    "##### Pedro Roman Infante"
   ]
  },
  {
   "cell_type": "markdown",
   "id": "3727aa9f",
   "metadata": {},
   "source": [
    "Libraries"
   ]
  },
  {
   "cell_type": "code",
   "execution_count": 292,
   "id": "929705b7",
   "metadata": {},
   "outputs": [],
   "source": [
    "import sys\n",
    "import pandas as pd\n",
    "import datetime as dt\n",
    "from pandas               import DataFrame\n",
    "from pandas               import read_csv\n",
    "from numpy                import array\n",
    "from numpy                import random\n",
    "from sklearn.linear_model import LogisticRegression \n",
    "from sklearn.metrics      import auc\n",
    "from sklearn.metrics      import roc_auc_score\n",
    "import matplotlib.pyplot  as plt\n",
    "import plotly.graph_objects as go\n",
    "import seaborn as sns"
   ]
  },
  {
   "cell_type": "markdown",
   "id": "703d349e",
   "metadata": {},
   "source": [
    "# Dataset upload"
   ]
  },
  {
   "cell_type": "markdown",
   "id": "a552fe47",
   "metadata": {},
   "source": [
    "#### Donors"
   ]
  },
  {
   "cell_type": "code",
   "execution_count": 293,
   "id": "1a9d65d5",
   "metadata": {},
   "outputs": [
    {
     "data": {
      "text/html": [
       "<div>\n",
       "<style scoped>\n",
       "    .dataframe tbody tr th:only-of-type {\n",
       "        vertical-align: middle;\n",
       "    }\n",
       "\n",
       "    .dataframe tbody tr th {\n",
       "        vertical-align: top;\n",
       "    }\n",
       "\n",
       "    .dataframe thead th {\n",
       "        text-align: right;\n",
       "    }\n",
       "</style>\n",
       "<table border=\"1\" class=\"dataframe\">\n",
       "  <thead>\n",
       "    <tr style=\"text-align: right;\">\n",
       "      <th></th>\n",
       "      <th>Unnamed: 0</th>\n",
       "      <th>donorID</th>\n",
       "      <th>zipcode</th>\n",
       "      <th>province</th>\n",
       "      <th>region</th>\n",
       "      <th>gender</th>\n",
       "      <th>language</th>\n",
       "      <th>dateOfBirth</th>\n",
       "    </tr>\n",
       "  </thead>\n",
       "  <tbody>\n",
       "    <tr>\n",
       "      <th>0</th>\n",
       "      <td>0</td>\n",
       "      <td>100001</td>\n",
       "      <td>1861.0</td>\n",
       "      <td>Flemish Brabant</td>\n",
       "      <td>Flanders</td>\n",
       "      <td>F</td>\n",
       "      <td>NL</td>\n",
       "      <td>12/24/1967</td>\n",
       "    </tr>\n",
       "    <tr>\n",
       "      <th>1</th>\n",
       "      <td>1</td>\n",
       "      <td>100002</td>\n",
       "      <td>2260.0</td>\n",
       "      <td>Antwerp</td>\n",
       "      <td>Flanders</td>\n",
       "      <td>M</td>\n",
       "      <td>NL</td>\n",
       "      <td>01/14/1952</td>\n",
       "    </tr>\n",
       "    <tr>\n",
       "      <th>2</th>\n",
       "      <td>2</td>\n",
       "      <td>100003</td>\n",
       "      <td>1780.0</td>\n",
       "      <td>Flemish Brabant</td>\n",
       "      <td>Flanders</td>\n",
       "      <td>M</td>\n",
       "      <td>NL</td>\n",
       "      <td>12/23/1986</td>\n",
       "    </tr>\n",
       "    <tr>\n",
       "      <th>3</th>\n",
       "      <td>3</td>\n",
       "      <td>100004</td>\n",
       "      <td>1020.0</td>\n",
       "      <td>Brussels</td>\n",
       "      <td>Brussels</td>\n",
       "      <td>F</td>\n",
       "      <td>FR</td>\n",
       "      <td>03/29/1952</td>\n",
       "    </tr>\n",
       "    <tr>\n",
       "      <th>4</th>\n",
       "      <td>4</td>\n",
       "      <td>100005</td>\n",
       "      <td>1020.0</td>\n",
       "      <td>Brussels</td>\n",
       "      <td>Brussels</td>\n",
       "      <td>F</td>\n",
       "      <td>FR</td>\n",
       "      <td>06/25/1986</td>\n",
       "    </tr>\n",
       "  </tbody>\n",
       "</table>\n",
       "</div>"
      ],
      "text/plain": [
       "   Unnamed: 0  donorID  zipcode         province    region gender language  \\\n",
       "0           0   100001   1861.0  Flemish Brabant  Flanders      F       NL   \n",
       "1           1   100002   2260.0          Antwerp  Flanders      M       NL   \n",
       "2           2   100003   1780.0  Flemish Brabant  Flanders      M       NL   \n",
       "3           3   100004   1020.0         Brussels  Brussels      F       FR   \n",
       "4           4   100005   1020.0         Brussels  Brussels      F       FR   \n",
       "\n",
       "  dateOfBirth  \n",
       "0  12/24/1967  \n",
       "1  01/14/1952  \n",
       "2  12/23/1986  \n",
       "3  03/29/1952  \n",
       "4  06/25/1986  "
      ]
     },
     "execution_count": 293,
     "metadata": {},
     "output_type": "execute_result"
    }
   ],
   "source": [
    "# Upload Donors Dataset\n",
    "donors_full = read_csv(\"./GROUP ASSIGNMENT DSC use-case-20211202/donors.csv\")\n",
    "donors_full.head()"
   ]
  },
  {
   "cell_type": "code",
   "execution_count": 294,
   "id": "65837f8e",
   "metadata": {},
   "outputs": [],
   "source": [
    "campaign6169 = read_csv(\"./GROUP ASSIGNMENT DSC use-case-20211202/selection campaign 6169.csv\")"
   ]
  },
  {
   "cell_type": "code",
   "execution_count": 295,
   "id": "74657c10",
   "metadata": {},
   "outputs": [],
   "source": [
    "# Filtering donors by campaign 6169 \n",
    "donors = pd.merge(donors_full, campaign6169, on=\"donorID\", how=\"inner\")"
   ]
  },
  {
   "cell_type": "code",
   "execution_count": 296,
   "id": "8da59df5",
   "metadata": {},
   "outputs": [],
   "source": [
    "donors.loc[donors['gender'] == 'M','gender'] = 1\n",
    "donors.loc[donors['gender'] == 'F','gender'] = 0\n"
   ]
  },
  {
   "cell_type": "code",
   "execution_count": 297,
   "id": "f1bd2411",
   "metadata": {},
   "outputs": [],
   "source": [
    "# Extract Date from csv\n",
    "donors[\"dateOfBirth\"] = pd.to_datetime(donors[\"dateOfBirth\"])\n",
    "\n",
    "# Year\n",
    "donors[\"birth_year\"] = donors[\"dateOfBirth\"].dt.year\n",
    "\n",
    "# Donnors Age\n",
    "donors['age'] = 2008 - donors[\"birth_year\"]\n",
    "\n",
    "# Age group\n",
    "donors['age_group'] = donors['age'] // 10 * 10"
   ]
  },
  {
   "cell_type": "markdown",
   "id": "f41d411f",
   "metadata": {},
   "source": [
    "#### Gifts"
   ]
  },
  {
   "cell_type": "code",
   "execution_count": 298,
   "id": "98a690bf",
   "metadata": {},
   "outputs": [
    {
     "data": {
      "text/html": [
       "<div>\n",
       "<style scoped>\n",
       "    .dataframe tbody tr th:only-of-type {\n",
       "        vertical-align: middle;\n",
       "    }\n",
       "\n",
       "    .dataframe tbody tr th {\n",
       "        vertical-align: top;\n",
       "    }\n",
       "\n",
       "    .dataframe thead th {\n",
       "        text-align: right;\n",
       "    }\n",
       "</style>\n",
       "<table border=\"1\" class=\"dataframe\">\n",
       "  <thead>\n",
       "    <tr style=\"text-align: right;\">\n",
       "      <th></th>\n",
       "      <th>Unnamed: 0</th>\n",
       "      <th>donorID</th>\n",
       "      <th>campaignID</th>\n",
       "      <th>amount</th>\n",
       "      <th>date</th>\n",
       "    </tr>\n",
       "  </thead>\n",
       "  <tbody>\n",
       "    <tr>\n",
       "      <th>0</th>\n",
       "      <td>0</td>\n",
       "      <td>100001</td>\n",
       "      <td>NaN</td>\n",
       "      <td>12,39</td>\n",
       "      <td>2004-03-23</td>\n",
       "    </tr>\n",
       "    <tr>\n",
       "      <th>1</th>\n",
       "      <td>1</td>\n",
       "      <td>100001</td>\n",
       "      <td>1577.0</td>\n",
       "      <td>12,39</td>\n",
       "      <td>2007-10-11</td>\n",
       "    </tr>\n",
       "    <tr>\n",
       "      <th>2</th>\n",
       "      <td>2</td>\n",
       "      <td>100001</td>\n",
       "      <td>1634.0</td>\n",
       "      <td>6,69</td>\n",
       "      <td>2007-12-28</td>\n",
       "    </tr>\n",
       "    <tr>\n",
       "      <th>3</th>\n",
       "      <td>3</td>\n",
       "      <td>100001</td>\n",
       "      <td>1778.0</td>\n",
       "      <td>24,79</td>\n",
       "      <td>2008-06-14</td>\n",
       "    </tr>\n",
       "    <tr>\n",
       "      <th>4</th>\n",
       "      <td>4</td>\n",
       "      <td>100001</td>\n",
       "      <td>1808.0</td>\n",
       "      <td>7,44</td>\n",
       "      <td>2008-07-09</td>\n",
       "    </tr>\n",
       "  </tbody>\n",
       "</table>\n",
       "</div>"
      ],
      "text/plain": [
       "   Unnamed: 0  donorID  campaignID amount        date\n",
       "0           0   100001         NaN  12,39  2004-03-23\n",
       "1           1   100001      1577.0  12,39  2007-10-11\n",
       "2           2   100001      1634.0   6,69  2007-12-28\n",
       "3           3   100001      1778.0  24,79  2008-06-14\n",
       "4           4   100001      1808.0   7,44  2008-07-09"
      ]
     },
     "execution_count": 298,
     "metadata": {},
     "output_type": "execute_result"
    }
   ],
   "source": [
    "# Upload gifts Dataset\n",
    "gifts = read_csv(\"./GROUP ASSIGNMENT DSC use-case-20211202/gifts.csv\")\n",
    "gifts.head()"
   ]
  },
  {
   "cell_type": "code",
   "execution_count": 299,
   "id": "16f9f09c",
   "metadata": {},
   "outputs": [],
   "source": [
    "gifts['amount'] = gifts['amount'].str.replace(',','.')"
   ]
  },
  {
   "cell_type": "code",
   "execution_count": 300,
   "id": "866bedf2",
   "metadata": {},
   "outputs": [],
   "source": [
    "gifts['amount'] = gifts['amount'].astype(float)"
   ]
  },
  {
   "cell_type": "markdown",
   "id": "2e40294b",
   "metadata": {},
   "source": [
    "# Data Cleaning"
   ]
  },
  {
   "cell_type": "code",
   "execution_count": 301,
   "id": "894caa5a",
   "metadata": {},
   "outputs": [],
   "source": [
    "# Extract Date from csv\n",
    "gifts[\"date\"] = pd.to_datetime(gifts[\"date\"])\n",
    "\n",
    "# Year\n",
    "gifts[\"year\"] = gifts[\"date\"].dt.year\n",
    "\n",
    "# Month\n",
    "gifts[\"month\"] = gifts[\"date\"].dt.month\n",
    "\n",
    "# Day\n",
    "gifts[\"day\"] = gifts[\"date\"].dt.day\n"
   ]
  },
  {
   "cell_type": "code",
   "execution_count": 302,
   "id": "414fb2f8",
   "metadata": {},
   "outputs": [],
   "source": [
    "# Replace NaN with 0\n",
    "gifts[\"campaignID\"].fillna(0, inplace = True)\n",
    "\n",
    "# New Column to Identify missing CampaingIDs\n",
    "gifts[\"Missing_CampaingID\"] = 0\n",
    "gifts.loc[gifts[\"campaignID\"] == 0, \"Missing_CampaingID\"] = 1"
   ]
  },
  {
   "cell_type": "markdown",
   "id": "19ae8ecf",
   "metadata": {},
   "source": [
    "# Filter"
   ]
  },
  {
   "cell_type": "code",
   "execution_count": 303,
   "id": "e11d9084",
   "metadata": {},
   "outputs": [],
   "source": [
    "# Filtered by gifts done before 4-AUG-2008\n",
    "gifts_training = gifts.loc[(pd.to_datetime(gifts[\"date\"])>=dt.datetime(2013,8,4)) & (pd.to_datetime(gifts[\"date\"])<=dt.datetime(2018,8,4)),:]\n"
   ]
  },
  {
   "cell_type": "code",
   "execution_count": 304,
   "id": "878732a7",
   "metadata": {},
   "outputs": [
    {
     "data": {
      "text/html": [
       "<div>\n",
       "<style scoped>\n",
       "    .dataframe tbody tr th:only-of-type {\n",
       "        vertical-align: middle;\n",
       "    }\n",
       "\n",
       "    .dataframe tbody tr th {\n",
       "        vertical-align: top;\n",
       "    }\n",
       "\n",
       "    .dataframe thead th {\n",
       "        text-align: right;\n",
       "    }\n",
       "</style>\n",
       "<table border=\"1\" class=\"dataframe\">\n",
       "  <thead>\n",
       "    <tr style=\"text-align: right;\">\n",
       "      <th></th>\n",
       "      <th>Unnamed: 0</th>\n",
       "      <th>donorID</th>\n",
       "      <th>campaignID</th>\n",
       "      <th>amount</th>\n",
       "      <th>date</th>\n",
       "      <th>year</th>\n",
       "      <th>month</th>\n",
       "      <th>day</th>\n",
       "      <th>Missing_CampaingID</th>\n",
       "    </tr>\n",
       "  </thead>\n",
       "  <tbody>\n",
       "    <tr>\n",
       "      <th>12</th>\n",
       "      <td>12</td>\n",
       "      <td>100002</td>\n",
       "      <td>3941.0</td>\n",
       "      <td>20.0</td>\n",
       "      <td>2015-01-10</td>\n",
       "      <td>2015</td>\n",
       "      <td>1</td>\n",
       "      <td>10</td>\n",
       "      <td>0</td>\n",
       "    </tr>\n",
       "    <tr>\n",
       "      <th>13</th>\n",
       "      <td>13</td>\n",
       "      <td>100003</td>\n",
       "      <td>4801.0</td>\n",
       "      <td>5.0</td>\n",
       "      <td>2017-07-27</td>\n",
       "      <td>2017</td>\n",
       "      <td>7</td>\n",
       "      <td>27</td>\n",
       "      <td>0</td>\n",
       "    </tr>\n",
       "    <tr>\n",
       "      <th>14</th>\n",
       "      <td>14</td>\n",
       "      <td>100003</td>\n",
       "      <td>4830.0</td>\n",
       "      <td>3.0</td>\n",
       "      <td>2017-08-11</td>\n",
       "      <td>2017</td>\n",
       "      <td>8</td>\n",
       "      <td>11</td>\n",
       "      <td>0</td>\n",
       "    </tr>\n",
       "    <tr>\n",
       "      <th>15</th>\n",
       "      <td>15</td>\n",
       "      <td>100003</td>\n",
       "      <td>4990.0</td>\n",
       "      <td>3.0</td>\n",
       "      <td>2017-09-16</td>\n",
       "      <td>2017</td>\n",
       "      <td>9</td>\n",
       "      <td>16</td>\n",
       "      <td>0</td>\n",
       "    </tr>\n",
       "    <tr>\n",
       "      <th>16</th>\n",
       "      <td>16</td>\n",
       "      <td>100003</td>\n",
       "      <td>5326.0</td>\n",
       "      <td>4.0</td>\n",
       "      <td>2018-06-15</td>\n",
       "      <td>2018</td>\n",
       "      <td>6</td>\n",
       "      <td>15</td>\n",
       "      <td>0</td>\n",
       "    </tr>\n",
       "  </tbody>\n",
       "</table>\n",
       "</div>"
      ],
      "text/plain": [
       "    Unnamed: 0  donorID  campaignID  amount       date  year  month  day  \\\n",
       "12          12   100002      3941.0    20.0 2015-01-10  2015      1   10   \n",
       "13          13   100003      4801.0     5.0 2017-07-27  2017      7   27   \n",
       "14          14   100003      4830.0     3.0 2017-08-11  2017      8   11   \n",
       "15          15   100003      4990.0     3.0 2017-09-16  2017      9   16   \n",
       "16          16   100003      5326.0     4.0 2018-06-15  2018      6   15   \n",
       "\n",
       "    Missing_CampaingID  \n",
       "12                   0  \n",
       "13                   0  \n",
       "14                   0  \n",
       "15                   0  \n",
       "16                   0  "
      ]
     },
     "execution_count": 304,
     "metadata": {},
     "output_type": "execute_result"
    }
   ],
   "source": [
    "gifts_training.head()"
   ]
  },
  {
   "cell_type": "code",
   "execution_count": 305,
   "id": "16b1fda9",
   "metadata": {},
   "outputs": [
    {
     "data": {
      "image/png": "[encoded data removed]",
      "text/plain": [
       "<Figure size 432x288 with 1 Axes>"
      ]
     },
     "metadata": {
      "needs_background": "light"
     },
     "output_type": "display_data"
    }
   ],
   "source": [
    "fig, axs = plt.subplots()\n",
    "axs.hist( gifts_training[\"amount\"], bins=10, range = [20,200])\n",
    "plt.show()"
   ]
  },
  {
   "cell_type": "markdown",
   "id": "678cc709",
   "metadata": {},
   "source": [
    "## Feature Engineering"
   ]
  },
  {
   "cell_type": "code",
   "execution_count": 306,
   "id": "bf026401",
   "metadata": {},
   "outputs": [],
   "source": [
    "donations_per_donor = gifts_training.groupby('donorID')['amount'].agg(['min', 'max', 'sum', 'count', 'mean'])\n",
    "donations_per_donor = donations_per_donor.rename({\"min\":\"min_donation_per_donor\", \n",
    "                             \"max\":\"max_donation_per_donor\", \n",
    "                             \"sum\":\"total_donations_per_donor\", \n",
    "                             \"count\":\"total_donation_times\",\n",
    "                            \"mean\":\"avg_donations_per_donor\"}, axis=1)\n"
   ]
  },
  {
   "cell_type": "code",
   "execution_count": 307,
   "id": "60d6786f",
   "metadata": {},
   "outputs": [],
   "source": [
    "# Extract the donations in the last 3 months\n",
    "donations_3months = gifts_training.loc[pd.to_datetime(gifts_training[\"date\"])>=dt.datetime(2018,5,4),:]\n",
    "donations_donor_3months = donations_3months.groupby('donorID')['amount'].agg(['min', 'max', 'sum', 'count', 'mean'])\n",
    "donations_donor_3months = donations_donor_3months.rename({\"min\":\"3m_min_donation_per_donor\", \n",
    "                             \"max\":\"3m_max_donation_per_donor\", \n",
    "                             \"sum\":\"3m_total_donations_per_donor\", \n",
    "                             \"count\":\"3m_total_donation_times\",\n",
    "                                \"mean\":\"3m_avg_donations_per_donor\"}, axis=1)"
   ]
  },
  {
   "cell_type": "code",
   "execution_count": 308,
   "id": "8841d665",
   "metadata": {},
   "outputs": [],
   "source": [
    "# Extract the donations in the last 6 months\n",
    "donations_6months = gifts_training.loc[pd.to_datetime(gifts_training[\"date\"])>=dt.datetime(2018,2,4),:]\n",
    "donations_donor_6months = donations_6months.groupby('donorID')['amount'].agg(['min', 'max', 'sum', 'count','mean'])\n",
    "donations_donor_6months = donations_donor_6months.rename({\"min\":\"6m_min_donation_donor\", \n",
    "                             \"max\":\"6m_max_donation_per_donor\", \n",
    "                             \"sum\":\"6m_total_donations_per_donor\", \n",
    "                             \"count\":\"6m_total_donation_times\",\n",
    "                              \"mean\": \"6m_avg_donations_per_donor\"}, axis=1)"
   ]
  },
  {
   "cell_type": "code",
   "execution_count": 309,
   "id": "e24cb234",
   "metadata": {},
   "outputs": [],
   "source": [
    "# Extract the donations in the last 9 months\n",
    "\n",
    "donations_9months = gifts_training.loc[pd.to_datetime(gifts_training[\"date\"])>=dt.datetime(2017,11,4),:]\n",
    "donations_donor_9months = donations_9months.groupby('donorID')['amount'].agg(['min', 'max', 'sum', 'count', 'mean'])\n",
    "donations_donor_9months = donations_donor_9months.rename({\"min\":\"9m_min_donation_donor\", \n",
    "                             \"max\":\"9m_max_donation_per_donor\", \n",
    "                             \"sum\":\"9m_total_donations_per_donor\", \n",
    "                             \"count\":\"9m_total_donation_times\",\n",
    "                              \"mean\":\"9m_avg_donations_per_donor\"}, axis=1)"
   ]
  },
  {
   "cell_type": "code",
   "execution_count": 310,
   "id": "3a60df63",
   "metadata": {},
   "outputs": [],
   "source": [
    "# Extract the donations in the last year\n",
    "\n",
    "donations_year = gifts_training.loc[pd.to_datetime(gifts_training[\"date\"])>=dt.datetime(2017,8,4),:]\n",
    "donations_donor_year = donations_year.groupby('donorID')['amount'].agg(['min', 'max', 'sum', 'count', 'mean'])\n",
    "donations_donor_year = donations_donor_year.rename({\"min\":\"yr_min_donation_donor\", \n",
    "                             \"max\":\"yr_max_donation_per_donor\", \n",
    "                             \"sum\":\"yr_total_donations_per_donor\", \n",
    "                             \"count\":\"yr_total_donation_times\",\n",
    "                             \"mean\":\"yr_avg_donations_per_donor\"}, axis=1)"
   ]
  },
  {
   "cell_type": "code",
   "execution_count": 311,
   "id": "042a3cef",
   "metadata": {},
   "outputs": [],
   "source": [
    "# Extract the donations in the last 2 years\n",
    "\n",
    "donations_2year = gifts_training.loc[pd.to_datetime(gifts_training[\"date\"])>=dt.datetime(2016,8,4),:]\n",
    "donations_donor_2year = donations_year.groupby('donorID')['amount'].agg(['min', 'max', 'sum', 'count', 'mean'])\n",
    "donations_donor_2year = donations_donor_2year.rename({\"min\":\"2yr_min_donation_donor\", \n",
    "                             \"max\":\"2yr_max_donation_per_donor\", \n",
    "                             \"sum\":\"2yr_total_donations_per_donor\", \n",
    "                             \"count\":\"2yr_total_donation_times\",\n",
    "                             \"mean\": \"2yr_avg_donations_per_donor\"}, axis=1)"
   ]
  },
  {
   "cell_type": "code",
   "execution_count": 312,
   "id": "7e665fa4",
   "metadata": {},
   "outputs": [],
   "source": [
    "# Extract the donations in the last 3 years\n",
    "\n",
    "donations_3year = gifts_training.loc[pd.to_datetime(gifts_training[\"date\"])>=dt.datetime(2015,8,4),:]\n",
    "donations_donor_3year = donations_year.groupby('donorID')['amount'].agg(['min', 'max', 'sum', 'count', 'mean'])\n",
    "donations_donor_3year = donations_donor_3year.rename({\"min\":\"3yr_min_donation_donor\", \n",
    "                             \"max\":\"3yr_max_donation_per_donor\", \n",
    "                             \"sum\":\"3yr_total_donations_per_donor\", \n",
    "                             \"count\":\"3yr_total_donation_times\",\n",
    "                             \"mean\":\"3yr_avg_donations_per_donor\"}, axis=1)"
   ]
  },
  {
   "cell_type": "code",
   "execution_count": 313,
   "id": "e9c1cf61",
   "metadata": {},
   "outputs": [],
   "source": [
    "# Merging with total donations per donor\n",
    "base_table = pd.merge(donors,donations_per_donor, on=\"donorID\", how=\"left\" )\n",
    "base_table.fillna(0, inplace=True)\n",
    "\n",
    "# Merging with 3 months count\n",
    "base_table = pd.merge(base_table,donations_donor_3months, on=\"donorID\", how=\"left\" )\n",
    "base_table.fillna(0, inplace = True)\n",
    "# base_table.isna().sum()\n",
    "\n",
    "#Merging with 6 months count\n",
    "base_table = pd.merge(base_table,donations_donor_6months, on=\"donorID\", how=\"left\" )\n",
    "base_table.fillna(0, inplace = True)\n",
    "base_table.isna().sum()\n",
    "\n",
    "#Merging with 9 months count\n",
    "base_table = pd.merge(base_table,donations_donor_9months, on=\"donorID\", how=\"left\" )\n",
    "base_table.fillna(0, inplace = True)\n",
    "base_table.isna().sum()\n",
    "\n",
    "#Merging with year count\n",
    "base_table = pd.merge(base_table,donations_donor_year, on=\"donorID\", how=\"left\" )\n",
    "base_table.fillna(0, inplace = True)\n",
    "base_table.isna().sum()\n",
    "\n",
    "# Merging with 2 year count\n",
    "base_table = pd.merge(base_table,donations_donor_2year, on=\"donorID\", how=\"left\" )\n",
    "base_table.fillna(0, inplace = True)\n",
    "base_table.isna().sum()\n",
    "\n",
    "# Merging with 3 year count\n",
    "base_table = pd.merge(base_table,donations_donor_3year, on=\"donorID\", how=\"left\" )\n",
    "base_table.fillna(0, inplace = True)"
   ]
  },
  {
   "cell_type": "code",
   "execution_count": 314,
   "id": "2c54b782",
   "metadata": {},
   "outputs": [],
   "source": [
    "# Amount and count difference from 3 to 6 months\n",
    "base_table[\"3m_6m_amt_diff\"] = base_table[\"6m_total_donations_per_donor\"] - base_table[\"3m_total_donations_per_donor\"]\n",
    "base_table[\"3m_6m_count_diff\"] = base_table[\"6m_total_donation_times\"] - base_table[\"3m_total_donation_times\"] \n",
    "# Amount and count difference from 6 to 9 months\n",
    "base_table[\"6m_9m_amt_diff\"] = base_table[\"9m_total_donations_per_donor\"] - base_table[\"6m_total_donations_per_donor\"]\n",
    "base_table[\"6m_9m_count_diff\"] = base_table[\"9m_total_donation_times\"] - base_table[\"6m_total_donation_times\"] \n",
    "# Amount and count difference from 9 to 12 months\n",
    "base_table[\"9m_yr_amt_diff\"] = base_table[\"yr_total_donations_per_donor\"] - base_table[\"9m_total_donations_per_donor\"]\n",
    "base_table[\"9m_yr_count_diff\"] = base_table[\"yr_total_donation_times\"] - base_table[\"9m_total_donation_times\"] \n",
    "# Amount and count difference from 1 to 2 years\n",
    "base_table[\"2yr_yr_amt_diff\"] = base_table[\"2yr_total_donations_per_donor\"] - base_table[\"yr_total_donations_per_donor\"]\n",
    "base_table[\"2yr_yr_amt_diff\"] = base_table[\"2yr_total_donation_times\"] - base_table[\"yr_total_donation_times\"] \n",
    "# Amount and count difference from 1 to 2 years\n",
    "base_table[\"2yr_yr_amt_diff\"] = base_table[\"3yr_total_donations_per_donor\"] - base_table[\"2yr_total_donations_per_donor\"]\n",
    "base_table[\"3yr_2yr_amt_diff\"] = base_table[\"3yr_total_donation_times\"] - base_table[\"2yr_total_donation_times\"] "
   ]
  },
  {
   "cell_type": "code",
   "execution_count": 315,
   "id": "a2725dca",
   "metadata": {},
   "outputs": [
    {
     "data": {
      "text/plain": [
       "max_year     0\n",
       "min_year     0\n",
       "year_diff    0\n",
       "recency      0\n",
       "dtype: int64"
      ]
     },
     "execution_count": 315,
     "metadata": {},
     "output_type": "execute_result"
    }
   ],
   "source": [
    "# Creating max year variable \n",
    "grouped_year = gifts_training.groupby(\"donorID\")['year'].agg(['max', 'min'])\n",
    "grouped_year = grouped_year.rename({\"max\":\"max_year\", 'min':'min_year'}, axis=1)\n",
    "grouped_year['year_diff'] = grouped_year['max_year']- grouped_year['min_year']\n",
    "grouped_year['recency'] = 2018 - grouped_year['max_year']\n",
    "grouped_year.isna().sum()"
   ]
  },
  {
   "cell_type": "code",
   "execution_count": 316,
   "id": "9caa2e3e",
   "metadata": {},
   "outputs": [],
   "source": [
    "base_table = pd.merge(base_table, grouped_year, on=\"donorID\", how=\"left\")\n",
    "base_table.loc[base_table[\"max_year\"].isna(),\"max_year\"] = 2018\n",
    "base_table.loc[base_table[\"min_year\"].isna(),\"min_year\"] = 2018\n",
    "base_table.loc[base_table[\"year_diff\"].isna(),\"year_diff\"] = 0\n",
    "base_table.loc[base_table[\"recency\"].isna(),\"recency\"] = 0\n",
    "base_table[\"max_year\"] = base_table[\"max_year\"].astype(int)\n",
    "base_table[\"min_year\"] = base_table[\"min_year\"].astype(int)"
   ]
  },
  {
   "cell_type": "code",
   "execution_count": 317,
   "id": "e0740df2",
   "metadata": {},
   "outputs": [],
   "source": [
    "# Calculating average donations and amount of donations per year\n",
    "# Adding 1 to avoid division by 0\n",
    "base_table['donations_count_per_period'] = base_table['total_donation_times']/(base_table['year_diff'].astype(int)+1)\n",
    "base_table['donations_amount_per_period'] = base_table['total_donations_per_donor']/(base_table['year_diff'].astype(int)+1)"
   ]
  },
  {
   "cell_type": "markdown",
   "id": "c8c8fb0b",
   "metadata": {},
   "source": [
    "### Outliers"
   ]
  },
  {
   "cell_type": "markdown",
   "id": "1b5b2632",
   "metadata": {},
   "source": [
    "#### Ranking donor as exceptional if they have donated above the 99th percentile\n"
   ]
  },
  {
   "cell_type": "code",
   "execution_count": 318,
   "id": "a272cb22",
   "metadata": {},
   "outputs": [],
   "source": [
    "# Outliers from total donations per donor\n",
    "percentiles_dict = base_table[\"total_donations_per_donor\"].quantile([0.01,0.05,0.95,0.99]).to_dict()\n",
    "upper_outliers = base_table[base_table[\"total_donations_per_donor\"] > percentiles_dict[0.99]][[\"donorID\",\"total_donations_per_donor\"]]\n",
    "base_table[\"exceptional_donor\"] = base_table[\"donorID\"].isin(upper_outliers[\"donorID\"])\n",
    "base_table[\"exceptional_donor\"] = base_table[\"exceptional_donor\"].replace({True:1, False:0})\n",
    "\n",
    "# Ranking donors by donor's amount quantiles\n",
    "amount_rank= base_table[\"total_donations_per_donor\"].quantile([0.25,0.50,0.75]).to_dict()\n",
    "\n",
    "base_table[\"donating_amt_rank\"] = 1\n",
    "base_table.loc[base_table[\"total_donations_per_donor\"]> amount_rank[0.25], \"donating_amt_rank\"] = 2\n",
    "base_table.loc[base_table[\"total_donations_per_donor\"]> amount_rank[0.5], \"donating_amt_rank\"] = 3\n",
    "base_table.loc[base_table[\"total_donations_per_donor\"]> amount_rank[0.75], \"donating_amt_rank\"] = 4\n",
    "base_table.loc[base_table[\"total_donations_per_donor\"]> percentiles_dict[0.99], \"donating_amt_rank\"] = 5"
   ]
  },
  {
   "cell_type": "markdown",
   "id": "806baabe",
   "metadata": {},
   "source": [
    "#### Creating donation ranges to check how many times a donor has donated within that range\n"
   ]
  },
  {
   "cell_type": "code",
   "execution_count": 319,
   "id": "9aea0d9c",
   "metadata": {},
   "outputs": [],
   "source": [
    "# Creating donation ranges to check how many times a donor has donated within that range\n",
    "amount_range = gifts_training[\"amount\"].quantile([0.20,0.40,0.60,0.8]).to_dict()\n",
    "\n",
    "# Subsetting gifts df to obtain transactions lower than first quantile boundary, then counting by donor ID\n",
    "count_1st_qtl = pd.DataFrame(\n",
    "    gifts_training[gifts_training[\"amount\"]<=amount_range[0.2]][[\"donorID\"]].groupby(\"donorID\")[\"donorID\"].count())\n",
    "count_1st_qtl = count_1st_qtl.rename({\"donorID\":\"donations_1st_qtl_count\"}, axis=1)\n",
    "# Subsetting gifts df to obtain transactions between first and second quantile boundary, then counting by donor ID\n",
    "count_2nd_qtl = pd.DataFrame(\n",
    "    gifts_training[(gifts_training[\"amount\"]>amount_range[0.2]) \n",
    "                               & (gifts_training[\"amount\"]<=amount_range[0.4])][[\"donorID\"]].groupby(\"donorID\")[\"donorID\"].count())\n",
    "count_2nd_qtl = count_2nd_qtl.rename({\"donorID\":\"donations_2nd_qtl_count\"}, axis=1)\n",
    "\n",
    "count_3rd_qtl = pd.DataFrame(\n",
    "    gifts_training[(gifts_training[\"amount\"]> amount_range[0.4])\n",
    "                               & (gifts_training[\"amount\"]<=amount_range[0.6])][[\"donorID\"]].groupby(\"donorID\")[\"donorID\"].count())\n",
    "count_3rd_qtl = count_3rd_qtl.rename({\"donorID\":\"donations_3rd_qtl_count\"}, axis=1)\n",
    "\n",
    "count_4th_qtl = pd.DataFrame(\n",
    "    gifts_training[(gifts_training[\"amount\"]> amount_range[0.6]) \n",
    "                               & (gifts_training[\"amount\"]<=amount_range[0.8])][[\"donorID\"]].groupby(\"donorID\")[\"donorID\"].count())\n",
    "count_4th_qtl = count_4th_qtl.rename({\"donorID\":\"donations_4th_qtl_count\"}, axis=1)\n",
    "\n",
    "count_5th_qtl = pd.DataFrame(\n",
    "    gifts_training[gifts_training[\"amount\"]>=amount_range[0.8]][[\"donorID\"]].groupby(\"donorID\")[\"donorID\"].count())\n",
    "count_5th_qtl = count_5th_qtl.rename({\"donorID\":\"donations_5th_qtl_count\"}, axis=1)\n"
   ]
  },
  {
   "cell_type": "code",
   "execution_count": 320,
   "id": "73a5535a",
   "metadata": {},
   "outputs": [],
   "source": [
    "base_table = pd.merge(base_table,count_1st_qtl, on=\"donorID\", how=\"left\" )\n",
    "base_table[\"donations_1st_qtl_count\"].fillna(0, inplace = True)\n",
    "\n",
    "base_table = pd.merge(base_table,count_2nd_qtl, on=\"donorID\", how=\"left\" )\n",
    "base_table[\"donations_2nd_qtl_count\"].fillna(0, inplace = True)\n",
    "\n",
    "base_table = pd.merge(base_table,count_3rd_qtl, on=\"donorID\", how=\"left\" )\n",
    "base_table[\"donations_3rd_qtl_count\"].fillna(0, inplace = True)\n",
    "\n",
    "base_table = pd.merge(base_table,count_4th_qtl, on=\"donorID\", how=\"left\" )\n",
    "base_table[\"donations_4th_qtl_count\"].fillna(0, inplace = True)\n",
    "\n",
    "base_table = pd.merge(base_table,count_5th_qtl, on=\"donorID\", how=\"left\" )\n",
    "base_table[\"donations_5th_qtl_count\"].fillna(0, inplace = True)"
   ]
  },
  {
   "cell_type": "code",
   "execution_count": 321,
   "id": "8b968d27",
   "metadata": {},
   "outputs": [],
   "source": [
    "# Number of campaigns in which the person has donated\n",
    "campaing_per_donors = pd.DataFrame(gifts_training.groupby(\"donorID\")[\"campaignID\"].nunique())\n",
    "campaing_per_donors = campaing_per_donors.rename({\"campaignID\":\"nbr_of_campaigns\"}, axis=1)\n",
    "base_table = pd.merge(base_table, campaing_per_donors, on=\"donorID\", how=\"left\")\n",
    "base_table[\"nbr_of_campaigns\"].fillna(0, inplace = True)\n",
    "# Calculating donations count over period of time  \n",
    "base_table['donations_count_per_period'] = base_table[\"total_donation_times\"]/(base_table[\"year_diff\"]+1)\n",
    "base_table['donations_amount_per_period'] = base_table[\"total_donations_per_donor\"]/(base_table[\"year_diff\"]+1)"
   ]
  },
  {
   "cell_type": "markdown",
   "id": "fcc5c379",
   "metadata": {},
   "source": [
    "### Regions, Language, and Province Metrics"
   ]
  },
  {
   "cell_type": "code",
   "execution_count": 322,
   "id": "28102960",
   "metadata": {},
   "outputs": [],
   "source": [
    "donations_per_region = base_table.groupby('region')['total_donations_per_donor'].agg(['min', 'max', 'sum', 'count','mean'])\n",
    "donations_per_region = donations_per_region.rename({\"min\":\"min_donation_per_region\", \n",
    "                             \"max\":\"max_donation_per_region\", \n",
    "                             \"sum\":\"total_donations_per_region\", \n",
    "                             \"count\":\"count_donation_region\",\n",
    "                            'mean':\"avg_donations_region\"}, axis=1)\n",
    "\n",
    "donations_per_province = base_table.groupby('province')['total_donations_per_donor'].agg(['min', 'max', 'sum', 'count','mean'])\n",
    "donations_per_province = donations_per_province.rename({\"min\":\"min_donation_per_province\", \n",
    "                             \"max\":\"max_donation_per_province\", \n",
    "                             \"sum\":\"total_donations_per_province\", \n",
    "                             \"count\":\"total_donation_province\",\n",
    "                            \"mean\":\"avg_donations_province\"}, axis=1)\n",
    "\n",
    "donations_per_language = base_table.groupby('language')['total_donations_per_donor'].agg(['min', 'max', 'sum', 'count','mean'])\n",
    "donations_per_language = donations_per_language.rename({\"min\":\"min_donation_per_lang\", \n",
    "                             \"max\":\"max_donation_per_lang\", \n",
    "                             \"sum\":\"total_donations_per_lang\", \n",
    "                             \"count\":\"total_donation_lang\",\n",
    "                            \"mean\":\"avg_donations_lang\"}, axis=1)\n",
    "base_table = pd.merge(base_table, donations_per_language, on=\"language\", how=\"left\")\n",
    "base_table = pd.merge(base_table, donations_per_province, on=\"province\", how=\"left\")\n",
    "base_table = pd.merge(base_table, donations_per_region, on=\"region\", how=\"left\")\n"
   ]
  },
  {
   "cell_type": "code",
   "execution_count": 323,
   "id": "521b5c72",
   "metadata": {},
   "outputs": [],
   "source": [
    "base_table = pd.get_dummies(base_table, drop_first=True, columns =[\"region\"])\n",
    "base_table = pd.get_dummies(base_table, drop_first=True, columns =[\"province\"])\n",
    "base_table = pd.get_dummies(base_table, drop_first=True, columns =[\"language\"])\n",
    "\n",
    "base_table[\"more_than_once_in_a_campaign\"] = (base_table[\"total_donation_times\"] - base_table[\"nbr_of_campaigns\"])>0 \n",
    "base_table[\"more_than_once_in_a_campaign\"] = base_table[\"more_than_once_in_a_campaign\"].replace({True:1, False:0})"
   ]
  },
  {
   "cell_type": "markdown",
   "id": "44176d46",
   "metadata": {},
   "source": [
    "### Profiling Users (RFM)"
   ]
  },
  {
   "cell_type": "code",
   "execution_count": 324,
   "id": "3559b587",
   "metadata": {},
   "outputs": [],
   "source": [
    "recency_categ = base_table[\"recency\"].quantile([0.20,0.40,0.60,0.80]).to_dict()\n",
    "base_table[\"recency_categ\"] = 1\n",
    "base_table.loc[base_table[\"recency\"]> recency_categ[0.20], \"recency_categ\"] = 2\n",
    "base_table.loc[base_table[\"recency\"]> recency_categ[0.40], \"recency_categ\"] = 3\n",
    "base_table.loc[base_table[\"recency\"]> recency_categ[0.60], \"recency_categ\"] = 4\n",
    "base_table.loc[base_table[\"recency\"]> recency_categ[0.80], \"recency_categ\"] = 5\n",
    "\n",
    "# Ranking donors by donor's amount quantiles\n",
    "freq_rank= base_table[\"total_donation_times\"].quantile([0.20,0.40,0.60,0.80]).to_dict()\n",
    "\n",
    "base_table[\"freq_rank\"] = 1\n",
    "base_table.loc[base_table[\"total_donation_times\"]> freq_rank[0.20], \"freq_rank\"] = 2\n",
    "base_table.loc[base_table[\"total_donation_times\"]> freq_rank[0.40], \"freq_rank\"] = 3\n",
    "base_table.loc[base_table[\"total_donation_times\"]> freq_rank[0.60], \"freq_rank\"] = 4\n",
    "base_table.loc[base_table[\"total_donation_times\"]> freq_rank[0.80], \"freq_rank\"] = 5\n",
    "\n",
    "base_table[\"donor_rank\"] = (base_table[\"donating_amt_rank\"].astype(int) + base_table[\"recency_categ\"].astype(int) + base_table[\"freq_rank\"].astype(int))/3"
   ]
  },
  {
   "cell_type": "markdown",
   "id": "327d5a41",
   "metadata": {},
   "source": [
    "# Dependent Variable"
   ]
  },
  {
   "cell_type": "code",
   "execution_count": 325,
   "id": "30562eee",
   "metadata": {},
   "outputs": [],
   "source": [
    "gifts_campaign6169 = pd.DataFrame(gifts.loc[(gifts[\"campaignID\"] == 6169) & (gifts[\"amount\"] >= 30), \"donorID\" ])\n",
    "gifts_campaign6169[\"6169_donor\"] = \"1\"\n",
    "\n",
    "campaign6169 = pd.merge(campaign6169, gifts_campaign6169, on=\"donorID\", how=\"left\" )\n",
    "campaign6169.loc[campaign6169[\"6169_donor\"].isna(), \"6169_donor\" ] = \"0\"\n",
    "base_table = pd.merge(base_table, campaign6169, on=\"donorID\", how=\"inner\")\n",
    "base_table[\"6169_donor\"] = base_table[\"6169_donor\"].astype(int)"
   ]
  },
  {
   "cell_type": "markdown",
   "id": "08d4907d",
   "metadata": {},
   "source": [
    "# Feature Selection"
   ]
  },
  {
   "cell_type": "code",
   "execution_count": 326,
   "id": "7ed803e1",
   "metadata": {},
   "outputs": [],
   "source": [
    "from sklearn.model_selection import train_test_split\n",
    "from scipy.stats          import pearsonr\n",
    "from sklearn.linear_model import LogisticRegression \n",
    "from sklearn.metrics      import auc\n",
    "from sklearn.metrics      import roc_auc_score\n",
    "from sklearn.preprocessing import MinMaxScaler\n",
    "from sklearn.ensemble import RandomForestClassifier\n",
    "from sklearn.metrics import accuracy_score\n",
    "import numpy as np"
   ]
  },
  {
   "cell_type": "code",
   "execution_count": 327,
   "id": "e44509a3",
   "metadata": {},
   "outputs": [],
   "source": [
    "# Dropping irrelevant features\n",
    "irrelevant_features = [\"Unnamed: 0\",\"zipcode\",\"dateOfBirth\", \"birth_year\", \"age\"]\n",
    "base_table = base_table.drop(columns=list(irrelevant_features))"
   ]
  },
  {
   "cell_type": "code",
   "execution_count": 328,
   "id": "90e4b505",
   "metadata": {},
   "outputs": [],
   "source": [
    "# Removing region, province Missing records\n",
    "base_table = base_table.drop(base_table[base_table.donorID == 105020].index)\n",
    "base_table = base_table.drop(base_table[base_table.donorID == 122101].index)\n",
    "base_table = base_table.drop(\"region_Missing\", axis=1)\n",
    "base_table = base_table.drop(\"province_Missing\", axis=1)"
   ]
  },
  {
   "cell_type": "code",
   "execution_count": 329,
   "id": "8fb0b301",
   "metadata": {},
   "outputs": [
    {
     "name": "stderr",
     "output_type": "stream",
     "text": [
      "C:\\Users\\PROMAN~1\\AppData\\Local\\Temp/ipykernel_10320/2501637186.py:2: FutureWarning:\n",
      "\n",
      "In a future version of pandas all arguments of DataFrame.drop except for the argument 'labels' will be keyword-only\n",
      "\n"
     ]
    }
   ],
   "source": [
    "# features = list(scaled_base_table.drop([\"donorID\",\"6169_donor\"],1).columns)\n",
    "features = list(base_table.drop([\"donorID\",\"6169_donor\"],1).columns)\n",
    "\n",
    "target   = ['6169_donor']\n",
    "# X, y = scaled_base_table[features], scaled_base_table[\"6169_donor\"]\n",
    "X, y = base_table[features], base_table[\"6169_donor\"]\n",
    "X_train, X_test, y_train, y_test = train_test_split(X,y, test_size=0.3, stratify =y, random_state=100)\n"
   ]
  },
  {
   "cell_type": "markdown",
   "id": "4b85ac51",
   "metadata": {},
   "source": [
    "### Univariate Feature Selection"
   ]
  },
  {
   "cell_type": "code",
   "execution_count": 330,
   "id": "fe1fd7b7",
   "metadata": {},
   "outputs": [
    {
     "data": {
      "text/plain": [
       "gender                          24410\n",
       "age_group                       24410\n",
       "min_donation_per_donor          24410\n",
       "max_donation_per_donor          24410\n",
       "total_donations_per_donor       24410\n",
       "                                ...  \n",
       "language_NL                     24410\n",
       "more_than_once_in_a_campaign    24410\n",
       "recency_categ                   24410\n",
       "freq_rank                       24410\n",
       "donor_rank                      24410\n",
       "Length: 93, dtype: int64"
      ]
     },
     "execution_count": 330,
     "metadata": {},
     "output_type": "execute_result"
    }
   ],
   "source": [
    "X_train.count()"
   ]
  },
  {
   "cell_type": "code",
   "execution_count": 331,
   "id": "b60f6c45",
   "metadata": {},
   "outputs": [
    {
     "name": "stderr",
     "output_type": "stream",
     "text": [
      "C:\\tools\\Anaconda3\\envs\\f_program\\lib\\site-packages\\scipy\\stats\\stats.py:4023: PearsonRConstantInputWarning:\n",
      "\n",
      "An input array is constant; the correlation coefficient is not defined.\n",
      "\n"
     ]
    }
   ],
   "source": [
    "# CODE REFERENCE: Descriptive and Predictive Lab 2 - Predictive modeling univariate selection\n",
    "selectedFeatures = []\n",
    "for column in features:\n",
    "    (pearson, pvalue) = pearsonr(X_train[column], y_train)\n",
    "    if pvalue < 0.01:\n",
    "        selectedFeatures.append(column)"
   ]
  },
  {
   "cell_type": "code",
   "execution_count": 332,
   "id": "7592698e",
   "metadata": {},
   "outputs": [
    {
     "data": {
      "text/plain": [
       "['gender',\n",
       " 'age_group',\n",
       " 'min_donation_per_donor',\n",
       " 'max_donation_per_donor',\n",
       " 'total_donations_per_donor',\n",
       " 'avg_donations_per_donor',\n",
       " 'max_year',\n",
       " 'min_year',\n",
       " 'year_diff',\n",
       " 'recency',\n",
       " 'donations_count_per_period',\n",
       " 'donations_amount_per_period',\n",
       " 'donating_amt_rank',\n",
       " 'donations_2nd_qtl_count',\n",
       " 'donations_3rd_qtl_count',\n",
       " 'donations_4th_qtl_count',\n",
       " 'donations_5th_qtl_count',\n",
       " 'nbr_of_campaigns',\n",
       " 'recency_categ',\n",
       " 'freq_rank',\n",
       " 'donor_rank']"
      ]
     },
     "execution_count": 332,
     "metadata": {},
     "output_type": "execute_result"
    }
   ],
   "source": [
    "selectedFeatures"
   ]
  },
  {
   "cell_type": "markdown",
   "id": "5d89a630",
   "metadata": {},
   "source": [
    "### Training Algorithms"
   ]
  },
  {
   "cell_type": "code",
   "execution_count": 333,
   "id": "29d2e035",
   "metadata": {},
   "outputs": [],
   "source": [
    "from sklearn.linear_model   import LogisticRegression\n",
    "from sklearn.tree           import DecisionTreeClassifier\n",
    "from sklearn.ensemble       import RandomForestClassifier\n",
    "from sklearn.ensemble       import GradientBoostingClassifier\n",
    "from sklearn.svm            import SVC\n",
    "from sklearn.neural_network import MLPClassifier\n",
    "from sklearn.neighbors      import KNeighborsClassifier"
   ]
  },
  {
   "cell_type": "code",
   "execution_count": 334,
   "id": "27ecae98",
   "metadata": {},
   "outputs": [],
   "source": [
    "# Initiating models to compare results on selected features\n",
    "tree         = DecisionTreeClassifier()\n",
    "logistic     = LogisticRegression(solver = \"lbfgs\", max_iter = 500)\n",
    "randomForest = RandomForestClassifier(max_depth=3, random_state = 100, n_estimators = 100)\n",
    "boostedTree  = GradientBoostingClassifier()\n",
    "svm          = SVC(gamma = \"scale\", probability = True)\n",
    "neuralNet    = MLPClassifier()\n",
    "neighbors    = KNeighborsClassifier()"
   ]
  },
  {
   "cell_type": "code",
   "execution_count": 335,
   "id": "0c58efc6",
   "metadata": {},
   "outputs": [],
   "source": [
    "models = {\"tree\"         :tree,\n",
    "          \"logistic\"     :logistic,\n",
    "          \"randomForest\" :randomForest,\n",
    "          \"boostedTree\"  :boostedTree,\n",
    "          \"svm\"          :svm,\n",
    "          \"neuralNet\"    :neuralNet,\n",
    "          \"neighbors\"    :neighbors\n",
    "         }"
   ]
  },
  {
   "cell_type": "code",
   "execution_count": 336,
   "id": "46b37b0a",
   "metadata": {},
   "outputs": [],
   "source": [
    "# Training models on training set\n",
    "for model in models:\n",
    "    models[model].fit(X_train[selectedFeatures], y_train)"
   ]
  },
  {
   "cell_type": "code",
   "execution_count": 422,
   "id": "d5eed354",
   "metadata": {},
   "outputs": [],
   "source": [
    "# Accuracy and AUC for all models\n",
    "performances = {}\n",
    "\n",
    "for model in models:\n",
    "    predictions_train   = models[model].predict(X_train[selectedFeatures])\n",
    "    probabilities_train = DataFrame(models[model].predict_proba(X_train[selectedFeatures]))[1]\n",
    "    predictions_test   = models[model].predict(X_test[selectedFeatures])\n",
    "    probabilities_test = DataFrame(models[model].predict_proba(X_test[selectedFeatures]))[1]\n",
    "    accuracy_train      = accuracy_score(y_train,predictions_train)\n",
    "    auc_train           = roc_auc_score(array(y_train),array(probabilities_train))\n",
    "    accuracy_test      = accuracy_score(y_test,predictions_test)\n",
    "    auc_test           = roc_auc_score(array(y_test),array(probabilities_test))\n",
    "\n",
    "    performances[model] = {\"Accuracy Train\":accuracy_train,\"Accuracy Test\":accuracy_test,\"AUC Train\":auc_train, \"AUC Test\":auc_test}"
   ]
  },
  {
   "cell_type": "code",
   "execution_count": 423,
   "id": "57d8d127",
   "metadata": {},
   "outputs": [],
   "source": [
    "df_perf = DataFrame(performances)"
   ]
  },
  {
   "cell_type": "code",
   "execution_count": 424,
   "id": "e2cfceb9",
   "metadata": {},
   "outputs": [],
   "source": [
    "df_perf.to_csv(\"./Group Project/Data Exploration/models_performance.csv\")"
   ]
  },
  {
   "cell_type": "markdown",
   "id": "06710ecc",
   "metadata": {},
   "source": [
    "### Evaluating Models"
   ]
  },
  {
   "cell_type": "code",
   "execution_count": 340,
   "id": "7aba6762",
   "metadata": {},
   "outputs": [],
   "source": [
    "from ieseg import roc\n",
    "from ieseg import lift\n",
    "from ieseg import cumulativeResponse\n",
    "from ieseg import cumulativeGains"
   ]
  },
  {
   "cell_type": "code",
   "execution_count": 341,
   "id": "9e0935d3",
   "metadata": {},
   "outputs": [
    {
     "name": "stderr",
     "output_type": "stream",
     "text": [
      "C:\\Users\\promaninfante\\OneDrive - IESEG\\Descriptive and Predictive\\ieseg.py:70: SettingWithCopyWarning:\n",
      "\n",
      "\n",
      "A value is trying to be set on a copy of a slice from a DataFrame.\n",
      "Try using .loc[row_indexer,col_indexer] = value instead\n",
      "\n",
      "See the caveats in the documentation: https://pandas.pydata.org/pandas-docs/stable/user_guide/indexing.html#returning-a-view-versus-a-copy\n",
      "\n",
      "C:\\Users\\promaninfante\\OneDrive - IESEG\\Descriptive and Predictive\\ieseg.py:70: SettingWithCopyWarning:\n",
      "\n",
      "\n",
      "A value is trying to be set on a copy of a slice from a DataFrame.\n",
      "Try using .loc[row_indexer,col_indexer] = value instead\n",
      "\n",
      "See the caveats in the documentation: https://pandas.pydata.org/pandas-docs/stable/user_guide/indexing.html#returning-a-view-versus-a-copy\n",
      "\n",
      "C:\\tools\\Anaconda3\\envs\\f_program\\lib\\site-packages\\pandas\\core\\indexing.py:1684: SettingWithCopyWarning:\n",
      "\n",
      "\n",
      "A value is trying to be set on a copy of a slice from a DataFrame.\n",
      "Try using .loc[row_indexer,col_indexer] = value instead\n",
      "\n",
      "See the caveats in the documentation: https://pandas.pydata.org/pandas-docs/stable/user_guide/indexing.html#returning-a-view-versus-a-copy\n",
      "\n",
      "C:\\tools\\Anaconda3\\envs\\f_program\\lib\\site-packages\\pandas\\core\\indexing.py:1817: SettingWithCopyWarning:\n",
      "\n",
      "\n",
      "A value is trying to be set on a copy of a slice from a DataFrame.\n",
      "Try using .loc[row_indexer,col_indexer] = value instead\n",
      "\n",
      "See the caveats in the documentation: https://pandas.pydata.org/pandas-docs/stable/user_guide/indexing.html#returning-a-view-versus-a-copy\n",
      "\n",
      "C:\\Users\\promaninfante\\OneDrive - IESEG\\Descriptive and Predictive\\ieseg.py:70: SettingWithCopyWarning:\n",
      "\n",
      "\n",
      "A value is trying to be set on a copy of a slice from a DataFrame.\n",
      "Try using .loc[row_indexer,col_indexer] = value instead\n",
      "\n",
      "See the caveats in the documentation: https://pandas.pydata.org/pandas-docs/stable/user_guide/indexing.html#returning-a-view-versus-a-copy\n",
      "\n",
      "C:\\tools\\Anaconda3\\envs\\f_program\\lib\\site-packages\\pandas\\core\\indexing.py:1684: SettingWithCopyWarning:\n",
      "\n",
      "\n",
      "A value is trying to be set on a copy of a slice from a DataFrame.\n",
      "Try using .loc[row_indexer,col_indexer] = value instead\n",
      "\n",
      "See the caveats in the documentation: https://pandas.pydata.org/pandas-docs/stable/user_guide/indexing.html#returning-a-view-versus-a-copy\n",
      "\n",
      "C:\\tools\\Anaconda3\\envs\\f_program\\lib\\site-packages\\pandas\\core\\indexing.py:1817: SettingWithCopyWarning:\n",
      "\n",
      "\n",
      "A value is trying to be set on a copy of a slice from a DataFrame.\n",
      "Try using .loc[row_indexer,col_indexer] = value instead\n",
      "\n",
      "See the caveats in the documentation: https://pandas.pydata.org/pandas-docs/stable/user_guide/indexing.html#returning-a-view-versus-a-copy\n",
      "\n",
      "C:\\Users\\promaninfante\\OneDrive - IESEG\\Descriptive and Predictive\\ieseg.py:31: SettingWithCopyWarning:\n",
      "\n",
      "\n",
      "A value is trying to be set on a copy of a slice from a DataFrame.\n",
      "Try using .loc[row_indexer,col_indexer] = value instead\n",
      "\n",
      "See the caveats in the documentation: https://pandas.pydata.org/pandas-docs/stable/user_guide/indexing.html#returning-a-view-versus-a-copy\n",
      "\n",
      "C:\\Users\\promaninfante\\OneDrive - IESEG\\Descriptive and Predictive\\ieseg.py:47: SettingWithCopyWarning:\n",
      "\n",
      "\n",
      "A value is trying to be set on a copy of a slice from a DataFrame.\n",
      "Try using .loc[row_indexer,col_indexer] = value instead\n",
      "\n",
      "See the caveats in the documentation: https://pandas.pydata.org/pandas-docs/stable/user_guide/indexing.html#returning-a-view-versus-a-copy\n",
      "\n",
      "C:\\Users\\promaninfante\\OneDrive - IESEG\\Descriptive and Predictive\\ieseg.py:70: SettingWithCopyWarning:\n",
      "\n",
      "\n",
      "A value is trying to be set on a copy of a slice from a DataFrame.\n",
      "Try using .loc[row_indexer,col_indexer] = value instead\n",
      "\n",
      "See the caveats in the documentation: https://pandas.pydata.org/pandas-docs/stable/user_guide/indexing.html#returning-a-view-versus-a-copy\n",
      "\n",
      "C:\\tools\\Anaconda3\\envs\\f_program\\lib\\site-packages\\pandas\\core\\indexing.py:1684: SettingWithCopyWarning:\n",
      "\n",
      "\n",
      "A value is trying to be set on a copy of a slice from a DataFrame.\n",
      "Try using .loc[row_indexer,col_indexer] = value instead\n",
      "\n",
      "See the caveats in the documentation: https://pandas.pydata.org/pandas-docs/stable/user_guide/indexing.html#returning-a-view-versus-a-copy\n",
      "\n",
      "C:\\tools\\Anaconda3\\envs\\f_program\\lib\\site-packages\\pandas\\core\\indexing.py:1817: SettingWithCopyWarning:\n",
      "\n",
      "\n",
      "A value is trying to be set on a copy of a slice from a DataFrame.\n",
      "Try using .loc[row_indexer,col_indexer] = value instead\n",
      "\n",
      "See the caveats in the documentation: https://pandas.pydata.org/pandas-docs/stable/user_guide/indexing.html#returning-a-view-versus-a-copy\n",
      "\n",
      "C:\\Users\\promaninfante\\OneDrive - IESEG\\Descriptive and Predictive\\ieseg.py:31: SettingWithCopyWarning:\n",
      "\n",
      "\n",
      "A value is trying to be set on a copy of a slice from a DataFrame.\n",
      "Try using .loc[row_indexer,col_indexer] = value instead\n",
      "\n",
      "See the caveats in the documentation: https://pandas.pydata.org/pandas-docs/stable/user_guide/indexing.html#returning-a-view-versus-a-copy\n",
      "\n",
      "C:\\Users\\promaninfante\\OneDrive - IESEG\\Descriptive and Predictive\\ieseg.py:32: SettingWithCopyWarning:\n",
      "\n",
      "\n",
      "A value is trying to be set on a copy of a slice from a DataFrame.\n",
      "Try using .loc[row_indexer,col_indexer] = value instead\n",
      "\n",
      "See the caveats in the documentation: https://pandas.pydata.org/pandas-docs/stable/user_guide/indexing.html#returning-a-view-versus-a-copy\n",
      "\n",
      "C:\\Users\\promaninfante\\OneDrive - IESEG\\Descriptive and Predictive\\ieseg.py:47: SettingWithCopyWarning:\n",
      "\n",
      "\n",
      "A value is trying to be set on a copy of a slice from a DataFrame.\n",
      "Try using .loc[row_indexer,col_indexer] = value instead\n",
      "\n",
      "See the caveats in the documentation: https://pandas.pydata.org/pandas-docs/stable/user_guide/indexing.html#returning-a-view-versus-a-copy\n",
      "\n",
      "C:\\Users\\promaninfante\\OneDrive - IESEG\\Descriptive and Predictive\\ieseg.py:48: SettingWithCopyWarning:\n",
      "\n",
      "\n",
      "A value is trying to be set on a copy of a slice from a DataFrame.\n",
      "Try using .loc[row_indexer,col_indexer] = value instead\n",
      "\n",
      "See the caveats in the documentation: https://pandas.pydata.org/pandas-docs/stable/user_guide/indexing.html#returning-a-view-versus-a-copy\n",
      "\n",
      "C:\\Users\\promaninfante\\OneDrive - IESEG\\Descriptive and Predictive\\ieseg.py:70: SettingWithCopyWarning:\n",
      "\n",
      "\n",
      "A value is trying to be set on a copy of a slice from a DataFrame.\n",
      "Try using .loc[row_indexer,col_indexer] = value instead\n",
      "\n",
      "See the caveats in the documentation: https://pandas.pydata.org/pandas-docs/stable/user_guide/indexing.html#returning-a-view-versus-a-copy\n",
      "\n",
      "C:\\tools\\Anaconda3\\envs\\f_program\\lib\\site-packages\\pandas\\core\\indexing.py:1684: SettingWithCopyWarning:\n",
      "\n",
      "\n",
      "A value is trying to be set on a copy of a slice from a DataFrame.\n",
      "Try using .loc[row_indexer,col_indexer] = value instead\n",
      "\n",
      "See the caveats in the documentation: https://pandas.pydata.org/pandas-docs/stable/user_guide/indexing.html#returning-a-view-versus-a-copy\n",
      "\n",
      "C:\\tools\\Anaconda3\\envs\\f_program\\lib\\site-packages\\pandas\\core\\indexing.py:1817: SettingWithCopyWarning:\n",
      "\n",
      "\n",
      "A value is trying to be set on a copy of a slice from a DataFrame.\n",
      "Try using .loc[row_indexer,col_indexer] = value instead\n",
      "\n",
      "See the caveats in the documentation: https://pandas.pydata.org/pandas-docs/stable/user_guide/indexing.html#returning-a-view-versus-a-copy\n",
      "\n",
      "C:\\Users\\promaninfante\\OneDrive - IESEG\\Descriptive and Predictive\\ieseg.py:31: SettingWithCopyWarning:\n",
      "\n",
      "\n",
      "A value is trying to be set on a copy of a slice from a DataFrame.\n",
      "Try using .loc[row_indexer,col_indexer] = value instead\n",
      "\n",
      "See the caveats in the documentation: https://pandas.pydata.org/pandas-docs/stable/user_guide/indexing.html#returning-a-view-versus-a-copy\n",
      "\n",
      "C:\\Users\\promaninfante\\OneDrive - IESEG\\Descriptive and Predictive\\ieseg.py:32: SettingWithCopyWarning:\n",
      "\n",
      "\n",
      "A value is trying to be set on a copy of a slice from a DataFrame.\n",
      "Try using .loc[row_indexer,col_indexer] = value instead\n",
      "\n",
      "See the caveats in the documentation: https://pandas.pydata.org/pandas-docs/stable/user_guide/indexing.html#returning-a-view-versus-a-copy\n",
      "\n",
      "C:\\Users\\promaninfante\\OneDrive - IESEG\\Descriptive and Predictive\\ieseg.py:47: SettingWithCopyWarning:\n",
      "\n",
      "\n",
      "A value is trying to be set on a copy of a slice from a DataFrame.\n",
      "Try using .loc[row_indexer,col_indexer] = value instead\n",
      "\n",
      "See the caveats in the documentation: https://pandas.pydata.org/pandas-docs/stable/user_guide/indexing.html#returning-a-view-versus-a-copy\n",
      "\n",
      "C:\\Users\\promaninfante\\OneDrive - IESEG\\Descriptive and Predictive\\ieseg.py:48: SettingWithCopyWarning:\n",
      "\n",
      "\n",
      "A value is trying to be set on a copy of a slice from a DataFrame.\n",
      "Try using .loc[row_indexer,col_indexer] = value instead\n",
      "\n",
      "See the caveats in the documentation: https://pandas.pydata.org/pandas-docs/stable/user_guide/indexing.html#returning-a-view-versus-a-copy\n",
      "\n"
     ]
    }
   ],
   "source": [
    "lifts     = {}\n",
    "responses = {}\n",
    "gains     = {}\n",
    "data      = DataFrame(y_test).copy() \n",
    "\n",
    "for (index,model) in enumerate(models):\n",
    "    proba_model = DataFrame(models[model].predict_proba(X_test[selectedFeatures]))[1]\n",
    "    df_proba = DataFrame(proba_model)\n",
    "    df_proba.index = data.index\n",
    "    data[f\"proba {model}\"] = df_proba\n",
    "    lifts[model] = lift(dataSet = data, actuals = \"6169_donor\", probability = \"proba \"+str(model))\n",
    "    responses[model] = cumulativeResponse(dataSet = data, actuals = \"6169_donor\", probability = \"proba \"+str(model))\n",
    "    gains[model] = cumulativeGains(dataSet = data, actuals = \"6169_donor\", probability = \"proba \"+str(model))\n"
   ]
  },
  {
   "cell_type": "code",
   "execution_count": 342,
   "id": "8e839657",
   "metadata": {},
   "outputs": [
    {
     "data": {
      "image/png": "[encoded data removed]",
      "text/plain": [
       "<Figure size 432x288 with 1 Axes>"
      ]
     },
     "metadata": {
      "needs_background": "light"
     },
     "output_type": "display_data"
    }
   ],
   "source": [
    "for model in models:\n",
    "    plt.plot(lifts[model][\"Quantile\"], lifts[model][\"Lift\"], label = model)\n",
    "    plt.gca().invert_xaxis()\n",
    "    plt.xlabel(\"Quantile\")\n",
    "    plt.ylabel(\"lift\")\n",
    "    plt.title(\"Lift\")\n",
    "    plt.legend()"
   ]
  },
  {
   "cell_type": "markdown",
   "id": "805fe35d",
   "metadata": {},
   "source": [
    "## Enhancing selected model: Gradient Boosting"
   ]
  },
  {
   "cell_type": "code",
   "execution_count": 343,
   "id": "c984d3fa",
   "metadata": {},
   "outputs": [
    {
     "data": {
      "text/plain": [
       "GradientBoostingClassifier(n_estimators=200, random_state=150)"
      ]
     },
     "execution_count": 343,
     "metadata": {},
     "output_type": "execute_result"
    }
   ],
   "source": [
    "gradBoost = GradientBoostingClassifier(max_depth = 3, n_estimators=200, random_state=150)\n",
    "gradBoost.fit(X_train[selectedFeatures], y_train)"
   ]
  },
  {
   "cell_type": "code",
   "execution_count": 344,
   "id": "13af3f22",
   "metadata": {},
   "outputs": [],
   "source": [
    "predictions_train   = gradBoost.predict(X_train[selectedFeatures])\n",
    "probabilities_train = DataFrame(gradBoost.predict_proba(X_train[selectedFeatures]))[1]\n",
    "predictions_test   = gradBoost.predict(X_test[selectedFeatures])\n",
    "probabilities_test = DataFrame(gradBoost.predict_proba(X_test[selectedFeatures]))[1]\n",
    "accuracy_train      = accuracy_score(y_train,predictions_train)\n",
    "auc_train           = roc_auc_score(array(y_train),array(probabilities_train))\n",
    "accuracy_test      = accuracy_score(y_test,predictions_test)\n",
    "auc_test           = roc_auc_score(array(y_test),array(probabilities_test))\n",
    "\n",
    "performances_gradboost = {\"Accuracy Train\":accuracy_train,\"Accuracy Test\":accuracy_test,\"AUC Train\":auc_train, \"AUC Test\":auc_test}"
   ]
  },
  {
   "cell_type": "code",
   "execution_count": 345,
   "id": "e5c9d774",
   "metadata": {},
   "outputs": [
    {
     "data": {
      "text/plain": [
       "{'Accuracy Train': 0.9808275297009422,\n",
       " 'Accuracy Test': 0.9780156757790097,\n",
       " 'AUC Train': 0.8845667983142881,\n",
       " 'AUC Test': 0.8591929859038872}"
      ]
     },
     "execution_count": 345,
     "metadata": {},
     "output_type": "execute_result"
    }
   ],
   "source": [
    "performances_gradboost"
   ]
  },
  {
   "cell_type": "markdown",
   "id": "7dbbcb19",
   "metadata": {},
   "source": [
    "# Campaign 7244"
   ]
  },
  {
   "cell_type": "code",
   "execution_count": 346,
   "id": "37760d7e",
   "metadata": {},
   "outputs": [],
   "source": [
    "campaign7244 = read_csv(\"./GROUP ASSIGNMENT DSC use-case-20211202/selection campaign 7244.csv\")"
   ]
  },
  {
   "cell_type": "code",
   "execution_count": 347,
   "id": "d4adb263",
   "metadata": {},
   "outputs": [
    {
     "data": {
      "text/plain": [
       "(25645, 1)"
      ]
     },
     "execution_count": 347,
     "metadata": {},
     "output_type": "execute_result"
    }
   ],
   "source": [
    "campaign7244.shape"
   ]
  },
  {
   "cell_type": "code",
   "execution_count": 348,
   "id": "234cbffe",
   "metadata": {},
   "outputs": [],
   "source": [
    "donors_7244 = pd.merge(donors_full, campaign7244, on=\"donorID\", how=\"inner\")"
   ]
  },
  {
   "cell_type": "code",
   "execution_count": 349,
   "id": "090f6539",
   "metadata": {},
   "outputs": [],
   "source": [
    "donors_7244.loc[donors_7244['gender'] == 'M','gender'] = 1\n",
    "donors_7244.loc[donors_7244['gender'] == 'F','gender'] = 0\n",
    "\n",
    "# Extract Date from csv\n",
    "donors_7244[\"dateOfBirth\"] = pd.to_datetime(donors_7244[\"dateOfBirth\"])\n",
    "\n",
    "# Year\n",
    "donors_7244[\"birth_year\"] = donors_7244[\"dateOfBirth\"].dt.year\n",
    "\n",
    "# Donnors Age\n",
    "donors_7244['age'] = 2008 - donors_7244[\"birth_year\"]\n",
    "\n",
    "# Age group\n",
    "donors_7244['age_group'] = donors_7244['age'] // 10 * 10"
   ]
  },
  {
   "cell_type": "code",
   "execution_count": 350,
   "id": "be462274",
   "metadata": {},
   "outputs": [],
   "source": [
    "gifts_train_7244 = gifts.loc[pd.to_datetime(gifts[\"date\"])<=dt.datetime(2019,5,18),:]"
   ]
  },
  {
   "cell_type": "code",
   "execution_count": 351,
   "id": "cf1ae9cf",
   "metadata": {},
   "outputs": [],
   "source": [
    "donations_per_donor = gifts_train_7244.groupby('donorID')['amount'].agg(['min', 'max', 'sum', 'count', 'mean'])\n",
    "donations_per_donor = donations_per_donor.rename({\"min\":\"min_donation_per_donor\", \n",
    "                             \"max\":\"max_donation_per_donor\", \n",
    "                             \"sum\":\"total_donations_per_donor\", \n",
    "                             \"count\":\"total_donation_times\",\n",
    "                            \"mean\":\"avg_donations_per_donor\"}, axis=1)\n",
    "\n",
    "# Extract the donations in the last 3 months\n",
    "donations_3months = gifts_train_7244.loc[pd.to_datetime(gifts_train_7244[\"date\"])>=dt.datetime(2019,2,18),:]\n",
    "donations_donor_3months = donations_3months.groupby('donorID')['amount'].agg(['min', 'max', 'sum', 'count', 'mean'])\n",
    "donations_donor_3months = donations_donor_3months.rename({\"min\":\"3m_min_donation_per_donor\", \n",
    "                             \"max\":\"3m_max_donation_per_donor\", \n",
    "                             \"sum\":\"3m_total_donations_per_donor\", \n",
    "                             \"count\":\"3m_total_donation_times\",\n",
    "                                \"mean\":\"3m_avg_donations_per_donor\"}, axis=1)\n",
    "# Extract the donations in the last 6 months\n",
    "donations_6months = gifts_train_7244.loc[pd.to_datetime(gifts_train_7244[\"date\"])>=dt.datetime(2018,11,18),:]\n",
    "donations_donor_6months = donations_6months.groupby('donorID')['amount'].agg(['min', 'max', 'sum', 'count','mean'])\n",
    "donations_donor_6months = donations_donor_6months.rename({\"min\":\"6m_min_donation_donor\", \n",
    "                             \"max\":\"6m_max_donation_per_donor\", \n",
    "                             \"sum\":\"6m_total_donations_per_donor\", \n",
    "                             \"count\":\"6m_total_donation_times\",\n",
    "                              \"mean\": \"6m_avg_donations_per_donor\"}, axis=1)\n",
    "# Extract the donations in the last 9 months\n",
    "\n",
    "donations_9months = gifts_train_7244.loc[pd.to_datetime(gifts_train_7244[\"date\"])>=dt.datetime(2018,8,18),:]\n",
    "donations_donor_9months = donations_9months.groupby('donorID')['amount'].agg(['min', 'max', 'sum', 'count', 'mean'])\n",
    "donations_donor_9months = donations_donor_9months.rename({\"min\":\"9m_min_donation_donor\", \n",
    "                             \"max\":\"9m_max_donation_per_donor\", \n",
    "                             \"sum\":\"9m_total_donations_per_donor\", \n",
    "                             \"count\":\"9m_total_donation_times\",\n",
    "                              \"mean\":\"9m_avg_donations_per_donor\"}, axis=1)\n",
    "# Extract the donations in the last year\n",
    "\n",
    "donations_year = gifts_train_7244.loc[pd.to_datetime(gifts_train_7244[\"date\"])>=dt.datetime(2018,5,18),:]\n",
    "donations_donor_year = donations_year.groupby('donorID')['amount'].agg(['min', 'max', 'sum', 'count', 'mean'])\n",
    "donations_donor_year = donations_donor_year.rename({\"min\":\"yr_min_donation_donor\", \n",
    "                             \"max\":\"yr_max_donation_per_donor\", \n",
    "                             \"sum\":\"yr_total_donations_per_donor\", \n",
    "                             \"count\":\"yr_total_donation_times\",\n",
    "                             \"mean\":\"yr_avg_donations_per_donor\"}, axis=1)\n",
    "# Extract the donations in the last 2 years\n",
    "\n",
    "donations_2year = gifts_train_7244.loc[pd.to_datetime(gifts_train_7244[\"date\"])>=dt.datetime(2017,5,18),:]\n",
    "donations_donor_2year = donations_year.groupby('donorID')['amount'].agg(['min', 'max', 'sum', 'count', 'mean'])\n",
    "donations_donor_2year = donations_donor_2year.rename({\"min\":\"2yr_min_donation_donor\", \n",
    "                             \"max\":\"2yr_max_donation_per_donor\", \n",
    "                             \"sum\":\"2yr_total_donations_per_donor\", \n",
    "                             \"count\":\"2yr_total_donation_times\",\n",
    "                             \"mean\": \"2yr_avg_donations_per_donor\"}, axis=1)\n",
    "\n",
    "# Extract the donations in the last 3 years\n",
    "\n",
    "donations_3year = gifts_train_7244.loc[pd.to_datetime(gifts_train_7244[\"date\"])>=dt.datetime(2016,5,18),:]\n",
    "donations_donor_3year = donations_year.groupby('donorID')['amount'].agg(['min', 'max', 'sum', 'count', 'mean'])\n",
    "donations_donor_3year = donations_donor_3year.rename({\"min\":\"3yr_min_donation_donor\", \n",
    "                             \"max\":\"3yr_max_donation_per_donor\", \n",
    "                             \"sum\":\"3yr_total_donations_per_donor\", \n",
    "                             \"count\":\"3yr_total_donation_times\",\n",
    "                             \"mean\":\"3yr_avg_donations_per_donor\"}, axis=1)"
   ]
  },
  {
   "cell_type": "code",
   "execution_count": 352,
   "id": "5590111f",
   "metadata": {},
   "outputs": [],
   "source": [
    "# Merging with total donations per donor\n",
    "base_table_7244 = pd.merge(donors_7244,donations_per_donor, on=\"donorID\", how=\"left\" )\n",
    "base_table_7244.fillna(0, inplace=True)\n",
    "\n",
    "# Merging with 3 months count\n",
    "base_table_7244 = pd.merge(base_table_7244,donations_donor_3months, on=\"donorID\", how=\"left\" )\n",
    "base_table_7244.fillna(0, inplace = True)\n",
    "# base_table.isna().sum()\n",
    "\n",
    "#Merging with 6 months count\n",
    "base_table_7244 = pd.merge(base_table_7244,donations_donor_6months, on=\"donorID\", how=\"left\" )\n",
    "base_table_7244.fillna(0, inplace = True)\n",
    "base_table_7244.isna().sum()\n",
    "\n",
    "#Merging with 9 months count\n",
    "base_table_7244 = pd.merge(base_table_7244,donations_donor_9months, on=\"donorID\", how=\"left\" )\n",
    "base_table_7244.fillna(0, inplace = True)\n",
    "base_table_7244.isna().sum()\n",
    "\n",
    "#Merging with year count\n",
    "base_table_7244 = pd.merge(base_table_7244,donations_donor_year, on=\"donorID\", how=\"left\" )\n",
    "base_table_7244.fillna(0, inplace = True)\n",
    "base_table_7244.isna().sum()\n",
    "\n",
    "# Merging with 2 year count\n",
    "base_table_7244 = pd.merge(base_table_7244,donations_donor_2year, on=\"donorID\", how=\"left\" )\n",
    "base_table_7244.fillna(0, inplace = True)\n",
    "base_table_7244.isna().sum()\n",
    "\n",
    "# Merging with 3 year count\n",
    "base_table_7244 = pd.merge(base_table_7244,donations_donor_3year, on=\"donorID\", how=\"left\" )\n",
    "base_table_7244.fillna(0, inplace = True)"
   ]
  },
  {
   "cell_type": "code",
   "execution_count": 353,
   "id": "cf0b1103",
   "metadata": {},
   "outputs": [],
   "source": [
    "# Amount and count difference from 3 to 6 months\n",
    "base_table_7244[\"3m_6m_amt_diff\"] = base_table_7244[\"6m_total_donations_per_donor\"] - base_table_7244[\"3m_total_donations_per_donor\"]\n",
    "base_table_7244[\"3m_6m_count_diff\"] = base_table_7244[\"6m_total_donation_times\"] - base_table_7244[\"3m_total_donation_times\"] \n",
    "# Amount and count difference from 6 to 9 months\n",
    "base_table_7244[\"6m_9m_amt_diff\"] = base_table_7244[\"9m_total_donations_per_donor\"] - base_table_7244[\"6m_total_donations_per_donor\"]\n",
    "base_table_7244[\"6m_9m_count_diff\"] = base_table_7244[\"9m_total_donation_times\"] - base_table_7244[\"6m_total_donation_times\"] \n",
    "# Amount and count difference from 9 to 12 months\n",
    "base_table_7244[\"9m_yr_amt_diff\"] = base_table_7244[\"yr_total_donations_per_donor\"] - base_table_7244[\"9m_total_donations_per_donor\"]\n",
    "base_table_7244[\"9m_yr_count_diff\"] = base_table_7244[\"yr_total_donation_times\"] - base_table_7244[\"9m_total_donation_times\"] \n",
    "# Amount and count difference from 1 to 2 years\n",
    "base_table_7244[\"2yr_yr_amt_diff\"] = base_table_7244[\"2yr_total_donations_per_donor\"] - base_table_7244[\"yr_total_donations_per_donor\"]\n",
    "base_table_7244[\"2yr_yr_amt_diff\"] = base_table_7244[\"2yr_total_donation_times\"] - base_table_7244[\"yr_total_donation_times\"] \n",
    "# Amount and count difference from 1 to 2 years\n",
    "base_table_7244[\"2yr_yr_amt_diff\"] = base_table_7244[\"3yr_total_donations_per_donor\"] - base_table_7244[\"2yr_total_donations_per_donor\"]\n",
    "base_table_7244[\"3yr_2yr_amt_diff\"] = base_table_7244[\"3yr_total_donation_times\"] - base_table_7244[\"2yr_total_donation_times\"] "
   ]
  },
  {
   "cell_type": "code",
   "execution_count": 354,
   "id": "4e09df68",
   "metadata": {},
   "outputs": [],
   "source": [
    "# Creating max year variable \n",
    "grouped_year = gifts_train_7244.groupby(\"donorID\")['year'].agg(['max', 'min'])\n",
    "grouped_year = grouped_year.rename({\"max\":\"max_year\", 'min':'min_year'}, axis=1)\n",
    "grouped_year['year_diff'] = grouped_year['max_year']- grouped_year['min_year']\n",
    "grouped_year['recency'] = 2018 - grouped_year['max_year']"
   ]
  },
  {
   "cell_type": "code",
   "execution_count": 355,
   "id": "bed9da3e",
   "metadata": {},
   "outputs": [],
   "source": [
    "base_table_7244 = pd.merge(base_table_7244, grouped_year, on=\"donorID\", how=\"left\")\n",
    "base_table_7244.loc[base_table_7244[\"max_year\"].isna(),\"max_year\"] = 2019\n",
    "base_table_7244.loc[base_table_7244[\"min_year\"].isna(),\"min_year\"] = 2019\n",
    "base_table_7244.loc[base_table_7244[\"year_diff\"].isna(),\"year_diff\"] = 0\n",
    "base_table_7244.loc[base_table_7244[\"recency\"].isna(),\"recency\"] = 0\n",
    "base_table_7244[\"max_year\"] = base_table_7244[\"max_year\"].astype(int)\n",
    "base_table_7244[\"min_year\"] = base_table_7244[\"min_year\"].astype(int)"
   ]
  },
  {
   "cell_type": "code",
   "execution_count": 356,
   "id": "119dd31c",
   "metadata": {},
   "outputs": [],
   "source": [
    "# Calculating average donations and amount of donations per year\n",
    "# Adding 1 to avoid division by 0\n",
    "base_table_7244['donations_count_per_period'] = base_table_7244['total_donation_times']/(base_table_7244['year_diff'].astype(int)+1)\n",
    "base_table_7244['donations_amount_per_period'] = base_table_7244['total_donations_per_donor']/(base_table_7244['year_diff'].astype(int)+1)"
   ]
  },
  {
   "cell_type": "code",
   "execution_count": 357,
   "id": "bf2194fe",
   "metadata": {},
   "outputs": [],
   "source": [
    "# Ranking donor as exceptional if they have donated above the 99th percentile\n",
    "# Outliers from total donations per donor\n",
    "percentiles_dict = base_table_7244[\"total_donations_per_donor\"].quantile([0.01,0.05,0.95,0.99]).to_dict()\n",
    "upper_outliers = base_table_7244[base_table_7244[\"total_donations_per_donor\"] > percentiles_dict[0.99]][[\"donorID\",\"total_donations_per_donor\"]]\n",
    "base_table_7244[\"exceptional_donor\"] = base_table_7244[\"donorID\"].isin(upper_outliers[\"donorID\"])\n",
    "base_table_7244[\"exceptional_donor\"] = base_table_7244[\"exceptional_donor\"].replace({True:1, False:0})\n",
    "\n",
    "# Ranking donors by donor's amount quantiles\n",
    "amount_rank= base_table_7244[\"total_donations_per_donor\"].quantile([0.25,0.50,0.75]).to_dict()\n",
    "\n",
    "base_table_7244[\"donating_amt_rank\"] = 1\n",
    "base_table_7244.loc[base_table_7244[\"total_donations_per_donor\"]> amount_rank[0.25], \"donating_amt_rank\"] = 2\n",
    "base_table_7244.loc[base_table_7244[\"total_donations_per_donor\"]> amount_rank[0.5], \"donating_amt_rank\"] = 3\n",
    "base_table_7244.loc[base_table_7244[\"total_donations_per_donor\"]> amount_rank[0.75], \"donating_amt_rank\"] = 4\n",
    "base_table_7244.loc[base_table_7244[\"total_donations_per_donor\"]> percentiles_dict[0.99], \"donating_amt_rank\"] = 5"
   ]
  },
  {
   "cell_type": "code",
   "execution_count": 358,
   "id": "26554734",
   "metadata": {},
   "outputs": [],
   "source": [
    "# Creating donation ranges to check how many times a donor has donated within that range\n",
    "amount_range = gifts_train_7244[\"amount\"].quantile([0.20,0.40,0.60,0.8]).to_dict()\n",
    "\n",
    "# Subsetting gifts df to obtain transactions lower than first quantile boundary, then counting by donor ID\n",
    "count_1st_qtl = pd.DataFrame(\n",
    "    gifts_train_7244[gifts_train_7244[\"amount\"]<=amount_range[0.2]][[\"donorID\"]].groupby(\"donorID\")[\"donorID\"].count())\n",
    "count_1st_qtl = count_1st_qtl.rename({\"donorID\":\"donations_1st_qtl_count\"}, axis=1)\n",
    "# Subsetting gifts df to obtain transactions between first and second quantile boundary, then counting by donor ID\n",
    "count_2nd_qtl = pd.DataFrame(\n",
    "    gifts_train_7244[(gifts_train_7244[\"amount\"]>amount_range[0.2]) \n",
    "                               & (gifts_train_7244[\"amount\"]<=amount_range[0.4])][[\"donorID\"]].groupby(\"donorID\")[\"donorID\"].count())\n",
    "count_2nd_qtl = count_2nd_qtl.rename({\"donorID\":\"donations_2nd_qtl_count\"}, axis=1)\n",
    "\n",
    "count_3rd_qtl = pd.DataFrame(\n",
    "    gifts_train_7244[(gifts_train_7244[\"amount\"]> amount_range[0.4])\n",
    "                               & (gifts_train_7244[\"amount\"]<=amount_range[0.6])][[\"donorID\"]].groupby(\"donorID\")[\"donorID\"].count())\n",
    "count_3rd_qtl = count_3rd_qtl.rename({\"donorID\":\"donations_3rd_qtl_count\"}, axis=1)\n",
    "\n",
    "count_4th_qtl = pd.DataFrame(\n",
    "    gifts_train_7244[(gifts_train_7244[\"amount\"]> amount_range[0.6]) \n",
    "                               & (gifts_train_7244[\"amount\"]<=amount_range[0.8])][[\"donorID\"]].groupby(\"donorID\")[\"donorID\"].count())\n",
    "count_4th_qtl = count_4th_qtl.rename({\"donorID\":\"donations_4th_qtl_count\"}, axis=1)\n",
    "\n",
    "count_5th_qtl = pd.DataFrame(\n",
    "    gifts_train_7244[gifts_train_7244[\"amount\"]>=amount_range[0.8]][[\"donorID\"]].groupby(\"donorID\")[\"donorID\"].count())\n",
    "count_5th_qtl = count_5th_qtl.rename({\"donorID\":\"donations_5th_qtl_count\"}, axis=1)\n"
   ]
  },
  {
   "cell_type": "code",
   "execution_count": 359,
   "id": "785b8340",
   "metadata": {},
   "outputs": [],
   "source": [
    "base_table_7244 = pd.merge(base_table_7244,count_1st_qtl, on=\"donorID\", how=\"left\" )\n",
    "base_table_7244[\"donations_1st_qtl_count\"].fillna(0, inplace = True)\n",
    "\n",
    "base_table_7244 = pd.merge(base_table_7244,count_2nd_qtl, on=\"donorID\", how=\"left\" )\n",
    "base_table_7244[\"donations_2nd_qtl_count\"].fillna(0, inplace = True)\n",
    "\n",
    "base_table_7244 = pd.merge(base_table_7244,count_3rd_qtl, on=\"donorID\", how=\"left\" )\n",
    "base_table_7244[\"donations_3rd_qtl_count\"].fillna(0, inplace = True)\n",
    "\n",
    "base_table_7244 = pd.merge(base_table_7244,count_4th_qtl, on=\"donorID\", how=\"left\" )\n",
    "base_table_7244[\"donations_4th_qtl_count\"].fillna(0, inplace = True)\n",
    "\n",
    "base_table_7244 = pd.merge(base_table_7244,count_5th_qtl, on=\"donorID\", how=\"left\" )\n",
    "base_table_7244[\"donations_5th_qtl_count\"].fillna(0, inplace = True)"
   ]
  },
  {
   "cell_type": "code",
   "execution_count": 360,
   "id": "3a03691a",
   "metadata": {},
   "outputs": [],
   "source": [
    "# Number of campaigns in which the person has donated\n",
    "campaing_per_donors = pd.DataFrame(gifts_train_7244.groupby(\"donorID\")[\"campaignID\"].nunique())\n",
    "campaing_per_donors = campaing_per_donors.rename({\"campaignID\":\"nbr_of_campaigns\"}, axis=1)\n",
    "base_table_7244 = pd.merge(base_table_7244, campaing_per_donors, on=\"donorID\", how=\"left\")\n",
    "base_table_7244[\"nbr_of_campaigns\"].fillna(0, inplace = True)\n",
    "\n",
    "# Calculating donations count over period of time  \n",
    "base_table_7244['donations_count_per_period'] = base_table_7244[\"total_donation_times\"]/(base_table_7244[\"year_diff\"]+1)\n",
    "base_table_7244['donations_amount_per_period'] = base_table_7244[\"total_donations_per_donor\"]/(base_table_7244[\"year_diff\"]+1)"
   ]
  },
  {
   "cell_type": "code",
   "execution_count": 361,
   "id": "2e629b81",
   "metadata": {},
   "outputs": [],
   "source": [
    "donations_per_region = base_table_7244.groupby('region')['total_donations_per_donor'].agg(['min', 'max', 'sum', 'count','mean'])\n",
    "donations_per_region = donations_per_region.rename({\"min\":\"min_donation_per_region\", \n",
    "                             \"max\":\"max_donation_per_region\", \n",
    "                             \"sum\":\"total_donations_per_region\", \n",
    "                             \"count\":\"count_donation_region\",\n",
    "                            'mean':\"avg_donations_region\"}, axis=1)\n",
    "\n",
    "donations_per_province = base_table_7244.groupby('province')['total_donations_per_donor'].agg(['min', 'max', 'sum', 'count','mean'])\n",
    "donations_per_province = donations_per_province.rename({\"min\":\"min_donation_per_province\", \n",
    "                             \"max\":\"max_donation_per_province\", \n",
    "                             \"sum\":\"total_donations_per_province\", \n",
    "                             \"count\":\"total_donation_province\",\n",
    "                            \"mean\":\"avg_donations_province\"}, axis=1)\n",
    "\n",
    "donations_per_language = base_table_7244.groupby('language')['total_donations_per_donor'].agg(['min', 'max', 'sum', 'count','mean'])\n",
    "donations_per_language = donations_per_language.rename({\"min\":\"min_donation_per_lang\", \n",
    "                             \"max\":\"max_donation_per_lang\", \n",
    "                             \"sum\":\"total_donations_per_lang\", \n",
    "                             \"count\":\"total_donation_lang\",\n",
    "                            \"mean\":\"avg_donations_lang\"}, axis=1)\n",
    "base_table_7244 = pd.merge(base_table_7244, donations_per_language, on=\"language\", how=\"left\")\n",
    "base_table_7244 = pd.merge(base_table_7244, donations_per_province, on=\"province\", how=\"left\")\n",
    "base_table_7244 = pd.merge(base_table_7244, donations_per_region, on=\"region\", how=\"left\")\n"
   ]
  },
  {
   "cell_type": "code",
   "execution_count": 362,
   "id": "80a46fe3",
   "metadata": {},
   "outputs": [],
   "source": [
    "base_table_7244 = pd.get_dummies(base_table_7244, drop_first=True, columns =[\"region\"])\n",
    "base_table_7244 = pd.get_dummies(base_table_7244, drop_first=True, columns =[\"province\"])\n",
    "base_table_7244 = pd.get_dummies(base_table_7244, drop_first=True, columns =[\"language\"])\n",
    "\n",
    "base_table_7244[\"more_than_once_in_a_campaign\"] = (base_table_7244[\"total_donation_times\"] - base_table_7244[\"nbr_of_campaigns\"])>0 \n",
    "base_table_7244[\"more_than_once_in_a_campaign\"] = base_table_7244[\"more_than_once_in_a_campaign\"].replace({True:1, False:0})"
   ]
  },
  {
   "cell_type": "code",
   "execution_count": 363,
   "id": "182d6c07",
   "metadata": {},
   "outputs": [],
   "source": [
    "recency_categ = base_table_7244[\"recency\"].quantile([0.20,0.40,0.60,0.80]).to_dict()\n",
    "base_table_7244[\"recency_categ\"] = 1\n",
    "base_table_7244.loc[base_table_7244[\"recency\"]> recency_categ[0.20], \"recency_categ\"] = 2\n",
    "base_table_7244.loc[base_table_7244[\"recency\"]> recency_categ[0.40], \"recency_categ\"] = 3\n",
    "base_table_7244.loc[base_table_7244[\"recency\"]> recency_categ[0.60], \"recency_categ\"] = 4\n",
    "base_table_7244.loc[base_table_7244[\"recency\"]> recency_categ[0.80], \"recency_categ\"] = 5\n",
    "\n",
    "# Ranking donors by donor's amount quantiles\n",
    "freq_rank= base_table_7244[\"total_donation_times\"].quantile([0.20,0.40,0.60,0.80]).to_dict()\n",
    "\n",
    "base_table_7244[\"freq_rank\"] = 1\n",
    "base_table_7244.loc[base_table_7244[\"total_donation_times\"]> freq_rank[0.20], \"freq_rank\"] = 2\n",
    "base_table_7244.loc[base_table_7244[\"total_donation_times\"]> freq_rank[0.40], \"freq_rank\"] = 3\n",
    "base_table_7244.loc[base_table_7244[\"total_donation_times\"]> freq_rank[0.60], \"freq_rank\"] = 4\n",
    "base_table_7244.loc[base_table_7244[\"total_donation_times\"]> freq_rank[0.80], \"freq_rank\"] = 5\n",
    "\n",
    "base_table_7244[\"donor_rank\"] = (base_table_7244[\"donating_amt_rank\"].astype(int) + base_table_7244[\"recency_categ\"].astype(int) + base_table_7244[\"freq_rank\"].astype(int))/3"
   ]
  },
  {
   "cell_type": "markdown",
   "id": "c6f06e5d",
   "metadata": {},
   "source": [
    "#### Dependent Variable"
   ]
  },
  {
   "cell_type": "code",
   "execution_count": 364,
   "id": "ec5f460f",
   "metadata": {},
   "outputs": [],
   "source": [
    "gifts_campaign7244 = pd.DataFrame(gifts.loc[(gifts[\"campaignID\"] == 7244) & (gifts[\"amount\"] >= 30), [\"donorID\", \"amount\"] ])\n",
    "gifts_campaign7244[\"7244_donor\"] = \"1\"\n",
    "\n",
    "campaign7244 = pd.merge(campaign7244, gifts_campaign7244, on=\"donorID\", how=\"left\" )\n",
    "campaign7244.loc[campaign7244[\"7244_donor\"].isna(), \"7244_donor\" ] = \"0\"\n",
    "campaign7244.loc[campaign7244[\"amount\"].isna(), \"amount\" ] = \"0\"\n",
    "campaign7244 = campaign7244.rename({\"amount\":\"amt_campaign_7244\"}, axis=1)\n",
    "base_table_7244 = pd.merge(base_table_7244, campaign7244, on=\"donorID\", how=\"inner\")\n",
    "base_table_7244[\"7244_donor\"] = base_table_7244[\"7244_donor\"].astype(int)\n",
    "base_table_7244[\"amt_campaign_7244\"] = base_table_7244[\"amt_campaign_7244\"].astype(float)"
   ]
  },
  {
   "cell_type": "markdown",
   "id": "e8f6f2b5",
   "metadata": {},
   "source": [
    "#### Base Split Features/Target"
   ]
  },
  {
   "cell_type": "code",
   "execution_count": 365,
   "id": "00d814ea",
   "metadata": {},
   "outputs": [
    {
     "data": {
      "text/plain": [
       "['gender',\n",
       " 'age_group',\n",
       " 'min_donation_per_donor',\n",
       " 'max_donation_per_donor',\n",
       " 'total_donations_per_donor',\n",
       " 'avg_donations_per_donor',\n",
       " 'max_year',\n",
       " 'min_year',\n",
       " 'year_diff',\n",
       " 'recency',\n",
       " 'donations_count_per_period',\n",
       " 'donations_amount_per_period',\n",
       " 'donating_amt_rank',\n",
       " 'donations_2nd_qtl_count',\n",
       " 'donations_3rd_qtl_count',\n",
       " 'donations_4th_qtl_count',\n",
       " 'donations_5th_qtl_count',\n",
       " 'nbr_of_campaigns',\n",
       " 'recency_categ',\n",
       " 'freq_rank',\n",
       " 'donor_rank']"
      ]
     },
     "execution_count": 365,
     "metadata": {},
     "output_type": "execute_result"
    }
   ],
   "source": [
    "selectedFeatures"
   ]
  },
  {
   "cell_type": "code",
   "execution_count": 366,
   "id": "ce84cf79",
   "metadata": {},
   "outputs": [],
   "source": [
    "X, y = base_table_7244[selectedFeatures], base_table_7244[\"7244_donor\"]"
   ]
  },
  {
   "cell_type": "markdown",
   "id": "f31d6f6e",
   "metadata": {},
   "source": [
    "#### Predicting on Campaign 7244"
   ]
  },
  {
   "cell_type": "code",
   "execution_count": 367,
   "id": "119ae80c",
   "metadata": {},
   "outputs": [],
   "source": [
    "predictions_test   = gradBoost.predict(X)\n",
    "probabilities_test = DataFrame(gradBoost.predict_proba(X))[1]\n",
    "accuracy_test      = accuracy_score(y,predictions_test)\n",
    "auc_test           = roc_auc_score(array(y),array(probabilities_test))\n",
    "\n",
    "performances = {\"Accuracy Train\":accuracy_train,\"Accuracy Test\":accuracy_test,\"AUC Train\":auc_train, \"AUC Test\":auc_test}"
   ]
  },
  {
   "cell_type": "code",
   "execution_count": 368,
   "id": "46d1dbd1",
   "metadata": {},
   "outputs": [
    {
     "data": {
      "text/plain": [
       "{'Accuracy Train': 0.9808275297009422,\n",
       " 'Accuracy Test': 0.9886137648664457,\n",
       " 'AUC Train': 0.8845667983142881,\n",
       " 'AUC Test': 0.7816694322235586}"
      ]
     },
     "execution_count": 368,
     "metadata": {},
     "output_type": "execute_result"
    }
   ],
   "source": [
    "performances"
   ]
  },
  {
   "cell_type": "code",
   "execution_count": 369,
   "id": "e35dfdbf",
   "metadata": {},
   "outputs": [
    {
     "data": {
      "text/plain": [
       "14803    0.996815\n",
       "6888     0.974456\n",
       "2881     0.974418\n",
       "15701    0.955687\n",
       "430      0.948906\n",
       "           ...   \n",
       "14161    0.000214\n",
       "12110    0.000198\n",
       "6373     0.000181\n",
       "13729    0.000171\n",
       "21177    0.000170\n",
       "Name: 1, Length: 25645, dtype: float64"
      ]
     },
     "execution_count": 369,
     "metadata": {},
     "output_type": "execute_result"
    }
   ],
   "source": [
    "probabilities_test.sort_values(ascending=False)"
   ]
  },
  {
   "cell_type": "code",
   "execution_count": 370,
   "id": "3c84dbfb",
   "metadata": {},
   "outputs": [],
   "source": [
    "import scikitplot as skplt"
   ]
  },
  {
   "cell_type": "code",
   "execution_count": 371,
   "id": "f085beec",
   "metadata": {},
   "outputs": [],
   "source": [
    "predicted_probabilities = gradBoost.predict_proba(X)"
   ]
  },
  {
   "cell_type": "markdown",
   "id": "9aad3faf",
   "metadata": {},
   "source": [
    "## Lift, response & gains 7244"
   ]
  },
  {
   "cell_type": "code",
   "execution_count": 372,
   "id": "57a500b5",
   "metadata": {
    "scrolled": false
   },
   "outputs": [],
   "source": [
    "base_table_7244[\"predicted_proba\"] = predicted_probabilities[:,1]"
   ]
  },
  {
   "cell_type": "code",
   "execution_count": 373,
   "id": "c922f553",
   "metadata": {},
   "outputs": [
    {
     "data": {
      "text/plain": [
       "<AxesSubplot:title={'center':'Cumulative Gains Curve'}, xlabel='Percentage of sample', ylabel='Gain'>"
      ]
     },
     "execution_count": 373,
     "metadata": {},
     "output_type": "execute_result"
    },
    {
     "data": {
      "image/png": "[encoded data removed]",
      "text/plain": [
       "<Figure size 432x288 with 1 Axes>"
      ]
     },
     "metadata": {
      "needs_background": "light"
     },
     "output_type": "display_data"
    }
   ],
   "source": [
    "skplt.metrics.plot_cumulative_gain(y, predicted_probabilities)"
   ]
  },
  {
   "cell_type": "code",
   "execution_count": 374,
   "id": "a6557f7b",
   "metadata": {},
   "outputs": [
    {
     "data": {
      "image/png": "[encoded data removed]",
      "text/plain": [
       "<Figure size 432x288 with 1 Axes>"
      ]
     },
     "metadata": {
      "needs_background": "light"
     },
     "output_type": "display_data"
    }
   ],
   "source": [
    "import kds\n",
    "kds.metrics.plot_cumulative_gain(y, predicted_probabilities[:,1])"
   ]
  },
  {
   "cell_type": "code",
   "execution_count": 375,
   "id": "47cfc5fc",
   "metadata": {},
   "outputs": [
    {
     "data": {
      "image/png": "[encoded data removed]",
      "text/plain": [
       "<Figure size 432x288 with 1 Axes>"
      ]
     },
     "metadata": {
      "needs_background": "light"
     },
     "output_type": "display_data"
    }
   ],
   "source": [
    "kds.metrics.plot_lift(y, predicted_probabilities[:,1])"
   ]
  },
  {
   "cell_type": "code",
   "execution_count": 376,
   "id": "feaecb47",
   "metadata": {},
   "outputs": [],
   "source": [
    "base_table_sorted = base_table_7244.sort_values(by=\"predicted_proba\", ascending=False)"
   ]
  },
  {
   "cell_type": "code",
   "execution_count": 377,
   "id": "430bb4b4",
   "metadata": {},
   "outputs": [
    {
     "data": {
      "text/html": [
       "<div>\n",
       "<style scoped>\n",
       "    .dataframe tbody tr th:only-of-type {\n",
       "        vertical-align: middle;\n",
       "    }\n",
       "\n",
       "    .dataframe tbody tr th {\n",
       "        vertical-align: top;\n",
       "    }\n",
       "\n",
       "    .dataframe thead th {\n",
       "        text-align: right;\n",
       "    }\n",
       "</style>\n",
       "<table border=\"1\" class=\"dataframe\">\n",
       "  <thead>\n",
       "    <tr style=\"text-align: right;\">\n",
       "      <th></th>\n",
       "      <th>Unnamed: 0</th>\n",
       "      <th>donorID</th>\n",
       "      <th>zipcode</th>\n",
       "      <th>gender</th>\n",
       "      <th>dateOfBirth</th>\n",
       "      <th>birth_year</th>\n",
       "      <th>age</th>\n",
       "      <th>age_group</th>\n",
       "      <th>min_donation_per_donor</th>\n",
       "      <th>max_donation_per_donor</th>\n",
       "      <th>total_donations_per_donor</th>\n",
       "      <th>total_donation_times</th>\n",
       "      <th>avg_donations_per_donor</th>\n",
       "      <th>3m_min_donation_per_donor</th>\n",
       "      <th>3m_max_donation_per_donor</th>\n",
       "      <th>3m_total_donations_per_donor</th>\n",
       "      <th>3m_total_donation_times</th>\n",
       "      <th>3m_avg_donations_per_donor</th>\n",
       "      <th>6m_min_donation_donor</th>\n",
       "      <th>6m_max_donation_per_donor</th>\n",
       "      <th>6m_total_donations_per_donor</th>\n",
       "      <th>6m_total_donation_times</th>\n",
       "      <th>6m_avg_donations_per_donor</th>\n",
       "      <th>9m_min_donation_donor</th>\n",
       "      <th>9m_max_donation_per_donor</th>\n",
       "      <th>9m_total_donations_per_donor</th>\n",
       "      <th>9m_total_donation_times</th>\n",
       "      <th>9m_avg_donations_per_donor</th>\n",
       "      <th>yr_min_donation_donor</th>\n",
       "      <th>yr_max_donation_per_donor</th>\n",
       "      <th>yr_total_donations_per_donor</th>\n",
       "      <th>yr_total_donation_times</th>\n",
       "      <th>yr_avg_donations_per_donor</th>\n",
       "      <th>2yr_min_donation_donor</th>\n",
       "      <th>2yr_max_donation_per_donor</th>\n",
       "      <th>2yr_total_donations_per_donor</th>\n",
       "      <th>2yr_total_donation_times</th>\n",
       "      <th>2yr_avg_donations_per_donor</th>\n",
       "      <th>3yr_min_donation_donor</th>\n",
       "      <th>3yr_max_donation_per_donor</th>\n",
       "      <th>3yr_total_donations_per_donor</th>\n",
       "      <th>3yr_total_donation_times</th>\n",
       "      <th>3yr_avg_donations_per_donor</th>\n",
       "      <th>3m_6m_amt_diff</th>\n",
       "      <th>3m_6m_count_diff</th>\n",
       "      <th>6m_9m_amt_diff</th>\n",
       "      <th>6m_9m_count_diff</th>\n",
       "      <th>9m_yr_amt_diff</th>\n",
       "      <th>9m_yr_count_diff</th>\n",
       "      <th>2yr_yr_amt_diff</th>\n",
       "      <th>3yr_2yr_amt_diff</th>\n",
       "      <th>max_year</th>\n",
       "      <th>min_year</th>\n",
       "      <th>year_diff</th>\n",
       "      <th>recency</th>\n",
       "      <th>donations_count_per_period</th>\n",
       "      <th>donations_amount_per_period</th>\n",
       "      <th>exceptional_donor</th>\n",
       "      <th>donating_amt_rank</th>\n",
       "      <th>donations_1st_qtl_count</th>\n",
       "      <th>donations_2nd_qtl_count</th>\n",
       "      <th>donations_3rd_qtl_count</th>\n",
       "      <th>donations_4th_qtl_count</th>\n",
       "      <th>donations_5th_qtl_count</th>\n",
       "      <th>nbr_of_campaigns</th>\n",
       "      <th>min_donation_per_lang</th>\n",
       "      <th>max_donation_per_lang</th>\n",
       "      <th>total_donations_per_lang</th>\n",
       "      <th>total_donation_lang</th>\n",
       "      <th>avg_donations_lang</th>\n",
       "      <th>min_donation_per_province</th>\n",
       "      <th>max_donation_per_province</th>\n",
       "      <th>total_donations_per_province</th>\n",
       "      <th>total_donation_province</th>\n",
       "      <th>avg_donations_province</th>\n",
       "      <th>min_donation_per_region</th>\n",
       "      <th>max_donation_per_region</th>\n",
       "      <th>total_donations_per_region</th>\n",
       "      <th>count_donation_region</th>\n",
       "      <th>avg_donations_region</th>\n",
       "      <th>region_Flanders</th>\n",
       "      <th>region_Missing</th>\n",
       "      <th>region_Wallonia</th>\n",
       "      <th>province_Antwerp</th>\n",
       "      <th>province_Brussels</th>\n",
       "      <th>province_East Flanders</th>\n",
       "      <th>province_Flemish Brabant</th>\n",
       "      <th>province_Hainaut</th>\n",
       "      <th>province_Liege</th>\n",
       "      <th>province_Limburg</th>\n",
       "      <th>province_Luxembourg</th>\n",
       "      <th>province_Missing</th>\n",
       "      <th>province_Namur</th>\n",
       "      <th>province_Walloon Brabant</th>\n",
       "      <th>province_West Flanders</th>\n",
       "      <th>language_FR</th>\n",
       "      <th>language_NL</th>\n",
       "      <th>more_than_once_in_a_campaign</th>\n",
       "      <th>recency_categ</th>\n",
       "      <th>freq_rank</th>\n",
       "      <th>donor_rank</th>\n",
       "      <th>amt_campaign_7244</th>\n",
       "      <th>7244_donor</th>\n",
       "      <th>predicted_proba</th>\n",
       "    </tr>\n",
       "  </thead>\n",
       "  <tbody>\n",
       "    <tr>\n",
       "      <th>14803</th>\n",
       "      <td>27656</td>\n",
       "      <td>127657</td>\n",
       "      <td>9690.0</td>\n",
       "      <td>0</td>\n",
       "      <td>1927-10-23</td>\n",
       "      <td>1927</td>\n",
       "      <td>81</td>\n",
       "      <td>80</td>\n",
       "      <td>45.400</td>\n",
       "      <td>56.660</td>\n",
       "      <td>102.060</td>\n",
       "      <td>2.0</td>\n",
       "      <td>51.030000</td>\n",
       "      <td>0.0</td>\n",
       "      <td>0.0</td>\n",
       "      <td>0.0</td>\n",
       "      <td>0.0</td>\n",
       "      <td>0.0</td>\n",
       "      <td>0.0</td>\n",
       "      <td>0.0</td>\n",
       "      <td>0.0</td>\n",
       "      <td>0.0</td>\n",
       "      <td>0.0</td>\n",
       "      <td>0.0</td>\n",
       "      <td>0.0</td>\n",
       "      <td>0.0</td>\n",
       "      <td>0.0</td>\n",
       "      <td>0.0</td>\n",
       "      <td>0.0</td>\n",
       "      <td>0.0</td>\n",
       "      <td>0.0</td>\n",
       "      <td>0.0</td>\n",
       "      <td>0.0</td>\n",
       "      <td>0.0</td>\n",
       "      <td>0.0</td>\n",
       "      <td>0.0</td>\n",
       "      <td>0.0</td>\n",
       "      <td>0.0</td>\n",
       "      <td>0.0</td>\n",
       "      <td>0.0</td>\n",
       "      <td>0.0</td>\n",
       "      <td>0.0</td>\n",
       "      <td>0.0</td>\n",
       "      <td>0.0</td>\n",
       "      <td>0.0</td>\n",
       "      <td>0.0</td>\n",
       "      <td>0.0</td>\n",
       "      <td>0.0</td>\n",
       "      <td>0.0</td>\n",
       "      <td>0.0</td>\n",
       "      <td>0.0</td>\n",
       "      <td>2011</td>\n",
       "      <td>2010</td>\n",
       "      <td>1.0</td>\n",
       "      <td>7.0</td>\n",
       "      <td>1.000</td>\n",
       "      <td>51.03000</td>\n",
       "      <td>0</td>\n",
       "      <td>3</td>\n",
       "      <td>0.0</td>\n",
       "      <td>0.0</td>\n",
       "      <td>0.0</td>\n",
       "      <td>0.0</td>\n",
       "      <td>2.0</td>\n",
       "      <td>2.0</td>\n",
       "      <td>0.0</td>\n",
       "      <td>4000030.00</td>\n",
       "      <td>9.287025e+06</td>\n",
       "      <td>23346</td>\n",
       "      <td>397.799405</td>\n",
       "      <td>5.0</td>\n",
       "      <td>2479000.00</td>\n",
       "      <td>3.098324e+06</td>\n",
       "      <td>5428</td>\n",
       "      <td>570.804036</td>\n",
       "      <td>0.0</td>\n",
       "      <td>4000030.0</td>\n",
       "      <td>9.306696e+06</td>\n",
       "      <td>23439</td>\n",
       "      <td>397.060266</td>\n",
       "      <td>1</td>\n",
       "      <td>0</td>\n",
       "      <td>0</td>\n",
       "      <td>0</td>\n",
       "      <td>0</td>\n",
       "      <td>1</td>\n",
       "      <td>0</td>\n",
       "      <td>0</td>\n",
       "      <td>0</td>\n",
       "      <td>0</td>\n",
       "      <td>0</td>\n",
       "      <td>0</td>\n",
       "      <td>0</td>\n",
       "      <td>0</td>\n",
       "      <td>0</td>\n",
       "      <td>0</td>\n",
       "      <td>1</td>\n",
       "      <td>0</td>\n",
       "      <td>3</td>\n",
       "      <td>3</td>\n",
       "      <td>3.000000</td>\n",
       "      <td>0.0</td>\n",
       "      <td>0</td>\n",
       "      <td>0.996815</td>\n",
       "    </tr>\n",
       "    <tr>\n",
       "      <th>6888</th>\n",
       "      <td>15384</td>\n",
       "      <td>115385</td>\n",
       "      <td>8210.0</td>\n",
       "      <td>0</td>\n",
       "      <td>1951-03-19</td>\n",
       "      <td>1951</td>\n",
       "      <td>57</td>\n",
       "      <td>50</td>\n",
       "      <td>51.000</td>\n",
       "      <td>51.000</td>\n",
       "      <td>51.000</td>\n",
       "      <td>1.0</td>\n",
       "      <td>51.000000</td>\n",
       "      <td>0.0</td>\n",
       "      <td>0.0</td>\n",
       "      <td>0.0</td>\n",
       "      <td>0.0</td>\n",
       "      <td>0.0</td>\n",
       "      <td>0.0</td>\n",
       "      <td>0.0</td>\n",
       "      <td>0.0</td>\n",
       "      <td>0.0</td>\n",
       "      <td>0.0</td>\n",
       "      <td>0.0</td>\n",
       "      <td>0.0</td>\n",
       "      <td>0.0</td>\n",
       "      <td>0.0</td>\n",
       "      <td>0.0</td>\n",
       "      <td>0.0</td>\n",
       "      <td>0.0</td>\n",
       "      <td>0.0</td>\n",
       "      <td>0.0</td>\n",
       "      <td>0.0</td>\n",
       "      <td>0.0</td>\n",
       "      <td>0.0</td>\n",
       "      <td>0.0</td>\n",
       "      <td>0.0</td>\n",
       "      <td>0.0</td>\n",
       "      <td>0.0</td>\n",
       "      <td>0.0</td>\n",
       "      <td>0.0</td>\n",
       "      <td>0.0</td>\n",
       "      <td>0.0</td>\n",
       "      <td>0.0</td>\n",
       "      <td>0.0</td>\n",
       "      <td>0.0</td>\n",
       "      <td>0.0</td>\n",
       "      <td>0.0</td>\n",
       "      <td>0.0</td>\n",
       "      <td>0.0</td>\n",
       "      <td>0.0</td>\n",
       "      <td>2010</td>\n",
       "      <td>2010</td>\n",
       "      <td>0.0</td>\n",
       "      <td>8.0</td>\n",
       "      <td>1.000</td>\n",
       "      <td>51.00000</td>\n",
       "      <td>0</td>\n",
       "      <td>3</td>\n",
       "      <td>0.0</td>\n",
       "      <td>0.0</td>\n",
       "      <td>0.0</td>\n",
       "      <td>0.0</td>\n",
       "      <td>1.0</td>\n",
       "      <td>1.0</td>\n",
       "      <td>0.0</td>\n",
       "      <td>4000030.00</td>\n",
       "      <td>9.287025e+06</td>\n",
       "      <td>23346</td>\n",
       "      <td>397.799405</td>\n",
       "      <td>5.0</td>\n",
       "      <td>9697.81</td>\n",
       "      <td>7.170236e+05</td>\n",
       "      <td>5241</td>\n",
       "      <td>136.810449</td>\n",
       "      <td>0.0</td>\n",
       "      <td>4000030.0</td>\n",
       "      <td>9.306696e+06</td>\n",
       "      <td>23439</td>\n",
       "      <td>397.060266</td>\n",
       "      <td>1</td>\n",
       "      <td>0</td>\n",
       "      <td>0</td>\n",
       "      <td>0</td>\n",
       "      <td>0</td>\n",
       "      <td>0</td>\n",
       "      <td>0</td>\n",
       "      <td>0</td>\n",
       "      <td>0</td>\n",
       "      <td>0</td>\n",
       "      <td>0</td>\n",
       "      <td>0</td>\n",
       "      <td>0</td>\n",
       "      <td>0</td>\n",
       "      <td>1</td>\n",
       "      <td>0</td>\n",
       "      <td>1</td>\n",
       "      <td>0</td>\n",
       "      <td>4</td>\n",
       "      <td>1</td>\n",
       "      <td>2.666667</td>\n",
       "      <td>0.0</td>\n",
       "      <td>0</td>\n",
       "      <td>0.974456</td>\n",
       "    </tr>\n",
       "    <tr>\n",
       "      <th>2881</th>\n",
       "      <td>6346</td>\n",
       "      <td>106347</td>\n",
       "      <td>8300.0</td>\n",
       "      <td>0</td>\n",
       "      <td>1921-06-19</td>\n",
       "      <td>1921</td>\n",
       "      <td>87</td>\n",
       "      <td>80</td>\n",
       "      <td>13.629</td>\n",
       "      <td>13.629</td>\n",
       "      <td>95.403</td>\n",
       "      <td>7.0</td>\n",
       "      <td>13.629000</td>\n",
       "      <td>0.0</td>\n",
       "      <td>0.0</td>\n",
       "      <td>0.0</td>\n",
       "      <td>0.0</td>\n",
       "      <td>0.0</td>\n",
       "      <td>0.0</td>\n",
       "      <td>0.0</td>\n",
       "      <td>0.0</td>\n",
       "      <td>0.0</td>\n",
       "      <td>0.0</td>\n",
       "      <td>0.0</td>\n",
       "      <td>0.0</td>\n",
       "      <td>0.0</td>\n",
       "      <td>0.0</td>\n",
       "      <td>0.0</td>\n",
       "      <td>0.0</td>\n",
       "      <td>0.0</td>\n",
       "      <td>0.0</td>\n",
       "      <td>0.0</td>\n",
       "      <td>0.0</td>\n",
       "      <td>0.0</td>\n",
       "      <td>0.0</td>\n",
       "      <td>0.0</td>\n",
       "      <td>0.0</td>\n",
       "      <td>0.0</td>\n",
       "      <td>0.0</td>\n",
       "      <td>0.0</td>\n",
       "      <td>0.0</td>\n",
       "      <td>0.0</td>\n",
       "      <td>0.0</td>\n",
       "      <td>0.0</td>\n",
       "      <td>0.0</td>\n",
       "      <td>0.0</td>\n",
       "      <td>0.0</td>\n",
       "      <td>0.0</td>\n",
       "      <td>0.0</td>\n",
       "      <td>0.0</td>\n",
       "      <td>0.0</td>\n",
       "      <td>2008</td>\n",
       "      <td>2005</td>\n",
       "      <td>3.0</td>\n",
       "      <td>10.0</td>\n",
       "      <td>1.750</td>\n",
       "      <td>23.85075</td>\n",
       "      <td>0</td>\n",
       "      <td>3</td>\n",
       "      <td>0.0</td>\n",
       "      <td>7.0</td>\n",
       "      <td>0.0</td>\n",
       "      <td>0.0</td>\n",
       "      <td>0.0</td>\n",
       "      <td>7.0</td>\n",
       "      <td>0.0</td>\n",
       "      <td>4000030.00</td>\n",
       "      <td>9.287025e+06</td>\n",
       "      <td>23346</td>\n",
       "      <td>397.799405</td>\n",
       "      <td>5.0</td>\n",
       "      <td>9697.81</td>\n",
       "      <td>7.170236e+05</td>\n",
       "      <td>5241</td>\n",
       "      <td>136.810449</td>\n",
       "      <td>0.0</td>\n",
       "      <td>4000030.0</td>\n",
       "      <td>9.306696e+06</td>\n",
       "      <td>23439</td>\n",
       "      <td>397.060266</td>\n",
       "      <td>1</td>\n",
       "      <td>0</td>\n",
       "      <td>0</td>\n",
       "      <td>0</td>\n",
       "      <td>0</td>\n",
       "      <td>0</td>\n",
       "      <td>0</td>\n",
       "      <td>0</td>\n",
       "      <td>0</td>\n",
       "      <td>0</td>\n",
       "      <td>0</td>\n",
       "      <td>0</td>\n",
       "      <td>0</td>\n",
       "      <td>0</td>\n",
       "      <td>1</td>\n",
       "      <td>0</td>\n",
       "      <td>1</td>\n",
       "      <td>0</td>\n",
       "      <td>5</td>\n",
       "      <td>5</td>\n",
       "      <td>4.333333</td>\n",
       "      <td>80.0</td>\n",
       "      <td>1</td>\n",
       "      <td>0.974418</td>\n",
       "    </tr>\n",
       "    <tr>\n",
       "      <th>15701</th>\n",
       "      <td>28990</td>\n",
       "      <td>128991</td>\n",
       "      <td>8780.0</td>\n",
       "      <td>0</td>\n",
       "      <td>1959-03-01</td>\n",
       "      <td>1959</td>\n",
       "      <td>49</td>\n",
       "      <td>40</td>\n",
       "      <td>51.000</td>\n",
       "      <td>51.000</td>\n",
       "      <td>51.000</td>\n",
       "      <td>1.0</td>\n",
       "      <td>51.000000</td>\n",
       "      <td>0.0</td>\n",
       "      <td>0.0</td>\n",
       "      <td>0.0</td>\n",
       "      <td>0.0</td>\n",
       "      <td>0.0</td>\n",
       "      <td>0.0</td>\n",
       "      <td>0.0</td>\n",
       "      <td>0.0</td>\n",
       "      <td>0.0</td>\n",
       "      <td>0.0</td>\n",
       "      <td>0.0</td>\n",
       "      <td>0.0</td>\n",
       "      <td>0.0</td>\n",
       "      <td>0.0</td>\n",
       "      <td>0.0</td>\n",
       "      <td>0.0</td>\n",
       "      <td>0.0</td>\n",
       "      <td>0.0</td>\n",
       "      <td>0.0</td>\n",
       "      <td>0.0</td>\n",
       "      <td>0.0</td>\n",
       "      <td>0.0</td>\n",
       "      <td>0.0</td>\n",
       "      <td>0.0</td>\n",
       "      <td>0.0</td>\n",
       "      <td>0.0</td>\n",
       "      <td>0.0</td>\n",
       "      <td>0.0</td>\n",
       "      <td>0.0</td>\n",
       "      <td>0.0</td>\n",
       "      <td>0.0</td>\n",
       "      <td>0.0</td>\n",
       "      <td>0.0</td>\n",
       "      <td>0.0</td>\n",
       "      <td>0.0</td>\n",
       "      <td>0.0</td>\n",
       "      <td>0.0</td>\n",
       "      <td>0.0</td>\n",
       "      <td>2010</td>\n",
       "      <td>2010</td>\n",
       "      <td>0.0</td>\n",
       "      <td>8.0</td>\n",
       "      <td>1.000</td>\n",
       "      <td>51.00000</td>\n",
       "      <td>0</td>\n",
       "      <td>3</td>\n",
       "      <td>0.0</td>\n",
       "      <td>0.0</td>\n",
       "      <td>0.0</td>\n",
       "      <td>0.0</td>\n",
       "      <td>1.0</td>\n",
       "      <td>1.0</td>\n",
       "      <td>0.0</td>\n",
       "      <td>4000030.00</td>\n",
       "      <td>9.287025e+06</td>\n",
       "      <td>23346</td>\n",
       "      <td>397.799405</td>\n",
       "      <td>5.0</td>\n",
       "      <td>9697.81</td>\n",
       "      <td>7.170236e+05</td>\n",
       "      <td>5241</td>\n",
       "      <td>136.810449</td>\n",
       "      <td>0.0</td>\n",
       "      <td>4000030.0</td>\n",
       "      <td>9.306696e+06</td>\n",
       "      <td>23439</td>\n",
       "      <td>397.060266</td>\n",
       "      <td>1</td>\n",
       "      <td>0</td>\n",
       "      <td>0</td>\n",
       "      <td>0</td>\n",
       "      <td>0</td>\n",
       "      <td>0</td>\n",
       "      <td>0</td>\n",
       "      <td>0</td>\n",
       "      <td>0</td>\n",
       "      <td>0</td>\n",
       "      <td>0</td>\n",
       "      <td>0</td>\n",
       "      <td>0</td>\n",
       "      <td>0</td>\n",
       "      <td>1</td>\n",
       "      <td>0</td>\n",
       "      <td>1</td>\n",
       "      <td>0</td>\n",
       "      <td>4</td>\n",
       "      <td>1</td>\n",
       "      <td>2.666667</td>\n",
       "      <td>0.0</td>\n",
       "      <td>0</td>\n",
       "      <td>0.955687</td>\n",
       "    </tr>\n",
       "    <tr>\n",
       "      <th>430</th>\n",
       "      <td>1056</td>\n",
       "      <td>101057</td>\n",
       "      <td>2200.0</td>\n",
       "      <td>0</td>\n",
       "      <td>1938-04-20</td>\n",
       "      <td>1938</td>\n",
       "      <td>70</td>\n",
       "      <td>70</td>\n",
       "      <td>7.440</td>\n",
       "      <td>64.450</td>\n",
       "      <td>431.960</td>\n",
       "      <td>17.0</td>\n",
       "      <td>25.409412</td>\n",
       "      <td>0.0</td>\n",
       "      <td>0.0</td>\n",
       "      <td>0.0</td>\n",
       "      <td>0.0</td>\n",
       "      <td>0.0</td>\n",
       "      <td>0.0</td>\n",
       "      <td>0.0</td>\n",
       "      <td>0.0</td>\n",
       "      <td>0.0</td>\n",
       "      <td>0.0</td>\n",
       "      <td>0.0</td>\n",
       "      <td>0.0</td>\n",
       "      <td>0.0</td>\n",
       "      <td>0.0</td>\n",
       "      <td>0.0</td>\n",
       "      <td>0.0</td>\n",
       "      <td>0.0</td>\n",
       "      <td>0.0</td>\n",
       "      <td>0.0</td>\n",
       "      <td>0.0</td>\n",
       "      <td>0.0</td>\n",
       "      <td>0.0</td>\n",
       "      <td>0.0</td>\n",
       "      <td>0.0</td>\n",
       "      <td>0.0</td>\n",
       "      <td>0.0</td>\n",
       "      <td>0.0</td>\n",
       "      <td>0.0</td>\n",
       "      <td>0.0</td>\n",
       "      <td>0.0</td>\n",
       "      <td>0.0</td>\n",
       "      <td>0.0</td>\n",
       "      <td>0.0</td>\n",
       "      <td>0.0</td>\n",
       "      <td>0.0</td>\n",
       "      <td>0.0</td>\n",
       "      <td>0.0</td>\n",
       "      <td>0.0</td>\n",
       "      <td>2012</td>\n",
       "      <td>2005</td>\n",
       "      <td>7.0</td>\n",
       "      <td>6.0</td>\n",
       "      <td>2.125</td>\n",
       "      <td>53.99500</td>\n",
       "      <td>0</td>\n",
       "      <td>4</td>\n",
       "      <td>1.0</td>\n",
       "      <td>13.0</td>\n",
       "      <td>0.0</td>\n",
       "      <td>0.0</td>\n",
       "      <td>3.0</td>\n",
       "      <td>17.0</td>\n",
       "      <td>0.0</td>\n",
       "      <td>4000030.00</td>\n",
       "      <td>9.287025e+06</td>\n",
       "      <td>23346</td>\n",
       "      <td>397.799405</td>\n",
       "      <td>5.0</td>\n",
       "      <td>4000030.00</td>\n",
       "      <td>4.699096e+06</td>\n",
       "      <td>5831</td>\n",
       "      <td>805.881640</td>\n",
       "      <td>0.0</td>\n",
       "      <td>4000030.0</td>\n",
       "      <td>9.306696e+06</td>\n",
       "      <td>23439</td>\n",
       "      <td>397.060266</td>\n",
       "      <td>1</td>\n",
       "      <td>0</td>\n",
       "      <td>0</td>\n",
       "      <td>1</td>\n",
       "      <td>0</td>\n",
       "      <td>0</td>\n",
       "      <td>0</td>\n",
       "      <td>0</td>\n",
       "      <td>0</td>\n",
       "      <td>0</td>\n",
       "      <td>0</td>\n",
       "      <td>0</td>\n",
       "      <td>0</td>\n",
       "      <td>0</td>\n",
       "      <td>0</td>\n",
       "      <td>0</td>\n",
       "      <td>1</td>\n",
       "      <td>0</td>\n",
       "      <td>3</td>\n",
       "      <td>5</td>\n",
       "      <td>4.000000</td>\n",
       "      <td>0.0</td>\n",
       "      <td>0</td>\n",
       "      <td>0.948906</td>\n",
       "    </tr>\n",
       "    <tr>\n",
       "      <th>...</th>\n",
       "      <td>...</td>\n",
       "      <td>...</td>\n",
       "      <td>...</td>\n",
       "      <td>...</td>\n",
       "      <td>...</td>\n",
       "      <td>...</td>\n",
       "      <td>...</td>\n",
       "      <td>...</td>\n",
       "      <td>...</td>\n",
       "      <td>...</td>\n",
       "      <td>...</td>\n",
       "      <td>...</td>\n",
       "      <td>...</td>\n",
       "      <td>...</td>\n",
       "      <td>...</td>\n",
       "      <td>...</td>\n",
       "      <td>...</td>\n",
       "      <td>...</td>\n",
       "      <td>...</td>\n",
       "      <td>...</td>\n",
       "      <td>...</td>\n",
       "      <td>...</td>\n",
       "      <td>...</td>\n",
       "      <td>...</td>\n",
       "      <td>...</td>\n",
       "      <td>...</td>\n",
       "      <td>...</td>\n",
       "      <td>...</td>\n",
       "      <td>...</td>\n",
       "      <td>...</td>\n",
       "      <td>...</td>\n",
       "      <td>...</td>\n",
       "      <td>...</td>\n",
       "      <td>...</td>\n",
       "      <td>...</td>\n",
       "      <td>...</td>\n",
       "      <td>...</td>\n",
       "      <td>...</td>\n",
       "      <td>...</td>\n",
       "      <td>...</td>\n",
       "      <td>...</td>\n",
       "      <td>...</td>\n",
       "      <td>...</td>\n",
       "      <td>...</td>\n",
       "      <td>...</td>\n",
       "      <td>...</td>\n",
       "      <td>...</td>\n",
       "      <td>...</td>\n",
       "      <td>...</td>\n",
       "      <td>...</td>\n",
       "      <td>...</td>\n",
       "      <td>...</td>\n",
       "      <td>...</td>\n",
       "      <td>...</td>\n",
       "      <td>...</td>\n",
       "      <td>...</td>\n",
       "      <td>...</td>\n",
       "      <td>...</td>\n",
       "      <td>...</td>\n",
       "      <td>...</td>\n",
       "      <td>...</td>\n",
       "      <td>...</td>\n",
       "      <td>...</td>\n",
       "      <td>...</td>\n",
       "      <td>...</td>\n",
       "      <td>...</td>\n",
       "      <td>...</td>\n",
       "      <td>...</td>\n",
       "      <td>...</td>\n",
       "      <td>...</td>\n",
       "      <td>...</td>\n",
       "      <td>...</td>\n",
       "      <td>...</td>\n",
       "      <td>...</td>\n",
       "      <td>...</td>\n",
       "      <td>...</td>\n",
       "      <td>...</td>\n",
       "      <td>...</td>\n",
       "      <td>...</td>\n",
       "      <td>...</td>\n",
       "      <td>...</td>\n",
       "      <td>...</td>\n",
       "      <td>...</td>\n",
       "      <td>...</td>\n",
       "      <td>...</td>\n",
       "      <td>...</td>\n",
       "      <td>...</td>\n",
       "      <td>...</td>\n",
       "      <td>...</td>\n",
       "      <td>...</td>\n",
       "      <td>...</td>\n",
       "      <td>...</td>\n",
       "      <td>...</td>\n",
       "      <td>...</td>\n",
       "      <td>...</td>\n",
       "      <td>...</td>\n",
       "      <td>...</td>\n",
       "      <td>...</td>\n",
       "      <td>...</td>\n",
       "      <td>...</td>\n",
       "      <td>...</td>\n",
       "      <td>...</td>\n",
       "      <td>...</td>\n",
       "      <td>...</td>\n",
       "    </tr>\n",
       "    <tr>\n",
       "      <th>14161</th>\n",
       "      <td>26727</td>\n",
       "      <td>126728</td>\n",
       "      <td>3530.0</td>\n",
       "      <td>1</td>\n",
       "      <td>1994-07-08</td>\n",
       "      <td>1994</td>\n",
       "      <td>14</td>\n",
       "      <td>10</td>\n",
       "      <td>20.000</td>\n",
       "      <td>50.000</td>\n",
       "      <td>477.250</td>\n",
       "      <td>14.0</td>\n",
       "      <td>34.089286</td>\n",
       "      <td>0.0</td>\n",
       "      <td>0.0</td>\n",
       "      <td>0.0</td>\n",
       "      <td>0.0</td>\n",
       "      <td>0.0</td>\n",
       "      <td>0.0</td>\n",
       "      <td>0.0</td>\n",
       "      <td>0.0</td>\n",
       "      <td>0.0</td>\n",
       "      <td>0.0</td>\n",
       "      <td>0.0</td>\n",
       "      <td>0.0</td>\n",
       "      <td>0.0</td>\n",
       "      <td>0.0</td>\n",
       "      <td>0.0</td>\n",
       "      <td>0.0</td>\n",
       "      <td>0.0</td>\n",
       "      <td>0.0</td>\n",
       "      <td>0.0</td>\n",
       "      <td>0.0</td>\n",
       "      <td>0.0</td>\n",
       "      <td>0.0</td>\n",
       "      <td>0.0</td>\n",
       "      <td>0.0</td>\n",
       "      <td>0.0</td>\n",
       "      <td>0.0</td>\n",
       "      <td>0.0</td>\n",
       "      <td>0.0</td>\n",
       "      <td>0.0</td>\n",
       "      <td>0.0</td>\n",
       "      <td>0.0</td>\n",
       "      <td>0.0</td>\n",
       "      <td>0.0</td>\n",
       "      <td>0.0</td>\n",
       "      <td>0.0</td>\n",
       "      <td>0.0</td>\n",
       "      <td>0.0</td>\n",
       "      <td>0.0</td>\n",
       "      <td>2015</td>\n",
       "      <td>2011</td>\n",
       "      <td>4.0</td>\n",
       "      <td>3.0</td>\n",
       "      <td>2.800</td>\n",
       "      <td>95.45000</td>\n",
       "      <td>0</td>\n",
       "      <td>4</td>\n",
       "      <td>0.0</td>\n",
       "      <td>2.0</td>\n",
       "      <td>6.0</td>\n",
       "      <td>1.0</td>\n",
       "      <td>5.0</td>\n",
       "      <td>14.0</td>\n",
       "      <td>0.0</td>\n",
       "      <td>4000030.00</td>\n",
       "      <td>9.287025e+06</td>\n",
       "      <td>23346</td>\n",
       "      <td>397.799405</td>\n",
       "      <td>5.0</td>\n",
       "      <td>4381.35</td>\n",
       "      <td>2.904067e+05</td>\n",
       "      <td>2963</td>\n",
       "      <td>98.011039</td>\n",
       "      <td>0.0</td>\n",
       "      <td>4000030.0</td>\n",
       "      <td>9.306696e+06</td>\n",
       "      <td>23439</td>\n",
       "      <td>397.060266</td>\n",
       "      <td>1</td>\n",
       "      <td>0</td>\n",
       "      <td>0</td>\n",
       "      <td>0</td>\n",
       "      <td>0</td>\n",
       "      <td>0</td>\n",
       "      <td>0</td>\n",
       "      <td>0</td>\n",
       "      <td>0</td>\n",
       "      <td>1</td>\n",
       "      <td>0</td>\n",
       "      <td>0</td>\n",
       "      <td>0</td>\n",
       "      <td>0</td>\n",
       "      <td>0</td>\n",
       "      <td>0</td>\n",
       "      <td>1</td>\n",
       "      <td>0</td>\n",
       "      <td>1</td>\n",
       "      <td>5</td>\n",
       "      <td>3.333333</td>\n",
       "      <td>0.0</td>\n",
       "      <td>0</td>\n",
       "      <td>0.000214</td>\n",
       "    </tr>\n",
       "    <tr>\n",
       "      <th>12110</th>\n",
       "      <td>23650</td>\n",
       "      <td>123651</td>\n",
       "      <td>8920.0</td>\n",
       "      <td>1</td>\n",
       "      <td>1993-12-30</td>\n",
       "      <td>1993</td>\n",
       "      <td>15</td>\n",
       "      <td>10</td>\n",
       "      <td>30.000</td>\n",
       "      <td>40.000</td>\n",
       "      <td>143.000</td>\n",
       "      <td>4.0</td>\n",
       "      <td>35.750000</td>\n",
       "      <td>0.0</td>\n",
       "      <td>0.0</td>\n",
       "      <td>0.0</td>\n",
       "      <td>0.0</td>\n",
       "      <td>0.0</td>\n",
       "      <td>0.0</td>\n",
       "      <td>0.0</td>\n",
       "      <td>0.0</td>\n",
       "      <td>0.0</td>\n",
       "      <td>0.0</td>\n",
       "      <td>0.0</td>\n",
       "      <td>0.0</td>\n",
       "      <td>0.0</td>\n",
       "      <td>0.0</td>\n",
       "      <td>0.0</td>\n",
       "      <td>0.0</td>\n",
       "      <td>0.0</td>\n",
       "      <td>0.0</td>\n",
       "      <td>0.0</td>\n",
       "      <td>0.0</td>\n",
       "      <td>0.0</td>\n",
       "      <td>0.0</td>\n",
       "      <td>0.0</td>\n",
       "      <td>0.0</td>\n",
       "      <td>0.0</td>\n",
       "      <td>0.0</td>\n",
       "      <td>0.0</td>\n",
       "      <td>0.0</td>\n",
       "      <td>0.0</td>\n",
       "      <td>0.0</td>\n",
       "      <td>0.0</td>\n",
       "      <td>0.0</td>\n",
       "      <td>0.0</td>\n",
       "      <td>0.0</td>\n",
       "      <td>0.0</td>\n",
       "      <td>0.0</td>\n",
       "      <td>0.0</td>\n",
       "      <td>0.0</td>\n",
       "      <td>2014</td>\n",
       "      <td>2010</td>\n",
       "      <td>4.0</td>\n",
       "      <td>4.0</td>\n",
       "      <td>0.800</td>\n",
       "      <td>28.60000</td>\n",
       "      <td>0</td>\n",
       "      <td>4</td>\n",
       "      <td>0.0</td>\n",
       "      <td>0.0</td>\n",
       "      <td>1.0</td>\n",
       "      <td>1.0</td>\n",
       "      <td>2.0</td>\n",
       "      <td>4.0</td>\n",
       "      <td>0.0</td>\n",
       "      <td>4000030.00</td>\n",
       "      <td>9.287025e+06</td>\n",
       "      <td>23346</td>\n",
       "      <td>397.799405</td>\n",
       "      <td>5.0</td>\n",
       "      <td>9697.81</td>\n",
       "      <td>7.170236e+05</td>\n",
       "      <td>5241</td>\n",
       "      <td>136.810449</td>\n",
       "      <td>0.0</td>\n",
       "      <td>4000030.0</td>\n",
       "      <td>9.306696e+06</td>\n",
       "      <td>23439</td>\n",
       "      <td>397.060266</td>\n",
       "      <td>1</td>\n",
       "      <td>0</td>\n",
       "      <td>0</td>\n",
       "      <td>0</td>\n",
       "      <td>0</td>\n",
       "      <td>0</td>\n",
       "      <td>0</td>\n",
       "      <td>0</td>\n",
       "      <td>0</td>\n",
       "      <td>0</td>\n",
       "      <td>0</td>\n",
       "      <td>0</td>\n",
       "      <td>0</td>\n",
       "      <td>0</td>\n",
       "      <td>1</td>\n",
       "      <td>0</td>\n",
       "      <td>1</td>\n",
       "      <td>0</td>\n",
       "      <td>2</td>\n",
       "      <td>4</td>\n",
       "      <td>3.333333</td>\n",
       "      <td>0.0</td>\n",
       "      <td>0</td>\n",
       "      <td>0.000198</td>\n",
       "    </tr>\n",
       "    <tr>\n",
       "      <th>6373</th>\n",
       "      <td>14416</td>\n",
       "      <td>114417</td>\n",
       "      <td>3650.0</td>\n",
       "      <td>1</td>\n",
       "      <td>1993-03-24</td>\n",
       "      <td>1993</td>\n",
       "      <td>15</td>\n",
       "      <td>10</td>\n",
       "      <td>30.000</td>\n",
       "      <td>50.000</td>\n",
       "      <td>1302.260</td>\n",
       "      <td>35.0</td>\n",
       "      <td>37.207429</td>\n",
       "      <td>0.0</td>\n",
       "      <td>0.0</td>\n",
       "      <td>0.0</td>\n",
       "      <td>0.0</td>\n",
       "      <td>0.0</td>\n",
       "      <td>0.0</td>\n",
       "      <td>0.0</td>\n",
       "      <td>0.0</td>\n",
       "      <td>0.0</td>\n",
       "      <td>0.0</td>\n",
       "      <td>0.0</td>\n",
       "      <td>0.0</td>\n",
       "      <td>0.0</td>\n",
       "      <td>0.0</td>\n",
       "      <td>0.0</td>\n",
       "      <td>0.0</td>\n",
       "      <td>0.0</td>\n",
       "      <td>0.0</td>\n",
       "      <td>0.0</td>\n",
       "      <td>0.0</td>\n",
       "      <td>0.0</td>\n",
       "      <td>0.0</td>\n",
       "      <td>0.0</td>\n",
       "      <td>0.0</td>\n",
       "      <td>0.0</td>\n",
       "      <td>0.0</td>\n",
       "      <td>0.0</td>\n",
       "      <td>0.0</td>\n",
       "      <td>0.0</td>\n",
       "      <td>0.0</td>\n",
       "      <td>0.0</td>\n",
       "      <td>0.0</td>\n",
       "      <td>0.0</td>\n",
       "      <td>0.0</td>\n",
       "      <td>0.0</td>\n",
       "      <td>0.0</td>\n",
       "      <td>0.0</td>\n",
       "      <td>0.0</td>\n",
       "      <td>2016</td>\n",
       "      <td>2007</td>\n",
       "      <td>9.0</td>\n",
       "      <td>2.0</td>\n",
       "      <td>3.500</td>\n",
       "      <td>130.22600</td>\n",
       "      <td>1</td>\n",
       "      <td>5</td>\n",
       "      <td>0.0</td>\n",
       "      <td>0.0</td>\n",
       "      <td>3.0</td>\n",
       "      <td>13.0</td>\n",
       "      <td>31.0</td>\n",
       "      <td>35.0</td>\n",
       "      <td>0.0</td>\n",
       "      <td>4000030.00</td>\n",
       "      <td>9.287025e+06</td>\n",
       "      <td>23346</td>\n",
       "      <td>397.799405</td>\n",
       "      <td>5.0</td>\n",
       "      <td>4381.35</td>\n",
       "      <td>2.904067e+05</td>\n",
       "      <td>2963</td>\n",
       "      <td>98.011039</td>\n",
       "      <td>0.0</td>\n",
       "      <td>4000030.0</td>\n",
       "      <td>9.306696e+06</td>\n",
       "      <td>23439</td>\n",
       "      <td>397.060266</td>\n",
       "      <td>1</td>\n",
       "      <td>0</td>\n",
       "      <td>0</td>\n",
       "      <td>0</td>\n",
       "      <td>0</td>\n",
       "      <td>0</td>\n",
       "      <td>0</td>\n",
       "      <td>0</td>\n",
       "      <td>0</td>\n",
       "      <td>1</td>\n",
       "      <td>0</td>\n",
       "      <td>0</td>\n",
       "      <td>0</td>\n",
       "      <td>0</td>\n",
       "      <td>0</td>\n",
       "      <td>0</td>\n",
       "      <td>1</td>\n",
       "      <td>0</td>\n",
       "      <td>1</td>\n",
       "      <td>5</td>\n",
       "      <td>3.666667</td>\n",
       "      <td>0.0</td>\n",
       "      <td>0</td>\n",
       "      <td>0.000181</td>\n",
       "    </tr>\n",
       "    <tr>\n",
       "      <th>13729</th>\n",
       "      <td>26077</td>\n",
       "      <td>126078</td>\n",
       "      <td>6690.0</td>\n",
       "      <td>1</td>\n",
       "      <td>1992-08-21</td>\n",
       "      <td>1992</td>\n",
       "      <td>16</td>\n",
       "      <td>10</td>\n",
       "      <td>30.000</td>\n",
       "      <td>45.000</td>\n",
       "      <td>593.000</td>\n",
       "      <td>17.0</td>\n",
       "      <td>34.882353</td>\n",
       "      <td>0.0</td>\n",
       "      <td>0.0</td>\n",
       "      <td>0.0</td>\n",
       "      <td>0.0</td>\n",
       "      <td>0.0</td>\n",
       "      <td>0.0</td>\n",
       "      <td>0.0</td>\n",
       "      <td>0.0</td>\n",
       "      <td>0.0</td>\n",
       "      <td>0.0</td>\n",
       "      <td>0.0</td>\n",
       "      <td>0.0</td>\n",
       "      <td>0.0</td>\n",
       "      <td>0.0</td>\n",
       "      <td>0.0</td>\n",
       "      <td>0.0</td>\n",
       "      <td>0.0</td>\n",
       "      <td>0.0</td>\n",
       "      <td>0.0</td>\n",
       "      <td>0.0</td>\n",
       "      <td>0.0</td>\n",
       "      <td>0.0</td>\n",
       "      <td>0.0</td>\n",
       "      <td>0.0</td>\n",
       "      <td>0.0</td>\n",
       "      <td>0.0</td>\n",
       "      <td>0.0</td>\n",
       "      <td>0.0</td>\n",
       "      <td>0.0</td>\n",
       "      <td>0.0</td>\n",
       "      <td>0.0</td>\n",
       "      <td>0.0</td>\n",
       "      <td>0.0</td>\n",
       "      <td>0.0</td>\n",
       "      <td>0.0</td>\n",
       "      <td>0.0</td>\n",
       "      <td>0.0</td>\n",
       "      <td>0.0</td>\n",
       "      <td>2016</td>\n",
       "      <td>2013</td>\n",
       "      <td>3.0</td>\n",
       "      <td>2.0</td>\n",
       "      <td>4.250</td>\n",
       "      <td>148.25000</td>\n",
       "      <td>0</td>\n",
       "      <td>4</td>\n",
       "      <td>0.0</td>\n",
       "      <td>0.0</td>\n",
       "      <td>8.0</td>\n",
       "      <td>3.0</td>\n",
       "      <td>9.0</td>\n",
       "      <td>17.0</td>\n",
       "      <td>5.0</td>\n",
       "      <td>3972.64</td>\n",
       "      <td>1.444925e+05</td>\n",
       "      <td>2295</td>\n",
       "      <td>62.959694</td>\n",
       "      <td>5.0</td>\n",
       "      <td>740.00</td>\n",
       "      <td>6.168570e+03</td>\n",
       "      <td>148</td>\n",
       "      <td>41.679527</td>\n",
       "      <td>5.0</td>\n",
       "      <td>1576.6</td>\n",
       "      <td>6.463522e+04</td>\n",
       "      <td>1454</td>\n",
       "      <td>44.453382</td>\n",
       "      <td>0</td>\n",
       "      <td>0</td>\n",
       "      <td>1</td>\n",
       "      <td>0</td>\n",
       "      <td>0</td>\n",
       "      <td>0</td>\n",
       "      <td>0</td>\n",
       "      <td>0</td>\n",
       "      <td>0</td>\n",
       "      <td>0</td>\n",
       "      <td>1</td>\n",
       "      <td>0</td>\n",
       "      <td>0</td>\n",
       "      <td>0</td>\n",
       "      <td>0</td>\n",
       "      <td>1</td>\n",
       "      <td>0</td>\n",
       "      <td>0</td>\n",
       "      <td>1</td>\n",
       "      <td>5</td>\n",
       "      <td>3.333333</td>\n",
       "      <td>0.0</td>\n",
       "      <td>0</td>\n",
       "      <td>0.000171</td>\n",
       "    </tr>\n",
       "    <tr>\n",
       "      <th>21177</th>\n",
       "      <td>37089</td>\n",
       "      <td>137090</td>\n",
       "      <td>2300.0</td>\n",
       "      <td>1</td>\n",
       "      <td>1990-10-26</td>\n",
       "      <td>1990</td>\n",
       "      <td>18</td>\n",
       "      <td>10</td>\n",
       "      <td>30.000</td>\n",
       "      <td>50.000</td>\n",
       "      <td>206.900</td>\n",
       "      <td>5.0</td>\n",
       "      <td>41.380000</td>\n",
       "      <td>0.0</td>\n",
       "      <td>0.0</td>\n",
       "      <td>0.0</td>\n",
       "      <td>0.0</td>\n",
       "      <td>0.0</td>\n",
       "      <td>0.0</td>\n",
       "      <td>0.0</td>\n",
       "      <td>0.0</td>\n",
       "      <td>0.0</td>\n",
       "      <td>0.0</td>\n",
       "      <td>0.0</td>\n",
       "      <td>0.0</td>\n",
       "      <td>0.0</td>\n",
       "      <td>0.0</td>\n",
       "      <td>0.0</td>\n",
       "      <td>0.0</td>\n",
       "      <td>0.0</td>\n",
       "      <td>0.0</td>\n",
       "      <td>0.0</td>\n",
       "      <td>0.0</td>\n",
       "      <td>0.0</td>\n",
       "      <td>0.0</td>\n",
       "      <td>0.0</td>\n",
       "      <td>0.0</td>\n",
       "      <td>0.0</td>\n",
       "      <td>0.0</td>\n",
       "      <td>0.0</td>\n",
       "      <td>0.0</td>\n",
       "      <td>0.0</td>\n",
       "      <td>0.0</td>\n",
       "      <td>0.0</td>\n",
       "      <td>0.0</td>\n",
       "      <td>0.0</td>\n",
       "      <td>0.0</td>\n",
       "      <td>0.0</td>\n",
       "      <td>0.0</td>\n",
       "      <td>0.0</td>\n",
       "      <td>0.0</td>\n",
       "      <td>2014</td>\n",
       "      <td>2014</td>\n",
       "      <td>0.0</td>\n",
       "      <td>4.0</td>\n",
       "      <td>5.000</td>\n",
       "      <td>206.90000</td>\n",
       "      <td>0</td>\n",
       "      <td>4</td>\n",
       "      <td>0.0</td>\n",
       "      <td>0.0</td>\n",
       "      <td>1.0</td>\n",
       "      <td>0.0</td>\n",
       "      <td>4.0</td>\n",
       "      <td>5.0</td>\n",
       "      <td>0.0</td>\n",
       "      <td>4000030.00</td>\n",
       "      <td>9.287025e+06</td>\n",
       "      <td>23346</td>\n",
       "      <td>397.799405</td>\n",
       "      <td>5.0</td>\n",
       "      <td>4000030.00</td>\n",
       "      <td>4.699096e+06</td>\n",
       "      <td>5831</td>\n",
       "      <td>805.881640</td>\n",
       "      <td>0.0</td>\n",
       "      <td>4000030.0</td>\n",
       "      <td>9.306696e+06</td>\n",
       "      <td>23439</td>\n",
       "      <td>397.060266</td>\n",
       "      <td>1</td>\n",
       "      <td>0</td>\n",
       "      <td>0</td>\n",
       "      <td>1</td>\n",
       "      <td>0</td>\n",
       "      <td>0</td>\n",
       "      <td>0</td>\n",
       "      <td>0</td>\n",
       "      <td>0</td>\n",
       "      <td>0</td>\n",
       "      <td>0</td>\n",
       "      <td>0</td>\n",
       "      <td>0</td>\n",
       "      <td>0</td>\n",
       "      <td>0</td>\n",
       "      <td>0</td>\n",
       "      <td>1</td>\n",
       "      <td>0</td>\n",
       "      <td>2</td>\n",
       "      <td>4</td>\n",
       "      <td>3.333333</td>\n",
       "      <td>0.0</td>\n",
       "      <td>0</td>\n",
       "      <td>0.000170</td>\n",
       "    </tr>\n",
       "  </tbody>\n",
       "</table>\n",
       "<p>25645 rows × 104 columns</p>\n",
       "</div>"
      ],
      "text/plain": [
       "       Unnamed: 0  donorID  zipcode  gender dateOfBirth  birth_year  age  \\\n",
       "14803       27656   127657   9690.0       0  1927-10-23        1927   81   \n",
       "6888        15384   115385   8210.0       0  1951-03-19        1951   57   \n",
       "2881         6346   106347   8300.0       0  1921-06-19        1921   87   \n",
       "15701       28990   128991   8780.0       0  1959-03-01        1959   49   \n",
       "430          1056   101057   2200.0       0  1938-04-20        1938   70   \n",
       "...           ...      ...      ...     ...         ...         ...  ...   \n",
       "14161       26727   126728   3530.0       1  1994-07-08        1994   14   \n",
       "12110       23650   123651   8920.0       1  1993-12-30        1993   15   \n",
       "6373        14416   114417   3650.0       1  1993-03-24        1993   15   \n",
       "13729       26077   126078   6690.0       1  1992-08-21        1992   16   \n",
       "21177       37089   137090   2300.0       1  1990-10-26        1990   18   \n",
       "\n",
       "       age_group  min_donation_per_donor  max_donation_per_donor  \\\n",
       "14803         80                  45.400                  56.660   \n",
       "6888          50                  51.000                  51.000   \n",
       "2881          80                  13.629                  13.629   \n",
       "15701         40                  51.000                  51.000   \n",
       "430           70                   7.440                  64.450   \n",
       "...          ...                     ...                     ...   \n",
       "14161         10                  20.000                  50.000   \n",
       "12110         10                  30.000                  40.000   \n",
       "6373          10                  30.000                  50.000   \n",
       "13729         10                  30.000                  45.000   \n",
       "21177         10                  30.000                  50.000   \n",
       "\n",
       "       total_donations_per_donor  total_donation_times  \\\n",
       "14803                    102.060                   2.0   \n",
       "6888                      51.000                   1.0   \n",
       "2881                      95.403                   7.0   \n",
       "15701                     51.000                   1.0   \n",
       "430                      431.960                  17.0   \n",
       "...                          ...                   ...   \n",
       "14161                    477.250                  14.0   \n",
       "12110                    143.000                   4.0   \n",
       "6373                    1302.260                  35.0   \n",
       "13729                    593.000                  17.0   \n",
       "21177                    206.900                   5.0   \n",
       "\n",
       "       avg_donations_per_donor  3m_min_donation_per_donor  \\\n",
       "14803                51.030000                        0.0   \n",
       "6888                 51.000000                        0.0   \n",
       "2881                 13.629000                        0.0   \n",
       "15701                51.000000                        0.0   \n",
       "430                  25.409412                        0.0   \n",
       "...                        ...                        ...   \n",
       "14161                34.089286                        0.0   \n",
       "12110                35.750000                        0.0   \n",
       "6373                 37.207429                        0.0   \n",
       "13729                34.882353                        0.0   \n",
       "21177                41.380000                        0.0   \n",
       "\n",
       "       3m_max_donation_per_donor  3m_total_donations_per_donor  \\\n",
       "14803                        0.0                           0.0   \n",
       "6888                         0.0                           0.0   \n",
       "2881                         0.0                           0.0   \n",
       "15701                        0.0                           0.0   \n",
       "430                          0.0                           0.0   \n",
       "...                          ...                           ...   \n",
       "14161                        0.0                           0.0   \n",
       "12110                        0.0                           0.0   \n",
       "6373                         0.0                           0.0   \n",
       "13729                        0.0                           0.0   \n",
       "21177                        0.0                           0.0   \n",
       "\n",
       "       3m_total_donation_times  3m_avg_donations_per_donor  \\\n",
       "14803                      0.0                         0.0   \n",
       "6888                       0.0                         0.0   \n",
       "2881                       0.0                         0.0   \n",
       "15701                      0.0                         0.0   \n",
       "430                        0.0                         0.0   \n",
       "...                        ...                         ...   \n",
       "14161                      0.0                         0.0   \n",
       "12110                      0.0                         0.0   \n",
       "6373                       0.0                         0.0   \n",
       "13729                      0.0                         0.0   \n",
       "21177                      0.0                         0.0   \n",
       "\n",
       "       6m_min_donation_donor  6m_max_donation_per_donor  \\\n",
       "14803                    0.0                        0.0   \n",
       "6888                     0.0                        0.0   \n",
       "2881                     0.0                        0.0   \n",
       "15701                    0.0                        0.0   \n",
       "430                      0.0                        0.0   \n",
       "...                      ...                        ...   \n",
       "14161                    0.0                        0.0   \n",
       "12110                    0.0                        0.0   \n",
       "6373                     0.0                        0.0   \n",
       "13729                    0.0                        0.0   \n",
       "21177                    0.0                        0.0   \n",
       "\n",
       "       6m_total_donations_per_donor  6m_total_donation_times  \\\n",
       "14803                           0.0                      0.0   \n",
       "6888                            0.0                      0.0   \n",
       "2881                            0.0                      0.0   \n",
       "15701                           0.0                      0.0   \n",
       "430                             0.0                      0.0   \n",
       "...                             ...                      ...   \n",
       "14161                           0.0                      0.0   \n",
       "12110                           0.0                      0.0   \n",
       "6373                            0.0                      0.0   \n",
       "13729                           0.0                      0.0   \n",
       "21177                           0.0                      0.0   \n",
       "\n",
       "       6m_avg_donations_per_donor  9m_min_donation_donor  \\\n",
       "14803                         0.0                    0.0   \n",
       "6888                          0.0                    0.0   \n",
       "2881                          0.0                    0.0   \n",
       "15701                         0.0                    0.0   \n",
       "430                           0.0                    0.0   \n",
       "...                           ...                    ...   \n",
       "14161                         0.0                    0.0   \n",
       "12110                         0.0                    0.0   \n",
       "6373                          0.0                    0.0   \n",
       "13729                         0.0                    0.0   \n",
       "21177                         0.0                    0.0   \n",
       "\n",
       "       9m_max_donation_per_donor  9m_total_donations_per_donor  \\\n",
       "14803                        0.0                           0.0   \n",
       "6888                         0.0                           0.0   \n",
       "2881                         0.0                           0.0   \n",
       "15701                        0.0                           0.0   \n",
       "430                          0.0                           0.0   \n",
       "...                          ...                           ...   \n",
       "14161                        0.0                           0.0   \n",
       "12110                        0.0                           0.0   \n",
       "6373                         0.0                           0.0   \n",
       "13729                        0.0                           0.0   \n",
       "21177                        0.0                           0.0   \n",
       "\n",
       "       9m_total_donation_times  9m_avg_donations_per_donor  \\\n",
       "14803                      0.0                         0.0   \n",
       "6888                       0.0                         0.0   \n",
       "2881                       0.0                         0.0   \n",
       "15701                      0.0                         0.0   \n",
       "430                        0.0                         0.0   \n",
       "...                        ...                         ...   \n",
       "14161                      0.0                         0.0   \n",
       "12110                      0.0                         0.0   \n",
       "6373                       0.0                         0.0   \n",
       "13729                      0.0                         0.0   \n",
       "21177                      0.0                         0.0   \n",
       "\n",
       "       yr_min_donation_donor  yr_max_donation_per_donor  \\\n",
       "14803                    0.0                        0.0   \n",
       "6888                     0.0                        0.0   \n",
       "2881                     0.0                        0.0   \n",
       "15701                    0.0                        0.0   \n",
       "430                      0.0                        0.0   \n",
       "...                      ...                        ...   \n",
       "14161                    0.0                        0.0   \n",
       "12110                    0.0                        0.0   \n",
       "6373                     0.0                        0.0   \n",
       "13729                    0.0                        0.0   \n",
       "21177                    0.0                        0.0   \n",
       "\n",
       "       yr_total_donations_per_donor  yr_total_donation_times  \\\n",
       "14803                           0.0                      0.0   \n",
       "6888                            0.0                      0.0   \n",
       "2881                            0.0                      0.0   \n",
       "15701                           0.0                      0.0   \n",
       "430                             0.0                      0.0   \n",
       "...                             ...                      ...   \n",
       "14161                           0.0                      0.0   \n",
       "12110                           0.0                      0.0   \n",
       "6373                            0.0                      0.0   \n",
       "13729                           0.0                      0.0   \n",
       "21177                           0.0                      0.0   \n",
       "\n",
       "       yr_avg_donations_per_donor  2yr_min_donation_donor  \\\n",
       "14803                         0.0                     0.0   \n",
       "6888                          0.0                     0.0   \n",
       "2881                          0.0                     0.0   \n",
       "15701                         0.0                     0.0   \n",
       "430                           0.0                     0.0   \n",
       "...                           ...                     ...   \n",
       "14161                         0.0                     0.0   \n",
       "12110                         0.0                     0.0   \n",
       "6373                          0.0                     0.0   \n",
       "13729                         0.0                     0.0   \n",
       "21177                         0.0                     0.0   \n",
       "\n",
       "       2yr_max_donation_per_donor  2yr_total_donations_per_donor  \\\n",
       "14803                         0.0                            0.0   \n",
       "6888                          0.0                            0.0   \n",
       "2881                          0.0                            0.0   \n",
       "15701                         0.0                            0.0   \n",
       "430                           0.0                            0.0   \n",
       "...                           ...                            ...   \n",
       "14161                         0.0                            0.0   \n",
       "12110                         0.0                            0.0   \n",
       "6373                          0.0                            0.0   \n",
       "13729                         0.0                            0.0   \n",
       "21177                         0.0                            0.0   \n",
       "\n",
       "       2yr_total_donation_times  2yr_avg_donations_per_donor  \\\n",
       "14803                       0.0                          0.0   \n",
       "6888                        0.0                          0.0   \n",
       "2881                        0.0                          0.0   \n",
       "15701                       0.0                          0.0   \n",
       "430                         0.0                          0.0   \n",
       "...                         ...                          ...   \n",
       "14161                       0.0                          0.0   \n",
       "12110                       0.0                          0.0   \n",
       "6373                        0.0                          0.0   \n",
       "13729                       0.0                          0.0   \n",
       "21177                       0.0                          0.0   \n",
       "\n",
       "       3yr_min_donation_donor  3yr_max_donation_per_donor  \\\n",
       "14803                     0.0                         0.0   \n",
       "6888                      0.0                         0.0   \n",
       "2881                      0.0                         0.0   \n",
       "15701                     0.0                         0.0   \n",
       "430                       0.0                         0.0   \n",
       "...                       ...                         ...   \n",
       "14161                     0.0                         0.0   \n",
       "12110                     0.0                         0.0   \n",
       "6373                      0.0                         0.0   \n",
       "13729                     0.0                         0.0   \n",
       "21177                     0.0                         0.0   \n",
       "\n",
       "       3yr_total_donations_per_donor  3yr_total_donation_times  \\\n",
       "14803                            0.0                       0.0   \n",
       "6888                             0.0                       0.0   \n",
       "2881                             0.0                       0.0   \n",
       "15701                            0.0                       0.0   \n",
       "430                              0.0                       0.0   \n",
       "...                              ...                       ...   \n",
       "14161                            0.0                       0.0   \n",
       "12110                            0.0                       0.0   \n",
       "6373                             0.0                       0.0   \n",
       "13729                            0.0                       0.0   \n",
       "21177                            0.0                       0.0   \n",
       "\n",
       "       3yr_avg_donations_per_donor  3m_6m_amt_diff  3m_6m_count_diff  \\\n",
       "14803                          0.0             0.0               0.0   \n",
       "6888                           0.0             0.0               0.0   \n",
       "2881                           0.0             0.0               0.0   \n",
       "15701                          0.0             0.0               0.0   \n",
       "430                            0.0             0.0               0.0   \n",
       "...                            ...             ...               ...   \n",
       "14161                          0.0             0.0               0.0   \n",
       "12110                          0.0             0.0               0.0   \n",
       "6373                           0.0             0.0               0.0   \n",
       "13729                          0.0             0.0               0.0   \n",
       "21177                          0.0             0.0               0.0   \n",
       "\n",
       "       6m_9m_amt_diff  6m_9m_count_diff  9m_yr_amt_diff  9m_yr_count_diff  \\\n",
       "14803             0.0               0.0             0.0               0.0   \n",
       "6888              0.0               0.0             0.0               0.0   \n",
       "2881              0.0               0.0             0.0               0.0   \n",
       "15701             0.0               0.0             0.0               0.0   \n",
       "430               0.0               0.0             0.0               0.0   \n",
       "...               ...               ...             ...               ...   \n",
       "14161             0.0               0.0             0.0               0.0   \n",
       "12110             0.0               0.0             0.0               0.0   \n",
       "6373              0.0               0.0             0.0               0.0   \n",
       "13729             0.0               0.0             0.0               0.0   \n",
       "21177             0.0               0.0             0.0               0.0   \n",
       "\n",
       "       2yr_yr_amt_diff  3yr_2yr_amt_diff  max_year  min_year  year_diff  \\\n",
       "14803              0.0               0.0      2011      2010        1.0   \n",
       "6888               0.0               0.0      2010      2010        0.0   \n",
       "2881               0.0               0.0      2008      2005        3.0   \n",
       "15701              0.0               0.0      2010      2010        0.0   \n",
       "430                0.0               0.0      2012      2005        7.0   \n",
       "...                ...               ...       ...       ...        ...   \n",
       "14161              0.0               0.0      2015      2011        4.0   \n",
       "12110              0.0               0.0      2014      2010        4.0   \n",
       "6373               0.0               0.0      2016      2007        9.0   \n",
       "13729              0.0               0.0      2016      2013        3.0   \n",
       "21177              0.0               0.0      2014      2014        0.0   \n",
       "\n",
       "       recency  donations_count_per_period  donations_amount_per_period  \\\n",
       "14803      7.0                       1.000                     51.03000   \n",
       "6888       8.0                       1.000                     51.00000   \n",
       "2881      10.0                       1.750                     23.85075   \n",
       "15701      8.0                       1.000                     51.00000   \n",
       "430        6.0                       2.125                     53.99500   \n",
       "...        ...                         ...                          ...   \n",
       "14161      3.0                       2.800                     95.45000   \n",
       "12110      4.0                       0.800                     28.60000   \n",
       "6373       2.0                       3.500                    130.22600   \n",
       "13729      2.0                       4.250                    148.25000   \n",
       "21177      4.0                       5.000                    206.90000   \n",
       "\n",
       "       exceptional_donor  donating_amt_rank  donations_1st_qtl_count  \\\n",
       "14803                  0                  3                      0.0   \n",
       "6888                   0                  3                      0.0   \n",
       "2881                   0                  3                      0.0   \n",
       "15701                  0                  3                      0.0   \n",
       "430                    0                  4                      1.0   \n",
       "...                  ...                ...                      ...   \n",
       "14161                  0                  4                      0.0   \n",
       "12110                  0                  4                      0.0   \n",
       "6373                   1                  5                      0.0   \n",
       "13729                  0                  4                      0.0   \n",
       "21177                  0                  4                      0.0   \n",
       "\n",
       "       donations_2nd_qtl_count  donations_3rd_qtl_count  \\\n",
       "14803                      0.0                      0.0   \n",
       "6888                       0.0                      0.0   \n",
       "2881                       7.0                      0.0   \n",
       "15701                      0.0                      0.0   \n",
       "430                       13.0                      0.0   \n",
       "...                        ...                      ...   \n",
       "14161                      2.0                      6.0   \n",
       "12110                      0.0                      1.0   \n",
       "6373                       0.0                      3.0   \n",
       "13729                      0.0                      8.0   \n",
       "21177                      0.0                      1.0   \n",
       "\n",
       "       donations_4th_qtl_count  donations_5th_qtl_count  nbr_of_campaigns  \\\n",
       "14803                      0.0                      2.0               2.0   \n",
       "6888                       0.0                      1.0               1.0   \n",
       "2881                       0.0                      0.0               7.0   \n",
       "15701                      0.0                      1.0               1.0   \n",
       "430                        0.0                      3.0              17.0   \n",
       "...                        ...                      ...               ...   \n",
       "14161                      1.0                      5.0              14.0   \n",
       "12110                      1.0                      2.0               4.0   \n",
       "6373                      13.0                     31.0              35.0   \n",
       "13729                      3.0                      9.0              17.0   \n",
       "21177                      0.0                      4.0               5.0   \n",
       "\n",
       "       min_donation_per_lang  max_donation_per_lang  total_donations_per_lang  \\\n",
       "14803                    0.0             4000030.00              9.287025e+06   \n",
       "6888                     0.0             4000030.00              9.287025e+06   \n",
       "2881                     0.0             4000030.00              9.287025e+06   \n",
       "15701                    0.0             4000030.00              9.287025e+06   \n",
       "430                      0.0             4000030.00              9.287025e+06   \n",
       "...                      ...                    ...                       ...   \n",
       "14161                    0.0             4000030.00              9.287025e+06   \n",
       "12110                    0.0             4000030.00              9.287025e+06   \n",
       "6373                     0.0             4000030.00              9.287025e+06   \n",
       "13729                    5.0                3972.64              1.444925e+05   \n",
       "21177                    0.0             4000030.00              9.287025e+06   \n",
       "\n",
       "       total_donation_lang  avg_donations_lang  min_donation_per_province  \\\n",
       "14803                23346          397.799405                        5.0   \n",
       "6888                 23346          397.799405                        5.0   \n",
       "2881                 23346          397.799405                        5.0   \n",
       "15701                23346          397.799405                        5.0   \n",
       "430                  23346          397.799405                        5.0   \n",
       "...                    ...                 ...                        ...   \n",
       "14161                23346          397.799405                        5.0   \n",
       "12110                23346          397.799405                        5.0   \n",
       "6373                 23346          397.799405                        5.0   \n",
       "13729                 2295           62.959694                        5.0   \n",
       "21177                23346          397.799405                        5.0   \n",
       "\n",
       "       max_donation_per_province  total_donations_per_province  \\\n",
       "14803                 2479000.00                  3.098324e+06   \n",
       "6888                     9697.81                  7.170236e+05   \n",
       "2881                     9697.81                  7.170236e+05   \n",
       "15701                    9697.81                  7.170236e+05   \n",
       "430                   4000030.00                  4.699096e+06   \n",
       "...                          ...                           ...   \n",
       "14161                    4381.35                  2.904067e+05   \n",
       "12110                    9697.81                  7.170236e+05   \n",
       "6373                     4381.35                  2.904067e+05   \n",
       "13729                     740.00                  6.168570e+03   \n",
       "21177                 4000030.00                  4.699096e+06   \n",
       "\n",
       "       total_donation_province  avg_donations_province  \\\n",
       "14803                     5428              570.804036   \n",
       "6888                      5241              136.810449   \n",
       "2881                      5241              136.810449   \n",
       "15701                     5241              136.810449   \n",
       "430                       5831              805.881640   \n",
       "...                        ...                     ...   \n",
       "14161                     2963               98.011039   \n",
       "12110                     5241              136.810449   \n",
       "6373                      2963               98.011039   \n",
       "13729                      148               41.679527   \n",
       "21177                     5831              805.881640   \n",
       "\n",
       "       min_donation_per_region  max_donation_per_region  \\\n",
       "14803                      0.0                4000030.0   \n",
       "6888                       0.0                4000030.0   \n",
       "2881                       0.0                4000030.0   \n",
       "15701                      0.0                4000030.0   \n",
       "430                        0.0                4000030.0   \n",
       "...                        ...                      ...   \n",
       "14161                      0.0                4000030.0   \n",
       "12110                      0.0                4000030.0   \n",
       "6373                       0.0                4000030.0   \n",
       "13729                      5.0                   1576.6   \n",
       "21177                      0.0                4000030.0   \n",
       "\n",
       "       total_donations_per_region  count_donation_region  \\\n",
       "14803                9.306696e+06                  23439   \n",
       "6888                 9.306696e+06                  23439   \n",
       "2881                 9.306696e+06                  23439   \n",
       "15701                9.306696e+06                  23439   \n",
       "430                  9.306696e+06                  23439   \n",
       "...                           ...                    ...   \n",
       "14161                9.306696e+06                  23439   \n",
       "12110                9.306696e+06                  23439   \n",
       "6373                 9.306696e+06                  23439   \n",
       "13729                6.463522e+04                   1454   \n",
       "21177                9.306696e+06                  23439   \n",
       "\n",
       "       avg_donations_region  region_Flanders  region_Missing  region_Wallonia  \\\n",
       "14803            397.060266                1               0                0   \n",
       "6888             397.060266                1               0                0   \n",
       "2881             397.060266                1               0                0   \n",
       "15701            397.060266                1               0                0   \n",
       "430              397.060266                1               0                0   \n",
       "...                     ...              ...             ...              ...   \n",
       "14161            397.060266                1               0                0   \n",
       "12110            397.060266                1               0                0   \n",
       "6373             397.060266                1               0                0   \n",
       "13729             44.453382                0               0                1   \n",
       "21177            397.060266                1               0                0   \n",
       "\n",
       "       province_Antwerp  province_Brussels  province_East Flanders  \\\n",
       "14803                 0                  0                       1   \n",
       "6888                  0                  0                       0   \n",
       "2881                  0                  0                       0   \n",
       "15701                 0                  0                       0   \n",
       "430                   1                  0                       0   \n",
       "...                 ...                ...                     ...   \n",
       "14161                 0                  0                       0   \n",
       "12110                 0                  0                       0   \n",
       "6373                  0                  0                       0   \n",
       "13729                 0                  0                       0   \n",
       "21177                 1                  0                       0   \n",
       "\n",
       "       province_Flemish Brabant  province_Hainaut  province_Liege  \\\n",
       "14803                         0                 0               0   \n",
       "6888                          0                 0               0   \n",
       "2881                          0                 0               0   \n",
       "15701                         0                 0               0   \n",
       "430                           0                 0               0   \n",
       "...                         ...               ...             ...   \n",
       "14161                         0                 0               0   \n",
       "12110                         0                 0               0   \n",
       "6373                          0                 0               0   \n",
       "13729                         0                 0               0   \n",
       "21177                         0                 0               0   \n",
       "\n",
       "       province_Limburg  province_Luxembourg  province_Missing  \\\n",
       "14803                 0                    0                 0   \n",
       "6888                  0                    0                 0   \n",
       "2881                  0                    0                 0   \n",
       "15701                 0                    0                 0   \n",
       "430                   0                    0                 0   \n",
       "...                 ...                  ...               ...   \n",
       "14161                 1                    0                 0   \n",
       "12110                 0                    0                 0   \n",
       "6373                  1                    0                 0   \n",
       "13729                 0                    1                 0   \n",
       "21177                 0                    0                 0   \n",
       "\n",
       "       province_Namur  province_Walloon Brabant  province_West Flanders  \\\n",
       "14803               0                         0                       0   \n",
       "6888                0                         0                       1   \n",
       "2881                0                         0                       1   \n",
       "15701               0                         0                       1   \n",
       "430                 0                         0                       0   \n",
       "...               ...                       ...                     ...   \n",
       "14161               0                         0                       0   \n",
       "12110               0                         0                       1   \n",
       "6373                0                         0                       0   \n",
       "13729               0                         0                       0   \n",
       "21177               0                         0                       0   \n",
       "\n",
       "       language_FR  language_NL  more_than_once_in_a_campaign  recency_categ  \\\n",
       "14803            0            1                             0              3   \n",
       "6888             0            1                             0              4   \n",
       "2881             0            1                             0              5   \n",
       "15701            0            1                             0              4   \n",
       "430              0            1                             0              3   \n",
       "...            ...          ...                           ...            ...   \n",
       "14161            0            1                             0              1   \n",
       "12110            0            1                             0              2   \n",
       "6373             0            1                             0              1   \n",
       "13729            1            0                             0              1   \n",
       "21177            0            1                             0              2   \n",
       "\n",
       "       freq_rank  donor_rank  amt_campaign_7244  7244_donor  predicted_proba  \n",
       "14803          3    3.000000                0.0           0         0.996815  \n",
       "6888           1    2.666667                0.0           0         0.974456  \n",
       "2881           5    4.333333               80.0           1         0.974418  \n",
       "15701          1    2.666667                0.0           0         0.955687  \n",
       "430            5    4.000000                0.0           0         0.948906  \n",
       "...          ...         ...                ...         ...              ...  \n",
       "14161          5    3.333333                0.0           0         0.000214  \n",
       "12110          4    3.333333                0.0           0         0.000198  \n",
       "6373           5    3.666667                0.0           0         0.000181  \n",
       "13729          5    3.333333                0.0           0         0.000171  \n",
       "21177          4    3.333333                0.0           0         0.000170  \n",
       "\n",
       "[25645 rows x 104 columns]"
      ]
     },
     "execution_count": 377,
     "metadata": {},
     "output_type": "execute_result"
    }
   ],
   "source": [
    "base_table_sorted"
   ]
  },
  {
   "cell_type": "code",
   "execution_count": 378,
   "id": "7febc5bc",
   "metadata": {},
   "outputs": [],
   "source": [
    "base_table_sorted[\"decile_rank\"] = pd.qcut(base_table_sorted['predicted_proba'], 10,\n",
    "                            labels = False)"
   ]
  },
  {
   "cell_type": "code",
   "execution_count": 379,
   "id": "4cff5032",
   "metadata": {},
   "outputs": [
    {
     "data": {
      "text/html": [
       "<div>\n",
       "<style scoped>\n",
       "    .dataframe tbody tr th:only-of-type {\n",
       "        vertical-align: middle;\n",
       "    }\n",
       "\n",
       "    .dataframe tbody tr th {\n",
       "        vertical-align: top;\n",
       "    }\n",
       "\n",
       "    .dataframe thead th {\n",
       "        text-align: right;\n",
       "    }\n",
       "</style>\n",
       "<table border=\"1\" class=\"dataframe\">\n",
       "  <thead>\n",
       "    <tr style=\"text-align: right;\">\n",
       "      <th></th>\n",
       "      <th>Unnamed: 0</th>\n",
       "      <th>donorID</th>\n",
       "      <th>zipcode</th>\n",
       "      <th>gender</th>\n",
       "      <th>dateOfBirth</th>\n",
       "      <th>birth_year</th>\n",
       "      <th>age</th>\n",
       "      <th>age_group</th>\n",
       "      <th>min_donation_per_donor</th>\n",
       "      <th>max_donation_per_donor</th>\n",
       "      <th>total_donations_per_donor</th>\n",
       "      <th>total_donation_times</th>\n",
       "      <th>avg_donations_per_donor</th>\n",
       "      <th>3m_min_donation_per_donor</th>\n",
       "      <th>3m_max_donation_per_donor</th>\n",
       "      <th>3m_total_donations_per_donor</th>\n",
       "      <th>3m_total_donation_times</th>\n",
       "      <th>3m_avg_donations_per_donor</th>\n",
       "      <th>6m_min_donation_donor</th>\n",
       "      <th>6m_max_donation_per_donor</th>\n",
       "      <th>6m_total_donations_per_donor</th>\n",
       "      <th>6m_total_donation_times</th>\n",
       "      <th>6m_avg_donations_per_donor</th>\n",
       "      <th>9m_min_donation_donor</th>\n",
       "      <th>9m_max_donation_per_donor</th>\n",
       "      <th>9m_total_donations_per_donor</th>\n",
       "      <th>9m_total_donation_times</th>\n",
       "      <th>9m_avg_donations_per_donor</th>\n",
       "      <th>yr_min_donation_donor</th>\n",
       "      <th>yr_max_donation_per_donor</th>\n",
       "      <th>yr_total_donations_per_donor</th>\n",
       "      <th>yr_total_donation_times</th>\n",
       "      <th>yr_avg_donations_per_donor</th>\n",
       "      <th>2yr_min_donation_donor</th>\n",
       "      <th>2yr_max_donation_per_donor</th>\n",
       "      <th>2yr_total_donations_per_donor</th>\n",
       "      <th>2yr_total_donation_times</th>\n",
       "      <th>2yr_avg_donations_per_donor</th>\n",
       "      <th>3yr_min_donation_donor</th>\n",
       "      <th>3yr_max_donation_per_donor</th>\n",
       "      <th>3yr_total_donations_per_donor</th>\n",
       "      <th>3yr_total_donation_times</th>\n",
       "      <th>3yr_avg_donations_per_donor</th>\n",
       "      <th>3m_6m_amt_diff</th>\n",
       "      <th>3m_6m_count_diff</th>\n",
       "      <th>6m_9m_amt_diff</th>\n",
       "      <th>6m_9m_count_diff</th>\n",
       "      <th>9m_yr_amt_diff</th>\n",
       "      <th>9m_yr_count_diff</th>\n",
       "      <th>2yr_yr_amt_diff</th>\n",
       "      <th>3yr_2yr_amt_diff</th>\n",
       "      <th>max_year</th>\n",
       "      <th>min_year</th>\n",
       "      <th>year_diff</th>\n",
       "      <th>recency</th>\n",
       "      <th>donations_count_per_period</th>\n",
       "      <th>donations_amount_per_period</th>\n",
       "      <th>exceptional_donor</th>\n",
       "      <th>donating_amt_rank</th>\n",
       "      <th>donations_1st_qtl_count</th>\n",
       "      <th>donations_2nd_qtl_count</th>\n",
       "      <th>donations_3rd_qtl_count</th>\n",
       "      <th>donations_4th_qtl_count</th>\n",
       "      <th>donations_5th_qtl_count</th>\n",
       "      <th>nbr_of_campaigns</th>\n",
       "      <th>min_donation_per_lang</th>\n",
       "      <th>max_donation_per_lang</th>\n",
       "      <th>total_donations_per_lang</th>\n",
       "      <th>total_donation_lang</th>\n",
       "      <th>avg_donations_lang</th>\n",
       "      <th>min_donation_per_province</th>\n",
       "      <th>max_donation_per_province</th>\n",
       "      <th>total_donations_per_province</th>\n",
       "      <th>total_donation_province</th>\n",
       "      <th>avg_donations_province</th>\n",
       "      <th>min_donation_per_region</th>\n",
       "      <th>max_donation_per_region</th>\n",
       "      <th>total_donations_per_region</th>\n",
       "      <th>count_donation_region</th>\n",
       "      <th>avg_donations_region</th>\n",
       "      <th>region_Flanders</th>\n",
       "      <th>region_Missing</th>\n",
       "      <th>region_Wallonia</th>\n",
       "      <th>province_Antwerp</th>\n",
       "      <th>province_Brussels</th>\n",
       "      <th>province_East Flanders</th>\n",
       "      <th>province_Flemish Brabant</th>\n",
       "      <th>province_Hainaut</th>\n",
       "      <th>province_Liege</th>\n",
       "      <th>province_Limburg</th>\n",
       "      <th>province_Luxembourg</th>\n",
       "      <th>province_Missing</th>\n",
       "      <th>province_Namur</th>\n",
       "      <th>province_Walloon Brabant</th>\n",
       "      <th>province_West Flanders</th>\n",
       "      <th>language_FR</th>\n",
       "      <th>language_NL</th>\n",
       "      <th>more_than_once_in_a_campaign</th>\n",
       "      <th>recency_categ</th>\n",
       "      <th>freq_rank</th>\n",
       "      <th>donor_rank</th>\n",
       "      <th>amt_campaign_7244</th>\n",
       "      <th>7244_donor</th>\n",
       "      <th>predicted_proba</th>\n",
       "      <th>decile_rank</th>\n",
       "    </tr>\n",
       "  </thead>\n",
       "  <tbody>\n",
       "    <tr>\n",
       "      <th>14803</th>\n",
       "      <td>27656</td>\n",
       "      <td>127657</td>\n",
       "      <td>9690.0</td>\n",
       "      <td>0</td>\n",
       "      <td>1927-10-23</td>\n",
       "      <td>1927</td>\n",
       "      <td>81</td>\n",
       "      <td>80</td>\n",
       "      <td>45.400</td>\n",
       "      <td>56.660</td>\n",
       "      <td>102.060</td>\n",
       "      <td>2.0</td>\n",
       "      <td>51.030000</td>\n",
       "      <td>0.0</td>\n",
       "      <td>0.0</td>\n",
       "      <td>0.0</td>\n",
       "      <td>0.0</td>\n",
       "      <td>0.0</td>\n",
       "      <td>0.0</td>\n",
       "      <td>0.0</td>\n",
       "      <td>0.0</td>\n",
       "      <td>0.0</td>\n",
       "      <td>0.0</td>\n",
       "      <td>0.0</td>\n",
       "      <td>0.0</td>\n",
       "      <td>0.0</td>\n",
       "      <td>0.0</td>\n",
       "      <td>0.0</td>\n",
       "      <td>0.0</td>\n",
       "      <td>0.0</td>\n",
       "      <td>0.0</td>\n",
       "      <td>0.0</td>\n",
       "      <td>0.0</td>\n",
       "      <td>0.0</td>\n",
       "      <td>0.0</td>\n",
       "      <td>0.0</td>\n",
       "      <td>0.0</td>\n",
       "      <td>0.0</td>\n",
       "      <td>0.0</td>\n",
       "      <td>0.0</td>\n",
       "      <td>0.0</td>\n",
       "      <td>0.0</td>\n",
       "      <td>0.0</td>\n",
       "      <td>0.0</td>\n",
       "      <td>0.0</td>\n",
       "      <td>0.0</td>\n",
       "      <td>0.0</td>\n",
       "      <td>0.0</td>\n",
       "      <td>0.0</td>\n",
       "      <td>0.0</td>\n",
       "      <td>0.0</td>\n",
       "      <td>2011</td>\n",
       "      <td>2010</td>\n",
       "      <td>1.0</td>\n",
       "      <td>7.0</td>\n",
       "      <td>1.000</td>\n",
       "      <td>51.03000</td>\n",
       "      <td>0</td>\n",
       "      <td>3</td>\n",
       "      <td>0.0</td>\n",
       "      <td>0.0</td>\n",
       "      <td>0.0</td>\n",
       "      <td>0.0</td>\n",
       "      <td>2.0</td>\n",
       "      <td>2.0</td>\n",
       "      <td>0.0</td>\n",
       "      <td>4000030.0</td>\n",
       "      <td>9.287025e+06</td>\n",
       "      <td>23346</td>\n",
       "      <td>397.799405</td>\n",
       "      <td>5.0</td>\n",
       "      <td>2479000.00</td>\n",
       "      <td>3.098324e+06</td>\n",
       "      <td>5428</td>\n",
       "      <td>570.804036</td>\n",
       "      <td>0.0</td>\n",
       "      <td>4000030.0</td>\n",
       "      <td>9.306696e+06</td>\n",
       "      <td>23439</td>\n",
       "      <td>397.060266</td>\n",
       "      <td>1</td>\n",
       "      <td>0</td>\n",
       "      <td>0</td>\n",
       "      <td>0</td>\n",
       "      <td>0</td>\n",
       "      <td>1</td>\n",
       "      <td>0</td>\n",
       "      <td>0</td>\n",
       "      <td>0</td>\n",
       "      <td>0</td>\n",
       "      <td>0</td>\n",
       "      <td>0</td>\n",
       "      <td>0</td>\n",
       "      <td>0</td>\n",
       "      <td>0</td>\n",
       "      <td>0</td>\n",
       "      <td>1</td>\n",
       "      <td>0</td>\n",
       "      <td>3</td>\n",
       "      <td>3</td>\n",
       "      <td>3.000000</td>\n",
       "      <td>0.0</td>\n",
       "      <td>0</td>\n",
       "      <td>0.996815</td>\n",
       "      <td>9</td>\n",
       "    </tr>\n",
       "    <tr>\n",
       "      <th>6888</th>\n",
       "      <td>15384</td>\n",
       "      <td>115385</td>\n",
       "      <td>8210.0</td>\n",
       "      <td>0</td>\n",
       "      <td>1951-03-19</td>\n",
       "      <td>1951</td>\n",
       "      <td>57</td>\n",
       "      <td>50</td>\n",
       "      <td>51.000</td>\n",
       "      <td>51.000</td>\n",
       "      <td>51.000</td>\n",
       "      <td>1.0</td>\n",
       "      <td>51.000000</td>\n",
       "      <td>0.0</td>\n",
       "      <td>0.0</td>\n",
       "      <td>0.0</td>\n",
       "      <td>0.0</td>\n",
       "      <td>0.0</td>\n",
       "      <td>0.0</td>\n",
       "      <td>0.0</td>\n",
       "      <td>0.0</td>\n",
       "      <td>0.0</td>\n",
       "      <td>0.0</td>\n",
       "      <td>0.0</td>\n",
       "      <td>0.0</td>\n",
       "      <td>0.0</td>\n",
       "      <td>0.0</td>\n",
       "      <td>0.0</td>\n",
       "      <td>0.0</td>\n",
       "      <td>0.0</td>\n",
       "      <td>0.0</td>\n",
       "      <td>0.0</td>\n",
       "      <td>0.0</td>\n",
       "      <td>0.0</td>\n",
       "      <td>0.0</td>\n",
       "      <td>0.0</td>\n",
       "      <td>0.0</td>\n",
       "      <td>0.0</td>\n",
       "      <td>0.0</td>\n",
       "      <td>0.0</td>\n",
       "      <td>0.0</td>\n",
       "      <td>0.0</td>\n",
       "      <td>0.0</td>\n",
       "      <td>0.0</td>\n",
       "      <td>0.0</td>\n",
       "      <td>0.0</td>\n",
       "      <td>0.0</td>\n",
       "      <td>0.0</td>\n",
       "      <td>0.0</td>\n",
       "      <td>0.0</td>\n",
       "      <td>0.0</td>\n",
       "      <td>2010</td>\n",
       "      <td>2010</td>\n",
       "      <td>0.0</td>\n",
       "      <td>8.0</td>\n",
       "      <td>1.000</td>\n",
       "      <td>51.00000</td>\n",
       "      <td>0</td>\n",
       "      <td>3</td>\n",
       "      <td>0.0</td>\n",
       "      <td>0.0</td>\n",
       "      <td>0.0</td>\n",
       "      <td>0.0</td>\n",
       "      <td>1.0</td>\n",
       "      <td>1.0</td>\n",
       "      <td>0.0</td>\n",
       "      <td>4000030.0</td>\n",
       "      <td>9.287025e+06</td>\n",
       "      <td>23346</td>\n",
       "      <td>397.799405</td>\n",
       "      <td>5.0</td>\n",
       "      <td>9697.81</td>\n",
       "      <td>7.170236e+05</td>\n",
       "      <td>5241</td>\n",
       "      <td>136.810449</td>\n",
       "      <td>0.0</td>\n",
       "      <td>4000030.0</td>\n",
       "      <td>9.306696e+06</td>\n",
       "      <td>23439</td>\n",
       "      <td>397.060266</td>\n",
       "      <td>1</td>\n",
       "      <td>0</td>\n",
       "      <td>0</td>\n",
       "      <td>0</td>\n",
       "      <td>0</td>\n",
       "      <td>0</td>\n",
       "      <td>0</td>\n",
       "      <td>0</td>\n",
       "      <td>0</td>\n",
       "      <td>0</td>\n",
       "      <td>0</td>\n",
       "      <td>0</td>\n",
       "      <td>0</td>\n",
       "      <td>0</td>\n",
       "      <td>1</td>\n",
       "      <td>0</td>\n",
       "      <td>1</td>\n",
       "      <td>0</td>\n",
       "      <td>4</td>\n",
       "      <td>1</td>\n",
       "      <td>2.666667</td>\n",
       "      <td>0.0</td>\n",
       "      <td>0</td>\n",
       "      <td>0.974456</td>\n",
       "      <td>9</td>\n",
       "    </tr>\n",
       "    <tr>\n",
       "      <th>2881</th>\n",
       "      <td>6346</td>\n",
       "      <td>106347</td>\n",
       "      <td>8300.0</td>\n",
       "      <td>0</td>\n",
       "      <td>1921-06-19</td>\n",
       "      <td>1921</td>\n",
       "      <td>87</td>\n",
       "      <td>80</td>\n",
       "      <td>13.629</td>\n",
       "      <td>13.629</td>\n",
       "      <td>95.403</td>\n",
       "      <td>7.0</td>\n",
       "      <td>13.629000</td>\n",
       "      <td>0.0</td>\n",
       "      <td>0.0</td>\n",
       "      <td>0.0</td>\n",
       "      <td>0.0</td>\n",
       "      <td>0.0</td>\n",
       "      <td>0.0</td>\n",
       "      <td>0.0</td>\n",
       "      <td>0.0</td>\n",
       "      <td>0.0</td>\n",
       "      <td>0.0</td>\n",
       "      <td>0.0</td>\n",
       "      <td>0.0</td>\n",
       "      <td>0.0</td>\n",
       "      <td>0.0</td>\n",
       "      <td>0.0</td>\n",
       "      <td>0.0</td>\n",
       "      <td>0.0</td>\n",
       "      <td>0.0</td>\n",
       "      <td>0.0</td>\n",
       "      <td>0.0</td>\n",
       "      <td>0.0</td>\n",
       "      <td>0.0</td>\n",
       "      <td>0.0</td>\n",
       "      <td>0.0</td>\n",
       "      <td>0.0</td>\n",
       "      <td>0.0</td>\n",
       "      <td>0.0</td>\n",
       "      <td>0.0</td>\n",
       "      <td>0.0</td>\n",
       "      <td>0.0</td>\n",
       "      <td>0.0</td>\n",
       "      <td>0.0</td>\n",
       "      <td>0.0</td>\n",
       "      <td>0.0</td>\n",
       "      <td>0.0</td>\n",
       "      <td>0.0</td>\n",
       "      <td>0.0</td>\n",
       "      <td>0.0</td>\n",
       "      <td>2008</td>\n",
       "      <td>2005</td>\n",
       "      <td>3.0</td>\n",
       "      <td>10.0</td>\n",
       "      <td>1.750</td>\n",
       "      <td>23.85075</td>\n",
       "      <td>0</td>\n",
       "      <td>3</td>\n",
       "      <td>0.0</td>\n",
       "      <td>7.0</td>\n",
       "      <td>0.0</td>\n",
       "      <td>0.0</td>\n",
       "      <td>0.0</td>\n",
       "      <td>7.0</td>\n",
       "      <td>0.0</td>\n",
       "      <td>4000030.0</td>\n",
       "      <td>9.287025e+06</td>\n",
       "      <td>23346</td>\n",
       "      <td>397.799405</td>\n",
       "      <td>5.0</td>\n",
       "      <td>9697.81</td>\n",
       "      <td>7.170236e+05</td>\n",
       "      <td>5241</td>\n",
       "      <td>136.810449</td>\n",
       "      <td>0.0</td>\n",
       "      <td>4000030.0</td>\n",
       "      <td>9.306696e+06</td>\n",
       "      <td>23439</td>\n",
       "      <td>397.060266</td>\n",
       "      <td>1</td>\n",
       "      <td>0</td>\n",
       "      <td>0</td>\n",
       "      <td>0</td>\n",
       "      <td>0</td>\n",
       "      <td>0</td>\n",
       "      <td>0</td>\n",
       "      <td>0</td>\n",
       "      <td>0</td>\n",
       "      <td>0</td>\n",
       "      <td>0</td>\n",
       "      <td>0</td>\n",
       "      <td>0</td>\n",
       "      <td>0</td>\n",
       "      <td>1</td>\n",
       "      <td>0</td>\n",
       "      <td>1</td>\n",
       "      <td>0</td>\n",
       "      <td>5</td>\n",
       "      <td>5</td>\n",
       "      <td>4.333333</td>\n",
       "      <td>80.0</td>\n",
       "      <td>1</td>\n",
       "      <td>0.974418</td>\n",
       "      <td>9</td>\n",
       "    </tr>\n",
       "    <tr>\n",
       "      <th>15701</th>\n",
       "      <td>28990</td>\n",
       "      <td>128991</td>\n",
       "      <td>8780.0</td>\n",
       "      <td>0</td>\n",
       "      <td>1959-03-01</td>\n",
       "      <td>1959</td>\n",
       "      <td>49</td>\n",
       "      <td>40</td>\n",
       "      <td>51.000</td>\n",
       "      <td>51.000</td>\n",
       "      <td>51.000</td>\n",
       "      <td>1.0</td>\n",
       "      <td>51.000000</td>\n",
       "      <td>0.0</td>\n",
       "      <td>0.0</td>\n",
       "      <td>0.0</td>\n",
       "      <td>0.0</td>\n",
       "      <td>0.0</td>\n",
       "      <td>0.0</td>\n",
       "      <td>0.0</td>\n",
       "      <td>0.0</td>\n",
       "      <td>0.0</td>\n",
       "      <td>0.0</td>\n",
       "      <td>0.0</td>\n",
       "      <td>0.0</td>\n",
       "      <td>0.0</td>\n",
       "      <td>0.0</td>\n",
       "      <td>0.0</td>\n",
       "      <td>0.0</td>\n",
       "      <td>0.0</td>\n",
       "      <td>0.0</td>\n",
       "      <td>0.0</td>\n",
       "      <td>0.0</td>\n",
       "      <td>0.0</td>\n",
       "      <td>0.0</td>\n",
       "      <td>0.0</td>\n",
       "      <td>0.0</td>\n",
       "      <td>0.0</td>\n",
       "      <td>0.0</td>\n",
       "      <td>0.0</td>\n",
       "      <td>0.0</td>\n",
       "      <td>0.0</td>\n",
       "      <td>0.0</td>\n",
       "      <td>0.0</td>\n",
       "      <td>0.0</td>\n",
       "      <td>0.0</td>\n",
       "      <td>0.0</td>\n",
       "      <td>0.0</td>\n",
       "      <td>0.0</td>\n",
       "      <td>0.0</td>\n",
       "      <td>0.0</td>\n",
       "      <td>2010</td>\n",
       "      <td>2010</td>\n",
       "      <td>0.0</td>\n",
       "      <td>8.0</td>\n",
       "      <td>1.000</td>\n",
       "      <td>51.00000</td>\n",
       "      <td>0</td>\n",
       "      <td>3</td>\n",
       "      <td>0.0</td>\n",
       "      <td>0.0</td>\n",
       "      <td>0.0</td>\n",
       "      <td>0.0</td>\n",
       "      <td>1.0</td>\n",
       "      <td>1.0</td>\n",
       "      <td>0.0</td>\n",
       "      <td>4000030.0</td>\n",
       "      <td>9.287025e+06</td>\n",
       "      <td>23346</td>\n",
       "      <td>397.799405</td>\n",
       "      <td>5.0</td>\n",
       "      <td>9697.81</td>\n",
       "      <td>7.170236e+05</td>\n",
       "      <td>5241</td>\n",
       "      <td>136.810449</td>\n",
       "      <td>0.0</td>\n",
       "      <td>4000030.0</td>\n",
       "      <td>9.306696e+06</td>\n",
       "      <td>23439</td>\n",
       "      <td>397.060266</td>\n",
       "      <td>1</td>\n",
       "      <td>0</td>\n",
       "      <td>0</td>\n",
       "      <td>0</td>\n",
       "      <td>0</td>\n",
       "      <td>0</td>\n",
       "      <td>0</td>\n",
       "      <td>0</td>\n",
       "      <td>0</td>\n",
       "      <td>0</td>\n",
       "      <td>0</td>\n",
       "      <td>0</td>\n",
       "      <td>0</td>\n",
       "      <td>0</td>\n",
       "      <td>1</td>\n",
       "      <td>0</td>\n",
       "      <td>1</td>\n",
       "      <td>0</td>\n",
       "      <td>4</td>\n",
       "      <td>1</td>\n",
       "      <td>2.666667</td>\n",
       "      <td>0.0</td>\n",
       "      <td>0</td>\n",
       "      <td>0.955687</td>\n",
       "      <td>9</td>\n",
       "    </tr>\n",
       "    <tr>\n",
       "      <th>430</th>\n",
       "      <td>1056</td>\n",
       "      <td>101057</td>\n",
       "      <td>2200.0</td>\n",
       "      <td>0</td>\n",
       "      <td>1938-04-20</td>\n",
       "      <td>1938</td>\n",
       "      <td>70</td>\n",
       "      <td>70</td>\n",
       "      <td>7.440</td>\n",
       "      <td>64.450</td>\n",
       "      <td>431.960</td>\n",
       "      <td>17.0</td>\n",
       "      <td>25.409412</td>\n",
       "      <td>0.0</td>\n",
       "      <td>0.0</td>\n",
       "      <td>0.0</td>\n",
       "      <td>0.0</td>\n",
       "      <td>0.0</td>\n",
       "      <td>0.0</td>\n",
       "      <td>0.0</td>\n",
       "      <td>0.0</td>\n",
       "      <td>0.0</td>\n",
       "      <td>0.0</td>\n",
       "      <td>0.0</td>\n",
       "      <td>0.0</td>\n",
       "      <td>0.0</td>\n",
       "      <td>0.0</td>\n",
       "      <td>0.0</td>\n",
       "      <td>0.0</td>\n",
       "      <td>0.0</td>\n",
       "      <td>0.0</td>\n",
       "      <td>0.0</td>\n",
       "      <td>0.0</td>\n",
       "      <td>0.0</td>\n",
       "      <td>0.0</td>\n",
       "      <td>0.0</td>\n",
       "      <td>0.0</td>\n",
       "      <td>0.0</td>\n",
       "      <td>0.0</td>\n",
       "      <td>0.0</td>\n",
       "      <td>0.0</td>\n",
       "      <td>0.0</td>\n",
       "      <td>0.0</td>\n",
       "      <td>0.0</td>\n",
       "      <td>0.0</td>\n",
       "      <td>0.0</td>\n",
       "      <td>0.0</td>\n",
       "      <td>0.0</td>\n",
       "      <td>0.0</td>\n",
       "      <td>0.0</td>\n",
       "      <td>0.0</td>\n",
       "      <td>2012</td>\n",
       "      <td>2005</td>\n",
       "      <td>7.0</td>\n",
       "      <td>6.0</td>\n",
       "      <td>2.125</td>\n",
       "      <td>53.99500</td>\n",
       "      <td>0</td>\n",
       "      <td>4</td>\n",
       "      <td>1.0</td>\n",
       "      <td>13.0</td>\n",
       "      <td>0.0</td>\n",
       "      <td>0.0</td>\n",
       "      <td>3.0</td>\n",
       "      <td>17.0</td>\n",
       "      <td>0.0</td>\n",
       "      <td>4000030.0</td>\n",
       "      <td>9.287025e+06</td>\n",
       "      <td>23346</td>\n",
       "      <td>397.799405</td>\n",
       "      <td>5.0</td>\n",
       "      <td>4000030.00</td>\n",
       "      <td>4.699096e+06</td>\n",
       "      <td>5831</td>\n",
       "      <td>805.881640</td>\n",
       "      <td>0.0</td>\n",
       "      <td>4000030.0</td>\n",
       "      <td>9.306696e+06</td>\n",
       "      <td>23439</td>\n",
       "      <td>397.060266</td>\n",
       "      <td>1</td>\n",
       "      <td>0</td>\n",
       "      <td>0</td>\n",
       "      <td>1</td>\n",
       "      <td>0</td>\n",
       "      <td>0</td>\n",
       "      <td>0</td>\n",
       "      <td>0</td>\n",
       "      <td>0</td>\n",
       "      <td>0</td>\n",
       "      <td>0</td>\n",
       "      <td>0</td>\n",
       "      <td>0</td>\n",
       "      <td>0</td>\n",
       "      <td>0</td>\n",
       "      <td>0</td>\n",
       "      <td>1</td>\n",
       "      <td>0</td>\n",
       "      <td>3</td>\n",
       "      <td>5</td>\n",
       "      <td>4.000000</td>\n",
       "      <td>0.0</td>\n",
       "      <td>0</td>\n",
       "      <td>0.948906</td>\n",
       "      <td>9</td>\n",
       "    </tr>\n",
       "  </tbody>\n",
       "</table>\n",
       "</div>"
      ],
      "text/plain": [
       "       Unnamed: 0  donorID  zipcode  gender dateOfBirth  birth_year  age  \\\n",
       "14803       27656   127657   9690.0       0  1927-10-23        1927   81   \n",
       "6888        15384   115385   8210.0       0  1951-03-19        1951   57   \n",
       "2881         6346   106347   8300.0       0  1921-06-19        1921   87   \n",
       "15701       28990   128991   8780.0       0  1959-03-01        1959   49   \n",
       "430          1056   101057   2200.0       0  1938-04-20        1938   70   \n",
       "\n",
       "       age_group  min_donation_per_donor  max_donation_per_donor  \\\n",
       "14803         80                  45.400                  56.660   \n",
       "6888          50                  51.000                  51.000   \n",
       "2881          80                  13.629                  13.629   \n",
       "15701         40                  51.000                  51.000   \n",
       "430           70                   7.440                  64.450   \n",
       "\n",
       "       total_donations_per_donor  total_donation_times  \\\n",
       "14803                    102.060                   2.0   \n",
       "6888                      51.000                   1.0   \n",
       "2881                      95.403                   7.0   \n",
       "15701                     51.000                   1.0   \n",
       "430                      431.960                  17.0   \n",
       "\n",
       "       avg_donations_per_donor  3m_min_donation_per_donor  \\\n",
       "14803                51.030000                        0.0   \n",
       "6888                 51.000000                        0.0   \n",
       "2881                 13.629000                        0.0   \n",
       "15701                51.000000                        0.0   \n",
       "430                  25.409412                        0.0   \n",
       "\n",
       "       3m_max_donation_per_donor  3m_total_donations_per_donor  \\\n",
       "14803                        0.0                           0.0   \n",
       "6888                         0.0                           0.0   \n",
       "2881                         0.0                           0.0   \n",
       "15701                        0.0                           0.0   \n",
       "430                          0.0                           0.0   \n",
       "\n",
       "       3m_total_donation_times  3m_avg_donations_per_donor  \\\n",
       "14803                      0.0                         0.0   \n",
       "6888                       0.0                         0.0   \n",
       "2881                       0.0                         0.0   \n",
       "15701                      0.0                         0.0   \n",
       "430                        0.0                         0.0   \n",
       "\n",
       "       6m_min_donation_donor  6m_max_donation_per_donor  \\\n",
       "14803                    0.0                        0.0   \n",
       "6888                     0.0                        0.0   \n",
       "2881                     0.0                        0.0   \n",
       "15701                    0.0                        0.0   \n",
       "430                      0.0                        0.0   \n",
       "\n",
       "       6m_total_donations_per_donor  6m_total_donation_times  \\\n",
       "14803                           0.0                      0.0   \n",
       "6888                            0.0                      0.0   \n",
       "2881                            0.0                      0.0   \n",
       "15701                           0.0                      0.0   \n",
       "430                             0.0                      0.0   \n",
       "\n",
       "       6m_avg_donations_per_donor  9m_min_donation_donor  \\\n",
       "14803                         0.0                    0.0   \n",
       "6888                          0.0                    0.0   \n",
       "2881                          0.0                    0.0   \n",
       "15701                         0.0                    0.0   \n",
       "430                           0.0                    0.0   \n",
       "\n",
       "       9m_max_donation_per_donor  9m_total_donations_per_donor  \\\n",
       "14803                        0.0                           0.0   \n",
       "6888                         0.0                           0.0   \n",
       "2881                         0.0                           0.0   \n",
       "15701                        0.0                           0.0   \n",
       "430                          0.0                           0.0   \n",
       "\n",
       "       9m_total_donation_times  9m_avg_donations_per_donor  \\\n",
       "14803                      0.0                         0.0   \n",
       "6888                       0.0                         0.0   \n",
       "2881                       0.0                         0.0   \n",
       "15701                      0.0                         0.0   \n",
       "430                        0.0                         0.0   \n",
       "\n",
       "       yr_min_donation_donor  yr_max_donation_per_donor  \\\n",
       "14803                    0.0                        0.0   \n",
       "6888                     0.0                        0.0   \n",
       "2881                     0.0                        0.0   \n",
       "15701                    0.0                        0.0   \n",
       "430                      0.0                        0.0   \n",
       "\n",
       "       yr_total_donations_per_donor  yr_total_donation_times  \\\n",
       "14803                           0.0                      0.0   \n",
       "6888                            0.0                      0.0   \n",
       "2881                            0.0                      0.0   \n",
       "15701                           0.0                      0.0   \n",
       "430                             0.0                      0.0   \n",
       "\n",
       "       yr_avg_donations_per_donor  2yr_min_donation_donor  \\\n",
       "14803                         0.0                     0.0   \n",
       "6888                          0.0                     0.0   \n",
       "2881                          0.0                     0.0   \n",
       "15701                         0.0                     0.0   \n",
       "430                           0.0                     0.0   \n",
       "\n",
       "       2yr_max_donation_per_donor  2yr_total_donations_per_donor  \\\n",
       "14803                         0.0                            0.0   \n",
       "6888                          0.0                            0.0   \n",
       "2881                          0.0                            0.0   \n",
       "15701                         0.0                            0.0   \n",
       "430                           0.0                            0.0   \n",
       "\n",
       "       2yr_total_donation_times  2yr_avg_donations_per_donor  \\\n",
       "14803                       0.0                          0.0   \n",
       "6888                        0.0                          0.0   \n",
       "2881                        0.0                          0.0   \n",
       "15701                       0.0                          0.0   \n",
       "430                         0.0                          0.0   \n",
       "\n",
       "       3yr_min_donation_donor  3yr_max_donation_per_donor  \\\n",
       "14803                     0.0                         0.0   \n",
       "6888                      0.0                         0.0   \n",
       "2881                      0.0                         0.0   \n",
       "15701                     0.0                         0.0   \n",
       "430                       0.0                         0.0   \n",
       "\n",
       "       3yr_total_donations_per_donor  3yr_total_donation_times  \\\n",
       "14803                            0.0                       0.0   \n",
       "6888                             0.0                       0.0   \n",
       "2881                             0.0                       0.0   \n",
       "15701                            0.0                       0.0   \n",
       "430                              0.0                       0.0   \n",
       "\n",
       "       3yr_avg_donations_per_donor  3m_6m_amt_diff  3m_6m_count_diff  \\\n",
       "14803                          0.0             0.0               0.0   \n",
       "6888                           0.0             0.0               0.0   \n",
       "2881                           0.0             0.0               0.0   \n",
       "15701                          0.0             0.0               0.0   \n",
       "430                            0.0             0.0               0.0   \n",
       "\n",
       "       6m_9m_amt_diff  6m_9m_count_diff  9m_yr_amt_diff  9m_yr_count_diff  \\\n",
       "14803             0.0               0.0             0.0               0.0   \n",
       "6888              0.0               0.0             0.0               0.0   \n",
       "2881              0.0               0.0             0.0               0.0   \n",
       "15701             0.0               0.0             0.0               0.0   \n",
       "430               0.0               0.0             0.0               0.0   \n",
       "\n",
       "       2yr_yr_amt_diff  3yr_2yr_amt_diff  max_year  min_year  year_diff  \\\n",
       "14803              0.0               0.0      2011      2010        1.0   \n",
       "6888               0.0               0.0      2010      2010        0.0   \n",
       "2881               0.0               0.0      2008      2005        3.0   \n",
       "15701              0.0               0.0      2010      2010        0.0   \n",
       "430                0.0               0.0      2012      2005        7.0   \n",
       "\n",
       "       recency  donations_count_per_period  donations_amount_per_period  \\\n",
       "14803      7.0                       1.000                     51.03000   \n",
       "6888       8.0                       1.000                     51.00000   \n",
       "2881      10.0                       1.750                     23.85075   \n",
       "15701      8.0                       1.000                     51.00000   \n",
       "430        6.0                       2.125                     53.99500   \n",
       "\n",
       "       exceptional_donor  donating_amt_rank  donations_1st_qtl_count  \\\n",
       "14803                  0                  3                      0.0   \n",
       "6888                   0                  3                      0.0   \n",
       "2881                   0                  3                      0.0   \n",
       "15701                  0                  3                      0.0   \n",
       "430                    0                  4                      1.0   \n",
       "\n",
       "       donations_2nd_qtl_count  donations_3rd_qtl_count  \\\n",
       "14803                      0.0                      0.0   \n",
       "6888                       0.0                      0.0   \n",
       "2881                       7.0                      0.0   \n",
       "15701                      0.0                      0.0   \n",
       "430                       13.0                      0.0   \n",
       "\n",
       "       donations_4th_qtl_count  donations_5th_qtl_count  nbr_of_campaigns  \\\n",
       "14803                      0.0                      2.0               2.0   \n",
       "6888                       0.0                      1.0               1.0   \n",
       "2881                       0.0                      0.0               7.0   \n",
       "15701                      0.0                      1.0               1.0   \n",
       "430                        0.0                      3.0              17.0   \n",
       "\n",
       "       min_donation_per_lang  max_donation_per_lang  total_donations_per_lang  \\\n",
       "14803                    0.0              4000030.0              9.287025e+06   \n",
       "6888                     0.0              4000030.0              9.287025e+06   \n",
       "2881                     0.0              4000030.0              9.287025e+06   \n",
       "15701                    0.0              4000030.0              9.287025e+06   \n",
       "430                      0.0              4000030.0              9.287025e+06   \n",
       "\n",
       "       total_donation_lang  avg_donations_lang  min_donation_per_province  \\\n",
       "14803                23346          397.799405                        5.0   \n",
       "6888                 23346          397.799405                        5.0   \n",
       "2881                 23346          397.799405                        5.0   \n",
       "15701                23346          397.799405                        5.0   \n",
       "430                  23346          397.799405                        5.0   \n",
       "\n",
       "       max_donation_per_province  total_donations_per_province  \\\n",
       "14803                 2479000.00                  3.098324e+06   \n",
       "6888                     9697.81                  7.170236e+05   \n",
       "2881                     9697.81                  7.170236e+05   \n",
       "15701                    9697.81                  7.170236e+05   \n",
       "430                   4000030.00                  4.699096e+06   \n",
       "\n",
       "       total_donation_province  avg_donations_province  \\\n",
       "14803                     5428              570.804036   \n",
       "6888                      5241              136.810449   \n",
       "2881                      5241              136.810449   \n",
       "15701                     5241              136.810449   \n",
       "430                       5831              805.881640   \n",
       "\n",
       "       min_donation_per_region  max_donation_per_region  \\\n",
       "14803                      0.0                4000030.0   \n",
       "6888                       0.0                4000030.0   \n",
       "2881                       0.0                4000030.0   \n",
       "15701                      0.0                4000030.0   \n",
       "430                        0.0                4000030.0   \n",
       "\n",
       "       total_donations_per_region  count_donation_region  \\\n",
       "14803                9.306696e+06                  23439   \n",
       "6888                 9.306696e+06                  23439   \n",
       "2881                 9.306696e+06                  23439   \n",
       "15701                9.306696e+06                  23439   \n",
       "430                  9.306696e+06                  23439   \n",
       "\n",
       "       avg_donations_region  region_Flanders  region_Missing  region_Wallonia  \\\n",
       "14803            397.060266                1               0                0   \n",
       "6888             397.060266                1               0                0   \n",
       "2881             397.060266                1               0                0   \n",
       "15701            397.060266                1               0                0   \n",
       "430              397.060266                1               0                0   \n",
       "\n",
       "       province_Antwerp  province_Brussels  province_East Flanders  \\\n",
       "14803                 0                  0                       1   \n",
       "6888                  0                  0                       0   \n",
       "2881                  0                  0                       0   \n",
       "15701                 0                  0                       0   \n",
       "430                   1                  0                       0   \n",
       "\n",
       "       province_Flemish Brabant  province_Hainaut  province_Liege  \\\n",
       "14803                         0                 0               0   \n",
       "6888                          0                 0               0   \n",
       "2881                          0                 0               0   \n",
       "15701                         0                 0               0   \n",
       "430                           0                 0               0   \n",
       "\n",
       "       province_Limburg  province_Luxembourg  province_Missing  \\\n",
       "14803                 0                    0                 0   \n",
       "6888                  0                    0                 0   \n",
       "2881                  0                    0                 0   \n",
       "15701                 0                    0                 0   \n",
       "430                   0                    0                 0   \n",
       "\n",
       "       province_Namur  province_Walloon Brabant  province_West Flanders  \\\n",
       "14803               0                         0                       0   \n",
       "6888                0                         0                       1   \n",
       "2881                0                         0                       1   \n",
       "15701               0                         0                       1   \n",
       "430                 0                         0                       0   \n",
       "\n",
       "       language_FR  language_NL  more_than_once_in_a_campaign  recency_categ  \\\n",
       "14803            0            1                             0              3   \n",
       "6888             0            1                             0              4   \n",
       "2881             0            1                             0              5   \n",
       "15701            0            1                             0              4   \n",
       "430              0            1                             0              3   \n",
       "\n",
       "       freq_rank  donor_rank  amt_campaign_7244  7244_donor  predicted_proba  \\\n",
       "14803          3    3.000000                0.0           0         0.996815   \n",
       "6888           1    2.666667                0.0           0         0.974456   \n",
       "2881           5    4.333333               80.0           1         0.974418   \n",
       "15701          1    2.666667                0.0           0         0.955687   \n",
       "430            5    4.000000                0.0           0         0.948906   \n",
       "\n",
       "       decile_rank  \n",
       "14803            9  \n",
       "6888             9  \n",
       "2881             9  \n",
       "15701            9  \n",
       "430              9  "
      ]
     },
     "execution_count": 379,
     "metadata": {},
     "output_type": "execute_result"
    }
   ],
   "source": [
    "pd.set_option(\"display.max_columns\", None)\n",
    "base_table_sorted.head()"
   ]
  },
  {
   "cell_type": "code",
   "execution_count": 380,
   "id": "4b96002b",
   "metadata": {},
   "outputs": [],
   "source": [
    "decile_values = base_table_sorted.groupby('decile_rank')['predicted_proba'].agg(['min','max', 'count'])"
   ]
  },
  {
   "cell_type": "code",
   "execution_count": 381,
   "id": "785bb0ec",
   "metadata": {},
   "outputs": [],
   "source": [
    "decile_values = decile_values.sort_values(by=\"decile_rank\", ascending= False)"
   ]
  },
  {
   "cell_type": "code",
   "execution_count": 382,
   "id": "be018273",
   "metadata": {},
   "outputs": [],
   "source": [
    "decile_values = decile_values.reset_index()"
   ]
  },
  {
   "cell_type": "code",
   "execution_count": 383,
   "id": "8b8ba451",
   "metadata": {},
   "outputs": [
    {
     "data": {
      "text/html": [
       "<div>\n",
       "<style scoped>\n",
       "    .dataframe tbody tr th:only-of-type {\n",
       "        vertical-align: middle;\n",
       "    }\n",
       "\n",
       "    .dataframe tbody tr th {\n",
       "        vertical-align: top;\n",
       "    }\n",
       "\n",
       "    .dataframe thead th {\n",
       "        text-align: right;\n",
       "    }\n",
       "</style>\n",
       "<table border=\"1\" class=\"dataframe\">\n",
       "  <thead>\n",
       "    <tr style=\"text-align: right;\">\n",
       "      <th></th>\n",
       "      <th>decile_rank</th>\n",
       "      <th>min</th>\n",
       "      <th>max</th>\n",
       "      <th>count</th>\n",
       "    </tr>\n",
       "  </thead>\n",
       "  <tbody>\n",
       "    <tr>\n",
       "      <th>0</th>\n",
       "      <td>9</td>\n",
       "      <td>0.021763</td>\n",
       "      <td>0.996815</td>\n",
       "      <td>2565</td>\n",
       "    </tr>\n",
       "    <tr>\n",
       "      <th>1</th>\n",
       "      <td>8</td>\n",
       "      <td>0.009988</td>\n",
       "      <td>0.021761</td>\n",
       "      <td>2564</td>\n",
       "    </tr>\n",
       "    <tr>\n",
       "      <th>2</th>\n",
       "      <td>7</td>\n",
       "      <td>0.006235</td>\n",
       "      <td>0.009978</td>\n",
       "      <td>2563</td>\n",
       "    </tr>\n",
       "    <tr>\n",
       "      <th>3</th>\n",
       "      <td>6</td>\n",
       "      <td>0.004292</td>\n",
       "      <td>0.006234</td>\n",
       "      <td>2566</td>\n",
       "    </tr>\n",
       "    <tr>\n",
       "      <th>4</th>\n",
       "      <td>5</td>\n",
       "      <td>0.003126</td>\n",
       "      <td>0.004291</td>\n",
       "      <td>2562</td>\n",
       "    </tr>\n",
       "    <tr>\n",
       "      <th>5</th>\n",
       "      <td>4</td>\n",
       "      <td>0.002353</td>\n",
       "      <td>0.003125</td>\n",
       "      <td>2557</td>\n",
       "    </tr>\n",
       "    <tr>\n",
       "      <th>6</th>\n",
       "      <td>3</td>\n",
       "      <td>0.001804</td>\n",
       "      <td>0.002353</td>\n",
       "      <td>2574</td>\n",
       "    </tr>\n",
       "    <tr>\n",
       "      <th>7</th>\n",
       "      <td>2</td>\n",
       "      <td>0.001349</td>\n",
       "      <td>0.001803</td>\n",
       "      <td>2565</td>\n",
       "    </tr>\n",
       "    <tr>\n",
       "      <th>8</th>\n",
       "      <td>1</td>\n",
       "      <td>0.000969</td>\n",
       "      <td>0.001348</td>\n",
       "      <td>2557</td>\n",
       "    </tr>\n",
       "    <tr>\n",
       "      <th>9</th>\n",
       "      <td>0</td>\n",
       "      <td>0.000170</td>\n",
       "      <td>0.000969</td>\n",
       "      <td>2572</td>\n",
       "    </tr>\n",
       "  </tbody>\n",
       "</table>\n",
       "</div>"
      ],
      "text/plain": [
       "   decile_rank       min       max  count\n",
       "0            9  0.021763  0.996815   2565\n",
       "1            8  0.009988  0.021761   2564\n",
       "2            7  0.006235  0.009978   2563\n",
       "3            6  0.004292  0.006234   2566\n",
       "4            5  0.003126  0.004291   2562\n",
       "5            4  0.002353  0.003125   2557\n",
       "6            3  0.001804  0.002353   2574\n",
       "7            2  0.001349  0.001803   2565\n",
       "8            1  0.000969  0.001348   2557\n",
       "9            0  0.000170  0.000969   2572"
      ]
     },
     "execution_count": 383,
     "metadata": {},
     "output_type": "execute_result"
    }
   ],
   "source": [
    "decile_values"
   ]
  },
  {
   "cell_type": "markdown",
   "id": "29a39da4",
   "metadata": {},
   "source": [
    "## Business Case"
   ]
  },
  {
   "cell_type": "code",
   "execution_count": 384,
   "id": "6e008c94",
   "metadata": {},
   "outputs": [],
   "source": [
    "total_donors = 0\n",
    "total_count = 0\n",
    "total_sum_donation = 0\n",
    "letter_cost = 0.80\n",
    "random_response = (217/25645) # Total donors over total campaign potential donors\n",
    "# Range up to 9 (deciles)\n",
    "for decile in range(0,10):\n",
    "    # Get decile by index\n",
    "    decile_rank = decile_values[\"decile_rank\"][decile]\n",
    "    # Calculating donors in each decile\n",
    "    decile_donors_df = base_table_sorted[(base_table_sorted.decile_rank == decile_rank) & base_table_sorted[\"7244_donor\"] == 1 ]\n",
    "    # Get total donors per decile\n",
    "    decile_donors = len(decile_donors_df)\n",
    "    # Cumulative donors through deciles\n",
    "    total_donors = total_donors + decile_donors\n",
    "    # Cumulative count through deciles\n",
    "    total_count = total_count + decile_values[\"count\"][decile]\n",
    "    # Assigning values to columns\n",
    "    decile_values.loc[decile_values[\"decile_rank\"] == decile_rank, \"decile_donors\"]= decile_donors\n",
    "    decile_values.loc[decile_values[\"decile_rank\"] == decile_rank, \"total_donors\"]= total_donors\n",
    "    decile_values.loc[decile_values[\"decile_rank\"] == decile_rank, \"total_count\"]= total_count\n",
    "    # Response with current campaign\n",
    "    decile_values.loc[decile_values[\"decile_rank\"] == decile_rank, \"response\"]= total_donors/total_count\n",
    "    decile_values.loc[decile_values[\"decile_rank\"] == decile_rank, \"random_response\"]= random_response\n",
    "\n",
    "    # Sum of donations per decile\n",
    "    sum_donations_per_decile = decile_donors_df[\"amt_campaign_7244\"].sum()\n",
    "    # Cumulative sum through donations\n",
    "    total_sum_donation = total_sum_donation + sum_donations_per_decile\n",
    "    # Avg donations over donors\n",
    "    avg_donation_amt = total_sum_donation/total_donors\n",
    "    decile_values.loc[decile_values[\"decile_rank\"] == decile_rank, \"avg_donation_amt\"]= avg_donation_amt\n",
    "    # Cost = cost*count of target\n",
    "    decile_cost = total_count*letter_cost\n",
    "    decile_values.loc[decile_values[\"decile_rank\"] == decile_rank, \"decile_cost\"] = decile_cost\n",
    "    # Income = donors * avg amount per decile\n",
    "    decile_income = total_donors*avg_donation_amt\n",
    "    decile_values.loc[decile_values[\"decile_rank\"] == decile_rank, \"decile_income\"] = decile_income\n",
    "    # Real profit is what the current campaign contributed\n",
    "    real_profit = decile_income-decile_cost\n",
    "    decile_values.loc[decile_values[\"decile_rank\"] == decile_rank, \"decile_real_profit\"] = real_profit\n",
    "    # Random campaign profit\n",
    "    random_profit = ((random_response * total_count)* avg_donation_amt) - decile_cost\n",
    "    decile_values.loc[decile_values[\"decile_rank\"] == decile_rank, \"random_profit\"] = random_profit\n",
    "    \n",
    "    # Variance between potential and real profits\n",
    "    decile_values.loc[decile_values[\"decile_rank\"] == decile_rank, \"profit_var\"] = (real_profit - random_profit)/abs(random_profit)\n",
    "# Cumulative gains in euros\n",
    "decile_values[\"profits_cumul_gains\"] = decile_values[\"decile_income\"]/decile_values[\"decile_income\"].max()"
   ]
  },
  {
   "cell_type": "code",
   "execution_count": 385,
   "id": "715a8b03",
   "metadata": {},
   "outputs": [],
   "source": [
    "decile_values.to_csv(\"./Group Project/Data Exploration/business_case_7244.csv\")"
   ]
  },
  {
   "cell_type": "markdown",
   "id": "6c241c18",
   "metadata": {},
   "source": [
    "## Campaign 7362"
   ]
  },
  {
   "cell_type": "code",
   "execution_count": 386,
   "id": "06bafe75",
   "metadata": {},
   "outputs": [],
   "source": [
    "campaign7362 = read_csv(\"./GROUP ASSIGNMENT DSC use-case-20211202/new_campaign_selection.csv\")"
   ]
  },
  {
   "cell_type": "code",
   "execution_count": 387,
   "id": "e54564b3",
   "metadata": {},
   "outputs": [],
   "source": [
    "donors_7362 = pd.merge(donors_full, campaign7362, on=\"donorID\", how=\"inner\")"
   ]
  },
  {
   "cell_type": "code",
   "execution_count": 388,
   "id": "01ba2c3e",
   "metadata": {},
   "outputs": [],
   "source": [
    "donors_7362.loc[donors_7362['gender'] == 'M','gender'] = 1\n",
    "donors_7362.loc[donors_7362['gender'] == 'F','gender'] = 0"
   ]
  },
  {
   "cell_type": "code",
   "execution_count": 389,
   "id": "0d34dc8c",
   "metadata": {},
   "outputs": [],
   "source": [
    "# Extract Date from csv\n",
    "donors_7362[\"dateOfBirth\"] = pd.to_datetime(donors_7362[\"dateOfBirth\"])\n",
    "\n",
    "# Year\n",
    "donors_7362[\"birth_year\"] = donors_7362[\"dateOfBirth\"].dt.year\n",
    "\n",
    "# Donnors Age\n",
    "donors_7362['age'] = 2008 - donors_7362[\"birth_year\"]\n",
    "\n",
    "# Age group\n",
    "donors_7362['age_group'] = donors_7362['age'] // 10 * 10\n",
    "\n",
    "gifts_train_7362 = gifts.loc[pd.to_datetime(gifts[\"date\"])<=dt.datetime(2019,12,31),:] # less than jan 1 2020\n",
    "\n",
    "\n",
    "donations_per_donor_7362 = gifts_train_7362.groupby('donorID')['amount'].agg(['min', 'max', 'sum', 'count', 'mean'])\n",
    "donations_per_donor_7362 = donations_per_donor.rename({\"min\":\"min_donation_per_donor\", \n",
    "                             \"max\":\"max_donation_per_donor\", \n",
    "                             \"sum\":\"total_donations_per_donor\", \n",
    "                             \"count\":\"total_donation_times\",\n",
    "                            \"mean\":\"avg_donations_per_donor\"}, axis=1)\n",
    "\n",
    "# Extract the donations in the last 3 months\n",
    "donations_3months_7362 = gifts_train_7362.loc[pd.to_datetime(gifts_train_7362[\"date\"])>=dt.datetime(2019,9,1),:]\n",
    "donations_donor_3months_7362 = donations_3months.groupby('donorID')['amount'].agg(['min', 'max', 'sum', 'count', 'mean'])\n",
    "donations_donor_3months_7362 = donations_donor_3months.rename({\"min\":\"3m_min_donation_per_donor\", \n",
    "                             \"max\":\"3m_max_donation_per_donor\", \n",
    "                             \"sum\":\"3m_total_donations_per_donor\", \n",
    "                             \"count\":\"3m_total_donation_times\",\n",
    "                                \"mean\":\"3m_avg_donations_per_donor\"}, axis=1)\n",
    "# Extract the donations in the last 6 months\n",
    "donations_6months_7362 = gifts_train_7362.loc[pd.to_datetime(gifts_train_7362[\"date\"])>=dt.datetime(2019,6,1),:]\n",
    "donations_donor_6months_7362 = donations_6months.groupby('donorID')['amount'].agg(['min', 'max', 'sum', 'count','mean'])\n",
    "donations_donor_6months_7362 = donations_donor_6months.rename({\"min\":\"6m_min_donation_donor\", \n",
    "                             \"max\":\"6m_max_donation_per_donor\", \n",
    "                             \"sum\":\"6m_total_donations_per_donor\", \n",
    "                             \"count\":\"6m_total_donation_times\",\n",
    "                              \"mean\": \"6m_avg_donations_per_donor\"}, axis=1)\n",
    "# Extract the donations in the last 9 months\n",
    "\n",
    "donations_9months_7362 = gifts_train_7362.loc[pd.to_datetime(gifts_train_7362[\"date\"])>=dt.datetime(2019,3,1),:]\n",
    "donations_donor_9months_7362 = donations_9months.groupby('donorID')['amount'].agg(['min', 'max', 'sum', 'count', 'mean'])\n",
    "donations_donor_9months_7362 = donations_donor_9months.rename({\"min\":\"9m_min_donation_donor\", \n",
    "                             \"max\":\"9m_max_donation_per_donor\", \n",
    "                             \"sum\":\"9m_total_donations_per_donor\", \n",
    "                             \"count\":\"9m_total_donation_times\",\n",
    "                              \"mean\":\"9m_avg_donations_per_donor\"}, axis=1)\n",
    "# Extract the donations in the last year\n",
    "\n",
    "donations_year_7362 = gifts_train_7362.loc[pd.to_datetime(gifts_train_7362[\"date\"])>=dt.datetime(2018,12,31),:]\n",
    "donations_donor_year_7362 = donations_year.groupby('donorID')['amount'].agg(['min', 'max', 'sum', 'count', 'mean'])\n",
    "donations_donor_year_7362 = donations_donor_year.rename({\"min\":\"yr_min_donation_donor\", \n",
    "                             \"max\":\"yr_max_donation_per_donor\", \n",
    "                             \"sum\":\"yr_total_donations_per_donor\", \n",
    "                             \"count\":\"yr_total_donation_times\",\n",
    "                             \"mean\":\"yr_avg_donations_per_donor\"}, axis=1)\n",
    "# Extract the donations in the last 2 years\n",
    "\n",
    "donations_donor_2year_7362 = gifts_train_7362.loc[pd.to_datetime(gifts_train_7362[\"date\"])>=dt.datetime(2017,12,31),:]\n",
    "donations_donor_2year_7362 = donations_year.groupby('donorID')['amount'].agg(['min', 'max', 'sum', 'count', 'mean'])\n",
    "donations_donor_2year_7362 = donations_donor_2year.rename({\"min\":\"2yr_min_donation_donor\", \n",
    "                             \"max\":\"2yr_max_donation_per_donor\", \n",
    "                             \"sum\":\"2yr_total_donations_per_donor\", \n",
    "                             \"count\":\"2yr_total_donation_times\",\n",
    "                             \"mean\": \"2yr_avg_donations_per_donor\"}, axis=1)\n",
    "\n",
    "# Extract the donations in the last 3 years\n",
    "\n",
    "donations_3year_7362 = gifts_train_7362.loc[pd.to_datetime(gifts_train_7362[\"date\"])>=dt.datetime(2016,12,31),:]\n",
    "donations_donor_3year_7362 = donations_year.groupby('donorID')['amount'].agg(['min', 'max', 'sum', 'count', 'mean'])\n",
    "donations_donor_3year_7362 = donations_donor_3year.rename({\"min\":\"3yr_min_donation_donor\", \n",
    "                             \"max\":\"3yr_max_donation_per_donor\", \n",
    "                             \"sum\":\"3yr_total_donations_per_donor\", \n",
    "                             \"count\":\"3yr_total_donation_times\",\n",
    "                             \"mean\":\"3yr_avg_donations_per_donor\"}, axis=1)"
   ]
  },
  {
   "cell_type": "code",
   "execution_count": 390,
   "id": "d6443c0d",
   "metadata": {},
   "outputs": [],
   "source": [
    "# Merging with total donations per donor\n",
    "base_table_7362 = pd.merge(donors_7362,donations_per_donor_7362, on=\"donorID\", how=\"left\" )\n",
    "base_table_7362.fillna(0, inplace=True)\n",
    "\n",
    "# Merging with 3 months count\n",
    "base_table_7362 = pd.merge(base_table_7362,donations_donor_3months_7362, on=\"donorID\", how=\"left\" )\n",
    "base_table_7362.fillna(0, inplace = True)\n",
    "# base_table.isna().sum()\n",
    "\n",
    "#Merging with 6 months count\n",
    "base_table_7362 = pd.merge(base_table_7362,donations_donor_6months_7362, on=\"donorID\", how=\"left\" )\n",
    "base_table_7362.fillna(0, inplace = True)\n",
    "base_table_7362.isna().sum()\n",
    "\n",
    "#Merging with 9 months count\n",
    "base_table_7362 = pd.merge(base_table_7362,donations_donor_9months_7362, on=\"donorID\", how=\"left\" )\n",
    "base_table_7362.fillna(0, inplace = True)\n",
    "base_table_7362.isna().sum()\n",
    "\n",
    "#Merging with year count\n",
    "base_table_7362 = pd.merge(base_table_7362,donations_donor_year_7362, on=\"donorID\", how=\"left\" )\n",
    "base_table_7362.fillna(0, inplace = True)\n",
    "base_table_7362.isna().sum()\n",
    "\n",
    "# Merging with 2 year count\n",
    "base_table_7362 = pd.merge(base_table_7362,donations_donor_2year_7362, on=\"donorID\", how=\"left\" )\n",
    "base_table_7362.fillna(0, inplace = True)\n",
    "base_table_7362.isna().sum()\n",
    "\n",
    "# Merging with 3 year count\n",
    "base_table_7362 = pd.merge(base_table_7362,donations_donor_3year_7362, on=\"donorID\", how=\"left\" )\n",
    "base_table_7362.fillna(0, inplace = True)\n",
    "\n",
    "\n",
    "# Amount and count difference from 3 to 6 months\n",
    "base_table_7362[\"3m_6m_amt_diff\"] = base_table_7362[\"6m_total_donations_per_donor\"] - base_table_7362[\"3m_total_donations_per_donor\"]\n",
    "base_table_7362[\"3m_6m_count_diff\"] = base_table_7362[\"6m_total_donation_times\"] - base_table_7362[\"3m_total_donation_times\"] \n",
    "# Amount and count difference from 6 to 9 months\n",
    "base_table_7362[\"6m_9m_amt_diff\"] = base_table_7362[\"9m_total_donations_per_donor\"] - base_table_7362[\"6m_total_donations_per_donor\"]\n",
    "base_table_7362[\"6m_9m_count_diff\"] = base_table_7362[\"9m_total_donation_times\"] - base_table_7362[\"6m_total_donation_times\"] \n",
    "# Amount and count difference from 9 to 12 months\n",
    "base_table_7362[\"9m_yr_amt_diff\"] = base_table_7362[\"yr_total_donations_per_donor\"] - base_table_7362[\"9m_total_donations_per_donor\"]\n",
    "base_table_7362[\"9m_yr_count_diff\"] = base_table_7362[\"yr_total_donation_times\"] - base_table_7362[\"9m_total_donation_times\"] \n",
    "# Amount and count difference from 1 to 2 years\n",
    "base_table_7362[\"2yr_yr_amt_diff\"] = base_table_7362[\"2yr_total_donations_per_donor\"] - base_table_7362[\"yr_total_donations_per_donor\"]\n",
    "base_table_7362[\"2yr_yr_amt_diff\"] = base_table_7362[\"2yr_total_donation_times\"] - base_table_7362[\"yr_total_donation_times\"] \n",
    "# Amount and count difference from 1 to 2 years\n",
    "base_table_7362[\"2yr_yr_amt_diff\"] = base_table_7362[\"3yr_total_donations_per_donor\"] - base_table_7362[\"2yr_total_donations_per_donor\"]\n",
    "base_table_7362[\"3yr_2yr_amt_diff\"] = base_table_7362[\"3yr_total_donation_times\"] - base_table_7362[\"2yr_total_donation_times\"] \n",
    "\n",
    "\n",
    "# Creating max year variable \n",
    "grouped_year = gifts_train_7362.groupby(\"donorID\")['year'].agg(['max', 'min'])\n",
    "grouped_year = grouped_year.rename({\"max\":\"max_year\", 'min':'min_year'}, axis=1)\n",
    "grouped_year['year_diff'] = grouped_year['max_year']- grouped_year['min_year']\n",
    "grouped_year['recency'] = 2018 - grouped_year['max_year']\n",
    "\n",
    "base_table_7362 = pd.merge(base_table_7362, grouped_year, on=\"donorID\", how=\"left\")\n",
    "base_table_7362.loc[base_table_7362[\"max_year\"].isna(),\"max_year\"] = 2019\n",
    "base_table_7362.loc[base_table_7362[\"min_year\"].isna(),\"min_year\"] = 2019\n",
    "base_table_7362.loc[base_table_7362[\"year_diff\"].isna(),\"year_diff\"] = 0\n",
    "base_table_7362.loc[base_table_7362[\"recency\"].isna(),\"recency\"] = 0\n",
    "base_table_7362[\"max_year\"] = base_table_7362[\"max_year\"].astype(int)\n",
    "base_table_7362[\"min_year\"] = base_table_7362[\"min_year\"].astype(int)"
   ]
  },
  {
   "cell_type": "code",
   "execution_count": 391,
   "id": "99e6cb86",
   "metadata": {},
   "outputs": [],
   "source": [
    "# Calculating average donations and amount of donations per year\n",
    "# Adding 1 to avoid division by 0\n",
    "base_table_7362['donations_count_per_period'] = base_table_7362['total_donation_times']/(base_table_7362['year_diff'].astype(int)+1)\n",
    "base_table_7362['donations_amount_per_period'] = base_table_7362['total_donations_per_donor']/(base_table_7362['year_diff'].astype(int)+1)\n",
    "\n",
    "# Ranking donor as exceptional if they have donated above the 99th percentile\n",
    "# Outliers from total donations per donor\n",
    "percentiles_dict = base_table_7362[\"total_donations_per_donor\"].quantile([0.01,0.05,0.95,0.99]).to_dict()\n",
    "upper_outliers = base_table_7362[base_table_7362[\"total_donations_per_donor\"] > percentiles_dict[0.99]][[\"donorID\",\"total_donations_per_donor\"]]\n",
    "base_table_7362[\"exceptional_donor\"] = base_table_7362[\"donorID\"].isin(upper_outliers[\"donorID\"])\n",
    "base_table_7362[\"exceptional_donor\"] = base_table_7362[\"exceptional_donor\"].replace({True:1, False:0})\n",
    "\n",
    "# Ranking donors by donor's amount quantiles\n",
    "amount_rank= base_table_7362[\"total_donations_per_donor\"].quantile([0.25,0.50,0.75]).to_dict()\n",
    "\n",
    "base_table_7362[\"donating_amt_rank\"] = 1\n",
    "base_table_7362.loc[base_table_7362[\"total_donations_per_donor\"]> amount_rank[0.25], \"donating_amt_rank\"] = 2\n",
    "base_table_7362.loc[base_table_7362[\"total_donations_per_donor\"]> amount_rank[0.5], \"donating_amt_rank\"] = 3\n",
    "base_table_7362.loc[base_table_7362[\"total_donations_per_donor\"]> amount_rank[0.75], \"donating_amt_rank\"] = 4\n",
    "base_table_7362.loc[base_table_7362[\"total_donations_per_donor\"]> percentiles_dict[0.99], \"donating_amt_rank\"] = 5\n",
    "\n",
    "\n",
    "# Creating donation ranges to check how many times a donor has donated within that range\n",
    "amount_range = gifts_train_7362[\"amount\"].quantile([0.20,0.40,0.60,0.8]).to_dict()\n",
    "\n",
    "# Subsetting gifts df to obtain transactions lower than first quantile boundary, then counting by donor ID\n",
    "count_1st_qtl = pd.DataFrame(\n",
    "    gifts_train_7362[gifts_train_7362[\"amount\"]<=amount_range[0.2]][[\"donorID\"]].groupby(\"donorID\")[\"donorID\"].count())\n",
    "count_1st_qtl = count_1st_qtl.rename({\"donorID\":\"donations_1st_qtl_count\"}, axis=1)\n",
    "# Subsetting gifts df to obtain transactions between first and second quantile boundary, then counting by donor ID\n",
    "count_2nd_qtl = pd.DataFrame(\n",
    "    gifts_train_7362[(gifts_train_7362[\"amount\"]>amount_range[0.2]) \n",
    "                               & (gifts_train_7362[\"amount\"]<=amount_range[0.4])][[\"donorID\"]].groupby(\"donorID\")[\"donorID\"].count())\n",
    "count_2nd_qtl = count_2nd_qtl.rename({\"donorID\":\"donations_2nd_qtl_count\"}, axis=1)\n",
    "\n",
    "count_3rd_qtl = pd.DataFrame(\n",
    "    gifts_train_7362[(gifts_train_7362[\"amount\"]> amount_range[0.4])\n",
    "                               & (gifts_train_7362[\"amount\"]<=amount_range[0.6])][[\"donorID\"]].groupby(\"donorID\")[\"donorID\"].count())\n",
    "count_3rd_qtl = count_3rd_qtl.rename({\"donorID\":\"donations_3rd_qtl_count\"}, axis=1)\n",
    "\n",
    "count_4th_qtl = pd.DataFrame(\n",
    "    gifts_train_7362[(gifts_train_7362[\"amount\"]> amount_range[0.6]) \n",
    "                               & (gifts_train_7362[\"amount\"]<=amount_range[0.8])][[\"donorID\"]].groupby(\"donorID\")[\"donorID\"].count())\n",
    "count_4th_qtl = count_4th_qtl.rename({\"donorID\":\"donations_4th_qtl_count\"}, axis=1)\n",
    "\n",
    "count_5th_qtl = pd.DataFrame(\n",
    "    gifts_train_7362[gifts_train_7362[\"amount\"]>=amount_range[0.8]][[\"donorID\"]].groupby(\"donorID\")[\"donorID\"].count())\n",
    "count_5th_qtl = count_5th_qtl.rename({\"donorID\":\"donations_5th_qtl_count\"}, axis=1)\n",
    "\n",
    "\n",
    "\n",
    "base_table_7362 = pd.merge(base_table_7362,count_1st_qtl, on=\"donorID\", how=\"left\" )\n",
    "base_table_7362[\"donations_1st_qtl_count\"].fillna(0, inplace = True)\n",
    "\n",
    "base_table_7362 = pd.merge(base_table_7362,count_2nd_qtl, on=\"donorID\", how=\"left\" )\n",
    "base_table_7362[\"donations_2nd_qtl_count\"].fillna(0, inplace = True)\n",
    "\n",
    "base_table_7362 = pd.merge(base_table_7362,count_3rd_qtl, on=\"donorID\", how=\"left\" )\n",
    "base_table_7362[\"donations_3rd_qtl_count\"].fillna(0, inplace = True)\n",
    "\n",
    "base_table_7362 = pd.merge(base_table_7362,count_4th_qtl, on=\"donorID\", how=\"left\" )\n",
    "base_table_7362[\"donations_4th_qtl_count\"].fillna(0, inplace = True)\n",
    "\n",
    "base_table_7362 = pd.merge(base_table_7362,count_5th_qtl, on=\"donorID\", how=\"left\" )\n",
    "base_table_7362[\"donations_5th_qtl_count\"].fillna(0, inplace = True)"
   ]
  },
  {
   "cell_type": "code",
   "execution_count": 392,
   "id": "d2892d63",
   "metadata": {},
   "outputs": [],
   "source": [
    "# Number of campaigns in which the person has donated\n",
    "campaing_per_donors = pd.DataFrame(gifts_train_7362.groupby(\"donorID\")[\"campaignID\"].nunique())"
   ]
  },
  {
   "cell_type": "code",
   "execution_count": 393,
   "id": "1fd1d506",
   "metadata": {},
   "outputs": [],
   "source": [
    "campaing_per_donors = campaing_per_donors.rename({\"campaignID\":\"nbr_of_campaigns\"}, axis=1)\n",
    "base_table_7362 = pd.merge(base_table_7362, campaing_per_donors, on=\"donorID\", how=\"left\")\n",
    "base_table_7362[\"nbr_of_campaigns\"].fillna(0, inplace = True)"
   ]
  },
  {
   "cell_type": "code",
   "execution_count": 394,
   "id": "cc8f2a28",
   "metadata": {},
   "outputs": [],
   "source": [
    "\n",
    "# Calculating donations count over period of time  \n",
    "base_table_7362['donations_count_per_period'] = base_table_7362[\"total_donation_times\"]/(base_table_7362[\"year_diff\"]+1)\n",
    "base_table_7362['donations_amount_per_period'] = base_table_7362[\"total_donations_per_donor\"]/(base_table_7362[\"year_diff\"]+1)\n",
    "\n",
    "donations_per_region = base_table_7362.groupby('region')['total_donations_per_donor'].agg(['min', 'max', 'sum', 'count','mean'])\n",
    "donations_per_region = donations_per_region.rename({\"min\":\"min_donation_per_region\", \n",
    "                             \"max\":\"max_donation_per_region\", \n",
    "                             \"sum\":\"total_donations_per_region\", \n",
    "                             \"count\":\"count_donation_region\",\n",
    "                            'mean':\"avg_donations_region\"}, axis=1)\n",
    "\n",
    "donations_per_province = base_table_7362.groupby('province')['total_donations_per_donor'].agg(['min', 'max', 'sum', 'count','mean'])\n",
    "donations_per_province = donations_per_province.rename({\"min\":\"min_donation_per_province\", \n",
    "                             \"max\":\"max_donation_per_province\", \n",
    "                             \"sum\":\"total_donations_per_province\", \n",
    "                             \"count\":\"total_donation_province\",\n",
    "                            \"mean\":\"avg_donations_province\"}, axis=1)\n",
    "\n",
    "donations_per_language = base_table_7362.groupby('language')['total_donations_per_donor'].agg(['min', 'max', 'sum', 'count','mean'])\n",
    "donations_per_language = donations_per_language.rename({\"min\":\"min_donation_per_lang\", \n",
    "                             \"max\":\"max_donation_per_lang\", \n",
    "                             \"sum\":\"total_donations_per_lang\", \n",
    "                             \"count\":\"total_donation_lang\",\n",
    "                            \"mean\":\"avg_donations_lang\"}, axis=1)\n",
    "base_table_7362 = pd.merge(base_table_7362, donations_per_language, on=\"language\", how=\"left\")\n",
    "base_table_7362 = pd.merge(base_table_7362, donations_per_province, on=\"province\", how=\"left\")\n",
    "base_table_7362 = pd.merge(base_table_7362, donations_per_region, on=\"region\", how=\"left\")\n",
    "\n",
    "\n",
    "\n",
    "base_table_7362 = pd.get_dummies(base_table_7362, drop_first=True, columns =[\"region\"])\n",
    "base_table_7362 = pd.get_dummies(base_table_7362, drop_first=True, columns =[\"province\"])\n",
    "base_table_7362 = pd.get_dummies(base_table_7362, drop_first=True, columns =[\"language\"])\n",
    "\n",
    "base_table_7362[\"more_than_once_in_a_campaign\"] = (base_table_7362[\"total_donation_times\"] - base_table_7362[\"nbr_of_campaigns\"])>0 \n",
    "base_table_7362[\"more_than_once_in_a_campaign\"] = base_table_7362[\"more_than_once_in_a_campaign\"].replace({True:1, False:0})\n",
    "\n",
    "\n",
    "\n",
    "recency_categ = base_table_7362[\"recency\"].quantile([0.20,0.40,0.60,0.80]).to_dict()\n",
    "base_table_7362[\"recency_categ\"] = 1\n",
    "base_table_7362.loc[base_table_7362[\"recency\"]> recency_categ[0.20], \"recency_categ\"] = 2\n",
    "base_table_7362.loc[base_table_7362[\"recency\"]> recency_categ[0.40], \"recency_categ\"] = 3\n",
    "base_table_7362.loc[base_table_7362[\"recency\"]> recency_categ[0.60], \"recency_categ\"] = 4\n",
    "base_table_7362.loc[base_table_7362[\"recency\"]> recency_categ[0.80], \"recency_categ\"] = 5\n",
    "\n",
    "# Ranking donors by donor's amount quantiles\n",
    "freq_rank= base_table_7362[\"total_donation_times\"].quantile([0.20,0.40,0.60,0.80]).to_dict()\n",
    "\n",
    "base_table_7362[\"freq_rank\"] = 1\n",
    "base_table_7362.loc[base_table_7362[\"total_donation_times\"]> freq_rank[0.20], \"freq_rank\"] = 2\n",
    "base_table_7362.loc[base_table_7362[\"total_donation_times\"]> freq_rank[0.40], \"freq_rank\"] = 3\n",
    "base_table_7362.loc[base_table_7362[\"total_donation_times\"]> freq_rank[0.60], \"freq_rank\"] = 4\n",
    "base_table_7362.loc[base_table_7362[\"total_donation_times\"]> freq_rank[0.80], \"freq_rank\"] = 5\n",
    "\n",
    "base_table_7362[\"donor_rank\"] = (base_table_7362[\"donating_amt_rank\"].astype(int) + base_table_7362[\"recency_categ\"].astype(int) + base_table_7362[\"freq_rank\"].astype(int))/3\n",
    "\n",
    "X = base_table_7362[selectedFeatures]"
   ]
  },
  {
   "cell_type": "markdown",
   "id": "52a6e0db",
   "metadata": {},
   "source": [
    "## Predicted Proba 7362"
   ]
  },
  {
   "cell_type": "code",
   "execution_count": 395,
   "id": "add3c1ad",
   "metadata": {},
   "outputs": [],
   "source": [
    "predicted_probabilities_7362 = gradBoost.predict_proba(X)"
   ]
  },
  {
   "cell_type": "markdown",
   "id": "caf7d644",
   "metadata": {},
   "source": [
    "### Sorted Campaign "
   ]
  },
  {
   "cell_type": "code",
   "execution_count": 396,
   "id": "9c4c582d",
   "metadata": {},
   "outputs": [],
   "source": [
    "base_table_7362[\"predicted_proba\"] = predicted_probabilities_7362[:,1]"
   ]
  },
  {
   "cell_type": "code",
   "execution_count": 397,
   "id": "c7032ea7",
   "metadata": {},
   "outputs": [],
   "source": [
    "base_table_sorted_7362 = base_table_7362.sort_values(by=\"predicted_proba\", ascending=False)"
   ]
  },
  {
   "cell_type": "code",
   "execution_count": 398,
   "id": "3f6022cc",
   "metadata": {},
   "outputs": [],
   "source": [
    "base_table_sorted_7362_predict = base_table_sorted_7362.loc[:,['donorID','predicted_proba']]\n",
    "base_table_sorted_7362_predict.to_csv(\"./Group Project/Campaign_7362/campaign_7362_predictions.csv\", index= False )"
   ]
  },
  {
   "cell_type": "markdown",
   "id": "07b48283",
   "metadata": {},
   "source": [
    "# Profiling - Based on 7244 Campaign"
   ]
  },
  {
   "cell_type": "code",
   "execution_count": 399,
   "id": "f9526d68",
   "metadata": {},
   "outputs": [
    {
     "data": {
      "text/html": [
       "<div>\n",
       "<style scoped>\n",
       "    .dataframe tbody tr th:only-of-type {\n",
       "        vertical-align: middle;\n",
       "    }\n",
       "\n",
       "    .dataframe tbody tr th {\n",
       "        vertical-align: top;\n",
       "    }\n",
       "\n",
       "    .dataframe thead th {\n",
       "        text-align: right;\n",
       "    }\n",
       "</style>\n",
       "<table border=\"1\" class=\"dataframe\">\n",
       "  <thead>\n",
       "    <tr style=\"text-align: right;\">\n",
       "      <th></th>\n",
       "      <th>gender</th>\n",
       "      <th>age_group</th>\n",
       "      <th>min_donation_per_donor</th>\n",
       "      <th>max_donation_per_donor</th>\n",
       "      <th>total_donations_per_donor</th>\n",
       "      <th>avg_donations_per_donor</th>\n",
       "      <th>max_year</th>\n",
       "      <th>min_year</th>\n",
       "      <th>year_diff</th>\n",
       "      <th>recency</th>\n",
       "      <th>donations_count_per_period</th>\n",
       "      <th>donations_amount_per_period</th>\n",
       "      <th>donating_amt_rank</th>\n",
       "      <th>donations_2nd_qtl_count</th>\n",
       "      <th>donations_3rd_qtl_count</th>\n",
       "      <th>donations_4th_qtl_count</th>\n",
       "      <th>donations_5th_qtl_count</th>\n",
       "      <th>nbr_of_campaigns</th>\n",
       "      <th>recency_categ</th>\n",
       "      <th>freq_rank</th>\n",
       "      <th>donor_rank</th>\n",
       "    </tr>\n",
       "  </thead>\n",
       "  <tbody>\n",
       "    <tr>\n",
       "      <th>14803</th>\n",
       "      <td>0</td>\n",
       "      <td>80</td>\n",
       "      <td>45.400</td>\n",
       "      <td>56.660</td>\n",
       "      <td>102.060</td>\n",
       "      <td>51.030000</td>\n",
       "      <td>2011</td>\n",
       "      <td>2010</td>\n",
       "      <td>1.0</td>\n",
       "      <td>7.0</td>\n",
       "      <td>1.000</td>\n",
       "      <td>51.03000</td>\n",
       "      <td>3</td>\n",
       "      <td>0.0</td>\n",
       "      <td>0.0</td>\n",
       "      <td>0.0</td>\n",
       "      <td>2.0</td>\n",
       "      <td>2.0</td>\n",
       "      <td>3</td>\n",
       "      <td>3</td>\n",
       "      <td>3.000000</td>\n",
       "    </tr>\n",
       "    <tr>\n",
       "      <th>6888</th>\n",
       "      <td>0</td>\n",
       "      <td>50</td>\n",
       "      <td>51.000</td>\n",
       "      <td>51.000</td>\n",
       "      <td>51.000</td>\n",
       "      <td>51.000000</td>\n",
       "      <td>2010</td>\n",
       "      <td>2010</td>\n",
       "      <td>0.0</td>\n",
       "      <td>8.0</td>\n",
       "      <td>1.000</td>\n",
       "      <td>51.00000</td>\n",
       "      <td>3</td>\n",
       "      <td>0.0</td>\n",
       "      <td>0.0</td>\n",
       "      <td>0.0</td>\n",
       "      <td>1.0</td>\n",
       "      <td>1.0</td>\n",
       "      <td>4</td>\n",
       "      <td>1</td>\n",
       "      <td>2.666667</td>\n",
       "    </tr>\n",
       "    <tr>\n",
       "      <th>2881</th>\n",
       "      <td>0</td>\n",
       "      <td>80</td>\n",
       "      <td>13.629</td>\n",
       "      <td>13.629</td>\n",
       "      <td>95.403</td>\n",
       "      <td>13.629000</td>\n",
       "      <td>2008</td>\n",
       "      <td>2005</td>\n",
       "      <td>3.0</td>\n",
       "      <td>10.0</td>\n",
       "      <td>1.750</td>\n",
       "      <td>23.85075</td>\n",
       "      <td>3</td>\n",
       "      <td>7.0</td>\n",
       "      <td>0.0</td>\n",
       "      <td>0.0</td>\n",
       "      <td>0.0</td>\n",
       "      <td>7.0</td>\n",
       "      <td>5</td>\n",
       "      <td>5</td>\n",
       "      <td>4.333333</td>\n",
       "    </tr>\n",
       "    <tr>\n",
       "      <th>15701</th>\n",
       "      <td>0</td>\n",
       "      <td>40</td>\n",
       "      <td>51.000</td>\n",
       "      <td>51.000</td>\n",
       "      <td>51.000</td>\n",
       "      <td>51.000000</td>\n",
       "      <td>2010</td>\n",
       "      <td>2010</td>\n",
       "      <td>0.0</td>\n",
       "      <td>8.0</td>\n",
       "      <td>1.000</td>\n",
       "      <td>51.00000</td>\n",
       "      <td>3</td>\n",
       "      <td>0.0</td>\n",
       "      <td>0.0</td>\n",
       "      <td>0.0</td>\n",
       "      <td>1.0</td>\n",
       "      <td>1.0</td>\n",
       "      <td>4</td>\n",
       "      <td>1</td>\n",
       "      <td>2.666667</td>\n",
       "    </tr>\n",
       "    <tr>\n",
       "      <th>430</th>\n",
       "      <td>0</td>\n",
       "      <td>70</td>\n",
       "      <td>7.440</td>\n",
       "      <td>64.450</td>\n",
       "      <td>431.960</td>\n",
       "      <td>25.409412</td>\n",
       "      <td>2012</td>\n",
       "      <td>2005</td>\n",
       "      <td>7.0</td>\n",
       "      <td>6.0</td>\n",
       "      <td>2.125</td>\n",
       "      <td>53.99500</td>\n",
       "      <td>4</td>\n",
       "      <td>13.0</td>\n",
       "      <td>0.0</td>\n",
       "      <td>0.0</td>\n",
       "      <td>3.0</td>\n",
       "      <td>17.0</td>\n",
       "      <td>3</td>\n",
       "      <td>5</td>\n",
       "      <td>4.000000</td>\n",
       "    </tr>\n",
       "  </tbody>\n",
       "</table>\n",
       "</div>"
      ],
      "text/plain": [
       "       gender  age_group  min_donation_per_donor  max_donation_per_donor  \\\n",
       "14803       0         80                  45.400                  56.660   \n",
       "6888        0         50                  51.000                  51.000   \n",
       "2881        0         80                  13.629                  13.629   \n",
       "15701       0         40                  51.000                  51.000   \n",
       "430         0         70                   7.440                  64.450   \n",
       "\n",
       "       total_donations_per_donor  avg_donations_per_donor  max_year  min_year  \\\n",
       "14803                    102.060                51.030000      2011      2010   \n",
       "6888                      51.000                51.000000      2010      2010   \n",
       "2881                      95.403                13.629000      2008      2005   \n",
       "15701                     51.000                51.000000      2010      2010   \n",
       "430                      431.960                25.409412      2012      2005   \n",
       "\n",
       "       year_diff  recency  donations_count_per_period  \\\n",
       "14803        1.0      7.0                       1.000   \n",
       "6888         0.0      8.0                       1.000   \n",
       "2881         3.0     10.0                       1.750   \n",
       "15701        0.0      8.0                       1.000   \n",
       "430          7.0      6.0                       2.125   \n",
       "\n",
       "       donations_amount_per_period  donating_amt_rank  \\\n",
       "14803                     51.03000                  3   \n",
       "6888                      51.00000                  3   \n",
       "2881                      23.85075                  3   \n",
       "15701                     51.00000                  3   \n",
       "430                       53.99500                  4   \n",
       "\n",
       "       donations_2nd_qtl_count  donations_3rd_qtl_count  \\\n",
       "14803                      0.0                      0.0   \n",
       "6888                       0.0                      0.0   \n",
       "2881                       7.0                      0.0   \n",
       "15701                      0.0                      0.0   \n",
       "430                       13.0                      0.0   \n",
       "\n",
       "       donations_4th_qtl_count  donations_5th_qtl_count  nbr_of_campaigns  \\\n",
       "14803                      0.0                      2.0               2.0   \n",
       "6888                       0.0                      1.0               1.0   \n",
       "2881                       0.0                      0.0               7.0   \n",
       "15701                      0.0                      1.0               1.0   \n",
       "430                        0.0                      3.0              17.0   \n",
       "\n",
       "       recency_categ  freq_rank  donor_rank  \n",
       "14803              3          3    3.000000  \n",
       "6888               4          1    2.666667  \n",
       "2881               5          5    4.333333  \n",
       "15701              4          1    2.666667  \n",
       "430                3          5    4.000000  "
      ]
     },
     "execution_count": 399,
     "metadata": {},
     "output_type": "execute_result"
    }
   ],
   "source": [
    "best_pro[selectedFeatures].head()"
   ]
  },
  {
   "cell_type": "markdown",
   "id": "52f524f7",
   "metadata": {},
   "source": [
    "### High Probab Profile Selection"
   ]
  },
  {
   "cell_type": "code",
   "execution_count": 400,
   "id": "c5187a9e",
   "metadata": {},
   "outputs": [],
   "source": [
    "is_good = base_table_sorted['predicted_proba'] >= 0.022193\n",
    "best_pro = base_table_sorted[is_good]\n",
    "best_pro_feat = best_pro[selectedFeatures]"
   ]
  },
  {
   "cell_type": "code",
   "execution_count": 401,
   "id": "0325f612",
   "metadata": {},
   "outputs": [
    {
     "name": "stderr",
     "output_type": "stream",
     "text": [
      "C:\\Users\\PROMAN~1\\AppData\\Local\\Temp/ipykernel_10320/2325567449.py:1: SettingWithCopyWarning:\n",
      "\n",
      "\n",
      "A value is trying to be set on a copy of a slice from a DataFrame.\n",
      "Try using .loc[row_indexer,col_indexer] = value instead\n",
      "\n",
      "See the caveats in the documentation: https://pandas.pydata.org/pandas-docs/stable/user_guide/indexing.html#returning-a-view-versus-a-copy\n",
      "\n"
     ]
    }
   ],
   "source": [
    "best_pro_feat['gender'] = best_pro_feat['gender'].replace({0:'Female', 1:'Male'})"
   ]
  },
  {
   "cell_type": "markdown",
   "id": "ce351c7c",
   "metadata": {},
   "source": [
    "### Less Probab Profile Selection "
   ]
  },
  {
   "cell_type": "code",
   "execution_count": 402,
   "id": "06b84335",
   "metadata": {},
   "outputs": [
    {
     "name": "stderr",
     "output_type": "stream",
     "text": [
      "C:\\Users\\PROMAN~1\\AppData\\Local\\Temp/ipykernel_10320/748312219.py:4: SettingWithCopyWarning:\n",
      "\n",
      "\n",
      "A value is trying to be set on a copy of a slice from a DataFrame.\n",
      "Try using .loc[row_indexer,col_indexer] = value instead\n",
      "\n",
      "See the caveats in the documentation: https://pandas.pydata.org/pandas-docs/stable/user_guide/indexing.html#returning-a-view-versus-a-copy\n",
      "\n"
     ]
    }
   ],
   "source": [
    "is_bad = base_table_sorted['predicted_proba'] <= 0.000988\n",
    "bad_pro = base_table_sorted[is_bad]\n",
    "bad_pro_feat = bad_pro[selectedFeatures]\n",
    "bad_pro_feat['gender'] = bad_pro_feat['gender'].replace({0:'Female', 1:'Male'})"
   ]
  },
  {
   "cell_type": "markdown",
   "id": "efbcc1fe",
   "metadata": {},
   "source": [
    "### Graphs"
   ]
  },
  {
   "cell_type": "code",
   "execution_count": 403,
   "id": "e031bf87",
   "metadata": {},
   "outputs": [],
   "source": [
    "best_by_gender = DataFrame(best_pro_feat.groupby(by='gender').total_donations_per_donor.count())\n",
    "worst_by_gender = DataFrame(bad_pro_feat.groupby(by='gender').total_donations_per_donor.count())"
   ]
  },
  {
   "cell_type": "code",
   "execution_count": 404,
   "id": "97526808",
   "metadata": {},
   "outputs": [],
   "source": [
    "best_by_gender = best_by_gender.reset_index()\n",
    "worst_by_gender = worst_by_gender.reset_index()\n",
    "# best_by_gender['gender'] = best_by_gender['gender'].replace({'0':'Female', '1':'Male'})"
   ]
  },
  {
   "cell_type": "code",
   "execution_count": 405,
   "id": "7908d4cc",
   "metadata": {},
   "outputs": [
    {
     "data": {
      "text/html": [
       "<div>\n",
       "<style scoped>\n",
       "    .dataframe tbody tr th:only-of-type {\n",
       "        vertical-align: middle;\n",
       "    }\n",
       "\n",
       "    .dataframe tbody tr th {\n",
       "        vertical-align: top;\n",
       "    }\n",
       "\n",
       "    .dataframe thead th {\n",
       "        text-align: right;\n",
       "    }\n",
       "</style>\n",
       "<table border=\"1\" class=\"dataframe\">\n",
       "  <thead>\n",
       "    <tr style=\"text-align: right;\">\n",
       "      <th></th>\n",
       "      <th>gender</th>\n",
       "      <th>total_donations_per_donor</th>\n",
       "    </tr>\n",
       "  </thead>\n",
       "  <tbody>\n",
       "    <tr>\n",
       "      <th>0</th>\n",
       "      <td>Female</td>\n",
       "      <td>69</td>\n",
       "    </tr>\n",
       "    <tr>\n",
       "      <th>1</th>\n",
       "      <td>Male</td>\n",
       "      <td>2563</td>\n",
       "    </tr>\n",
       "  </tbody>\n",
       "</table>\n",
       "</div>"
      ],
      "text/plain": [
       "   gender  total_donations_per_donor\n",
       "0  Female                         69\n",
       "1    Male                       2563"
      ]
     },
     "execution_count": 405,
     "metadata": {},
     "output_type": "execute_result"
    }
   ],
   "source": [
    "worst_by_gender"
   ]
  },
  {
   "cell_type": "code",
   "execution_count": 406,
   "id": "2cfad03a",
   "metadata": {},
   "outputs": [
    {
     "data": {
      "application/vnd.plotly.v1+json": {
       "config": {
        "plotlyServerURL": "https://plot.ly"
       },
       "data": [
        {
         "name": "High Profile",
         "type": "bar",
         "x": [
          "Female",
          "Male"
         ],
         "y": [
          1550,
          961
         ]
        },
        {
         "name": "Low Profile",
         "type": "bar",
         "x": [
          "Female",
          "Male"
         ],
         "y": [
          69,
          2563
         ]
        }
       ],
       "layout": {
        "template": {
         "data": {
          "bar": [
           {
            "error_x": {
             "color": "#2a3f5f"
            },
            "error_y": {
             "color": "#2a3f5f"
            },
            "marker": {
             "line": {
              "color": "#E5ECF6",
              "width": 0.5
             },
             "pattern": {
              "fillmode": "overlay",
              "size": 10,
              "solidity": 0.2
             }
            },
            "type": "bar"
           }
          ],
          "barpolar": [
           {
            "marker": {
             "line": {
              "color": "#E5ECF6",
              "width": 0.5
             },
             "pattern": {
              "fillmode": "overlay",
              "size": 10,
              "solidity": 0.2
             }
            },
            "type": "barpolar"
           }
          ],
          "carpet": [
           {
            "aaxis": {
             "endlinecolor": "#2a3f5f",
             "gridcolor": "white",
             "linecolor": "white",
             "minorgridcolor": "white",
             "startlinecolor": "#2a3f5f"
            },
            "baxis": {
             "endlinecolor": "#2a3f5f",
             "gridcolor": "white",
             "linecolor": "white",
             "minorgridcolor": "white",
             "startlinecolor": "#2a3f5f"
            },
            "type": "carpet"
           }
          ],
          "choropleth": [
           {
            "colorbar": {
             "outlinewidth": 0,
             "ticks": ""
            },
            "type": "choropleth"
           }
          ],
          "contour": [
           {
            "colorbar": {
             "outlinewidth": 0,
             "ticks": ""
            },
            "colorscale": [
             [
              0,
              "#0d0887"
             ],
             [
              0.1111111111111111,
              "#46039f"
             ],
             [
              0.2222222222222222,
              "#7201a8"
             ],
             [
              0.3333333333333333,
              "#9c179e"
             ],
             [
              0.4444444444444444,
              "#bd3786"
             ],
             [
              0.5555555555555556,
              "#d8576b"
             ],
             [
              0.6666666666666666,
              "#ed7953"
             ],
             [
              0.7777777777777778,
              "#fb9f3a"
             ],
             [
              0.8888888888888888,
              "#fdca26"
             ],
             [
              1,
              "#f0f921"
             ]
            ],
            "type": "contour"
           }
          ],
          "contourcarpet": [
           {
            "colorbar": {
             "outlinewidth": 0,
             "ticks": ""
            },
            "type": "contourcarpet"
           }
          ],
          "heatmap": [
           {
            "colorbar": {
             "outlinewidth": 0,
             "ticks": ""
            },
            "colorscale": [
             [
              0,
              "#0d0887"
             ],
             [
              0.1111111111111111,
              "#46039f"
             ],
             [
              0.2222222222222222,
              "#7201a8"
             ],
             [
              0.3333333333333333,
              "#9c179e"
             ],
             [
              0.4444444444444444,
              "#bd3786"
             ],
             [
              0.5555555555555556,
              "#d8576b"
             ],
             [
              0.6666666666666666,
              "#ed7953"
             ],
             [
              0.7777777777777778,
              "#fb9f3a"
             ],
             [
              0.8888888888888888,
              "#fdca26"
             ],
             [
              1,
              "#f0f921"
             ]
            ],
            "type": "heatmap"
           }
          ],
          "heatmapgl": [
           {
            "colorbar": {
             "outlinewidth": 0,
             "ticks": ""
            },
            "colorscale": [
             [
              0,
              "#0d0887"
             ],
             [
              0.1111111111111111,
              "#46039f"
             ],
             [
              0.2222222222222222,
              "#7201a8"
             ],
             [
              0.3333333333333333,
              "#9c179e"
             ],
             [
              0.4444444444444444,
              "#bd3786"
             ],
             [
              0.5555555555555556,
              "#d8576b"
             ],
             [
              0.6666666666666666,
              "#ed7953"
             ],
             [
              0.7777777777777778,
              "#fb9f3a"
             ],
             [
              0.8888888888888888,
              "#fdca26"
             ],
             [
              1,
              "#f0f921"
             ]
            ],
            "type": "heatmapgl"
           }
          ],
          "histogram": [
           {
            "marker": {
             "pattern": {
              "fillmode": "overlay",
              "size": 10,
              "solidity": 0.2
             }
            },
            "type": "histogram"
           }
          ],
          "histogram2d": [
           {
            "colorbar": {
             "outlinewidth": 0,
             "ticks": ""
            },
            "colorscale": [
             [
              0,
              "#0d0887"
             ],
             [
              0.1111111111111111,
              "#46039f"
             ],
             [
              0.2222222222222222,
              "#7201a8"
             ],
             [
              0.3333333333333333,
              "#9c179e"
             ],
             [
              0.4444444444444444,
              "#bd3786"
             ],
             [
              0.5555555555555556,
              "#d8576b"
             ],
             [
              0.6666666666666666,
              "#ed7953"
             ],
             [
              0.7777777777777778,
              "#fb9f3a"
             ],
             [
              0.8888888888888888,
              "#fdca26"
             ],
             [
              1,
              "#f0f921"
             ]
            ],
            "type": "histogram2d"
           }
          ],
          "histogram2dcontour": [
           {
            "colorbar": {
             "outlinewidth": 0,
             "ticks": ""
            },
            "colorscale": [
             [
              0,
              "#0d0887"
             ],
             [
              0.1111111111111111,
              "#46039f"
             ],
             [
              0.2222222222222222,
              "#7201a8"
             ],
             [
              0.3333333333333333,
              "#9c179e"
             ],
             [
              0.4444444444444444,
              "#bd3786"
             ],
             [
              0.5555555555555556,
              "#d8576b"
             ],
             [
              0.6666666666666666,
              "#ed7953"
             ],
             [
              0.7777777777777778,
              "#fb9f3a"
             ],
             [
              0.8888888888888888,
              "#fdca26"
             ],
             [
              1,
              "#f0f921"
             ]
            ],
            "type": "histogram2dcontour"
           }
          ],
          "mesh3d": [
           {
            "colorbar": {
             "outlinewidth": 0,
             "ticks": ""
            },
            "type": "mesh3d"
           }
          ],
          "parcoords": [
           {
            "line": {
             "colorbar": {
              "outlinewidth": 0,
              "ticks": ""
             }
            },
            "type": "parcoords"
           }
          ],
          "pie": [
           {
            "automargin": true,
            "type": "pie"
           }
          ],
          "scatter": [
           {
            "marker": {
             "colorbar": {
              "outlinewidth": 0,
              "ticks": ""
             }
            },
            "type": "scatter"
           }
          ],
          "scatter3d": [
           {
            "line": {
             "colorbar": {
              "outlinewidth": 0,
              "ticks": ""
             }
            },
            "marker": {
             "colorbar": {
              "outlinewidth": 0,
              "ticks": ""
             }
            },
            "type": "scatter3d"
           }
          ],
          "scattercarpet": [
           {
            "marker": {
             "colorbar": {
              "outlinewidth": 0,
              "ticks": ""
             }
            },
            "type": "scattercarpet"
           }
          ],
          "scattergeo": [
           {
            "marker": {
             "colorbar": {
              "outlinewidth": 0,
              "ticks": ""
             }
            },
            "type": "scattergeo"
           }
          ],
          "scattergl": [
           {
            "marker": {
             "colorbar": {
              "outlinewidth": 0,
              "ticks": ""
             }
            },
            "type": "scattergl"
           }
          ],
          "scattermapbox": [
           {
            "marker": {
             "colorbar": {
              "outlinewidth": 0,
              "ticks": ""
             }
            },
            "type": "scattermapbox"
           }
          ],
          "scatterpolar": [
           {
            "marker": {
             "colorbar": {
              "outlinewidth": 0,
              "ticks": ""
             }
            },
            "type": "scatterpolar"
           }
          ],
          "scatterpolargl": [
           {
            "marker": {
             "colorbar": {
              "outlinewidth": 0,
              "ticks": ""
             }
            },
            "type": "scatterpolargl"
           }
          ],
          "scatterternary": [
           {
            "marker": {
             "colorbar": {
              "outlinewidth": 0,
              "ticks": ""
             }
            },
            "type": "scatterternary"
           }
          ],
          "surface": [
           {
            "colorbar": {
             "outlinewidth": 0,
             "ticks": ""
            },
            "colorscale": [
             [
              0,
              "#0d0887"
             ],
             [
              0.1111111111111111,
              "#46039f"
             ],
             [
              0.2222222222222222,
              "#7201a8"
             ],
             [
              0.3333333333333333,
              "#9c179e"
             ],
             [
              0.4444444444444444,
              "#bd3786"
             ],
             [
              0.5555555555555556,
              "#d8576b"
             ],
             [
              0.6666666666666666,
              "#ed7953"
             ],
             [
              0.7777777777777778,
              "#fb9f3a"
             ],
             [
              0.8888888888888888,
              "#fdca26"
             ],
             [
              1,
              "#f0f921"
             ]
            ],
            "type": "surface"
           }
          ],
          "table": [
           {
            "cells": {
             "fill": {
              "color": "#EBF0F8"
             },
             "line": {
              "color": "white"
             }
            },
            "header": {
             "fill": {
              "color": "#C8D4E3"
             },
             "line": {
              "color": "white"
             }
            },
            "type": "table"
           }
          ]
         },
         "layout": {
          "annotationdefaults": {
           "arrowcolor": "#2a3f5f",
           "arrowhead": 0,
           "arrowwidth": 1
          },
          "autotypenumbers": "strict",
          "coloraxis": {
           "colorbar": {
            "outlinewidth": 0,
            "ticks": ""
           }
          },
          "colorscale": {
           "diverging": [
            [
             0,
             "#8e0152"
            ],
            [
             0.1,
             "#c51b7d"
            ],
            [
             0.2,
             "#de77ae"
            ],
            [
             0.3,
             "#f1b6da"
            ],
            [
             0.4,
             "#fde0ef"
            ],
            [
             0.5,
             "#f7f7f7"
            ],
            [
             0.6,
             "#e6f5d0"
            ],
            [
             0.7,
             "#b8e186"
            ],
            [
             0.8,
             "#7fbc41"
            ],
            [
             0.9,
             "#4d9221"
            ],
            [
             1,
             "#276419"
            ]
           ],
           "sequential": [
            [
             0,
             "#0d0887"
            ],
            [
             0.1111111111111111,
             "#46039f"
            ],
            [
             0.2222222222222222,
             "#7201a8"
            ],
            [
             0.3333333333333333,
             "#9c179e"
            ],
            [
             0.4444444444444444,
             "#bd3786"
            ],
            [
             0.5555555555555556,
             "#d8576b"
            ],
            [
             0.6666666666666666,
             "#ed7953"
            ],
            [
             0.7777777777777778,
             "#fb9f3a"
            ],
            [
             0.8888888888888888,
             "#fdca26"
            ],
            [
             1,
             "#f0f921"
            ]
           ],
           "sequentialminus": [
            [
             0,
             "#0d0887"
            ],
            [
             0.1111111111111111,
             "#46039f"
            ],
            [
             0.2222222222222222,
             "#7201a8"
            ],
            [
             0.3333333333333333,
             "#9c179e"
            ],
            [
             0.4444444444444444,
             "#bd3786"
            ],
            [
             0.5555555555555556,
             "#d8576b"
            ],
            [
             0.6666666666666666,
             "#ed7953"
            ],
            [
             0.7777777777777778,
             "#fb9f3a"
            ],
            [
             0.8888888888888888,
             "#fdca26"
            ],
            [
             1,
             "#f0f921"
            ]
           ]
          },
          "colorway": [
           "#636efa",
           "#EF553B",
           "#00cc96",
           "#ab63fa",
           "#FFA15A",
           "#19d3f3",
           "#FF6692",
           "#B6E880",
           "#FF97FF",
           "#FECB52"
          ],
          "font": {
           "color": "#2a3f5f"
          },
          "geo": {
           "bgcolor": "white",
           "lakecolor": "white",
           "landcolor": "#E5ECF6",
           "showlakes": true,
           "showland": true,
           "subunitcolor": "white"
          },
          "hoverlabel": {
           "align": "left"
          },
          "hovermode": "closest",
          "mapbox": {
           "style": "light"
          },
          "paper_bgcolor": "white",
          "plot_bgcolor": "#E5ECF6",
          "polar": {
           "angularaxis": {
            "gridcolor": "white",
            "linecolor": "white",
            "ticks": ""
           },
           "bgcolor": "#E5ECF6",
           "radialaxis": {
            "gridcolor": "white",
            "linecolor": "white",
            "ticks": ""
           }
          },
          "scene": {
           "xaxis": {
            "backgroundcolor": "#E5ECF6",
            "gridcolor": "white",
            "gridwidth": 2,
            "linecolor": "white",
            "showbackground": true,
            "ticks": "",
            "zerolinecolor": "white"
           },
           "yaxis": {
            "backgroundcolor": "#E5ECF6",
            "gridcolor": "white",
            "gridwidth": 2,
            "linecolor": "white",
            "showbackground": true,
            "ticks": "",
            "zerolinecolor": "white"
           },
           "zaxis": {
            "backgroundcolor": "#E5ECF6",
            "gridcolor": "white",
            "gridwidth": 2,
            "linecolor": "white",
            "showbackground": true,
            "ticks": "",
            "zerolinecolor": "white"
           }
          },
          "shapedefaults": {
           "line": {
            "color": "#2a3f5f"
           }
          },
          "ternary": {
           "aaxis": {
            "gridcolor": "white",
            "linecolor": "white",
            "ticks": ""
           },
           "baxis": {
            "gridcolor": "white",
            "linecolor": "white",
            "ticks": ""
           },
           "bgcolor": "#E5ECF6",
           "caxis": {
            "gridcolor": "white",
            "linecolor": "white",
            "ticks": ""
           }
          },
          "title": {
           "x": 0.05
          },
          "xaxis": {
           "automargin": true,
           "gridcolor": "white",
           "linecolor": "white",
           "ticks": "",
           "title": {
            "standoff": 15
           },
           "zerolinecolor": "white",
           "zerolinewidth": 2
          },
          "yaxis": {
           "automargin": true,
           "gridcolor": "white",
           "linecolor": "white",
           "ticks": "",
           "title": {
            "standoff": 15
           },
           "zerolinecolor": "white",
           "zerolinewidth": 2
          }
         }
        },
        "title": {
         "text": "Profile Donors Count by Gender"
        },
        "xaxis": {
         "title": {
          "text": "Gender"
         }
        },
        "yaxis": {
         "title": {
          "text": "Count of donors"
         }
        }
       }
      },
      "text/html": [
       "<div>                            <div id=\"9e418389-d204-4464-982b-89aab4949b71\" class=\"plotly-graph-div\" style=\"height:525px; width:100%;\"></div>            <script type=\"text/javascript\">                require([\"plotly\"], function(Plotly) {                    window.PLOTLYENV=window.PLOTLYENV || {};                                    if (document.getElementById(\"9e418389-d204-4464-982b-89aab4949b71\")) {                    Plotly.newPlot(                        \"9e418389-d204-4464-982b-89aab4949b71\",                        [{\"name\":\"High Profile\",\"x\":[\"Female\",\"Male\"],\"y\":[1550,961],\"type\":\"bar\"},{\"name\":\"Low Profile\",\"x\":[\"Female\",\"Male\"],\"y\":[69,2563],\"type\":\"bar\"}],                        {\"template\":{\"data\":{\"bar\":[{\"error_x\":{\"color\":\"#2a3f5f\"},\"error_y\":{\"color\":\"#2a3f5f\"},\"marker\":{\"line\":{\"color\":\"#E5ECF6\",\"width\":0.5},\"pattern\":{\"fillmode\":\"overlay\",\"size\":10,\"solidity\":0.2}},\"type\":\"bar\"}],\"barpolar\":[{\"marker\":{\"line\":{\"color\":\"#E5ECF6\",\"width\":0.5},\"pattern\":{\"fillmode\":\"overlay\",\"size\":10,\"solidity\":0.2}},\"type\":\"barpolar\"}],\"carpet\":[{\"aaxis\":{\"endlinecolor\":\"#2a3f5f\",\"gridcolor\":\"white\",\"linecolor\":\"white\",\"minorgridcolor\":\"white\",\"startlinecolor\":\"#2a3f5f\"},\"baxis\":{\"endlinecolor\":\"#2a3f5f\",\"gridcolor\":\"white\",\"linecolor\":\"white\",\"minorgridcolor\":\"white\",\"startlinecolor\":\"#2a3f5f\"},\"type\":\"carpet\"}],\"choropleth\":[{\"colorbar\":{\"outlinewidth\":0,\"ticks\":\"\"},\"type\":\"choropleth\"}],\"contour\":[{\"colorbar\":{\"outlinewidth\":0,\"ticks\":\"\"},\"colorscale\":[[0.0,\"#0d0887\"],[0.1111111111111111,\"#46039f\"],[0.2222222222222222,\"#7201a8\"],[0.3333333333333333,\"#9c179e\"],[0.4444444444444444,\"#bd3786\"],[0.5555555555555556,\"#d8576b\"],[0.6666666666666666,\"#ed7953\"],[0.7777777777777778,\"#fb9f3a\"],[0.8888888888888888,\"#fdca26\"],[1.0,\"#f0f921\"]],\"type\":\"contour\"}],\"contourcarpet\":[{\"colorbar\":{\"outlinewidth\":0,\"ticks\":\"\"},\"type\":\"contourcarpet\"}],\"heatmap\":[{\"colorbar\":{\"outlinewidth\":0,\"ticks\":\"\"},\"colorscale\":[[0.0,\"#0d0887\"],[0.1111111111111111,\"#46039f\"],[0.2222222222222222,\"#7201a8\"],[0.3333333333333333,\"#9c179e\"],[0.4444444444444444,\"#bd3786\"],[0.5555555555555556,\"#d8576b\"],[0.6666666666666666,\"#ed7953\"],[0.7777777777777778,\"#fb9f3a\"],[0.8888888888888888,\"#fdca26\"],[1.0,\"#f0f921\"]],\"type\":\"heatmap\"}],\"heatmapgl\":[{\"colorbar\":{\"outlinewidth\":0,\"ticks\":\"\"},\"colorscale\":[[0.0,\"#0d0887\"],[0.1111111111111111,\"#46039f\"],[0.2222222222222222,\"#7201a8\"],[0.3333333333333333,\"#9c179e\"],[0.4444444444444444,\"#bd3786\"],[0.5555555555555556,\"#d8576b\"],[0.6666666666666666,\"#ed7953\"],[0.7777777777777778,\"#fb9f3a\"],[0.8888888888888888,\"#fdca26\"],[1.0,\"#f0f921\"]],\"type\":\"heatmapgl\"}],\"histogram\":[{\"marker\":{\"pattern\":{\"fillmode\":\"overlay\",\"size\":10,\"solidity\":0.2}},\"type\":\"histogram\"}],\"histogram2d\":[{\"colorbar\":{\"outlinewidth\":0,\"ticks\":\"\"},\"colorscale\":[[0.0,\"#0d0887\"],[0.1111111111111111,\"#46039f\"],[0.2222222222222222,\"#7201a8\"],[0.3333333333333333,\"#9c179e\"],[0.4444444444444444,\"#bd3786\"],[0.5555555555555556,\"#d8576b\"],[0.6666666666666666,\"#ed7953\"],[0.7777777777777778,\"#fb9f3a\"],[0.8888888888888888,\"#fdca26\"],[1.0,\"#f0f921\"]],\"type\":\"histogram2d\"}],\"histogram2dcontour\":[{\"colorbar\":{\"outlinewidth\":0,\"ticks\":\"\"},\"colorscale\":[[0.0,\"#0d0887\"],[0.1111111111111111,\"#46039f\"],[0.2222222222222222,\"#7201a8\"],[0.3333333333333333,\"#9c179e\"],[0.4444444444444444,\"#bd3786\"],[0.5555555555555556,\"#d8576b\"],[0.6666666666666666,\"#ed7953\"],[0.7777777777777778,\"#fb9f3a\"],[0.8888888888888888,\"#fdca26\"],[1.0,\"#f0f921\"]],\"type\":\"histogram2dcontour\"}],\"mesh3d\":[{\"colorbar\":{\"outlinewidth\":0,\"ticks\":\"\"},\"type\":\"mesh3d\"}],\"parcoords\":[{\"line\":{\"colorbar\":{\"outlinewidth\":0,\"ticks\":\"\"}},\"type\":\"parcoords\"}],\"pie\":[{\"automargin\":true,\"type\":\"pie\"}],\"scatter\":[{\"marker\":{\"colorbar\":{\"outlinewidth\":0,\"ticks\":\"\"}},\"type\":\"scatter\"}],\"scatter3d\":[{\"line\":{\"colorbar\":{\"outlinewidth\":0,\"ticks\":\"\"}},\"marker\":{\"colorbar\":{\"outlinewidth\":0,\"ticks\":\"\"}},\"type\":\"scatter3d\"}],\"scattercarpet\":[{\"marker\":{\"colorbar\":{\"outlinewidth\":0,\"ticks\":\"\"}},\"type\":\"scattercarpet\"}],\"scattergeo\":[{\"marker\":{\"colorbar\":{\"outlinewidth\":0,\"ticks\":\"\"}},\"type\":\"scattergeo\"}],\"scattergl\":[{\"marker\":{\"colorbar\":{\"outlinewidth\":0,\"ticks\":\"\"}},\"type\":\"scattergl\"}],\"scattermapbox\":[{\"marker\":{\"colorbar\":{\"outlinewidth\":0,\"ticks\":\"\"}},\"type\":\"scattermapbox\"}],\"scatterpolar\":[{\"marker\":{\"colorbar\":{\"outlinewidth\":0,\"ticks\":\"\"}},\"type\":\"scatterpolar\"}],\"scatterpolargl\":[{\"marker\":{\"colorbar\":{\"outlinewidth\":0,\"ticks\":\"\"}},\"type\":\"scatterpolargl\"}],\"scatterternary\":[{\"marker\":{\"colorbar\":{\"outlinewidth\":0,\"ticks\":\"\"}},\"type\":\"scatterternary\"}],\"surface\":[{\"colorbar\":{\"outlinewidth\":0,\"ticks\":\"\"},\"colorscale\":[[0.0,\"#0d0887\"],[0.1111111111111111,\"#46039f\"],[0.2222222222222222,\"#7201a8\"],[0.3333333333333333,\"#9c179e\"],[0.4444444444444444,\"#bd3786\"],[0.5555555555555556,\"#d8576b\"],[0.6666666666666666,\"#ed7953\"],[0.7777777777777778,\"#fb9f3a\"],[0.8888888888888888,\"#fdca26\"],[1.0,\"#f0f921\"]],\"type\":\"surface\"}],\"table\":[{\"cells\":{\"fill\":{\"color\":\"#EBF0F8\"},\"line\":{\"color\":\"white\"}},\"header\":{\"fill\":{\"color\":\"#C8D4E3\"},\"line\":{\"color\":\"white\"}},\"type\":\"table\"}]},\"layout\":{\"annotationdefaults\":{\"arrowcolor\":\"#2a3f5f\",\"arrowhead\":0,\"arrowwidth\":1},\"autotypenumbers\":\"strict\",\"coloraxis\":{\"colorbar\":{\"outlinewidth\":0,\"ticks\":\"\"}},\"colorscale\":{\"diverging\":[[0,\"#8e0152\"],[0.1,\"#c51b7d\"],[0.2,\"#de77ae\"],[0.3,\"#f1b6da\"],[0.4,\"#fde0ef\"],[0.5,\"#f7f7f7\"],[0.6,\"#e6f5d0\"],[0.7,\"#b8e186\"],[0.8,\"#7fbc41\"],[0.9,\"#4d9221\"],[1,\"#276419\"]],\"sequential\":[[0.0,\"#0d0887\"],[0.1111111111111111,\"#46039f\"],[0.2222222222222222,\"#7201a8\"],[0.3333333333333333,\"#9c179e\"],[0.4444444444444444,\"#bd3786\"],[0.5555555555555556,\"#d8576b\"],[0.6666666666666666,\"#ed7953\"],[0.7777777777777778,\"#fb9f3a\"],[0.8888888888888888,\"#fdca26\"],[1.0,\"#f0f921\"]],\"sequentialminus\":[[0.0,\"#0d0887\"],[0.1111111111111111,\"#46039f\"],[0.2222222222222222,\"#7201a8\"],[0.3333333333333333,\"#9c179e\"],[0.4444444444444444,\"#bd3786\"],[0.5555555555555556,\"#d8576b\"],[0.6666666666666666,\"#ed7953\"],[0.7777777777777778,\"#fb9f3a\"],[0.8888888888888888,\"#fdca26\"],[1.0,\"#f0f921\"]]},\"colorway\":[\"#636efa\",\"#EF553B\",\"#00cc96\",\"#ab63fa\",\"#FFA15A\",\"#19d3f3\",\"#FF6692\",\"#B6E880\",\"#FF97FF\",\"#FECB52\"],\"font\":{\"color\":\"#2a3f5f\"},\"geo\":{\"bgcolor\":\"white\",\"lakecolor\":\"white\",\"landcolor\":\"#E5ECF6\",\"showlakes\":true,\"showland\":true,\"subunitcolor\":\"white\"},\"hoverlabel\":{\"align\":\"left\"},\"hovermode\":\"closest\",\"mapbox\":{\"style\":\"light\"},\"paper_bgcolor\":\"white\",\"plot_bgcolor\":\"#E5ECF6\",\"polar\":{\"angularaxis\":{\"gridcolor\":\"white\",\"linecolor\":\"white\",\"ticks\":\"\"},\"bgcolor\":\"#E5ECF6\",\"radialaxis\":{\"gridcolor\":\"white\",\"linecolor\":\"white\",\"ticks\":\"\"}},\"scene\":{\"xaxis\":{\"backgroundcolor\":\"#E5ECF6\",\"gridcolor\":\"white\",\"gridwidth\":2,\"linecolor\":\"white\",\"showbackground\":true,\"ticks\":\"\",\"zerolinecolor\":\"white\"},\"yaxis\":{\"backgroundcolor\":\"#E5ECF6\",\"gridcolor\":\"white\",\"gridwidth\":2,\"linecolor\":\"white\",\"showbackground\":true,\"ticks\":\"\",\"zerolinecolor\":\"white\"},\"zaxis\":{\"backgroundcolor\":\"#E5ECF6\",\"gridcolor\":\"white\",\"gridwidth\":2,\"linecolor\":\"white\",\"showbackground\":true,\"ticks\":\"\",\"zerolinecolor\":\"white\"}},\"shapedefaults\":{\"line\":{\"color\":\"#2a3f5f\"}},\"ternary\":{\"aaxis\":{\"gridcolor\":\"white\",\"linecolor\":\"white\",\"ticks\":\"\"},\"baxis\":{\"gridcolor\":\"white\",\"linecolor\":\"white\",\"ticks\":\"\"},\"bgcolor\":\"#E5ECF6\",\"caxis\":{\"gridcolor\":\"white\",\"linecolor\":\"white\",\"ticks\":\"\"}},\"title\":{\"x\":0.05},\"xaxis\":{\"automargin\":true,\"gridcolor\":\"white\",\"linecolor\":\"white\",\"ticks\":\"\",\"title\":{\"standoff\":15},\"zerolinecolor\":\"white\",\"zerolinewidth\":2},\"yaxis\":{\"automargin\":true,\"gridcolor\":\"white\",\"linecolor\":\"white\",\"ticks\":\"\",\"title\":{\"standoff\":15},\"zerolinecolor\":\"white\",\"zerolinewidth\":2}}},\"title\":{\"text\":\"Profile Donors Count by Gender\"},\"xaxis\":{\"title\":{\"text\":\"Gender\"}},\"yaxis\":{\"title\":{\"text\":\"Count of donors\"}}},                        {\"responsive\": true}                    ).then(function(){\n",
       "                            \n",
       "var gd = document.getElementById('9e418389-d204-4464-982b-89aab4949b71');\n",
       "var x = new MutationObserver(function (mutations, observer) {{\n",
       "        var display = window.getComputedStyle(gd).display;\n",
       "        if (!display || display === 'none') {{\n",
       "            console.log([gd, 'removed!']);\n",
       "            Plotly.purge(gd);\n",
       "            observer.disconnect();\n",
       "        }}\n",
       "}});\n",
       "\n",
       "// Listen for the removal of the full notebook cells\n",
       "var notebookContainer = gd.closest('#notebook-container');\n",
       "if (notebookContainer) {{\n",
       "    x.observe(notebookContainer, {childList: true});\n",
       "}}\n",
       "\n",
       "// Listen for the clearing of the current output cell\n",
       "var outputEl = gd.closest('.output');\n",
       "if (outputEl) {{\n",
       "    x.observe(outputEl, {childList: true});\n",
       "}}\n",
       "\n",
       "                        })                };                });            </script>        </div>"
      ]
     },
     "metadata": {},
     "output_type": "display_data"
    }
   ],
   "source": [
    "fig = go.Figure(data=[\n",
    "    go.Bar(name='High Profile', x=best_by_gender[\"gender\"], y=best_by_gender[\"total_donations_per_donor\"]),\n",
    "    go.Bar(name='Low Profile', x=worst_by_gender[\"gender\"], y=worst_by_gender[\"total_donations_per_donor\"])\n",
    "])\n",
    "fig.update_layout(\n",
    "    title=\"Profile Donors Count by Gender\",\n",
    "    xaxis_title=\"Gender\",\n",
    "    yaxis_title=\"Count of donors\")\n",
    "fig.show()"
   ]
  },
  {
   "cell_type": "code",
   "execution_count": 407,
   "id": "7f8ac724",
   "metadata": {},
   "outputs": [],
   "source": [
    "best_by_age_group = DataFrame(best_pro_feat.groupby('age_group')['total_donations_per_donor'].count())\n",
    "best_by_age_group = best_by_age_group.reset_index()\n",
    "\n",
    "worst_by_age_group = DataFrame(bad_pro_feat.groupby('age_group')['total_donations_per_donor'].count())\n",
    "worst_by_age_group = worst_by_age_group.reset_index()"
   ]
  },
  {
   "cell_type": "code",
   "execution_count": 408,
   "id": "ca4d9d9f",
   "metadata": {},
   "outputs": [
    {
     "data": {
      "text/html": [
       "<div>\n",
       "<style scoped>\n",
       "    .dataframe tbody tr th:only-of-type {\n",
       "        vertical-align: middle;\n",
       "    }\n",
       "\n",
       "    .dataframe tbody tr th {\n",
       "        vertical-align: top;\n",
       "    }\n",
       "\n",
       "    .dataframe thead th {\n",
       "        text-align: right;\n",
       "    }\n",
       "</style>\n",
       "<table border=\"1\" class=\"dataframe\">\n",
       "  <thead>\n",
       "    <tr style=\"text-align: right;\">\n",
       "      <th></th>\n",
       "      <th>age_group</th>\n",
       "      <th>total_donations_per_donor</th>\n",
       "    </tr>\n",
       "  </thead>\n",
       "  <tbody>\n",
       "    <tr>\n",
       "      <th>0</th>\n",
       "      <td>10</td>\n",
       "      <td>95</td>\n",
       "    </tr>\n",
       "    <tr>\n",
       "      <th>1</th>\n",
       "      <td>20</td>\n",
       "      <td>257</td>\n",
       "    </tr>\n",
       "    <tr>\n",
       "      <th>2</th>\n",
       "      <td>30</td>\n",
       "      <td>338</td>\n",
       "    </tr>\n",
       "    <tr>\n",
       "      <th>3</th>\n",
       "      <td>40</td>\n",
       "      <td>472</td>\n",
       "    </tr>\n",
       "    <tr>\n",
       "      <th>4</th>\n",
       "      <td>50</td>\n",
       "      <td>496</td>\n",
       "    </tr>\n",
       "    <tr>\n",
       "      <th>5</th>\n",
       "      <td>60</td>\n",
       "      <td>491</td>\n",
       "    </tr>\n",
       "    <tr>\n",
       "      <th>6</th>\n",
       "      <td>70</td>\n",
       "      <td>237</td>\n",
       "    </tr>\n",
       "    <tr>\n",
       "      <th>7</th>\n",
       "      <td>80</td>\n",
       "      <td>125</td>\n",
       "    </tr>\n",
       "  </tbody>\n",
       "</table>\n",
       "</div>"
      ],
      "text/plain": [
       "   age_group  total_donations_per_donor\n",
       "0         10                         95\n",
       "1         20                        257\n",
       "2         30                        338\n",
       "3         40                        472\n",
       "4         50                        496\n",
       "5         60                        491\n",
       "6         70                        237\n",
       "7         80                        125"
      ]
     },
     "execution_count": 408,
     "metadata": {},
     "output_type": "execute_result"
    }
   ],
   "source": [
    "best_by_age_group"
   ]
  },
  {
   "cell_type": "code",
   "execution_count": 409,
   "id": "8880f185",
   "metadata": {
    "scrolled": false
   },
   "outputs": [
    {
     "data": {
      "application/vnd.plotly.v1+json": {
       "config": {
        "plotlyServerURL": "https://plot.ly"
       },
       "data": [
        {
         "name": "High Profile",
         "type": "bar",
         "x": [
          10,
          20,
          30,
          40,
          50,
          60,
          70,
          80
         ],
         "y": [
          95,
          257,
          338,
          472,
          496,
          491,
          237,
          125
         ]
        }
       ],
       "layout": {
        "template": {
         "data": {
          "bar": [
           {
            "error_x": {
             "color": "#2a3f5f"
            },
            "error_y": {
             "color": "#2a3f5f"
            },
            "marker": {
             "line": {
              "color": "#E5ECF6",
              "width": 0.5
             },
             "pattern": {
              "fillmode": "overlay",
              "size": 10,
              "solidity": 0.2
             }
            },
            "type": "bar"
           }
          ],
          "barpolar": [
           {
            "marker": {
             "line": {
              "color": "#E5ECF6",
              "width": 0.5
             },
             "pattern": {
              "fillmode": "overlay",
              "size": 10,
              "solidity": 0.2
             }
            },
            "type": "barpolar"
           }
          ],
          "carpet": [
           {
            "aaxis": {
             "endlinecolor": "#2a3f5f",
             "gridcolor": "white",
             "linecolor": "white",
             "minorgridcolor": "white",
             "startlinecolor": "#2a3f5f"
            },
            "baxis": {
             "endlinecolor": "#2a3f5f",
             "gridcolor": "white",
             "linecolor": "white",
             "minorgridcolor": "white",
             "startlinecolor": "#2a3f5f"
            },
            "type": "carpet"
           }
          ],
          "choropleth": [
           {
            "colorbar": {
             "outlinewidth": 0,
             "ticks": ""
            },
            "type": "choropleth"
           }
          ],
          "contour": [
           {
            "colorbar": {
             "outlinewidth": 0,
             "ticks": ""
            },
            "colorscale": [
             [
              0,
              "#0d0887"
             ],
             [
              0.1111111111111111,
              "#46039f"
             ],
             [
              0.2222222222222222,
              "#7201a8"
             ],
             [
              0.3333333333333333,
              "#9c179e"
             ],
             [
              0.4444444444444444,
              "#bd3786"
             ],
             [
              0.5555555555555556,
              "#d8576b"
             ],
             [
              0.6666666666666666,
              "#ed7953"
             ],
             [
              0.7777777777777778,
              "#fb9f3a"
             ],
             [
              0.8888888888888888,
              "#fdca26"
             ],
             [
              1,
              "#f0f921"
             ]
            ],
            "type": "contour"
           }
          ],
          "contourcarpet": [
           {
            "colorbar": {
             "outlinewidth": 0,
             "ticks": ""
            },
            "type": "contourcarpet"
           }
          ],
          "heatmap": [
           {
            "colorbar": {
             "outlinewidth": 0,
             "ticks": ""
            },
            "colorscale": [
             [
              0,
              "#0d0887"
             ],
             [
              0.1111111111111111,
              "#46039f"
             ],
             [
              0.2222222222222222,
              "#7201a8"
             ],
             [
              0.3333333333333333,
              "#9c179e"
             ],
             [
              0.4444444444444444,
              "#bd3786"
             ],
             [
              0.5555555555555556,
              "#d8576b"
             ],
             [
              0.6666666666666666,
              "#ed7953"
             ],
             [
              0.7777777777777778,
              "#fb9f3a"
             ],
             [
              0.8888888888888888,
              "#fdca26"
             ],
             [
              1,
              "#f0f921"
             ]
            ],
            "type": "heatmap"
           }
          ],
          "heatmapgl": [
           {
            "colorbar": {
             "outlinewidth": 0,
             "ticks": ""
            },
            "colorscale": [
             [
              0,
              "#0d0887"
             ],
             [
              0.1111111111111111,
              "#46039f"
             ],
             [
              0.2222222222222222,
              "#7201a8"
             ],
             [
              0.3333333333333333,
              "#9c179e"
             ],
             [
              0.4444444444444444,
              "#bd3786"
             ],
             [
              0.5555555555555556,
              "#d8576b"
             ],
             [
              0.6666666666666666,
              "#ed7953"
             ],
             [
              0.7777777777777778,
              "#fb9f3a"
             ],
             [
              0.8888888888888888,
              "#fdca26"
             ],
             [
              1,
              "#f0f921"
             ]
            ],
            "type": "heatmapgl"
           }
          ],
          "histogram": [
           {
            "marker": {
             "pattern": {
              "fillmode": "overlay",
              "size": 10,
              "solidity": 0.2
             }
            },
            "type": "histogram"
           }
          ],
          "histogram2d": [
           {
            "colorbar": {
             "outlinewidth": 0,
             "ticks": ""
            },
            "colorscale": [
             [
              0,
              "#0d0887"
             ],
             [
              0.1111111111111111,
              "#46039f"
             ],
             [
              0.2222222222222222,
              "#7201a8"
             ],
             [
              0.3333333333333333,
              "#9c179e"
             ],
             [
              0.4444444444444444,
              "#bd3786"
             ],
             [
              0.5555555555555556,
              "#d8576b"
             ],
             [
              0.6666666666666666,
              "#ed7953"
             ],
             [
              0.7777777777777778,
              "#fb9f3a"
             ],
             [
              0.8888888888888888,
              "#fdca26"
             ],
             [
              1,
              "#f0f921"
             ]
            ],
            "type": "histogram2d"
           }
          ],
          "histogram2dcontour": [
           {
            "colorbar": {
             "outlinewidth": 0,
             "ticks": ""
            },
            "colorscale": [
             [
              0,
              "#0d0887"
             ],
             [
              0.1111111111111111,
              "#46039f"
             ],
             [
              0.2222222222222222,
              "#7201a8"
             ],
             [
              0.3333333333333333,
              "#9c179e"
             ],
             [
              0.4444444444444444,
              "#bd3786"
             ],
             [
              0.5555555555555556,
              "#d8576b"
             ],
             [
              0.6666666666666666,
              "#ed7953"
             ],
             [
              0.7777777777777778,
              "#fb9f3a"
             ],
             [
              0.8888888888888888,
              "#fdca26"
             ],
             [
              1,
              "#f0f921"
             ]
            ],
            "type": "histogram2dcontour"
           }
          ],
          "mesh3d": [
           {
            "colorbar": {
             "outlinewidth": 0,
             "ticks": ""
            },
            "type": "mesh3d"
           }
          ],
          "parcoords": [
           {
            "line": {
             "colorbar": {
              "outlinewidth": 0,
              "ticks": ""
             }
            },
            "type": "parcoords"
           }
          ],
          "pie": [
           {
            "automargin": true,
            "type": "pie"
           }
          ],
          "scatter": [
           {
            "marker": {
             "colorbar": {
              "outlinewidth": 0,
              "ticks": ""
             }
            },
            "type": "scatter"
           }
          ],
          "scatter3d": [
           {
            "line": {
             "colorbar": {
              "outlinewidth": 0,
              "ticks": ""
             }
            },
            "marker": {
             "colorbar": {
              "outlinewidth": 0,
              "ticks": ""
             }
            },
            "type": "scatter3d"
           }
          ],
          "scattercarpet": [
           {
            "marker": {
             "colorbar": {
              "outlinewidth": 0,
              "ticks": ""
             }
            },
            "type": "scattercarpet"
           }
          ],
          "scattergeo": [
           {
            "marker": {
             "colorbar": {
              "outlinewidth": 0,
              "ticks": ""
             }
            },
            "type": "scattergeo"
           }
          ],
          "scattergl": [
           {
            "marker": {
             "colorbar": {
              "outlinewidth": 0,
              "ticks": ""
             }
            },
            "type": "scattergl"
           }
          ],
          "scattermapbox": [
           {
            "marker": {
             "colorbar": {
              "outlinewidth": 0,
              "ticks": ""
             }
            },
            "type": "scattermapbox"
           }
          ],
          "scatterpolar": [
           {
            "marker": {
             "colorbar": {
              "outlinewidth": 0,
              "ticks": ""
             }
            },
            "type": "scatterpolar"
           }
          ],
          "scatterpolargl": [
           {
            "marker": {
             "colorbar": {
              "outlinewidth": 0,
              "ticks": ""
             }
            },
            "type": "scatterpolargl"
           }
          ],
          "scatterternary": [
           {
            "marker": {
             "colorbar": {
              "outlinewidth": 0,
              "ticks": ""
             }
            },
            "type": "scatterternary"
           }
          ],
          "surface": [
           {
            "colorbar": {
             "outlinewidth": 0,
             "ticks": ""
            },
            "colorscale": [
             [
              0,
              "#0d0887"
             ],
             [
              0.1111111111111111,
              "#46039f"
             ],
             [
              0.2222222222222222,
              "#7201a8"
             ],
             [
              0.3333333333333333,
              "#9c179e"
             ],
             [
              0.4444444444444444,
              "#bd3786"
             ],
             [
              0.5555555555555556,
              "#d8576b"
             ],
             [
              0.6666666666666666,
              "#ed7953"
             ],
             [
              0.7777777777777778,
              "#fb9f3a"
             ],
             [
              0.8888888888888888,
              "#fdca26"
             ],
             [
              1,
              "#f0f921"
             ]
            ],
            "type": "surface"
           }
          ],
          "table": [
           {
            "cells": {
             "fill": {
              "color": "#EBF0F8"
             },
             "line": {
              "color": "white"
             }
            },
            "header": {
             "fill": {
              "color": "#C8D4E3"
             },
             "line": {
              "color": "white"
             }
            },
            "type": "table"
           }
          ]
         },
         "layout": {
          "annotationdefaults": {
           "arrowcolor": "#2a3f5f",
           "arrowhead": 0,
           "arrowwidth": 1
          },
          "autotypenumbers": "strict",
          "coloraxis": {
           "colorbar": {
            "outlinewidth": 0,
            "ticks": ""
           }
          },
          "colorscale": {
           "diverging": [
            [
             0,
             "#8e0152"
            ],
            [
             0.1,
             "#c51b7d"
            ],
            [
             0.2,
             "#de77ae"
            ],
            [
             0.3,
             "#f1b6da"
            ],
            [
             0.4,
             "#fde0ef"
            ],
            [
             0.5,
             "#f7f7f7"
            ],
            [
             0.6,
             "#e6f5d0"
            ],
            [
             0.7,
             "#b8e186"
            ],
            [
             0.8,
             "#7fbc41"
            ],
            [
             0.9,
             "#4d9221"
            ],
            [
             1,
             "#276419"
            ]
           ],
           "sequential": [
            [
             0,
             "#0d0887"
            ],
            [
             0.1111111111111111,
             "#46039f"
            ],
            [
             0.2222222222222222,
             "#7201a8"
            ],
            [
             0.3333333333333333,
             "#9c179e"
            ],
            [
             0.4444444444444444,
             "#bd3786"
            ],
            [
             0.5555555555555556,
             "#d8576b"
            ],
            [
             0.6666666666666666,
             "#ed7953"
            ],
            [
             0.7777777777777778,
             "#fb9f3a"
            ],
            [
             0.8888888888888888,
             "#fdca26"
            ],
            [
             1,
             "#f0f921"
            ]
           ],
           "sequentialminus": [
            [
             0,
             "#0d0887"
            ],
            [
             0.1111111111111111,
             "#46039f"
            ],
            [
             0.2222222222222222,
             "#7201a8"
            ],
            [
             0.3333333333333333,
             "#9c179e"
            ],
            [
             0.4444444444444444,
             "#bd3786"
            ],
            [
             0.5555555555555556,
             "#d8576b"
            ],
            [
             0.6666666666666666,
             "#ed7953"
            ],
            [
             0.7777777777777778,
             "#fb9f3a"
            ],
            [
             0.8888888888888888,
             "#fdca26"
            ],
            [
             1,
             "#f0f921"
            ]
           ]
          },
          "colorway": [
           "#636efa",
           "#EF553B",
           "#00cc96",
           "#ab63fa",
           "#FFA15A",
           "#19d3f3",
           "#FF6692",
           "#B6E880",
           "#FF97FF",
           "#FECB52"
          ],
          "font": {
           "color": "#2a3f5f"
          },
          "geo": {
           "bgcolor": "white",
           "lakecolor": "white",
           "landcolor": "#E5ECF6",
           "showlakes": true,
           "showland": true,
           "subunitcolor": "white"
          },
          "hoverlabel": {
           "align": "left"
          },
          "hovermode": "closest",
          "mapbox": {
           "style": "light"
          },
          "paper_bgcolor": "white",
          "plot_bgcolor": "#E5ECF6",
          "polar": {
           "angularaxis": {
            "gridcolor": "white",
            "linecolor": "white",
            "ticks": ""
           },
           "bgcolor": "#E5ECF6",
           "radialaxis": {
            "gridcolor": "white",
            "linecolor": "white",
            "ticks": ""
           }
          },
          "scene": {
           "xaxis": {
            "backgroundcolor": "#E5ECF6",
            "gridcolor": "white",
            "gridwidth": 2,
            "linecolor": "white",
            "showbackground": true,
            "ticks": "",
            "zerolinecolor": "white"
           },
           "yaxis": {
            "backgroundcolor": "#E5ECF6",
            "gridcolor": "white",
            "gridwidth": 2,
            "linecolor": "white",
            "showbackground": true,
            "ticks": "",
            "zerolinecolor": "white"
           },
           "zaxis": {
            "backgroundcolor": "#E5ECF6",
            "gridcolor": "white",
            "gridwidth": 2,
            "linecolor": "white",
            "showbackground": true,
            "ticks": "",
            "zerolinecolor": "white"
           }
          },
          "shapedefaults": {
           "line": {
            "color": "#2a3f5f"
           }
          },
          "ternary": {
           "aaxis": {
            "gridcolor": "white",
            "linecolor": "white",
            "ticks": ""
           },
           "baxis": {
            "gridcolor": "white",
            "linecolor": "white",
            "ticks": ""
           },
           "bgcolor": "#E5ECF6",
           "caxis": {
            "gridcolor": "white",
            "linecolor": "white",
            "ticks": ""
           }
          },
          "title": {
           "x": 0.05
          },
          "xaxis": {
           "automargin": true,
           "gridcolor": "white",
           "linecolor": "white",
           "ticks": "",
           "title": {
            "standoff": 15
           },
           "zerolinecolor": "white",
           "zerolinewidth": 2
          },
          "yaxis": {
           "automargin": true,
           "gridcolor": "white",
           "linecolor": "white",
           "ticks": "",
           "title": {
            "standoff": 15
           },
           "zerolinecolor": "white",
           "zerolinewidth": 2
          }
         }
        },
        "title": {
         "text": "High Profile Donors Count by Age Group"
        },
        "xaxis": {
         "title": {
          "text": "Age group"
         }
        },
        "yaxis": {
         "title": {
          "text": "Count of donors"
         }
        }
       }
      },
      "text/html": [
       "<div>                            <div id=\"77630c49-b1a2-4a7f-893e-18c845424ac4\" class=\"plotly-graph-div\" style=\"height:525px; width:100%;\"></div>            <script type=\"text/javascript\">                require([\"plotly\"], function(Plotly) {                    window.PLOTLYENV=window.PLOTLYENV || {};                                    if (document.getElementById(\"77630c49-b1a2-4a7f-893e-18c845424ac4\")) {                    Plotly.newPlot(                        \"77630c49-b1a2-4a7f-893e-18c845424ac4\",                        [{\"name\":\"High Profile\",\"x\":[10,20,30,40,50,60,70,80],\"y\":[95,257,338,472,496,491,237,125],\"type\":\"bar\"}],                        {\"template\":{\"data\":{\"bar\":[{\"error_x\":{\"color\":\"#2a3f5f\"},\"error_y\":{\"color\":\"#2a3f5f\"},\"marker\":{\"line\":{\"color\":\"#E5ECF6\",\"width\":0.5},\"pattern\":{\"fillmode\":\"overlay\",\"size\":10,\"solidity\":0.2}},\"type\":\"bar\"}],\"barpolar\":[{\"marker\":{\"line\":{\"color\":\"#E5ECF6\",\"width\":0.5},\"pattern\":{\"fillmode\":\"overlay\",\"size\":10,\"solidity\":0.2}},\"type\":\"barpolar\"}],\"carpet\":[{\"aaxis\":{\"endlinecolor\":\"#2a3f5f\",\"gridcolor\":\"white\",\"linecolor\":\"white\",\"minorgridcolor\":\"white\",\"startlinecolor\":\"#2a3f5f\"},\"baxis\":{\"endlinecolor\":\"#2a3f5f\",\"gridcolor\":\"white\",\"linecolor\":\"white\",\"minorgridcolor\":\"white\",\"startlinecolor\":\"#2a3f5f\"},\"type\":\"carpet\"}],\"choropleth\":[{\"colorbar\":{\"outlinewidth\":0,\"ticks\":\"\"},\"type\":\"choropleth\"}],\"contour\":[{\"colorbar\":{\"outlinewidth\":0,\"ticks\":\"\"},\"colorscale\":[[0.0,\"#0d0887\"],[0.1111111111111111,\"#46039f\"],[0.2222222222222222,\"#7201a8\"],[0.3333333333333333,\"#9c179e\"],[0.4444444444444444,\"#bd3786\"],[0.5555555555555556,\"#d8576b\"],[0.6666666666666666,\"#ed7953\"],[0.7777777777777778,\"#fb9f3a\"],[0.8888888888888888,\"#fdca26\"],[1.0,\"#f0f921\"]],\"type\":\"contour\"}],\"contourcarpet\":[{\"colorbar\":{\"outlinewidth\":0,\"ticks\":\"\"},\"type\":\"contourcarpet\"}],\"heatmap\":[{\"colorbar\":{\"outlinewidth\":0,\"ticks\":\"\"},\"colorscale\":[[0.0,\"#0d0887\"],[0.1111111111111111,\"#46039f\"],[0.2222222222222222,\"#7201a8\"],[0.3333333333333333,\"#9c179e\"],[0.4444444444444444,\"#bd3786\"],[0.5555555555555556,\"#d8576b\"],[0.6666666666666666,\"#ed7953\"],[0.7777777777777778,\"#fb9f3a\"],[0.8888888888888888,\"#fdca26\"],[1.0,\"#f0f921\"]],\"type\":\"heatmap\"}],\"heatmapgl\":[{\"colorbar\":{\"outlinewidth\":0,\"ticks\":\"\"},\"colorscale\":[[0.0,\"#0d0887\"],[0.1111111111111111,\"#46039f\"],[0.2222222222222222,\"#7201a8\"],[0.3333333333333333,\"#9c179e\"],[0.4444444444444444,\"#bd3786\"],[0.5555555555555556,\"#d8576b\"],[0.6666666666666666,\"#ed7953\"],[0.7777777777777778,\"#fb9f3a\"],[0.8888888888888888,\"#fdca26\"],[1.0,\"#f0f921\"]],\"type\":\"heatmapgl\"}],\"histogram\":[{\"marker\":{\"pattern\":{\"fillmode\":\"overlay\",\"size\":10,\"solidity\":0.2}},\"type\":\"histogram\"}],\"histogram2d\":[{\"colorbar\":{\"outlinewidth\":0,\"ticks\":\"\"},\"colorscale\":[[0.0,\"#0d0887\"],[0.1111111111111111,\"#46039f\"],[0.2222222222222222,\"#7201a8\"],[0.3333333333333333,\"#9c179e\"],[0.4444444444444444,\"#bd3786\"],[0.5555555555555556,\"#d8576b\"],[0.6666666666666666,\"#ed7953\"],[0.7777777777777778,\"#fb9f3a\"],[0.8888888888888888,\"#fdca26\"],[1.0,\"#f0f921\"]],\"type\":\"histogram2d\"}],\"histogram2dcontour\":[{\"colorbar\":{\"outlinewidth\":0,\"ticks\":\"\"},\"colorscale\":[[0.0,\"#0d0887\"],[0.1111111111111111,\"#46039f\"],[0.2222222222222222,\"#7201a8\"],[0.3333333333333333,\"#9c179e\"],[0.4444444444444444,\"#bd3786\"],[0.5555555555555556,\"#d8576b\"],[0.6666666666666666,\"#ed7953\"],[0.7777777777777778,\"#fb9f3a\"],[0.8888888888888888,\"#fdca26\"],[1.0,\"#f0f921\"]],\"type\":\"histogram2dcontour\"}],\"mesh3d\":[{\"colorbar\":{\"outlinewidth\":0,\"ticks\":\"\"},\"type\":\"mesh3d\"}],\"parcoords\":[{\"line\":{\"colorbar\":{\"outlinewidth\":0,\"ticks\":\"\"}},\"type\":\"parcoords\"}],\"pie\":[{\"automargin\":true,\"type\":\"pie\"}],\"scatter\":[{\"marker\":{\"colorbar\":{\"outlinewidth\":0,\"ticks\":\"\"}},\"type\":\"scatter\"}],\"scatter3d\":[{\"line\":{\"colorbar\":{\"outlinewidth\":0,\"ticks\":\"\"}},\"marker\":{\"colorbar\":{\"outlinewidth\":0,\"ticks\":\"\"}},\"type\":\"scatter3d\"}],\"scattercarpet\":[{\"marker\":{\"colorbar\":{\"outlinewidth\":0,\"ticks\":\"\"}},\"type\":\"scattercarpet\"}],\"scattergeo\":[{\"marker\":{\"colorbar\":{\"outlinewidth\":0,\"ticks\":\"\"}},\"type\":\"scattergeo\"}],\"scattergl\":[{\"marker\":{\"colorbar\":{\"outlinewidth\":0,\"ticks\":\"\"}},\"type\":\"scattergl\"}],\"scattermapbox\":[{\"marker\":{\"colorbar\":{\"outlinewidth\":0,\"ticks\":\"\"}},\"type\":\"scattermapbox\"}],\"scatterpolar\":[{\"marker\":{\"colorbar\":{\"outlinewidth\":0,\"ticks\":\"\"}},\"type\":\"scatterpolar\"}],\"scatterpolargl\":[{\"marker\":{\"colorbar\":{\"outlinewidth\":0,\"ticks\":\"\"}},\"type\":\"scatterpolargl\"}],\"scatterternary\":[{\"marker\":{\"colorbar\":{\"outlinewidth\":0,\"ticks\":\"\"}},\"type\":\"scatterternary\"}],\"surface\":[{\"colorbar\":{\"outlinewidth\":0,\"ticks\":\"\"},\"colorscale\":[[0.0,\"#0d0887\"],[0.1111111111111111,\"#46039f\"],[0.2222222222222222,\"#7201a8\"],[0.3333333333333333,\"#9c179e\"],[0.4444444444444444,\"#bd3786\"],[0.5555555555555556,\"#d8576b\"],[0.6666666666666666,\"#ed7953\"],[0.7777777777777778,\"#fb9f3a\"],[0.8888888888888888,\"#fdca26\"],[1.0,\"#f0f921\"]],\"type\":\"surface\"}],\"table\":[{\"cells\":{\"fill\":{\"color\":\"#EBF0F8\"},\"line\":{\"color\":\"white\"}},\"header\":{\"fill\":{\"color\":\"#C8D4E3\"},\"line\":{\"color\":\"white\"}},\"type\":\"table\"}]},\"layout\":{\"annotationdefaults\":{\"arrowcolor\":\"#2a3f5f\",\"arrowhead\":0,\"arrowwidth\":1},\"autotypenumbers\":\"strict\",\"coloraxis\":{\"colorbar\":{\"outlinewidth\":0,\"ticks\":\"\"}},\"colorscale\":{\"diverging\":[[0,\"#8e0152\"],[0.1,\"#c51b7d\"],[0.2,\"#de77ae\"],[0.3,\"#f1b6da\"],[0.4,\"#fde0ef\"],[0.5,\"#f7f7f7\"],[0.6,\"#e6f5d0\"],[0.7,\"#b8e186\"],[0.8,\"#7fbc41\"],[0.9,\"#4d9221\"],[1,\"#276419\"]],\"sequential\":[[0.0,\"#0d0887\"],[0.1111111111111111,\"#46039f\"],[0.2222222222222222,\"#7201a8\"],[0.3333333333333333,\"#9c179e\"],[0.4444444444444444,\"#bd3786\"],[0.5555555555555556,\"#d8576b\"],[0.6666666666666666,\"#ed7953\"],[0.7777777777777778,\"#fb9f3a\"],[0.8888888888888888,\"#fdca26\"],[1.0,\"#f0f921\"]],\"sequentialminus\":[[0.0,\"#0d0887\"],[0.1111111111111111,\"#46039f\"],[0.2222222222222222,\"#7201a8\"],[0.3333333333333333,\"#9c179e\"],[0.4444444444444444,\"#bd3786\"],[0.5555555555555556,\"#d8576b\"],[0.6666666666666666,\"#ed7953\"],[0.7777777777777778,\"#fb9f3a\"],[0.8888888888888888,\"#fdca26\"],[1.0,\"#f0f921\"]]},\"colorway\":[\"#636efa\",\"#EF553B\",\"#00cc96\",\"#ab63fa\",\"#FFA15A\",\"#19d3f3\",\"#FF6692\",\"#B6E880\",\"#FF97FF\",\"#FECB52\"],\"font\":{\"color\":\"#2a3f5f\"},\"geo\":{\"bgcolor\":\"white\",\"lakecolor\":\"white\",\"landcolor\":\"#E5ECF6\",\"showlakes\":true,\"showland\":true,\"subunitcolor\":\"white\"},\"hoverlabel\":{\"align\":\"left\"},\"hovermode\":\"closest\",\"mapbox\":{\"style\":\"light\"},\"paper_bgcolor\":\"white\",\"plot_bgcolor\":\"#E5ECF6\",\"polar\":{\"angularaxis\":{\"gridcolor\":\"white\",\"linecolor\":\"white\",\"ticks\":\"\"},\"bgcolor\":\"#E5ECF6\",\"radialaxis\":{\"gridcolor\":\"white\",\"linecolor\":\"white\",\"ticks\":\"\"}},\"scene\":{\"xaxis\":{\"backgroundcolor\":\"#E5ECF6\",\"gridcolor\":\"white\",\"gridwidth\":2,\"linecolor\":\"white\",\"showbackground\":true,\"ticks\":\"\",\"zerolinecolor\":\"white\"},\"yaxis\":{\"backgroundcolor\":\"#E5ECF6\",\"gridcolor\":\"white\",\"gridwidth\":2,\"linecolor\":\"white\",\"showbackground\":true,\"ticks\":\"\",\"zerolinecolor\":\"white\"},\"zaxis\":{\"backgroundcolor\":\"#E5ECF6\",\"gridcolor\":\"white\",\"gridwidth\":2,\"linecolor\":\"white\",\"showbackground\":true,\"ticks\":\"\",\"zerolinecolor\":\"white\"}},\"shapedefaults\":{\"line\":{\"color\":\"#2a3f5f\"}},\"ternary\":{\"aaxis\":{\"gridcolor\":\"white\",\"linecolor\":\"white\",\"ticks\":\"\"},\"baxis\":{\"gridcolor\":\"white\",\"linecolor\":\"white\",\"ticks\":\"\"},\"bgcolor\":\"#E5ECF6\",\"caxis\":{\"gridcolor\":\"white\",\"linecolor\":\"white\",\"ticks\":\"\"}},\"title\":{\"x\":0.05},\"xaxis\":{\"automargin\":true,\"gridcolor\":\"white\",\"linecolor\":\"white\",\"ticks\":\"\",\"title\":{\"standoff\":15},\"zerolinecolor\":\"white\",\"zerolinewidth\":2},\"yaxis\":{\"automargin\":true,\"gridcolor\":\"white\",\"linecolor\":\"white\",\"ticks\":\"\",\"title\":{\"standoff\":15},\"zerolinecolor\":\"white\",\"zerolinewidth\":2}}},\"title\":{\"text\":\"High Profile Donors Count by Age Group\"},\"xaxis\":{\"title\":{\"text\":\"Age group\"}},\"yaxis\":{\"title\":{\"text\":\"Count of donors\"}}},                        {\"responsive\": true}                    ).then(function(){\n",
       "                            \n",
       "var gd = document.getElementById('77630c49-b1a2-4a7f-893e-18c845424ac4');\n",
       "var x = new MutationObserver(function (mutations, observer) {{\n",
       "        var display = window.getComputedStyle(gd).display;\n",
       "        if (!display || display === 'none') {{\n",
       "            console.log([gd, 'removed!']);\n",
       "            Plotly.purge(gd);\n",
       "            observer.disconnect();\n",
       "        }}\n",
       "}});\n",
       "\n",
       "// Listen for the removal of the full notebook cells\n",
       "var notebookContainer = gd.closest('#notebook-container');\n",
       "if (notebookContainer) {{\n",
       "    x.observe(notebookContainer, {childList: true});\n",
       "}}\n",
       "\n",
       "// Listen for the clearing of the current output cell\n",
       "var outputEl = gd.closest('.output');\n",
       "if (outputEl) {{\n",
       "    x.observe(outputEl, {childList: true});\n",
       "}}\n",
       "\n",
       "                        })                };                });            </script>        </div>"
      ]
     },
     "metadata": {},
     "output_type": "display_data"
    }
   ],
   "source": [
    "fig = go.Figure(data=[\n",
    "    go.Bar(name='High Profile', x=best_by_age_group[\"age_group\"], y=best_by_age_group[\"total_donations_per_donor\"])])\n",
    "fig.update_layout(\n",
    "    title=\"High Profile Donors Count by Age Group\",\n",
    "    xaxis_title=\"Age group\",\n",
    "    yaxis_title=\"Count of donors\")\n",
    "fig.show()"
   ]
  },
  {
   "cell_type": "code",
   "execution_count": 410,
   "id": "ffe43d36",
   "metadata": {},
   "outputs": [],
   "source": [
    "best_agegroups_pct = best_by_age_group[best_by_age_group[\"age_group\"].isin([40,50,60])][\"total_donations_per_donor\"].sum()\n",
    "total_agegroups = best_by_age_group[\"total_donations_per_donor\"].sum()\n",
    "other_agegroups = total_agegroups - best_agegroups_pct"
   ]
  },
  {
   "cell_type": "code",
   "execution_count": 411,
   "id": "429afa65",
   "metadata": {},
   "outputs": [
    {
     "data": {
      "text/plain": [
       "0.5810434090003983"
      ]
     },
     "execution_count": 411,
     "metadata": {},
     "output_type": "execute_result"
    }
   ],
   "source": [
    "best_agegroups_pct/total_agegroups"
   ]
  },
  {
   "cell_type": "code",
   "execution_count": 412,
   "id": "b81f4cce",
   "metadata": {},
   "outputs": [
    {
     "data": {
      "application/vnd.plotly.v1+json": {
       "config": {
        "plotlyServerURL": "https://plot.ly"
       },
       "data": [
        {
         "labels": [
          "3 Top Age groups",
          "Other Donors"
         ],
         "pull": [
          0,
          0.2
         ],
         "type": "pie",
         "values": [
          1459,
          1052
         ]
        }
       ],
       "layout": {
        "template": {
         "data": {
          "bar": [
           {
            "error_x": {
             "color": "#2a3f5f"
            },
            "error_y": {
             "color": "#2a3f5f"
            },
            "marker": {
             "line": {
              "color": "#E5ECF6",
              "width": 0.5
             },
             "pattern": {
              "fillmode": "overlay",
              "size": 10,
              "solidity": 0.2
             }
            },
            "type": "bar"
           }
          ],
          "barpolar": [
           {
            "marker": {
             "line": {
              "color": "#E5ECF6",
              "width": 0.5
             },
             "pattern": {
              "fillmode": "overlay",
              "size": 10,
              "solidity": 0.2
             }
            },
            "type": "barpolar"
           }
          ],
          "carpet": [
           {
            "aaxis": {
             "endlinecolor": "#2a3f5f",
             "gridcolor": "white",
             "linecolor": "white",
             "minorgridcolor": "white",
             "startlinecolor": "#2a3f5f"
            },
            "baxis": {
             "endlinecolor": "#2a3f5f",
             "gridcolor": "white",
             "linecolor": "white",
             "minorgridcolor": "white",
             "startlinecolor": "#2a3f5f"
            },
            "type": "carpet"
           }
          ],
          "choropleth": [
           {
            "colorbar": {
             "outlinewidth": 0,
             "ticks": ""
            },
            "type": "choropleth"
           }
          ],
          "contour": [
           {
            "colorbar": {
             "outlinewidth": 0,
             "ticks": ""
            },
            "colorscale": [
             [
              0,
              "#0d0887"
             ],
             [
              0.1111111111111111,
              "#46039f"
             ],
             [
              0.2222222222222222,
              "#7201a8"
             ],
             [
              0.3333333333333333,
              "#9c179e"
             ],
             [
              0.4444444444444444,
              "#bd3786"
             ],
             [
              0.5555555555555556,
              "#d8576b"
             ],
             [
              0.6666666666666666,
              "#ed7953"
             ],
             [
              0.7777777777777778,
              "#fb9f3a"
             ],
             [
              0.8888888888888888,
              "#fdca26"
             ],
             [
              1,
              "#f0f921"
             ]
            ],
            "type": "contour"
           }
          ],
          "contourcarpet": [
           {
            "colorbar": {
             "outlinewidth": 0,
             "ticks": ""
            },
            "type": "contourcarpet"
           }
          ],
          "heatmap": [
           {
            "colorbar": {
             "outlinewidth": 0,
             "ticks": ""
            },
            "colorscale": [
             [
              0,
              "#0d0887"
             ],
             [
              0.1111111111111111,
              "#46039f"
             ],
             [
              0.2222222222222222,
              "#7201a8"
             ],
             [
              0.3333333333333333,
              "#9c179e"
             ],
             [
              0.4444444444444444,
              "#bd3786"
             ],
             [
              0.5555555555555556,
              "#d8576b"
             ],
             [
              0.6666666666666666,
              "#ed7953"
             ],
             [
              0.7777777777777778,
              "#fb9f3a"
             ],
             [
              0.8888888888888888,
              "#fdca26"
             ],
             [
              1,
              "#f0f921"
             ]
            ],
            "type": "heatmap"
           }
          ],
          "heatmapgl": [
           {
            "colorbar": {
             "outlinewidth": 0,
             "ticks": ""
            },
            "colorscale": [
             [
              0,
              "#0d0887"
             ],
             [
              0.1111111111111111,
              "#46039f"
             ],
             [
              0.2222222222222222,
              "#7201a8"
             ],
             [
              0.3333333333333333,
              "#9c179e"
             ],
             [
              0.4444444444444444,
              "#bd3786"
             ],
             [
              0.5555555555555556,
              "#d8576b"
             ],
             [
              0.6666666666666666,
              "#ed7953"
             ],
             [
              0.7777777777777778,
              "#fb9f3a"
             ],
             [
              0.8888888888888888,
              "#fdca26"
             ],
             [
              1,
              "#f0f921"
             ]
            ],
            "type": "heatmapgl"
           }
          ],
          "histogram": [
           {
            "marker": {
             "pattern": {
              "fillmode": "overlay",
              "size": 10,
              "solidity": 0.2
             }
            },
            "type": "histogram"
           }
          ],
          "histogram2d": [
           {
            "colorbar": {
             "outlinewidth": 0,
             "ticks": ""
            },
            "colorscale": [
             [
              0,
              "#0d0887"
             ],
             [
              0.1111111111111111,
              "#46039f"
             ],
             [
              0.2222222222222222,
              "#7201a8"
             ],
             [
              0.3333333333333333,
              "#9c179e"
             ],
             [
              0.4444444444444444,
              "#bd3786"
             ],
             [
              0.5555555555555556,
              "#d8576b"
             ],
             [
              0.6666666666666666,
              "#ed7953"
             ],
             [
              0.7777777777777778,
              "#fb9f3a"
             ],
             [
              0.8888888888888888,
              "#fdca26"
             ],
             [
              1,
              "#f0f921"
             ]
            ],
            "type": "histogram2d"
           }
          ],
          "histogram2dcontour": [
           {
            "colorbar": {
             "outlinewidth": 0,
             "ticks": ""
            },
            "colorscale": [
             [
              0,
              "#0d0887"
             ],
             [
              0.1111111111111111,
              "#46039f"
             ],
             [
              0.2222222222222222,
              "#7201a8"
             ],
             [
              0.3333333333333333,
              "#9c179e"
             ],
             [
              0.4444444444444444,
              "#bd3786"
             ],
             [
              0.5555555555555556,
              "#d8576b"
             ],
             [
              0.6666666666666666,
              "#ed7953"
             ],
             [
              0.7777777777777778,
              "#fb9f3a"
             ],
             [
              0.8888888888888888,
              "#fdca26"
             ],
             [
              1,
              "#f0f921"
             ]
            ],
            "type": "histogram2dcontour"
           }
          ],
          "mesh3d": [
           {
            "colorbar": {
             "outlinewidth": 0,
             "ticks": ""
            },
            "type": "mesh3d"
           }
          ],
          "parcoords": [
           {
            "line": {
             "colorbar": {
              "outlinewidth": 0,
              "ticks": ""
             }
            },
            "type": "parcoords"
           }
          ],
          "pie": [
           {
            "automargin": true,
            "type": "pie"
           }
          ],
          "scatter": [
           {
            "marker": {
             "colorbar": {
              "outlinewidth": 0,
              "ticks": ""
             }
            },
            "type": "scatter"
           }
          ],
          "scatter3d": [
           {
            "line": {
             "colorbar": {
              "outlinewidth": 0,
              "ticks": ""
             }
            },
            "marker": {
             "colorbar": {
              "outlinewidth": 0,
              "ticks": ""
             }
            },
            "type": "scatter3d"
           }
          ],
          "scattercarpet": [
           {
            "marker": {
             "colorbar": {
              "outlinewidth": 0,
              "ticks": ""
             }
            },
            "type": "scattercarpet"
           }
          ],
          "scattergeo": [
           {
            "marker": {
             "colorbar": {
              "outlinewidth": 0,
              "ticks": ""
             }
            },
            "type": "scattergeo"
           }
          ],
          "scattergl": [
           {
            "marker": {
             "colorbar": {
              "outlinewidth": 0,
              "ticks": ""
             }
            },
            "type": "scattergl"
           }
          ],
          "scattermapbox": [
           {
            "marker": {
             "colorbar": {
              "outlinewidth": 0,
              "ticks": ""
             }
            },
            "type": "scattermapbox"
           }
          ],
          "scatterpolar": [
           {
            "marker": {
             "colorbar": {
              "outlinewidth": 0,
              "ticks": ""
             }
            },
            "type": "scatterpolar"
           }
          ],
          "scatterpolargl": [
           {
            "marker": {
             "colorbar": {
              "outlinewidth": 0,
              "ticks": ""
             }
            },
            "type": "scatterpolargl"
           }
          ],
          "scatterternary": [
           {
            "marker": {
             "colorbar": {
              "outlinewidth": 0,
              "ticks": ""
             }
            },
            "type": "scatterternary"
           }
          ],
          "surface": [
           {
            "colorbar": {
             "outlinewidth": 0,
             "ticks": ""
            },
            "colorscale": [
             [
              0,
              "#0d0887"
             ],
             [
              0.1111111111111111,
              "#46039f"
             ],
             [
              0.2222222222222222,
              "#7201a8"
             ],
             [
              0.3333333333333333,
              "#9c179e"
             ],
             [
              0.4444444444444444,
              "#bd3786"
             ],
             [
              0.5555555555555556,
              "#d8576b"
             ],
             [
              0.6666666666666666,
              "#ed7953"
             ],
             [
              0.7777777777777778,
              "#fb9f3a"
             ],
             [
              0.8888888888888888,
              "#fdca26"
             ],
             [
              1,
              "#f0f921"
             ]
            ],
            "type": "surface"
           }
          ],
          "table": [
           {
            "cells": {
             "fill": {
              "color": "#EBF0F8"
             },
             "line": {
              "color": "white"
             }
            },
            "header": {
             "fill": {
              "color": "#C8D4E3"
             },
             "line": {
              "color": "white"
             }
            },
            "type": "table"
           }
          ]
         },
         "layout": {
          "annotationdefaults": {
           "arrowcolor": "#2a3f5f",
           "arrowhead": 0,
           "arrowwidth": 1
          },
          "autotypenumbers": "strict",
          "coloraxis": {
           "colorbar": {
            "outlinewidth": 0,
            "ticks": ""
           }
          },
          "colorscale": {
           "diverging": [
            [
             0,
             "#8e0152"
            ],
            [
             0.1,
             "#c51b7d"
            ],
            [
             0.2,
             "#de77ae"
            ],
            [
             0.3,
             "#f1b6da"
            ],
            [
             0.4,
             "#fde0ef"
            ],
            [
             0.5,
             "#f7f7f7"
            ],
            [
             0.6,
             "#e6f5d0"
            ],
            [
             0.7,
             "#b8e186"
            ],
            [
             0.8,
             "#7fbc41"
            ],
            [
             0.9,
             "#4d9221"
            ],
            [
             1,
             "#276419"
            ]
           ],
           "sequential": [
            [
             0,
             "#0d0887"
            ],
            [
             0.1111111111111111,
             "#46039f"
            ],
            [
             0.2222222222222222,
             "#7201a8"
            ],
            [
             0.3333333333333333,
             "#9c179e"
            ],
            [
             0.4444444444444444,
             "#bd3786"
            ],
            [
             0.5555555555555556,
             "#d8576b"
            ],
            [
             0.6666666666666666,
             "#ed7953"
            ],
            [
             0.7777777777777778,
             "#fb9f3a"
            ],
            [
             0.8888888888888888,
             "#fdca26"
            ],
            [
             1,
             "#f0f921"
            ]
           ],
           "sequentialminus": [
            [
             0,
             "#0d0887"
            ],
            [
             0.1111111111111111,
             "#46039f"
            ],
            [
             0.2222222222222222,
             "#7201a8"
            ],
            [
             0.3333333333333333,
             "#9c179e"
            ],
            [
             0.4444444444444444,
             "#bd3786"
            ],
            [
             0.5555555555555556,
             "#d8576b"
            ],
            [
             0.6666666666666666,
             "#ed7953"
            ],
            [
             0.7777777777777778,
             "#fb9f3a"
            ],
            [
             0.8888888888888888,
             "#fdca26"
            ],
            [
             1,
             "#f0f921"
            ]
           ]
          },
          "colorway": [
           "#636efa",
           "#EF553B",
           "#00cc96",
           "#ab63fa",
           "#FFA15A",
           "#19d3f3",
           "#FF6692",
           "#B6E880",
           "#FF97FF",
           "#FECB52"
          ],
          "font": {
           "color": "#2a3f5f"
          },
          "geo": {
           "bgcolor": "white",
           "lakecolor": "white",
           "landcolor": "#E5ECF6",
           "showlakes": true,
           "showland": true,
           "subunitcolor": "white"
          },
          "hoverlabel": {
           "align": "left"
          },
          "hovermode": "closest",
          "mapbox": {
           "style": "light"
          },
          "paper_bgcolor": "white",
          "plot_bgcolor": "#E5ECF6",
          "polar": {
           "angularaxis": {
            "gridcolor": "white",
            "linecolor": "white",
            "ticks": ""
           },
           "bgcolor": "#E5ECF6",
           "radialaxis": {
            "gridcolor": "white",
            "linecolor": "white",
            "ticks": ""
           }
          },
          "scene": {
           "xaxis": {
            "backgroundcolor": "#E5ECF6",
            "gridcolor": "white",
            "gridwidth": 2,
            "linecolor": "white",
            "showbackground": true,
            "ticks": "",
            "zerolinecolor": "white"
           },
           "yaxis": {
            "backgroundcolor": "#E5ECF6",
            "gridcolor": "white",
            "gridwidth": 2,
            "linecolor": "white",
            "showbackground": true,
            "ticks": "",
            "zerolinecolor": "white"
           },
           "zaxis": {
            "backgroundcolor": "#E5ECF6",
            "gridcolor": "white",
            "gridwidth": 2,
            "linecolor": "white",
            "showbackground": true,
            "ticks": "",
            "zerolinecolor": "white"
           }
          },
          "shapedefaults": {
           "line": {
            "color": "#2a3f5f"
           }
          },
          "ternary": {
           "aaxis": {
            "gridcolor": "white",
            "linecolor": "white",
            "ticks": ""
           },
           "baxis": {
            "gridcolor": "white",
            "linecolor": "white",
            "ticks": ""
           },
           "bgcolor": "#E5ECF6",
           "caxis": {
            "gridcolor": "white",
            "linecolor": "white",
            "ticks": ""
           }
          },
          "title": {
           "x": 0.05
          },
          "xaxis": {
           "automargin": true,
           "gridcolor": "white",
           "linecolor": "white",
           "ticks": "",
           "title": {
            "standoff": 15
           },
           "zerolinecolor": "white",
           "zerolinewidth": 2
          },
          "yaxis": {
           "automargin": true,
           "gridcolor": "white",
           "linecolor": "white",
           "ticks": "",
           "title": {
            "standoff": 15
           },
           "zerolinecolor": "white",
           "zerolinewidth": 2
          }
         }
        },
        "title": {
         "text": "High Profile 3 Top Age Groups Percentage"
        }
       }
      },
      "text/html": [
       "<div>                            <div id=\"a04f8cea-1398-4826-8268-6ed9d0d3b8ce\" class=\"plotly-graph-div\" style=\"height:525px; width:100%;\"></div>            <script type=\"text/javascript\">                require([\"plotly\"], function(Plotly) {                    window.PLOTLYENV=window.PLOTLYENV || {};                                    if (document.getElementById(\"a04f8cea-1398-4826-8268-6ed9d0d3b8ce\")) {                    Plotly.newPlot(                        \"a04f8cea-1398-4826-8268-6ed9d0d3b8ce\",                        [{\"labels\":[\"3 Top Age groups\",\"Other Donors\"],\"pull\":[0,0.2],\"values\":[1459,1052],\"type\":\"pie\"}],                        {\"template\":{\"data\":{\"bar\":[{\"error_x\":{\"color\":\"#2a3f5f\"},\"error_y\":{\"color\":\"#2a3f5f\"},\"marker\":{\"line\":{\"color\":\"#E5ECF6\",\"width\":0.5},\"pattern\":{\"fillmode\":\"overlay\",\"size\":10,\"solidity\":0.2}},\"type\":\"bar\"}],\"barpolar\":[{\"marker\":{\"line\":{\"color\":\"#E5ECF6\",\"width\":0.5},\"pattern\":{\"fillmode\":\"overlay\",\"size\":10,\"solidity\":0.2}},\"type\":\"barpolar\"}],\"carpet\":[{\"aaxis\":{\"endlinecolor\":\"#2a3f5f\",\"gridcolor\":\"white\",\"linecolor\":\"white\",\"minorgridcolor\":\"white\",\"startlinecolor\":\"#2a3f5f\"},\"baxis\":{\"endlinecolor\":\"#2a3f5f\",\"gridcolor\":\"white\",\"linecolor\":\"white\",\"minorgridcolor\":\"white\",\"startlinecolor\":\"#2a3f5f\"},\"type\":\"carpet\"}],\"choropleth\":[{\"colorbar\":{\"outlinewidth\":0,\"ticks\":\"\"},\"type\":\"choropleth\"}],\"contour\":[{\"colorbar\":{\"outlinewidth\":0,\"ticks\":\"\"},\"colorscale\":[[0.0,\"#0d0887\"],[0.1111111111111111,\"#46039f\"],[0.2222222222222222,\"#7201a8\"],[0.3333333333333333,\"#9c179e\"],[0.4444444444444444,\"#bd3786\"],[0.5555555555555556,\"#d8576b\"],[0.6666666666666666,\"#ed7953\"],[0.7777777777777778,\"#fb9f3a\"],[0.8888888888888888,\"#fdca26\"],[1.0,\"#f0f921\"]],\"type\":\"contour\"}],\"contourcarpet\":[{\"colorbar\":{\"outlinewidth\":0,\"ticks\":\"\"},\"type\":\"contourcarpet\"}],\"heatmap\":[{\"colorbar\":{\"outlinewidth\":0,\"ticks\":\"\"},\"colorscale\":[[0.0,\"#0d0887\"],[0.1111111111111111,\"#46039f\"],[0.2222222222222222,\"#7201a8\"],[0.3333333333333333,\"#9c179e\"],[0.4444444444444444,\"#bd3786\"],[0.5555555555555556,\"#d8576b\"],[0.6666666666666666,\"#ed7953\"],[0.7777777777777778,\"#fb9f3a\"],[0.8888888888888888,\"#fdca26\"],[1.0,\"#f0f921\"]],\"type\":\"heatmap\"}],\"heatmapgl\":[{\"colorbar\":{\"outlinewidth\":0,\"ticks\":\"\"},\"colorscale\":[[0.0,\"#0d0887\"],[0.1111111111111111,\"#46039f\"],[0.2222222222222222,\"#7201a8\"],[0.3333333333333333,\"#9c179e\"],[0.4444444444444444,\"#bd3786\"],[0.5555555555555556,\"#d8576b\"],[0.6666666666666666,\"#ed7953\"],[0.7777777777777778,\"#fb9f3a\"],[0.8888888888888888,\"#fdca26\"],[1.0,\"#f0f921\"]],\"type\":\"heatmapgl\"}],\"histogram\":[{\"marker\":{\"pattern\":{\"fillmode\":\"overlay\",\"size\":10,\"solidity\":0.2}},\"type\":\"histogram\"}],\"histogram2d\":[{\"colorbar\":{\"outlinewidth\":0,\"ticks\":\"\"},\"colorscale\":[[0.0,\"#0d0887\"],[0.1111111111111111,\"#46039f\"],[0.2222222222222222,\"#7201a8\"],[0.3333333333333333,\"#9c179e\"],[0.4444444444444444,\"#bd3786\"],[0.5555555555555556,\"#d8576b\"],[0.6666666666666666,\"#ed7953\"],[0.7777777777777778,\"#fb9f3a\"],[0.8888888888888888,\"#fdca26\"],[1.0,\"#f0f921\"]],\"type\":\"histogram2d\"}],\"histogram2dcontour\":[{\"colorbar\":{\"outlinewidth\":0,\"ticks\":\"\"},\"colorscale\":[[0.0,\"#0d0887\"],[0.1111111111111111,\"#46039f\"],[0.2222222222222222,\"#7201a8\"],[0.3333333333333333,\"#9c179e\"],[0.4444444444444444,\"#bd3786\"],[0.5555555555555556,\"#d8576b\"],[0.6666666666666666,\"#ed7953\"],[0.7777777777777778,\"#fb9f3a\"],[0.8888888888888888,\"#fdca26\"],[1.0,\"#f0f921\"]],\"type\":\"histogram2dcontour\"}],\"mesh3d\":[{\"colorbar\":{\"outlinewidth\":0,\"ticks\":\"\"},\"type\":\"mesh3d\"}],\"parcoords\":[{\"line\":{\"colorbar\":{\"outlinewidth\":0,\"ticks\":\"\"}},\"type\":\"parcoords\"}],\"pie\":[{\"automargin\":true,\"type\":\"pie\"}],\"scatter\":[{\"marker\":{\"colorbar\":{\"outlinewidth\":0,\"ticks\":\"\"}},\"type\":\"scatter\"}],\"scatter3d\":[{\"line\":{\"colorbar\":{\"outlinewidth\":0,\"ticks\":\"\"}},\"marker\":{\"colorbar\":{\"outlinewidth\":0,\"ticks\":\"\"}},\"type\":\"scatter3d\"}],\"scattercarpet\":[{\"marker\":{\"colorbar\":{\"outlinewidth\":0,\"ticks\":\"\"}},\"type\":\"scattercarpet\"}],\"scattergeo\":[{\"marker\":{\"colorbar\":{\"outlinewidth\":0,\"ticks\":\"\"}},\"type\":\"scattergeo\"}],\"scattergl\":[{\"marker\":{\"colorbar\":{\"outlinewidth\":0,\"ticks\":\"\"}},\"type\":\"scattergl\"}],\"scattermapbox\":[{\"marker\":{\"colorbar\":{\"outlinewidth\":0,\"ticks\":\"\"}},\"type\":\"scattermapbox\"}],\"scatterpolar\":[{\"marker\":{\"colorbar\":{\"outlinewidth\":0,\"ticks\":\"\"}},\"type\":\"scatterpolar\"}],\"scatterpolargl\":[{\"marker\":{\"colorbar\":{\"outlinewidth\":0,\"ticks\":\"\"}},\"type\":\"scatterpolargl\"}],\"scatterternary\":[{\"marker\":{\"colorbar\":{\"outlinewidth\":0,\"ticks\":\"\"}},\"type\":\"scatterternary\"}],\"surface\":[{\"colorbar\":{\"outlinewidth\":0,\"ticks\":\"\"},\"colorscale\":[[0.0,\"#0d0887\"],[0.1111111111111111,\"#46039f\"],[0.2222222222222222,\"#7201a8\"],[0.3333333333333333,\"#9c179e\"],[0.4444444444444444,\"#bd3786\"],[0.5555555555555556,\"#d8576b\"],[0.6666666666666666,\"#ed7953\"],[0.7777777777777778,\"#fb9f3a\"],[0.8888888888888888,\"#fdca26\"],[1.0,\"#f0f921\"]],\"type\":\"surface\"}],\"table\":[{\"cells\":{\"fill\":{\"color\":\"#EBF0F8\"},\"line\":{\"color\":\"white\"}},\"header\":{\"fill\":{\"color\":\"#C8D4E3\"},\"line\":{\"color\":\"white\"}},\"type\":\"table\"}]},\"layout\":{\"annotationdefaults\":{\"arrowcolor\":\"#2a3f5f\",\"arrowhead\":0,\"arrowwidth\":1},\"autotypenumbers\":\"strict\",\"coloraxis\":{\"colorbar\":{\"outlinewidth\":0,\"ticks\":\"\"}},\"colorscale\":{\"diverging\":[[0,\"#8e0152\"],[0.1,\"#c51b7d\"],[0.2,\"#de77ae\"],[0.3,\"#f1b6da\"],[0.4,\"#fde0ef\"],[0.5,\"#f7f7f7\"],[0.6,\"#e6f5d0\"],[0.7,\"#b8e186\"],[0.8,\"#7fbc41\"],[0.9,\"#4d9221\"],[1,\"#276419\"]],\"sequential\":[[0.0,\"#0d0887\"],[0.1111111111111111,\"#46039f\"],[0.2222222222222222,\"#7201a8\"],[0.3333333333333333,\"#9c179e\"],[0.4444444444444444,\"#bd3786\"],[0.5555555555555556,\"#d8576b\"],[0.6666666666666666,\"#ed7953\"],[0.7777777777777778,\"#fb9f3a\"],[0.8888888888888888,\"#fdca26\"],[1.0,\"#f0f921\"]],\"sequentialminus\":[[0.0,\"#0d0887\"],[0.1111111111111111,\"#46039f\"],[0.2222222222222222,\"#7201a8\"],[0.3333333333333333,\"#9c179e\"],[0.4444444444444444,\"#bd3786\"],[0.5555555555555556,\"#d8576b\"],[0.6666666666666666,\"#ed7953\"],[0.7777777777777778,\"#fb9f3a\"],[0.8888888888888888,\"#fdca26\"],[1.0,\"#f0f921\"]]},\"colorway\":[\"#636efa\",\"#EF553B\",\"#00cc96\",\"#ab63fa\",\"#FFA15A\",\"#19d3f3\",\"#FF6692\",\"#B6E880\",\"#FF97FF\",\"#FECB52\"],\"font\":{\"color\":\"#2a3f5f\"},\"geo\":{\"bgcolor\":\"white\",\"lakecolor\":\"white\",\"landcolor\":\"#E5ECF6\",\"showlakes\":true,\"showland\":true,\"subunitcolor\":\"white\"},\"hoverlabel\":{\"align\":\"left\"},\"hovermode\":\"closest\",\"mapbox\":{\"style\":\"light\"},\"paper_bgcolor\":\"white\",\"plot_bgcolor\":\"#E5ECF6\",\"polar\":{\"angularaxis\":{\"gridcolor\":\"white\",\"linecolor\":\"white\",\"ticks\":\"\"},\"bgcolor\":\"#E5ECF6\",\"radialaxis\":{\"gridcolor\":\"white\",\"linecolor\":\"white\",\"ticks\":\"\"}},\"scene\":{\"xaxis\":{\"backgroundcolor\":\"#E5ECF6\",\"gridcolor\":\"white\",\"gridwidth\":2,\"linecolor\":\"white\",\"showbackground\":true,\"ticks\":\"\",\"zerolinecolor\":\"white\"},\"yaxis\":{\"backgroundcolor\":\"#E5ECF6\",\"gridcolor\":\"white\",\"gridwidth\":2,\"linecolor\":\"white\",\"showbackground\":true,\"ticks\":\"\",\"zerolinecolor\":\"white\"},\"zaxis\":{\"backgroundcolor\":\"#E5ECF6\",\"gridcolor\":\"white\",\"gridwidth\":2,\"linecolor\":\"white\",\"showbackground\":true,\"ticks\":\"\",\"zerolinecolor\":\"white\"}},\"shapedefaults\":{\"line\":{\"color\":\"#2a3f5f\"}},\"ternary\":{\"aaxis\":{\"gridcolor\":\"white\",\"linecolor\":\"white\",\"ticks\":\"\"},\"baxis\":{\"gridcolor\":\"white\",\"linecolor\":\"white\",\"ticks\":\"\"},\"bgcolor\":\"#E5ECF6\",\"caxis\":{\"gridcolor\":\"white\",\"linecolor\":\"white\",\"ticks\":\"\"}},\"title\":{\"x\":0.05},\"xaxis\":{\"automargin\":true,\"gridcolor\":\"white\",\"linecolor\":\"white\",\"ticks\":\"\",\"title\":{\"standoff\":15},\"zerolinecolor\":\"white\",\"zerolinewidth\":2},\"yaxis\":{\"automargin\":true,\"gridcolor\":\"white\",\"linecolor\":\"white\",\"ticks\":\"\",\"title\":{\"standoff\":15},\"zerolinecolor\":\"white\",\"zerolinewidth\":2}}},\"title\":{\"text\":\"High Profile 3 Top Age Groups Percentage\"}},                        {\"responsive\": true}                    ).then(function(){\n",
       "                            \n",
       "var gd = document.getElementById('a04f8cea-1398-4826-8268-6ed9d0d3b8ce');\n",
       "var x = new MutationObserver(function (mutations, observer) {{\n",
       "        var display = window.getComputedStyle(gd).display;\n",
       "        if (!display || display === 'none') {{\n",
       "            console.log([gd, 'removed!']);\n",
       "            Plotly.purge(gd);\n",
       "            observer.disconnect();\n",
       "        }}\n",
       "}});\n",
       "\n",
       "// Listen for the removal of the full notebook cells\n",
       "var notebookContainer = gd.closest('#notebook-container');\n",
       "if (notebookContainer) {{\n",
       "    x.observe(notebookContainer, {childList: true});\n",
       "}}\n",
       "\n",
       "// Listen for the clearing of the current output cell\n",
       "var outputEl = gd.closest('.output');\n",
       "if (outputEl) {{\n",
       "    x.observe(outputEl, {childList: true});\n",
       "}}\n",
       "\n",
       "                        })                };                });            </script>        </div>"
      ]
     },
     "metadata": {},
     "output_type": "display_data"
    }
   ],
   "source": [
    "labels = ['3 Top Age groups','Other Donors']\n",
    "values = [best_agegroups_pct, other_agegroups]\n",
    "\n",
    "# pull is given as a fraction of the pie radius\n",
    "fig = go.Figure(data=[go.Pie(labels=labels, values=values, pull=[0, 0.2])])\n",
    "fig.update_layout(\n",
    "    title=\"High Profile 3 Top Age Groups Percentage\")\n",
    "fig.show()"
   ]
  },
  {
   "cell_type": "code",
   "execution_count": 413,
   "id": "83c299ac",
   "metadata": {},
   "outputs": [],
   "source": [
    "best_by_gender_agegroup = DataFrame(best_pro_feat.groupby(['age_group','gender']).total_donations_per_donor.count()).unstack('gender')\n",
    "best_by_gender_agegroup = best_by_gender_agegroup.reset_index()\n",
    "\n",
    "worst_by_gender_agegroup = DataFrame(bad_pro_feat.groupby(['age_group','gender']).total_donations_per_donor.count()).unstack('gender')\n",
    "worst_by_gender_agegroup = worst_by_gender_agegroup.reset_index()\n",
    "\n",
    "best_by_gender_agegroup.columns = [\"age_group\", \"Female\", \"Male\"]\n",
    "worst_by_gender_agegroup.columns = [\"age_group\", \"Female\", \"Male\"]"
   ]
  },
  {
   "cell_type": "code",
   "execution_count": 414,
   "id": "93f2f1a2",
   "metadata": {},
   "outputs": [
    {
     "data": {
      "application/vnd.plotly.v1+json": {
       "config": {
        "plotlyServerURL": "https://plot.ly"
       },
       "data": [
        {
         "name": "Female",
         "type": "bar",
         "x": [
          10,
          20,
          30,
          40,
          50,
          60,
          70,
          80
         ],
         "y": [
          68,
          205,
          209,
          274,
          380,
          232,
          119,
          63
         ]
        },
        {
         "name": "Male",
         "type": "bar",
         "x": [
          10,
          20,
          30,
          40,
          50,
          60,
          70,
          80
         ],
         "y": [
          27,
          52,
          129,
          198,
          116,
          259,
          118,
          62
         ]
        }
       ],
       "layout": {
        "template": {
         "data": {
          "bar": [
           {
            "error_x": {
             "color": "#2a3f5f"
            },
            "error_y": {
             "color": "#2a3f5f"
            },
            "marker": {
             "line": {
              "color": "#E5ECF6",
              "width": 0.5
             },
             "pattern": {
              "fillmode": "overlay",
              "size": 10,
              "solidity": 0.2
             }
            },
            "type": "bar"
           }
          ],
          "barpolar": [
           {
            "marker": {
             "line": {
              "color": "#E5ECF6",
              "width": 0.5
             },
             "pattern": {
              "fillmode": "overlay",
              "size": 10,
              "solidity": 0.2
             }
            },
            "type": "barpolar"
           }
          ],
          "carpet": [
           {
            "aaxis": {
             "endlinecolor": "#2a3f5f",
             "gridcolor": "white",
             "linecolor": "white",
             "minorgridcolor": "white",
             "startlinecolor": "#2a3f5f"
            },
            "baxis": {
             "endlinecolor": "#2a3f5f",
             "gridcolor": "white",
             "linecolor": "white",
             "minorgridcolor": "white",
             "startlinecolor": "#2a3f5f"
            },
            "type": "carpet"
           }
          ],
          "choropleth": [
           {
            "colorbar": {
             "outlinewidth": 0,
             "ticks": ""
            },
            "type": "choropleth"
           }
          ],
          "contour": [
           {
            "colorbar": {
             "outlinewidth": 0,
             "ticks": ""
            },
            "colorscale": [
             [
              0,
              "#0d0887"
             ],
             [
              0.1111111111111111,
              "#46039f"
             ],
             [
              0.2222222222222222,
              "#7201a8"
             ],
             [
              0.3333333333333333,
              "#9c179e"
             ],
             [
              0.4444444444444444,
              "#bd3786"
             ],
             [
              0.5555555555555556,
              "#d8576b"
             ],
             [
              0.6666666666666666,
              "#ed7953"
             ],
             [
              0.7777777777777778,
              "#fb9f3a"
             ],
             [
              0.8888888888888888,
              "#fdca26"
             ],
             [
              1,
              "#f0f921"
             ]
            ],
            "type": "contour"
           }
          ],
          "contourcarpet": [
           {
            "colorbar": {
             "outlinewidth": 0,
             "ticks": ""
            },
            "type": "contourcarpet"
           }
          ],
          "heatmap": [
           {
            "colorbar": {
             "outlinewidth": 0,
             "ticks": ""
            },
            "colorscale": [
             [
              0,
              "#0d0887"
             ],
             [
              0.1111111111111111,
              "#46039f"
             ],
             [
              0.2222222222222222,
              "#7201a8"
             ],
             [
              0.3333333333333333,
              "#9c179e"
             ],
             [
              0.4444444444444444,
              "#bd3786"
             ],
             [
              0.5555555555555556,
              "#d8576b"
             ],
             [
              0.6666666666666666,
              "#ed7953"
             ],
             [
              0.7777777777777778,
              "#fb9f3a"
             ],
             [
              0.8888888888888888,
              "#fdca26"
             ],
             [
              1,
              "#f0f921"
             ]
            ],
            "type": "heatmap"
           }
          ],
          "heatmapgl": [
           {
            "colorbar": {
             "outlinewidth": 0,
             "ticks": ""
            },
            "colorscale": [
             [
              0,
              "#0d0887"
             ],
             [
              0.1111111111111111,
              "#46039f"
             ],
             [
              0.2222222222222222,
              "#7201a8"
             ],
             [
              0.3333333333333333,
              "#9c179e"
             ],
             [
              0.4444444444444444,
              "#bd3786"
             ],
             [
              0.5555555555555556,
              "#d8576b"
             ],
             [
              0.6666666666666666,
              "#ed7953"
             ],
             [
              0.7777777777777778,
              "#fb9f3a"
             ],
             [
              0.8888888888888888,
              "#fdca26"
             ],
             [
              1,
              "#f0f921"
             ]
            ],
            "type": "heatmapgl"
           }
          ],
          "histogram": [
           {
            "marker": {
             "pattern": {
              "fillmode": "overlay",
              "size": 10,
              "solidity": 0.2
             }
            },
            "type": "histogram"
           }
          ],
          "histogram2d": [
           {
            "colorbar": {
             "outlinewidth": 0,
             "ticks": ""
            },
            "colorscale": [
             [
              0,
              "#0d0887"
             ],
             [
              0.1111111111111111,
              "#46039f"
             ],
             [
              0.2222222222222222,
              "#7201a8"
             ],
             [
              0.3333333333333333,
              "#9c179e"
             ],
             [
              0.4444444444444444,
              "#bd3786"
             ],
             [
              0.5555555555555556,
              "#d8576b"
             ],
             [
              0.6666666666666666,
              "#ed7953"
             ],
             [
              0.7777777777777778,
              "#fb9f3a"
             ],
             [
              0.8888888888888888,
              "#fdca26"
             ],
             [
              1,
              "#f0f921"
             ]
            ],
            "type": "histogram2d"
           }
          ],
          "histogram2dcontour": [
           {
            "colorbar": {
             "outlinewidth": 0,
             "ticks": ""
            },
            "colorscale": [
             [
              0,
              "#0d0887"
             ],
             [
              0.1111111111111111,
              "#46039f"
             ],
             [
              0.2222222222222222,
              "#7201a8"
             ],
             [
              0.3333333333333333,
              "#9c179e"
             ],
             [
              0.4444444444444444,
              "#bd3786"
             ],
             [
              0.5555555555555556,
              "#d8576b"
             ],
             [
              0.6666666666666666,
              "#ed7953"
             ],
             [
              0.7777777777777778,
              "#fb9f3a"
             ],
             [
              0.8888888888888888,
              "#fdca26"
             ],
             [
              1,
              "#f0f921"
             ]
            ],
            "type": "histogram2dcontour"
           }
          ],
          "mesh3d": [
           {
            "colorbar": {
             "outlinewidth": 0,
             "ticks": ""
            },
            "type": "mesh3d"
           }
          ],
          "parcoords": [
           {
            "line": {
             "colorbar": {
              "outlinewidth": 0,
              "ticks": ""
             }
            },
            "type": "parcoords"
           }
          ],
          "pie": [
           {
            "automargin": true,
            "type": "pie"
           }
          ],
          "scatter": [
           {
            "marker": {
             "colorbar": {
              "outlinewidth": 0,
              "ticks": ""
             }
            },
            "type": "scatter"
           }
          ],
          "scatter3d": [
           {
            "line": {
             "colorbar": {
              "outlinewidth": 0,
              "ticks": ""
             }
            },
            "marker": {
             "colorbar": {
              "outlinewidth": 0,
              "ticks": ""
             }
            },
            "type": "scatter3d"
           }
          ],
          "scattercarpet": [
           {
            "marker": {
             "colorbar": {
              "outlinewidth": 0,
              "ticks": ""
             }
            },
            "type": "scattercarpet"
           }
          ],
          "scattergeo": [
           {
            "marker": {
             "colorbar": {
              "outlinewidth": 0,
              "ticks": ""
             }
            },
            "type": "scattergeo"
           }
          ],
          "scattergl": [
           {
            "marker": {
             "colorbar": {
              "outlinewidth": 0,
              "ticks": ""
             }
            },
            "type": "scattergl"
           }
          ],
          "scattermapbox": [
           {
            "marker": {
             "colorbar": {
              "outlinewidth": 0,
              "ticks": ""
             }
            },
            "type": "scattermapbox"
           }
          ],
          "scatterpolar": [
           {
            "marker": {
             "colorbar": {
              "outlinewidth": 0,
              "ticks": ""
             }
            },
            "type": "scatterpolar"
           }
          ],
          "scatterpolargl": [
           {
            "marker": {
             "colorbar": {
              "outlinewidth": 0,
              "ticks": ""
             }
            },
            "type": "scatterpolargl"
           }
          ],
          "scatterternary": [
           {
            "marker": {
             "colorbar": {
              "outlinewidth": 0,
              "ticks": ""
             }
            },
            "type": "scatterternary"
           }
          ],
          "surface": [
           {
            "colorbar": {
             "outlinewidth": 0,
             "ticks": ""
            },
            "colorscale": [
             [
              0,
              "#0d0887"
             ],
             [
              0.1111111111111111,
              "#46039f"
             ],
             [
              0.2222222222222222,
              "#7201a8"
             ],
             [
              0.3333333333333333,
              "#9c179e"
             ],
             [
              0.4444444444444444,
              "#bd3786"
             ],
             [
              0.5555555555555556,
              "#d8576b"
             ],
             [
              0.6666666666666666,
              "#ed7953"
             ],
             [
              0.7777777777777778,
              "#fb9f3a"
             ],
             [
              0.8888888888888888,
              "#fdca26"
             ],
             [
              1,
              "#f0f921"
             ]
            ],
            "type": "surface"
           }
          ],
          "table": [
           {
            "cells": {
             "fill": {
              "color": "#EBF0F8"
             },
             "line": {
              "color": "white"
             }
            },
            "header": {
             "fill": {
              "color": "#C8D4E3"
             },
             "line": {
              "color": "white"
             }
            },
            "type": "table"
           }
          ]
         },
         "layout": {
          "annotationdefaults": {
           "arrowcolor": "#2a3f5f",
           "arrowhead": 0,
           "arrowwidth": 1
          },
          "autotypenumbers": "strict",
          "coloraxis": {
           "colorbar": {
            "outlinewidth": 0,
            "ticks": ""
           }
          },
          "colorscale": {
           "diverging": [
            [
             0,
             "#8e0152"
            ],
            [
             0.1,
             "#c51b7d"
            ],
            [
             0.2,
             "#de77ae"
            ],
            [
             0.3,
             "#f1b6da"
            ],
            [
             0.4,
             "#fde0ef"
            ],
            [
             0.5,
             "#f7f7f7"
            ],
            [
             0.6,
             "#e6f5d0"
            ],
            [
             0.7,
             "#b8e186"
            ],
            [
             0.8,
             "#7fbc41"
            ],
            [
             0.9,
             "#4d9221"
            ],
            [
             1,
             "#276419"
            ]
           ],
           "sequential": [
            [
             0,
             "#0d0887"
            ],
            [
             0.1111111111111111,
             "#46039f"
            ],
            [
             0.2222222222222222,
             "#7201a8"
            ],
            [
             0.3333333333333333,
             "#9c179e"
            ],
            [
             0.4444444444444444,
             "#bd3786"
            ],
            [
             0.5555555555555556,
             "#d8576b"
            ],
            [
             0.6666666666666666,
             "#ed7953"
            ],
            [
             0.7777777777777778,
             "#fb9f3a"
            ],
            [
             0.8888888888888888,
             "#fdca26"
            ],
            [
             1,
             "#f0f921"
            ]
           ],
           "sequentialminus": [
            [
             0,
             "#0d0887"
            ],
            [
             0.1111111111111111,
             "#46039f"
            ],
            [
             0.2222222222222222,
             "#7201a8"
            ],
            [
             0.3333333333333333,
             "#9c179e"
            ],
            [
             0.4444444444444444,
             "#bd3786"
            ],
            [
             0.5555555555555556,
             "#d8576b"
            ],
            [
             0.6666666666666666,
             "#ed7953"
            ],
            [
             0.7777777777777778,
             "#fb9f3a"
            ],
            [
             0.8888888888888888,
             "#fdca26"
            ],
            [
             1,
             "#f0f921"
            ]
           ]
          },
          "colorway": [
           "#636efa",
           "#EF553B",
           "#00cc96",
           "#ab63fa",
           "#FFA15A",
           "#19d3f3",
           "#FF6692",
           "#B6E880",
           "#FF97FF",
           "#FECB52"
          ],
          "font": {
           "color": "#2a3f5f"
          },
          "geo": {
           "bgcolor": "white",
           "lakecolor": "white",
           "landcolor": "#E5ECF6",
           "showlakes": true,
           "showland": true,
           "subunitcolor": "white"
          },
          "hoverlabel": {
           "align": "left"
          },
          "hovermode": "closest",
          "mapbox": {
           "style": "light"
          },
          "paper_bgcolor": "white",
          "plot_bgcolor": "#E5ECF6",
          "polar": {
           "angularaxis": {
            "gridcolor": "white",
            "linecolor": "white",
            "ticks": ""
           },
           "bgcolor": "#E5ECF6",
           "radialaxis": {
            "gridcolor": "white",
            "linecolor": "white",
            "ticks": ""
           }
          },
          "scene": {
           "xaxis": {
            "backgroundcolor": "#E5ECF6",
            "gridcolor": "white",
            "gridwidth": 2,
            "linecolor": "white",
            "showbackground": true,
            "ticks": "",
            "zerolinecolor": "white"
           },
           "yaxis": {
            "backgroundcolor": "#E5ECF6",
            "gridcolor": "white",
            "gridwidth": 2,
            "linecolor": "white",
            "showbackground": true,
            "ticks": "",
            "zerolinecolor": "white"
           },
           "zaxis": {
            "backgroundcolor": "#E5ECF6",
            "gridcolor": "white",
            "gridwidth": 2,
            "linecolor": "white",
            "showbackground": true,
            "ticks": "",
            "zerolinecolor": "white"
           }
          },
          "shapedefaults": {
           "line": {
            "color": "#2a3f5f"
           }
          },
          "ternary": {
           "aaxis": {
            "gridcolor": "white",
            "linecolor": "white",
            "ticks": ""
           },
           "baxis": {
            "gridcolor": "white",
            "linecolor": "white",
            "ticks": ""
           },
           "bgcolor": "#E5ECF6",
           "caxis": {
            "gridcolor": "white",
            "linecolor": "white",
            "ticks": ""
           }
          },
          "title": {
           "x": 0.05
          },
          "xaxis": {
           "automargin": true,
           "gridcolor": "white",
           "linecolor": "white",
           "ticks": "",
           "title": {
            "standoff": 15
           },
           "zerolinecolor": "white",
           "zerolinewidth": 2
          },
          "yaxis": {
           "automargin": true,
           "gridcolor": "white",
           "linecolor": "white",
           "ticks": "",
           "title": {
            "standoff": 15
           },
           "zerolinecolor": "white",
           "zerolinewidth": 2
          }
         }
        },
        "title": {
         "text": "High Profile Donors Count by Gender and Age Group"
        },
        "xaxis": {
         "title": {
          "text": "Age group"
         }
        },
        "yaxis": {
         "title": {
          "text": "Count of donors"
         }
        }
       }
      },
      "text/html": [
       "<div>                            <div id=\"9eeb9c6b-c2d0-4024-a143-14c7e4a6e69d\" class=\"plotly-graph-div\" style=\"height:525px; width:100%;\"></div>            <script type=\"text/javascript\">                require([\"plotly\"], function(Plotly) {                    window.PLOTLYENV=window.PLOTLYENV || {};                                    if (document.getElementById(\"9eeb9c6b-c2d0-4024-a143-14c7e4a6e69d\")) {                    Plotly.newPlot(                        \"9eeb9c6b-c2d0-4024-a143-14c7e4a6e69d\",                        [{\"name\":\"Female\",\"x\":[10,20,30,40,50,60,70,80],\"y\":[68,205,209,274,380,232,119,63],\"type\":\"bar\"},{\"name\":\"Male\",\"x\":[10,20,30,40,50,60,70,80],\"y\":[27,52,129,198,116,259,118,62],\"type\":\"bar\"}],                        {\"template\":{\"data\":{\"bar\":[{\"error_x\":{\"color\":\"#2a3f5f\"},\"error_y\":{\"color\":\"#2a3f5f\"},\"marker\":{\"line\":{\"color\":\"#E5ECF6\",\"width\":0.5},\"pattern\":{\"fillmode\":\"overlay\",\"size\":10,\"solidity\":0.2}},\"type\":\"bar\"}],\"barpolar\":[{\"marker\":{\"line\":{\"color\":\"#E5ECF6\",\"width\":0.5},\"pattern\":{\"fillmode\":\"overlay\",\"size\":10,\"solidity\":0.2}},\"type\":\"barpolar\"}],\"carpet\":[{\"aaxis\":{\"endlinecolor\":\"#2a3f5f\",\"gridcolor\":\"white\",\"linecolor\":\"white\",\"minorgridcolor\":\"white\",\"startlinecolor\":\"#2a3f5f\"},\"baxis\":{\"endlinecolor\":\"#2a3f5f\",\"gridcolor\":\"white\",\"linecolor\":\"white\",\"minorgridcolor\":\"white\",\"startlinecolor\":\"#2a3f5f\"},\"type\":\"carpet\"}],\"choropleth\":[{\"colorbar\":{\"outlinewidth\":0,\"ticks\":\"\"},\"type\":\"choropleth\"}],\"contour\":[{\"colorbar\":{\"outlinewidth\":0,\"ticks\":\"\"},\"colorscale\":[[0.0,\"#0d0887\"],[0.1111111111111111,\"#46039f\"],[0.2222222222222222,\"#7201a8\"],[0.3333333333333333,\"#9c179e\"],[0.4444444444444444,\"#bd3786\"],[0.5555555555555556,\"#d8576b\"],[0.6666666666666666,\"#ed7953\"],[0.7777777777777778,\"#fb9f3a\"],[0.8888888888888888,\"#fdca26\"],[1.0,\"#f0f921\"]],\"type\":\"contour\"}],\"contourcarpet\":[{\"colorbar\":{\"outlinewidth\":0,\"ticks\":\"\"},\"type\":\"contourcarpet\"}],\"heatmap\":[{\"colorbar\":{\"outlinewidth\":0,\"ticks\":\"\"},\"colorscale\":[[0.0,\"#0d0887\"],[0.1111111111111111,\"#46039f\"],[0.2222222222222222,\"#7201a8\"],[0.3333333333333333,\"#9c179e\"],[0.4444444444444444,\"#bd3786\"],[0.5555555555555556,\"#d8576b\"],[0.6666666666666666,\"#ed7953\"],[0.7777777777777778,\"#fb9f3a\"],[0.8888888888888888,\"#fdca26\"],[1.0,\"#f0f921\"]],\"type\":\"heatmap\"}],\"heatmapgl\":[{\"colorbar\":{\"outlinewidth\":0,\"ticks\":\"\"},\"colorscale\":[[0.0,\"#0d0887\"],[0.1111111111111111,\"#46039f\"],[0.2222222222222222,\"#7201a8\"],[0.3333333333333333,\"#9c179e\"],[0.4444444444444444,\"#bd3786\"],[0.5555555555555556,\"#d8576b\"],[0.6666666666666666,\"#ed7953\"],[0.7777777777777778,\"#fb9f3a\"],[0.8888888888888888,\"#fdca26\"],[1.0,\"#f0f921\"]],\"type\":\"heatmapgl\"}],\"histogram\":[{\"marker\":{\"pattern\":{\"fillmode\":\"overlay\",\"size\":10,\"solidity\":0.2}},\"type\":\"histogram\"}],\"histogram2d\":[{\"colorbar\":{\"outlinewidth\":0,\"ticks\":\"\"},\"colorscale\":[[0.0,\"#0d0887\"],[0.1111111111111111,\"#46039f\"],[0.2222222222222222,\"#7201a8\"],[0.3333333333333333,\"#9c179e\"],[0.4444444444444444,\"#bd3786\"],[0.5555555555555556,\"#d8576b\"],[0.6666666666666666,\"#ed7953\"],[0.7777777777777778,\"#fb9f3a\"],[0.8888888888888888,\"#fdca26\"],[1.0,\"#f0f921\"]],\"type\":\"histogram2d\"}],\"histogram2dcontour\":[{\"colorbar\":{\"outlinewidth\":0,\"ticks\":\"\"},\"colorscale\":[[0.0,\"#0d0887\"],[0.1111111111111111,\"#46039f\"],[0.2222222222222222,\"#7201a8\"],[0.3333333333333333,\"#9c179e\"],[0.4444444444444444,\"#bd3786\"],[0.5555555555555556,\"#d8576b\"],[0.6666666666666666,\"#ed7953\"],[0.7777777777777778,\"#fb9f3a\"],[0.8888888888888888,\"#fdca26\"],[1.0,\"#f0f921\"]],\"type\":\"histogram2dcontour\"}],\"mesh3d\":[{\"colorbar\":{\"outlinewidth\":0,\"ticks\":\"\"},\"type\":\"mesh3d\"}],\"parcoords\":[{\"line\":{\"colorbar\":{\"outlinewidth\":0,\"ticks\":\"\"}},\"type\":\"parcoords\"}],\"pie\":[{\"automargin\":true,\"type\":\"pie\"}],\"scatter\":[{\"marker\":{\"colorbar\":{\"outlinewidth\":0,\"ticks\":\"\"}},\"type\":\"scatter\"}],\"scatter3d\":[{\"line\":{\"colorbar\":{\"outlinewidth\":0,\"ticks\":\"\"}},\"marker\":{\"colorbar\":{\"outlinewidth\":0,\"ticks\":\"\"}},\"type\":\"scatter3d\"}],\"scattercarpet\":[{\"marker\":{\"colorbar\":{\"outlinewidth\":0,\"ticks\":\"\"}},\"type\":\"scattercarpet\"}],\"scattergeo\":[{\"marker\":{\"colorbar\":{\"outlinewidth\":0,\"ticks\":\"\"}},\"type\":\"scattergeo\"}],\"scattergl\":[{\"marker\":{\"colorbar\":{\"outlinewidth\":0,\"ticks\":\"\"}},\"type\":\"scattergl\"}],\"scattermapbox\":[{\"marker\":{\"colorbar\":{\"outlinewidth\":0,\"ticks\":\"\"}},\"type\":\"scattermapbox\"}],\"scatterpolar\":[{\"marker\":{\"colorbar\":{\"outlinewidth\":0,\"ticks\":\"\"}},\"type\":\"scatterpolar\"}],\"scatterpolargl\":[{\"marker\":{\"colorbar\":{\"outlinewidth\":0,\"ticks\":\"\"}},\"type\":\"scatterpolargl\"}],\"scatterternary\":[{\"marker\":{\"colorbar\":{\"outlinewidth\":0,\"ticks\":\"\"}},\"type\":\"scatterternary\"}],\"surface\":[{\"colorbar\":{\"outlinewidth\":0,\"ticks\":\"\"},\"colorscale\":[[0.0,\"#0d0887\"],[0.1111111111111111,\"#46039f\"],[0.2222222222222222,\"#7201a8\"],[0.3333333333333333,\"#9c179e\"],[0.4444444444444444,\"#bd3786\"],[0.5555555555555556,\"#d8576b\"],[0.6666666666666666,\"#ed7953\"],[0.7777777777777778,\"#fb9f3a\"],[0.8888888888888888,\"#fdca26\"],[1.0,\"#f0f921\"]],\"type\":\"surface\"}],\"table\":[{\"cells\":{\"fill\":{\"color\":\"#EBF0F8\"},\"line\":{\"color\":\"white\"}},\"header\":{\"fill\":{\"color\":\"#C8D4E3\"},\"line\":{\"color\":\"white\"}},\"type\":\"table\"}]},\"layout\":{\"annotationdefaults\":{\"arrowcolor\":\"#2a3f5f\",\"arrowhead\":0,\"arrowwidth\":1},\"autotypenumbers\":\"strict\",\"coloraxis\":{\"colorbar\":{\"outlinewidth\":0,\"ticks\":\"\"}},\"colorscale\":{\"diverging\":[[0,\"#8e0152\"],[0.1,\"#c51b7d\"],[0.2,\"#de77ae\"],[0.3,\"#f1b6da\"],[0.4,\"#fde0ef\"],[0.5,\"#f7f7f7\"],[0.6,\"#e6f5d0\"],[0.7,\"#b8e186\"],[0.8,\"#7fbc41\"],[0.9,\"#4d9221\"],[1,\"#276419\"]],\"sequential\":[[0.0,\"#0d0887\"],[0.1111111111111111,\"#46039f\"],[0.2222222222222222,\"#7201a8\"],[0.3333333333333333,\"#9c179e\"],[0.4444444444444444,\"#bd3786\"],[0.5555555555555556,\"#d8576b\"],[0.6666666666666666,\"#ed7953\"],[0.7777777777777778,\"#fb9f3a\"],[0.8888888888888888,\"#fdca26\"],[1.0,\"#f0f921\"]],\"sequentialminus\":[[0.0,\"#0d0887\"],[0.1111111111111111,\"#46039f\"],[0.2222222222222222,\"#7201a8\"],[0.3333333333333333,\"#9c179e\"],[0.4444444444444444,\"#bd3786\"],[0.5555555555555556,\"#d8576b\"],[0.6666666666666666,\"#ed7953\"],[0.7777777777777778,\"#fb9f3a\"],[0.8888888888888888,\"#fdca26\"],[1.0,\"#f0f921\"]]},\"colorway\":[\"#636efa\",\"#EF553B\",\"#00cc96\",\"#ab63fa\",\"#FFA15A\",\"#19d3f3\",\"#FF6692\",\"#B6E880\",\"#FF97FF\",\"#FECB52\"],\"font\":{\"color\":\"#2a3f5f\"},\"geo\":{\"bgcolor\":\"white\",\"lakecolor\":\"white\",\"landcolor\":\"#E5ECF6\",\"showlakes\":true,\"showland\":true,\"subunitcolor\":\"white\"},\"hoverlabel\":{\"align\":\"left\"},\"hovermode\":\"closest\",\"mapbox\":{\"style\":\"light\"},\"paper_bgcolor\":\"white\",\"plot_bgcolor\":\"#E5ECF6\",\"polar\":{\"angularaxis\":{\"gridcolor\":\"white\",\"linecolor\":\"white\",\"ticks\":\"\"},\"bgcolor\":\"#E5ECF6\",\"radialaxis\":{\"gridcolor\":\"white\",\"linecolor\":\"white\",\"ticks\":\"\"}},\"scene\":{\"xaxis\":{\"backgroundcolor\":\"#E5ECF6\",\"gridcolor\":\"white\",\"gridwidth\":2,\"linecolor\":\"white\",\"showbackground\":true,\"ticks\":\"\",\"zerolinecolor\":\"white\"},\"yaxis\":{\"backgroundcolor\":\"#E5ECF6\",\"gridcolor\":\"white\",\"gridwidth\":2,\"linecolor\":\"white\",\"showbackground\":true,\"ticks\":\"\",\"zerolinecolor\":\"white\"},\"zaxis\":{\"backgroundcolor\":\"#E5ECF6\",\"gridcolor\":\"white\",\"gridwidth\":2,\"linecolor\":\"white\",\"showbackground\":true,\"ticks\":\"\",\"zerolinecolor\":\"white\"}},\"shapedefaults\":{\"line\":{\"color\":\"#2a3f5f\"}},\"ternary\":{\"aaxis\":{\"gridcolor\":\"white\",\"linecolor\":\"white\",\"ticks\":\"\"},\"baxis\":{\"gridcolor\":\"white\",\"linecolor\":\"white\",\"ticks\":\"\"},\"bgcolor\":\"#E5ECF6\",\"caxis\":{\"gridcolor\":\"white\",\"linecolor\":\"white\",\"ticks\":\"\"}},\"title\":{\"x\":0.05},\"xaxis\":{\"automargin\":true,\"gridcolor\":\"white\",\"linecolor\":\"white\",\"ticks\":\"\",\"title\":{\"standoff\":15},\"zerolinecolor\":\"white\",\"zerolinewidth\":2},\"yaxis\":{\"automargin\":true,\"gridcolor\":\"white\",\"linecolor\":\"white\",\"ticks\":\"\",\"title\":{\"standoff\":15},\"zerolinecolor\":\"white\",\"zerolinewidth\":2}}},\"title\":{\"text\":\"High Profile Donors Count by Gender and Age Group\"},\"xaxis\":{\"title\":{\"text\":\"Age group\"}},\"yaxis\":{\"title\":{\"text\":\"Count of donors\"}}},                        {\"responsive\": true}                    ).then(function(){\n",
       "                            \n",
       "var gd = document.getElementById('9eeb9c6b-c2d0-4024-a143-14c7e4a6e69d');\n",
       "var x = new MutationObserver(function (mutations, observer) {{\n",
       "        var display = window.getComputedStyle(gd).display;\n",
       "        if (!display || display === 'none') {{\n",
       "            console.log([gd, 'removed!']);\n",
       "            Plotly.purge(gd);\n",
       "            observer.disconnect();\n",
       "        }}\n",
       "}});\n",
       "\n",
       "// Listen for the removal of the full notebook cells\n",
       "var notebookContainer = gd.closest('#notebook-container');\n",
       "if (notebookContainer) {{\n",
       "    x.observe(notebookContainer, {childList: true});\n",
       "}}\n",
       "\n",
       "// Listen for the clearing of the current output cell\n",
       "var outputEl = gd.closest('.output');\n",
       "if (outputEl) {{\n",
       "    x.observe(outputEl, {childList: true});\n",
       "}}\n",
       "\n",
       "                        })                };                });            </script>        </div>"
      ]
     },
     "metadata": {},
     "output_type": "display_data"
    }
   ],
   "source": [
    "fig = go.Figure(data=[\n",
    "    go.Bar(name='Female', x=best_by_gender_agegroup[\"age_group\"], y=best_by_gender_agegroup[\"Female\"]),\n",
    "    go.Bar(name='Male', x=best_by_gender_agegroup[\"age_group\"], y=best_by_gender_agegroup[\"Male\"])])\n",
    "fig.update_layout(\n",
    "    title=\"High Profile Donors Count by Gender and Age Group\",\n",
    "    xaxis_title=\"Age group\",\n",
    "    yaxis_title=\"Count of donors\")\n",
    "fig.show()"
   ]
  },
  {
   "cell_type": "code",
   "execution_count": 415,
   "id": "e8162dc9",
   "metadata": {},
   "outputs": [
    {
     "data": {
      "application/vnd.plotly.v1+json": {
       "config": {
        "plotlyServerURL": "https://plot.ly"
       },
       "data": [
        {
         "name": "Low Profile",
         "type": "bar",
         "x": [
          10,
          20,
          30,
          40,
          50,
          60,
          70,
          80
         ],
         "y": [
          960,
          830,
          739,
          63,
          34,
          3,
          2,
          1
         ]
        }
       ],
       "layout": {
        "template": {
         "data": {
          "bar": [
           {
            "error_x": {
             "color": "#2a3f5f"
            },
            "error_y": {
             "color": "#2a3f5f"
            },
            "marker": {
             "line": {
              "color": "#E5ECF6",
              "width": 0.5
             },
             "pattern": {
              "fillmode": "overlay",
              "size": 10,
              "solidity": 0.2
             }
            },
            "type": "bar"
           }
          ],
          "barpolar": [
           {
            "marker": {
             "line": {
              "color": "#E5ECF6",
              "width": 0.5
             },
             "pattern": {
              "fillmode": "overlay",
              "size": 10,
              "solidity": 0.2
             }
            },
            "type": "barpolar"
           }
          ],
          "carpet": [
           {
            "aaxis": {
             "endlinecolor": "#2a3f5f",
             "gridcolor": "white",
             "linecolor": "white",
             "minorgridcolor": "white",
             "startlinecolor": "#2a3f5f"
            },
            "baxis": {
             "endlinecolor": "#2a3f5f",
             "gridcolor": "white",
             "linecolor": "white",
             "minorgridcolor": "white",
             "startlinecolor": "#2a3f5f"
            },
            "type": "carpet"
           }
          ],
          "choropleth": [
           {
            "colorbar": {
             "outlinewidth": 0,
             "ticks": ""
            },
            "type": "choropleth"
           }
          ],
          "contour": [
           {
            "colorbar": {
             "outlinewidth": 0,
             "ticks": ""
            },
            "colorscale": [
             [
              0,
              "#0d0887"
             ],
             [
              0.1111111111111111,
              "#46039f"
             ],
             [
              0.2222222222222222,
              "#7201a8"
             ],
             [
              0.3333333333333333,
              "#9c179e"
             ],
             [
              0.4444444444444444,
              "#bd3786"
             ],
             [
              0.5555555555555556,
              "#d8576b"
             ],
             [
              0.6666666666666666,
              "#ed7953"
             ],
             [
              0.7777777777777778,
              "#fb9f3a"
             ],
             [
              0.8888888888888888,
              "#fdca26"
             ],
             [
              1,
              "#f0f921"
             ]
            ],
            "type": "contour"
           }
          ],
          "contourcarpet": [
           {
            "colorbar": {
             "outlinewidth": 0,
             "ticks": ""
            },
            "type": "contourcarpet"
           }
          ],
          "heatmap": [
           {
            "colorbar": {
             "outlinewidth": 0,
             "ticks": ""
            },
            "colorscale": [
             [
              0,
              "#0d0887"
             ],
             [
              0.1111111111111111,
              "#46039f"
             ],
             [
              0.2222222222222222,
              "#7201a8"
             ],
             [
              0.3333333333333333,
              "#9c179e"
             ],
             [
              0.4444444444444444,
              "#bd3786"
             ],
             [
              0.5555555555555556,
              "#d8576b"
             ],
             [
              0.6666666666666666,
              "#ed7953"
             ],
             [
              0.7777777777777778,
              "#fb9f3a"
             ],
             [
              0.8888888888888888,
              "#fdca26"
             ],
             [
              1,
              "#f0f921"
             ]
            ],
            "type": "heatmap"
           }
          ],
          "heatmapgl": [
           {
            "colorbar": {
             "outlinewidth": 0,
             "ticks": ""
            },
            "colorscale": [
             [
              0,
              "#0d0887"
             ],
             [
              0.1111111111111111,
              "#46039f"
             ],
             [
              0.2222222222222222,
              "#7201a8"
             ],
             [
              0.3333333333333333,
              "#9c179e"
             ],
             [
              0.4444444444444444,
              "#bd3786"
             ],
             [
              0.5555555555555556,
              "#d8576b"
             ],
             [
              0.6666666666666666,
              "#ed7953"
             ],
             [
              0.7777777777777778,
              "#fb9f3a"
             ],
             [
              0.8888888888888888,
              "#fdca26"
             ],
             [
              1,
              "#f0f921"
             ]
            ],
            "type": "heatmapgl"
           }
          ],
          "histogram": [
           {
            "marker": {
             "pattern": {
              "fillmode": "overlay",
              "size": 10,
              "solidity": 0.2
             }
            },
            "type": "histogram"
           }
          ],
          "histogram2d": [
           {
            "colorbar": {
             "outlinewidth": 0,
             "ticks": ""
            },
            "colorscale": [
             [
              0,
              "#0d0887"
             ],
             [
              0.1111111111111111,
              "#46039f"
             ],
             [
              0.2222222222222222,
              "#7201a8"
             ],
             [
              0.3333333333333333,
              "#9c179e"
             ],
             [
              0.4444444444444444,
              "#bd3786"
             ],
             [
              0.5555555555555556,
              "#d8576b"
             ],
             [
              0.6666666666666666,
              "#ed7953"
             ],
             [
              0.7777777777777778,
              "#fb9f3a"
             ],
             [
              0.8888888888888888,
              "#fdca26"
             ],
             [
              1,
              "#f0f921"
             ]
            ],
            "type": "histogram2d"
           }
          ],
          "histogram2dcontour": [
           {
            "colorbar": {
             "outlinewidth": 0,
             "ticks": ""
            },
            "colorscale": [
             [
              0,
              "#0d0887"
             ],
             [
              0.1111111111111111,
              "#46039f"
             ],
             [
              0.2222222222222222,
              "#7201a8"
             ],
             [
              0.3333333333333333,
              "#9c179e"
             ],
             [
              0.4444444444444444,
              "#bd3786"
             ],
             [
              0.5555555555555556,
              "#d8576b"
             ],
             [
              0.6666666666666666,
              "#ed7953"
             ],
             [
              0.7777777777777778,
              "#fb9f3a"
             ],
             [
              0.8888888888888888,
              "#fdca26"
             ],
             [
              1,
              "#f0f921"
             ]
            ],
            "type": "histogram2dcontour"
           }
          ],
          "mesh3d": [
           {
            "colorbar": {
             "outlinewidth": 0,
             "ticks": ""
            },
            "type": "mesh3d"
           }
          ],
          "parcoords": [
           {
            "line": {
             "colorbar": {
              "outlinewidth": 0,
              "ticks": ""
             }
            },
            "type": "parcoords"
           }
          ],
          "pie": [
           {
            "automargin": true,
            "type": "pie"
           }
          ],
          "scatter": [
           {
            "marker": {
             "colorbar": {
              "outlinewidth": 0,
              "ticks": ""
             }
            },
            "type": "scatter"
           }
          ],
          "scatter3d": [
           {
            "line": {
             "colorbar": {
              "outlinewidth": 0,
              "ticks": ""
             }
            },
            "marker": {
             "colorbar": {
              "outlinewidth": 0,
              "ticks": ""
             }
            },
            "type": "scatter3d"
           }
          ],
          "scattercarpet": [
           {
            "marker": {
             "colorbar": {
              "outlinewidth": 0,
              "ticks": ""
             }
            },
            "type": "scattercarpet"
           }
          ],
          "scattergeo": [
           {
            "marker": {
             "colorbar": {
              "outlinewidth": 0,
              "ticks": ""
             }
            },
            "type": "scattergeo"
           }
          ],
          "scattergl": [
           {
            "marker": {
             "colorbar": {
              "outlinewidth": 0,
              "ticks": ""
             }
            },
            "type": "scattergl"
           }
          ],
          "scattermapbox": [
           {
            "marker": {
             "colorbar": {
              "outlinewidth": 0,
              "ticks": ""
             }
            },
            "type": "scattermapbox"
           }
          ],
          "scatterpolar": [
           {
            "marker": {
             "colorbar": {
              "outlinewidth": 0,
              "ticks": ""
             }
            },
            "type": "scatterpolar"
           }
          ],
          "scatterpolargl": [
           {
            "marker": {
             "colorbar": {
              "outlinewidth": 0,
              "ticks": ""
             }
            },
            "type": "scatterpolargl"
           }
          ],
          "scatterternary": [
           {
            "marker": {
             "colorbar": {
              "outlinewidth": 0,
              "ticks": ""
             }
            },
            "type": "scatterternary"
           }
          ],
          "surface": [
           {
            "colorbar": {
             "outlinewidth": 0,
             "ticks": ""
            },
            "colorscale": [
             [
              0,
              "#0d0887"
             ],
             [
              0.1111111111111111,
              "#46039f"
             ],
             [
              0.2222222222222222,
              "#7201a8"
             ],
             [
              0.3333333333333333,
              "#9c179e"
             ],
             [
              0.4444444444444444,
              "#bd3786"
             ],
             [
              0.5555555555555556,
              "#d8576b"
             ],
             [
              0.6666666666666666,
              "#ed7953"
             ],
             [
              0.7777777777777778,
              "#fb9f3a"
             ],
             [
              0.8888888888888888,
              "#fdca26"
             ],
             [
              1,
              "#f0f921"
             ]
            ],
            "type": "surface"
           }
          ],
          "table": [
           {
            "cells": {
             "fill": {
              "color": "#EBF0F8"
             },
             "line": {
              "color": "white"
             }
            },
            "header": {
             "fill": {
              "color": "#C8D4E3"
             },
             "line": {
              "color": "white"
             }
            },
            "type": "table"
           }
          ]
         },
         "layout": {
          "annotationdefaults": {
           "arrowcolor": "#2a3f5f",
           "arrowhead": 0,
           "arrowwidth": 1
          },
          "autotypenumbers": "strict",
          "coloraxis": {
           "colorbar": {
            "outlinewidth": 0,
            "ticks": ""
           }
          },
          "colorscale": {
           "diverging": [
            [
             0,
             "#8e0152"
            ],
            [
             0.1,
             "#c51b7d"
            ],
            [
             0.2,
             "#de77ae"
            ],
            [
             0.3,
             "#f1b6da"
            ],
            [
             0.4,
             "#fde0ef"
            ],
            [
             0.5,
             "#f7f7f7"
            ],
            [
             0.6,
             "#e6f5d0"
            ],
            [
             0.7,
             "#b8e186"
            ],
            [
             0.8,
             "#7fbc41"
            ],
            [
             0.9,
             "#4d9221"
            ],
            [
             1,
             "#276419"
            ]
           ],
           "sequential": [
            [
             0,
             "#0d0887"
            ],
            [
             0.1111111111111111,
             "#46039f"
            ],
            [
             0.2222222222222222,
             "#7201a8"
            ],
            [
             0.3333333333333333,
             "#9c179e"
            ],
            [
             0.4444444444444444,
             "#bd3786"
            ],
            [
             0.5555555555555556,
             "#d8576b"
            ],
            [
             0.6666666666666666,
             "#ed7953"
            ],
            [
             0.7777777777777778,
             "#fb9f3a"
            ],
            [
             0.8888888888888888,
             "#fdca26"
            ],
            [
             1,
             "#f0f921"
            ]
           ],
           "sequentialminus": [
            [
             0,
             "#0d0887"
            ],
            [
             0.1111111111111111,
             "#46039f"
            ],
            [
             0.2222222222222222,
             "#7201a8"
            ],
            [
             0.3333333333333333,
             "#9c179e"
            ],
            [
             0.4444444444444444,
             "#bd3786"
            ],
            [
             0.5555555555555556,
             "#d8576b"
            ],
            [
             0.6666666666666666,
             "#ed7953"
            ],
            [
             0.7777777777777778,
             "#fb9f3a"
            ],
            [
             0.8888888888888888,
             "#fdca26"
            ],
            [
             1,
             "#f0f921"
            ]
           ]
          },
          "colorway": [
           "#636efa",
           "#EF553B",
           "#00cc96",
           "#ab63fa",
           "#FFA15A",
           "#19d3f3",
           "#FF6692",
           "#B6E880",
           "#FF97FF",
           "#FECB52"
          ],
          "font": {
           "color": "#2a3f5f"
          },
          "geo": {
           "bgcolor": "white",
           "lakecolor": "white",
           "landcolor": "#E5ECF6",
           "showlakes": true,
           "showland": true,
           "subunitcolor": "white"
          },
          "hoverlabel": {
           "align": "left"
          },
          "hovermode": "closest",
          "mapbox": {
           "style": "light"
          },
          "paper_bgcolor": "white",
          "plot_bgcolor": "#E5ECF6",
          "polar": {
           "angularaxis": {
            "gridcolor": "white",
            "linecolor": "white",
            "ticks": ""
           },
           "bgcolor": "#E5ECF6",
           "radialaxis": {
            "gridcolor": "white",
            "linecolor": "white",
            "ticks": ""
           }
          },
          "scene": {
           "xaxis": {
            "backgroundcolor": "#E5ECF6",
            "gridcolor": "white",
            "gridwidth": 2,
            "linecolor": "white",
            "showbackground": true,
            "ticks": "",
            "zerolinecolor": "white"
           },
           "yaxis": {
            "backgroundcolor": "#E5ECF6",
            "gridcolor": "white",
            "gridwidth": 2,
            "linecolor": "white",
            "showbackground": true,
            "ticks": "",
            "zerolinecolor": "white"
           },
           "zaxis": {
            "backgroundcolor": "#E5ECF6",
            "gridcolor": "white",
            "gridwidth": 2,
            "linecolor": "white",
            "showbackground": true,
            "ticks": "",
            "zerolinecolor": "white"
           }
          },
          "shapedefaults": {
           "line": {
            "color": "#2a3f5f"
           }
          },
          "ternary": {
           "aaxis": {
            "gridcolor": "white",
            "linecolor": "white",
            "ticks": ""
           },
           "baxis": {
            "gridcolor": "white",
            "linecolor": "white",
            "ticks": ""
           },
           "bgcolor": "#E5ECF6",
           "caxis": {
            "gridcolor": "white",
            "linecolor": "white",
            "ticks": ""
           }
          },
          "title": {
           "x": 0.05
          },
          "xaxis": {
           "automargin": true,
           "gridcolor": "white",
           "linecolor": "white",
           "ticks": "",
           "title": {
            "standoff": 15
           },
           "zerolinecolor": "white",
           "zerolinewidth": 2
          },
          "yaxis": {
           "automargin": true,
           "gridcolor": "white",
           "linecolor": "white",
           "ticks": "",
           "title": {
            "standoff": 15
           },
           "zerolinecolor": "white",
           "zerolinewidth": 2
          }
         }
        },
        "title": {
         "text": "Low Profile Donors Count by Age Group"
        },
        "xaxis": {
         "title": {
          "text": "Age group"
         }
        },
        "yaxis": {
         "title": {
          "text": "Count of donors"
         }
        }
       }
      },
      "text/html": [
       "<div>                            <div id=\"fd38d12b-35f9-4126-977e-1f6a77504068\" class=\"plotly-graph-div\" style=\"height:525px; width:100%;\"></div>            <script type=\"text/javascript\">                require([\"plotly\"], function(Plotly) {                    window.PLOTLYENV=window.PLOTLYENV || {};                                    if (document.getElementById(\"fd38d12b-35f9-4126-977e-1f6a77504068\")) {                    Plotly.newPlot(                        \"fd38d12b-35f9-4126-977e-1f6a77504068\",                        [{\"name\":\"Low Profile\",\"x\":[10,20,30,40,50,60,70,80],\"y\":[960,830,739,63,34,3,2,1],\"type\":\"bar\"}],                        {\"template\":{\"data\":{\"bar\":[{\"error_x\":{\"color\":\"#2a3f5f\"},\"error_y\":{\"color\":\"#2a3f5f\"},\"marker\":{\"line\":{\"color\":\"#E5ECF6\",\"width\":0.5},\"pattern\":{\"fillmode\":\"overlay\",\"size\":10,\"solidity\":0.2}},\"type\":\"bar\"}],\"barpolar\":[{\"marker\":{\"line\":{\"color\":\"#E5ECF6\",\"width\":0.5},\"pattern\":{\"fillmode\":\"overlay\",\"size\":10,\"solidity\":0.2}},\"type\":\"barpolar\"}],\"carpet\":[{\"aaxis\":{\"endlinecolor\":\"#2a3f5f\",\"gridcolor\":\"white\",\"linecolor\":\"white\",\"minorgridcolor\":\"white\",\"startlinecolor\":\"#2a3f5f\"},\"baxis\":{\"endlinecolor\":\"#2a3f5f\",\"gridcolor\":\"white\",\"linecolor\":\"white\",\"minorgridcolor\":\"white\",\"startlinecolor\":\"#2a3f5f\"},\"type\":\"carpet\"}],\"choropleth\":[{\"colorbar\":{\"outlinewidth\":0,\"ticks\":\"\"},\"type\":\"choropleth\"}],\"contour\":[{\"colorbar\":{\"outlinewidth\":0,\"ticks\":\"\"},\"colorscale\":[[0.0,\"#0d0887\"],[0.1111111111111111,\"#46039f\"],[0.2222222222222222,\"#7201a8\"],[0.3333333333333333,\"#9c179e\"],[0.4444444444444444,\"#bd3786\"],[0.5555555555555556,\"#d8576b\"],[0.6666666666666666,\"#ed7953\"],[0.7777777777777778,\"#fb9f3a\"],[0.8888888888888888,\"#fdca26\"],[1.0,\"#f0f921\"]],\"type\":\"contour\"}],\"contourcarpet\":[{\"colorbar\":{\"outlinewidth\":0,\"ticks\":\"\"},\"type\":\"contourcarpet\"}],\"heatmap\":[{\"colorbar\":{\"outlinewidth\":0,\"ticks\":\"\"},\"colorscale\":[[0.0,\"#0d0887\"],[0.1111111111111111,\"#46039f\"],[0.2222222222222222,\"#7201a8\"],[0.3333333333333333,\"#9c179e\"],[0.4444444444444444,\"#bd3786\"],[0.5555555555555556,\"#d8576b\"],[0.6666666666666666,\"#ed7953\"],[0.7777777777777778,\"#fb9f3a\"],[0.8888888888888888,\"#fdca26\"],[1.0,\"#f0f921\"]],\"type\":\"heatmap\"}],\"heatmapgl\":[{\"colorbar\":{\"outlinewidth\":0,\"ticks\":\"\"},\"colorscale\":[[0.0,\"#0d0887\"],[0.1111111111111111,\"#46039f\"],[0.2222222222222222,\"#7201a8\"],[0.3333333333333333,\"#9c179e\"],[0.4444444444444444,\"#bd3786\"],[0.5555555555555556,\"#d8576b\"],[0.6666666666666666,\"#ed7953\"],[0.7777777777777778,\"#fb9f3a\"],[0.8888888888888888,\"#fdca26\"],[1.0,\"#f0f921\"]],\"type\":\"heatmapgl\"}],\"histogram\":[{\"marker\":{\"pattern\":{\"fillmode\":\"overlay\",\"size\":10,\"solidity\":0.2}},\"type\":\"histogram\"}],\"histogram2d\":[{\"colorbar\":{\"outlinewidth\":0,\"ticks\":\"\"},\"colorscale\":[[0.0,\"#0d0887\"],[0.1111111111111111,\"#46039f\"],[0.2222222222222222,\"#7201a8\"],[0.3333333333333333,\"#9c179e\"],[0.4444444444444444,\"#bd3786\"],[0.5555555555555556,\"#d8576b\"],[0.6666666666666666,\"#ed7953\"],[0.7777777777777778,\"#fb9f3a\"],[0.8888888888888888,\"#fdca26\"],[1.0,\"#f0f921\"]],\"type\":\"histogram2d\"}],\"histogram2dcontour\":[{\"colorbar\":{\"outlinewidth\":0,\"ticks\":\"\"},\"colorscale\":[[0.0,\"#0d0887\"],[0.1111111111111111,\"#46039f\"],[0.2222222222222222,\"#7201a8\"],[0.3333333333333333,\"#9c179e\"],[0.4444444444444444,\"#bd3786\"],[0.5555555555555556,\"#d8576b\"],[0.6666666666666666,\"#ed7953\"],[0.7777777777777778,\"#fb9f3a\"],[0.8888888888888888,\"#fdca26\"],[1.0,\"#f0f921\"]],\"type\":\"histogram2dcontour\"}],\"mesh3d\":[{\"colorbar\":{\"outlinewidth\":0,\"ticks\":\"\"},\"type\":\"mesh3d\"}],\"parcoords\":[{\"line\":{\"colorbar\":{\"outlinewidth\":0,\"ticks\":\"\"}},\"type\":\"parcoords\"}],\"pie\":[{\"automargin\":true,\"type\":\"pie\"}],\"scatter\":[{\"marker\":{\"colorbar\":{\"outlinewidth\":0,\"ticks\":\"\"}},\"type\":\"scatter\"}],\"scatter3d\":[{\"line\":{\"colorbar\":{\"outlinewidth\":0,\"ticks\":\"\"}},\"marker\":{\"colorbar\":{\"outlinewidth\":0,\"ticks\":\"\"}},\"type\":\"scatter3d\"}],\"scattercarpet\":[{\"marker\":{\"colorbar\":{\"outlinewidth\":0,\"ticks\":\"\"}},\"type\":\"scattercarpet\"}],\"scattergeo\":[{\"marker\":{\"colorbar\":{\"outlinewidth\":0,\"ticks\":\"\"}},\"type\":\"scattergeo\"}],\"scattergl\":[{\"marker\":{\"colorbar\":{\"outlinewidth\":0,\"ticks\":\"\"}},\"type\":\"scattergl\"}],\"scattermapbox\":[{\"marker\":{\"colorbar\":{\"outlinewidth\":0,\"ticks\":\"\"}},\"type\":\"scattermapbox\"}],\"scatterpolar\":[{\"marker\":{\"colorbar\":{\"outlinewidth\":0,\"ticks\":\"\"}},\"type\":\"scatterpolar\"}],\"scatterpolargl\":[{\"marker\":{\"colorbar\":{\"outlinewidth\":0,\"ticks\":\"\"}},\"type\":\"scatterpolargl\"}],\"scatterternary\":[{\"marker\":{\"colorbar\":{\"outlinewidth\":0,\"ticks\":\"\"}},\"type\":\"scatterternary\"}],\"surface\":[{\"colorbar\":{\"outlinewidth\":0,\"ticks\":\"\"},\"colorscale\":[[0.0,\"#0d0887\"],[0.1111111111111111,\"#46039f\"],[0.2222222222222222,\"#7201a8\"],[0.3333333333333333,\"#9c179e\"],[0.4444444444444444,\"#bd3786\"],[0.5555555555555556,\"#d8576b\"],[0.6666666666666666,\"#ed7953\"],[0.7777777777777778,\"#fb9f3a\"],[0.8888888888888888,\"#fdca26\"],[1.0,\"#f0f921\"]],\"type\":\"surface\"}],\"table\":[{\"cells\":{\"fill\":{\"color\":\"#EBF0F8\"},\"line\":{\"color\":\"white\"}},\"header\":{\"fill\":{\"color\":\"#C8D4E3\"},\"line\":{\"color\":\"white\"}},\"type\":\"table\"}]},\"layout\":{\"annotationdefaults\":{\"arrowcolor\":\"#2a3f5f\",\"arrowhead\":0,\"arrowwidth\":1},\"autotypenumbers\":\"strict\",\"coloraxis\":{\"colorbar\":{\"outlinewidth\":0,\"ticks\":\"\"}},\"colorscale\":{\"diverging\":[[0,\"#8e0152\"],[0.1,\"#c51b7d\"],[0.2,\"#de77ae\"],[0.3,\"#f1b6da\"],[0.4,\"#fde0ef\"],[0.5,\"#f7f7f7\"],[0.6,\"#e6f5d0\"],[0.7,\"#b8e186\"],[0.8,\"#7fbc41\"],[0.9,\"#4d9221\"],[1,\"#276419\"]],\"sequential\":[[0.0,\"#0d0887\"],[0.1111111111111111,\"#46039f\"],[0.2222222222222222,\"#7201a8\"],[0.3333333333333333,\"#9c179e\"],[0.4444444444444444,\"#bd3786\"],[0.5555555555555556,\"#d8576b\"],[0.6666666666666666,\"#ed7953\"],[0.7777777777777778,\"#fb9f3a\"],[0.8888888888888888,\"#fdca26\"],[1.0,\"#f0f921\"]],\"sequentialminus\":[[0.0,\"#0d0887\"],[0.1111111111111111,\"#46039f\"],[0.2222222222222222,\"#7201a8\"],[0.3333333333333333,\"#9c179e\"],[0.4444444444444444,\"#bd3786\"],[0.5555555555555556,\"#d8576b\"],[0.6666666666666666,\"#ed7953\"],[0.7777777777777778,\"#fb9f3a\"],[0.8888888888888888,\"#fdca26\"],[1.0,\"#f0f921\"]]},\"colorway\":[\"#636efa\",\"#EF553B\",\"#00cc96\",\"#ab63fa\",\"#FFA15A\",\"#19d3f3\",\"#FF6692\",\"#B6E880\",\"#FF97FF\",\"#FECB52\"],\"font\":{\"color\":\"#2a3f5f\"},\"geo\":{\"bgcolor\":\"white\",\"lakecolor\":\"white\",\"landcolor\":\"#E5ECF6\",\"showlakes\":true,\"showland\":true,\"subunitcolor\":\"white\"},\"hoverlabel\":{\"align\":\"left\"},\"hovermode\":\"closest\",\"mapbox\":{\"style\":\"light\"},\"paper_bgcolor\":\"white\",\"plot_bgcolor\":\"#E5ECF6\",\"polar\":{\"angularaxis\":{\"gridcolor\":\"white\",\"linecolor\":\"white\",\"ticks\":\"\"},\"bgcolor\":\"#E5ECF6\",\"radialaxis\":{\"gridcolor\":\"white\",\"linecolor\":\"white\",\"ticks\":\"\"}},\"scene\":{\"xaxis\":{\"backgroundcolor\":\"#E5ECF6\",\"gridcolor\":\"white\",\"gridwidth\":2,\"linecolor\":\"white\",\"showbackground\":true,\"ticks\":\"\",\"zerolinecolor\":\"white\"},\"yaxis\":{\"backgroundcolor\":\"#E5ECF6\",\"gridcolor\":\"white\",\"gridwidth\":2,\"linecolor\":\"white\",\"showbackground\":true,\"ticks\":\"\",\"zerolinecolor\":\"white\"},\"zaxis\":{\"backgroundcolor\":\"#E5ECF6\",\"gridcolor\":\"white\",\"gridwidth\":2,\"linecolor\":\"white\",\"showbackground\":true,\"ticks\":\"\",\"zerolinecolor\":\"white\"}},\"shapedefaults\":{\"line\":{\"color\":\"#2a3f5f\"}},\"ternary\":{\"aaxis\":{\"gridcolor\":\"white\",\"linecolor\":\"white\",\"ticks\":\"\"},\"baxis\":{\"gridcolor\":\"white\",\"linecolor\":\"white\",\"ticks\":\"\"},\"bgcolor\":\"#E5ECF6\",\"caxis\":{\"gridcolor\":\"white\",\"linecolor\":\"white\",\"ticks\":\"\"}},\"title\":{\"x\":0.05},\"xaxis\":{\"automargin\":true,\"gridcolor\":\"white\",\"linecolor\":\"white\",\"ticks\":\"\",\"title\":{\"standoff\":15},\"zerolinecolor\":\"white\",\"zerolinewidth\":2},\"yaxis\":{\"automargin\":true,\"gridcolor\":\"white\",\"linecolor\":\"white\",\"ticks\":\"\",\"title\":{\"standoff\":15},\"zerolinecolor\":\"white\",\"zerolinewidth\":2}}},\"title\":{\"text\":\"Low Profile Donors Count by Age Group\"},\"xaxis\":{\"title\":{\"text\":\"Age group\"}},\"yaxis\":{\"title\":{\"text\":\"Count of donors\"}}},                        {\"responsive\": true}                    ).then(function(){\n",
       "                            \n",
       "var gd = document.getElementById('fd38d12b-35f9-4126-977e-1f6a77504068');\n",
       "var x = new MutationObserver(function (mutations, observer) {{\n",
       "        var display = window.getComputedStyle(gd).display;\n",
       "        if (!display || display === 'none') {{\n",
       "            console.log([gd, 'removed!']);\n",
       "            Plotly.purge(gd);\n",
       "            observer.disconnect();\n",
       "        }}\n",
       "}});\n",
       "\n",
       "// Listen for the removal of the full notebook cells\n",
       "var notebookContainer = gd.closest('#notebook-container');\n",
       "if (notebookContainer) {{\n",
       "    x.observe(notebookContainer, {childList: true});\n",
       "}}\n",
       "\n",
       "// Listen for the clearing of the current output cell\n",
       "var outputEl = gd.closest('.output');\n",
       "if (outputEl) {{\n",
       "    x.observe(outputEl, {childList: true});\n",
       "}}\n",
       "\n",
       "                        })                };                });            </script>        </div>"
      ]
     },
     "metadata": {},
     "output_type": "display_data"
    }
   ],
   "source": [
    "fig = go.Figure(data=[\n",
    "    go.Bar(name='Low Profile', x=worst_by_age_group[\"age_group\"], y=worst_by_age_group[\"total_donations_per_donor\"])])\n",
    "fig.update_layout(\n",
    "    title=\"Low Profile Donors Count by Age Group\",\n",
    "        xaxis_title=\"Age group\",\n",
    "    yaxis_title=\"Count of donors\")\n",
    "fig.show()"
   ]
  },
  {
   "cell_type": "code",
   "execution_count": 416,
   "id": "783f9315",
   "metadata": {},
   "outputs": [
    {
     "data": {
      "application/vnd.plotly.v1+json": {
       "config": {
        "plotlyServerURL": "https://plot.ly"
       },
       "data": [
        {
         "name": "Female",
         "type": "bar",
         "x": [
          10,
          20,
          30,
          40,
          50,
          60,
          70,
          80
         ],
         "y": [
          29,
          21,
          16,
          3,
          null,
          null,
          null,
          null
         ]
        },
        {
         "name": "Male",
         "type": "bar",
         "x": [
          10,
          20,
          30,
          40,
          50,
          60,
          70,
          80
         ],
         "y": [
          931,
          809,
          723,
          60,
          34,
          3,
          2,
          1
         ]
        }
       ],
       "layout": {
        "template": {
         "data": {
          "bar": [
           {
            "error_x": {
             "color": "#2a3f5f"
            },
            "error_y": {
             "color": "#2a3f5f"
            },
            "marker": {
             "line": {
              "color": "#E5ECF6",
              "width": 0.5
             },
             "pattern": {
              "fillmode": "overlay",
              "size": 10,
              "solidity": 0.2
             }
            },
            "type": "bar"
           }
          ],
          "barpolar": [
           {
            "marker": {
             "line": {
              "color": "#E5ECF6",
              "width": 0.5
             },
             "pattern": {
              "fillmode": "overlay",
              "size": 10,
              "solidity": 0.2
             }
            },
            "type": "barpolar"
           }
          ],
          "carpet": [
           {
            "aaxis": {
             "endlinecolor": "#2a3f5f",
             "gridcolor": "white",
             "linecolor": "white",
             "minorgridcolor": "white",
             "startlinecolor": "#2a3f5f"
            },
            "baxis": {
             "endlinecolor": "#2a3f5f",
             "gridcolor": "white",
             "linecolor": "white",
             "minorgridcolor": "white",
             "startlinecolor": "#2a3f5f"
            },
            "type": "carpet"
           }
          ],
          "choropleth": [
           {
            "colorbar": {
             "outlinewidth": 0,
             "ticks": ""
            },
            "type": "choropleth"
           }
          ],
          "contour": [
           {
            "colorbar": {
             "outlinewidth": 0,
             "ticks": ""
            },
            "colorscale": [
             [
              0,
              "#0d0887"
             ],
             [
              0.1111111111111111,
              "#46039f"
             ],
             [
              0.2222222222222222,
              "#7201a8"
             ],
             [
              0.3333333333333333,
              "#9c179e"
             ],
             [
              0.4444444444444444,
              "#bd3786"
             ],
             [
              0.5555555555555556,
              "#d8576b"
             ],
             [
              0.6666666666666666,
              "#ed7953"
             ],
             [
              0.7777777777777778,
              "#fb9f3a"
             ],
             [
              0.8888888888888888,
              "#fdca26"
             ],
             [
              1,
              "#f0f921"
             ]
            ],
            "type": "contour"
           }
          ],
          "contourcarpet": [
           {
            "colorbar": {
             "outlinewidth": 0,
             "ticks": ""
            },
            "type": "contourcarpet"
           }
          ],
          "heatmap": [
           {
            "colorbar": {
             "outlinewidth": 0,
             "ticks": ""
            },
            "colorscale": [
             [
              0,
              "#0d0887"
             ],
             [
              0.1111111111111111,
              "#46039f"
             ],
             [
              0.2222222222222222,
              "#7201a8"
             ],
             [
              0.3333333333333333,
              "#9c179e"
             ],
             [
              0.4444444444444444,
              "#bd3786"
             ],
             [
              0.5555555555555556,
              "#d8576b"
             ],
             [
              0.6666666666666666,
              "#ed7953"
             ],
             [
              0.7777777777777778,
              "#fb9f3a"
             ],
             [
              0.8888888888888888,
              "#fdca26"
             ],
             [
              1,
              "#f0f921"
             ]
            ],
            "type": "heatmap"
           }
          ],
          "heatmapgl": [
           {
            "colorbar": {
             "outlinewidth": 0,
             "ticks": ""
            },
            "colorscale": [
             [
              0,
              "#0d0887"
             ],
             [
              0.1111111111111111,
              "#46039f"
             ],
             [
              0.2222222222222222,
              "#7201a8"
             ],
             [
              0.3333333333333333,
              "#9c179e"
             ],
             [
              0.4444444444444444,
              "#bd3786"
             ],
             [
              0.5555555555555556,
              "#d8576b"
             ],
             [
              0.6666666666666666,
              "#ed7953"
             ],
             [
              0.7777777777777778,
              "#fb9f3a"
             ],
             [
              0.8888888888888888,
              "#fdca26"
             ],
             [
              1,
              "#f0f921"
             ]
            ],
            "type": "heatmapgl"
           }
          ],
          "histogram": [
           {
            "marker": {
             "pattern": {
              "fillmode": "overlay",
              "size": 10,
              "solidity": 0.2
             }
            },
            "type": "histogram"
           }
          ],
          "histogram2d": [
           {
            "colorbar": {
             "outlinewidth": 0,
             "ticks": ""
            },
            "colorscale": [
             [
              0,
              "#0d0887"
             ],
             [
              0.1111111111111111,
              "#46039f"
             ],
             [
              0.2222222222222222,
              "#7201a8"
             ],
             [
              0.3333333333333333,
              "#9c179e"
             ],
             [
              0.4444444444444444,
              "#bd3786"
             ],
             [
              0.5555555555555556,
              "#d8576b"
             ],
             [
              0.6666666666666666,
              "#ed7953"
             ],
             [
              0.7777777777777778,
              "#fb9f3a"
             ],
             [
              0.8888888888888888,
              "#fdca26"
             ],
             [
              1,
              "#f0f921"
             ]
            ],
            "type": "histogram2d"
           }
          ],
          "histogram2dcontour": [
           {
            "colorbar": {
             "outlinewidth": 0,
             "ticks": ""
            },
            "colorscale": [
             [
              0,
              "#0d0887"
             ],
             [
              0.1111111111111111,
              "#46039f"
             ],
             [
              0.2222222222222222,
              "#7201a8"
             ],
             [
              0.3333333333333333,
              "#9c179e"
             ],
             [
              0.4444444444444444,
              "#bd3786"
             ],
             [
              0.5555555555555556,
              "#d8576b"
             ],
             [
              0.6666666666666666,
              "#ed7953"
             ],
             [
              0.7777777777777778,
              "#fb9f3a"
             ],
             [
              0.8888888888888888,
              "#fdca26"
             ],
             [
              1,
              "#f0f921"
             ]
            ],
            "type": "histogram2dcontour"
           }
          ],
          "mesh3d": [
           {
            "colorbar": {
             "outlinewidth": 0,
             "ticks": ""
            },
            "type": "mesh3d"
           }
          ],
          "parcoords": [
           {
            "line": {
             "colorbar": {
              "outlinewidth": 0,
              "ticks": ""
             }
            },
            "type": "parcoords"
           }
          ],
          "pie": [
           {
            "automargin": true,
            "type": "pie"
           }
          ],
          "scatter": [
           {
            "marker": {
             "colorbar": {
              "outlinewidth": 0,
              "ticks": ""
             }
            },
            "type": "scatter"
           }
          ],
          "scatter3d": [
           {
            "line": {
             "colorbar": {
              "outlinewidth": 0,
              "ticks": ""
             }
            },
            "marker": {
             "colorbar": {
              "outlinewidth": 0,
              "ticks": ""
             }
            },
            "type": "scatter3d"
           }
          ],
          "scattercarpet": [
           {
            "marker": {
             "colorbar": {
              "outlinewidth": 0,
              "ticks": ""
             }
            },
            "type": "scattercarpet"
           }
          ],
          "scattergeo": [
           {
            "marker": {
             "colorbar": {
              "outlinewidth": 0,
              "ticks": ""
             }
            },
            "type": "scattergeo"
           }
          ],
          "scattergl": [
           {
            "marker": {
             "colorbar": {
              "outlinewidth": 0,
              "ticks": ""
             }
            },
            "type": "scattergl"
           }
          ],
          "scattermapbox": [
           {
            "marker": {
             "colorbar": {
              "outlinewidth": 0,
              "ticks": ""
             }
            },
            "type": "scattermapbox"
           }
          ],
          "scatterpolar": [
           {
            "marker": {
             "colorbar": {
              "outlinewidth": 0,
              "ticks": ""
             }
            },
            "type": "scatterpolar"
           }
          ],
          "scatterpolargl": [
           {
            "marker": {
             "colorbar": {
              "outlinewidth": 0,
              "ticks": ""
             }
            },
            "type": "scatterpolargl"
           }
          ],
          "scatterternary": [
           {
            "marker": {
             "colorbar": {
              "outlinewidth": 0,
              "ticks": ""
             }
            },
            "type": "scatterternary"
           }
          ],
          "surface": [
           {
            "colorbar": {
             "outlinewidth": 0,
             "ticks": ""
            },
            "colorscale": [
             [
              0,
              "#0d0887"
             ],
             [
              0.1111111111111111,
              "#46039f"
             ],
             [
              0.2222222222222222,
              "#7201a8"
             ],
             [
              0.3333333333333333,
              "#9c179e"
             ],
             [
              0.4444444444444444,
              "#bd3786"
             ],
             [
              0.5555555555555556,
              "#d8576b"
             ],
             [
              0.6666666666666666,
              "#ed7953"
             ],
             [
              0.7777777777777778,
              "#fb9f3a"
             ],
             [
              0.8888888888888888,
              "#fdca26"
             ],
             [
              1,
              "#f0f921"
             ]
            ],
            "type": "surface"
           }
          ],
          "table": [
           {
            "cells": {
             "fill": {
              "color": "#EBF0F8"
             },
             "line": {
              "color": "white"
             }
            },
            "header": {
             "fill": {
              "color": "#C8D4E3"
             },
             "line": {
              "color": "white"
             }
            },
            "type": "table"
           }
          ]
         },
         "layout": {
          "annotationdefaults": {
           "arrowcolor": "#2a3f5f",
           "arrowhead": 0,
           "arrowwidth": 1
          },
          "autotypenumbers": "strict",
          "coloraxis": {
           "colorbar": {
            "outlinewidth": 0,
            "ticks": ""
           }
          },
          "colorscale": {
           "diverging": [
            [
             0,
             "#8e0152"
            ],
            [
             0.1,
             "#c51b7d"
            ],
            [
             0.2,
             "#de77ae"
            ],
            [
             0.3,
             "#f1b6da"
            ],
            [
             0.4,
             "#fde0ef"
            ],
            [
             0.5,
             "#f7f7f7"
            ],
            [
             0.6,
             "#e6f5d0"
            ],
            [
             0.7,
             "#b8e186"
            ],
            [
             0.8,
             "#7fbc41"
            ],
            [
             0.9,
             "#4d9221"
            ],
            [
             1,
             "#276419"
            ]
           ],
           "sequential": [
            [
             0,
             "#0d0887"
            ],
            [
             0.1111111111111111,
             "#46039f"
            ],
            [
             0.2222222222222222,
             "#7201a8"
            ],
            [
             0.3333333333333333,
             "#9c179e"
            ],
            [
             0.4444444444444444,
             "#bd3786"
            ],
            [
             0.5555555555555556,
             "#d8576b"
            ],
            [
             0.6666666666666666,
             "#ed7953"
            ],
            [
             0.7777777777777778,
             "#fb9f3a"
            ],
            [
             0.8888888888888888,
             "#fdca26"
            ],
            [
             1,
             "#f0f921"
            ]
           ],
           "sequentialminus": [
            [
             0,
             "#0d0887"
            ],
            [
             0.1111111111111111,
             "#46039f"
            ],
            [
             0.2222222222222222,
             "#7201a8"
            ],
            [
             0.3333333333333333,
             "#9c179e"
            ],
            [
             0.4444444444444444,
             "#bd3786"
            ],
            [
             0.5555555555555556,
             "#d8576b"
            ],
            [
             0.6666666666666666,
             "#ed7953"
            ],
            [
             0.7777777777777778,
             "#fb9f3a"
            ],
            [
             0.8888888888888888,
             "#fdca26"
            ],
            [
             1,
             "#f0f921"
            ]
           ]
          },
          "colorway": [
           "#636efa",
           "#EF553B",
           "#00cc96",
           "#ab63fa",
           "#FFA15A",
           "#19d3f3",
           "#FF6692",
           "#B6E880",
           "#FF97FF",
           "#FECB52"
          ],
          "font": {
           "color": "#2a3f5f"
          },
          "geo": {
           "bgcolor": "white",
           "lakecolor": "white",
           "landcolor": "#E5ECF6",
           "showlakes": true,
           "showland": true,
           "subunitcolor": "white"
          },
          "hoverlabel": {
           "align": "left"
          },
          "hovermode": "closest",
          "mapbox": {
           "style": "light"
          },
          "paper_bgcolor": "white",
          "plot_bgcolor": "#E5ECF6",
          "polar": {
           "angularaxis": {
            "gridcolor": "white",
            "linecolor": "white",
            "ticks": ""
           },
           "bgcolor": "#E5ECF6",
           "radialaxis": {
            "gridcolor": "white",
            "linecolor": "white",
            "ticks": ""
           }
          },
          "scene": {
           "xaxis": {
            "backgroundcolor": "#E5ECF6",
            "gridcolor": "white",
            "gridwidth": 2,
            "linecolor": "white",
            "showbackground": true,
            "ticks": "",
            "zerolinecolor": "white"
           },
           "yaxis": {
            "backgroundcolor": "#E5ECF6",
            "gridcolor": "white",
            "gridwidth": 2,
            "linecolor": "white",
            "showbackground": true,
            "ticks": "",
            "zerolinecolor": "white"
           },
           "zaxis": {
            "backgroundcolor": "#E5ECF6",
            "gridcolor": "white",
            "gridwidth": 2,
            "linecolor": "white",
            "showbackground": true,
            "ticks": "",
            "zerolinecolor": "white"
           }
          },
          "shapedefaults": {
           "line": {
            "color": "#2a3f5f"
           }
          },
          "ternary": {
           "aaxis": {
            "gridcolor": "white",
            "linecolor": "white",
            "ticks": ""
           },
           "baxis": {
            "gridcolor": "white",
            "linecolor": "white",
            "ticks": ""
           },
           "bgcolor": "#E5ECF6",
           "caxis": {
            "gridcolor": "white",
            "linecolor": "white",
            "ticks": ""
           }
          },
          "title": {
           "x": 0.05
          },
          "xaxis": {
           "automargin": true,
           "gridcolor": "white",
           "linecolor": "white",
           "ticks": "",
           "title": {
            "standoff": 15
           },
           "zerolinecolor": "white",
           "zerolinewidth": 2
          },
          "yaxis": {
           "automargin": true,
           "gridcolor": "white",
           "linecolor": "white",
           "ticks": "",
           "title": {
            "standoff": 15
           },
           "zerolinecolor": "white",
           "zerolinewidth": 2
          }
         }
        },
        "title": {
         "text": "Low Profile Donors Count by Gender and Age Group"
        },
        "xaxis": {
         "title": {
          "text": "Age group"
         }
        },
        "yaxis": {
         "title": {
          "text": "Count of donors"
         }
        }
       }
      },
      "text/html": [
       "<div>                            <div id=\"c587aa87-1654-40dd-ac1d-bde61dec7e24\" class=\"plotly-graph-div\" style=\"height:525px; width:100%;\"></div>            <script type=\"text/javascript\">                require([\"plotly\"], function(Plotly) {                    window.PLOTLYENV=window.PLOTLYENV || {};                                    if (document.getElementById(\"c587aa87-1654-40dd-ac1d-bde61dec7e24\")) {                    Plotly.newPlot(                        \"c587aa87-1654-40dd-ac1d-bde61dec7e24\",                        [{\"name\":\"Female\",\"x\":[10,20,30,40,50,60,70,80],\"y\":[29.0,21.0,16.0,3.0,null,null,null,null],\"type\":\"bar\"},{\"name\":\"Male\",\"x\":[10,20,30,40,50,60,70,80],\"y\":[931.0,809.0,723.0,60.0,34.0,3.0,2.0,1.0],\"type\":\"bar\"}],                        {\"template\":{\"data\":{\"bar\":[{\"error_x\":{\"color\":\"#2a3f5f\"},\"error_y\":{\"color\":\"#2a3f5f\"},\"marker\":{\"line\":{\"color\":\"#E5ECF6\",\"width\":0.5},\"pattern\":{\"fillmode\":\"overlay\",\"size\":10,\"solidity\":0.2}},\"type\":\"bar\"}],\"barpolar\":[{\"marker\":{\"line\":{\"color\":\"#E5ECF6\",\"width\":0.5},\"pattern\":{\"fillmode\":\"overlay\",\"size\":10,\"solidity\":0.2}},\"type\":\"barpolar\"}],\"carpet\":[{\"aaxis\":{\"endlinecolor\":\"#2a3f5f\",\"gridcolor\":\"white\",\"linecolor\":\"white\",\"minorgridcolor\":\"white\",\"startlinecolor\":\"#2a3f5f\"},\"baxis\":{\"endlinecolor\":\"#2a3f5f\",\"gridcolor\":\"white\",\"linecolor\":\"white\",\"minorgridcolor\":\"white\",\"startlinecolor\":\"#2a3f5f\"},\"type\":\"carpet\"}],\"choropleth\":[{\"colorbar\":{\"outlinewidth\":0,\"ticks\":\"\"},\"type\":\"choropleth\"}],\"contour\":[{\"colorbar\":{\"outlinewidth\":0,\"ticks\":\"\"},\"colorscale\":[[0.0,\"#0d0887\"],[0.1111111111111111,\"#46039f\"],[0.2222222222222222,\"#7201a8\"],[0.3333333333333333,\"#9c179e\"],[0.4444444444444444,\"#bd3786\"],[0.5555555555555556,\"#d8576b\"],[0.6666666666666666,\"#ed7953\"],[0.7777777777777778,\"#fb9f3a\"],[0.8888888888888888,\"#fdca26\"],[1.0,\"#f0f921\"]],\"type\":\"contour\"}],\"contourcarpet\":[{\"colorbar\":{\"outlinewidth\":0,\"ticks\":\"\"},\"type\":\"contourcarpet\"}],\"heatmap\":[{\"colorbar\":{\"outlinewidth\":0,\"ticks\":\"\"},\"colorscale\":[[0.0,\"#0d0887\"],[0.1111111111111111,\"#46039f\"],[0.2222222222222222,\"#7201a8\"],[0.3333333333333333,\"#9c179e\"],[0.4444444444444444,\"#bd3786\"],[0.5555555555555556,\"#d8576b\"],[0.6666666666666666,\"#ed7953\"],[0.7777777777777778,\"#fb9f3a\"],[0.8888888888888888,\"#fdca26\"],[1.0,\"#f0f921\"]],\"type\":\"heatmap\"}],\"heatmapgl\":[{\"colorbar\":{\"outlinewidth\":0,\"ticks\":\"\"},\"colorscale\":[[0.0,\"#0d0887\"],[0.1111111111111111,\"#46039f\"],[0.2222222222222222,\"#7201a8\"],[0.3333333333333333,\"#9c179e\"],[0.4444444444444444,\"#bd3786\"],[0.5555555555555556,\"#d8576b\"],[0.6666666666666666,\"#ed7953\"],[0.7777777777777778,\"#fb9f3a\"],[0.8888888888888888,\"#fdca26\"],[1.0,\"#f0f921\"]],\"type\":\"heatmapgl\"}],\"histogram\":[{\"marker\":{\"pattern\":{\"fillmode\":\"overlay\",\"size\":10,\"solidity\":0.2}},\"type\":\"histogram\"}],\"histogram2d\":[{\"colorbar\":{\"outlinewidth\":0,\"ticks\":\"\"},\"colorscale\":[[0.0,\"#0d0887\"],[0.1111111111111111,\"#46039f\"],[0.2222222222222222,\"#7201a8\"],[0.3333333333333333,\"#9c179e\"],[0.4444444444444444,\"#bd3786\"],[0.5555555555555556,\"#d8576b\"],[0.6666666666666666,\"#ed7953\"],[0.7777777777777778,\"#fb9f3a\"],[0.8888888888888888,\"#fdca26\"],[1.0,\"#f0f921\"]],\"type\":\"histogram2d\"}],\"histogram2dcontour\":[{\"colorbar\":{\"outlinewidth\":0,\"ticks\":\"\"},\"colorscale\":[[0.0,\"#0d0887\"],[0.1111111111111111,\"#46039f\"],[0.2222222222222222,\"#7201a8\"],[0.3333333333333333,\"#9c179e\"],[0.4444444444444444,\"#bd3786\"],[0.5555555555555556,\"#d8576b\"],[0.6666666666666666,\"#ed7953\"],[0.7777777777777778,\"#fb9f3a\"],[0.8888888888888888,\"#fdca26\"],[1.0,\"#f0f921\"]],\"type\":\"histogram2dcontour\"}],\"mesh3d\":[{\"colorbar\":{\"outlinewidth\":0,\"ticks\":\"\"},\"type\":\"mesh3d\"}],\"parcoords\":[{\"line\":{\"colorbar\":{\"outlinewidth\":0,\"ticks\":\"\"}},\"type\":\"parcoords\"}],\"pie\":[{\"automargin\":true,\"type\":\"pie\"}],\"scatter\":[{\"marker\":{\"colorbar\":{\"outlinewidth\":0,\"ticks\":\"\"}},\"type\":\"scatter\"}],\"scatter3d\":[{\"line\":{\"colorbar\":{\"outlinewidth\":0,\"ticks\":\"\"}},\"marker\":{\"colorbar\":{\"outlinewidth\":0,\"ticks\":\"\"}},\"type\":\"scatter3d\"}],\"scattercarpet\":[{\"marker\":{\"colorbar\":{\"outlinewidth\":0,\"ticks\":\"\"}},\"type\":\"scattercarpet\"}],\"scattergeo\":[{\"marker\":{\"colorbar\":{\"outlinewidth\":0,\"ticks\":\"\"}},\"type\":\"scattergeo\"}],\"scattergl\":[{\"marker\":{\"colorbar\":{\"outlinewidth\":0,\"ticks\":\"\"}},\"type\":\"scattergl\"}],\"scattermapbox\":[{\"marker\":{\"colorbar\":{\"outlinewidth\":0,\"ticks\":\"\"}},\"type\":\"scattermapbox\"}],\"scatterpolar\":[{\"marker\":{\"colorbar\":{\"outlinewidth\":0,\"ticks\":\"\"}},\"type\":\"scatterpolar\"}],\"scatterpolargl\":[{\"marker\":{\"colorbar\":{\"outlinewidth\":0,\"ticks\":\"\"}},\"type\":\"scatterpolargl\"}],\"scatterternary\":[{\"marker\":{\"colorbar\":{\"outlinewidth\":0,\"ticks\":\"\"}},\"type\":\"scatterternary\"}],\"surface\":[{\"colorbar\":{\"outlinewidth\":0,\"ticks\":\"\"},\"colorscale\":[[0.0,\"#0d0887\"],[0.1111111111111111,\"#46039f\"],[0.2222222222222222,\"#7201a8\"],[0.3333333333333333,\"#9c179e\"],[0.4444444444444444,\"#bd3786\"],[0.5555555555555556,\"#d8576b\"],[0.6666666666666666,\"#ed7953\"],[0.7777777777777778,\"#fb9f3a\"],[0.8888888888888888,\"#fdca26\"],[1.0,\"#f0f921\"]],\"type\":\"surface\"}],\"table\":[{\"cells\":{\"fill\":{\"color\":\"#EBF0F8\"},\"line\":{\"color\":\"white\"}},\"header\":{\"fill\":{\"color\":\"#C8D4E3\"},\"line\":{\"color\":\"white\"}},\"type\":\"table\"}]},\"layout\":{\"annotationdefaults\":{\"arrowcolor\":\"#2a3f5f\",\"arrowhead\":0,\"arrowwidth\":1},\"autotypenumbers\":\"strict\",\"coloraxis\":{\"colorbar\":{\"outlinewidth\":0,\"ticks\":\"\"}},\"colorscale\":{\"diverging\":[[0,\"#8e0152\"],[0.1,\"#c51b7d\"],[0.2,\"#de77ae\"],[0.3,\"#f1b6da\"],[0.4,\"#fde0ef\"],[0.5,\"#f7f7f7\"],[0.6,\"#e6f5d0\"],[0.7,\"#b8e186\"],[0.8,\"#7fbc41\"],[0.9,\"#4d9221\"],[1,\"#276419\"]],\"sequential\":[[0.0,\"#0d0887\"],[0.1111111111111111,\"#46039f\"],[0.2222222222222222,\"#7201a8\"],[0.3333333333333333,\"#9c179e\"],[0.4444444444444444,\"#bd3786\"],[0.5555555555555556,\"#d8576b\"],[0.6666666666666666,\"#ed7953\"],[0.7777777777777778,\"#fb9f3a\"],[0.8888888888888888,\"#fdca26\"],[1.0,\"#f0f921\"]],\"sequentialminus\":[[0.0,\"#0d0887\"],[0.1111111111111111,\"#46039f\"],[0.2222222222222222,\"#7201a8\"],[0.3333333333333333,\"#9c179e\"],[0.4444444444444444,\"#bd3786\"],[0.5555555555555556,\"#d8576b\"],[0.6666666666666666,\"#ed7953\"],[0.7777777777777778,\"#fb9f3a\"],[0.8888888888888888,\"#fdca26\"],[1.0,\"#f0f921\"]]},\"colorway\":[\"#636efa\",\"#EF553B\",\"#00cc96\",\"#ab63fa\",\"#FFA15A\",\"#19d3f3\",\"#FF6692\",\"#B6E880\",\"#FF97FF\",\"#FECB52\"],\"font\":{\"color\":\"#2a3f5f\"},\"geo\":{\"bgcolor\":\"white\",\"lakecolor\":\"white\",\"landcolor\":\"#E5ECF6\",\"showlakes\":true,\"showland\":true,\"subunitcolor\":\"white\"},\"hoverlabel\":{\"align\":\"left\"},\"hovermode\":\"closest\",\"mapbox\":{\"style\":\"light\"},\"paper_bgcolor\":\"white\",\"plot_bgcolor\":\"#E5ECF6\",\"polar\":{\"angularaxis\":{\"gridcolor\":\"white\",\"linecolor\":\"white\",\"ticks\":\"\"},\"bgcolor\":\"#E5ECF6\",\"radialaxis\":{\"gridcolor\":\"white\",\"linecolor\":\"white\",\"ticks\":\"\"}},\"scene\":{\"xaxis\":{\"backgroundcolor\":\"#E5ECF6\",\"gridcolor\":\"white\",\"gridwidth\":2,\"linecolor\":\"white\",\"showbackground\":true,\"ticks\":\"\",\"zerolinecolor\":\"white\"},\"yaxis\":{\"backgroundcolor\":\"#E5ECF6\",\"gridcolor\":\"white\",\"gridwidth\":2,\"linecolor\":\"white\",\"showbackground\":true,\"ticks\":\"\",\"zerolinecolor\":\"white\"},\"zaxis\":{\"backgroundcolor\":\"#E5ECF6\",\"gridcolor\":\"white\",\"gridwidth\":2,\"linecolor\":\"white\",\"showbackground\":true,\"ticks\":\"\",\"zerolinecolor\":\"white\"}},\"shapedefaults\":{\"line\":{\"color\":\"#2a3f5f\"}},\"ternary\":{\"aaxis\":{\"gridcolor\":\"white\",\"linecolor\":\"white\",\"ticks\":\"\"},\"baxis\":{\"gridcolor\":\"white\",\"linecolor\":\"white\",\"ticks\":\"\"},\"bgcolor\":\"#E5ECF6\",\"caxis\":{\"gridcolor\":\"white\",\"linecolor\":\"white\",\"ticks\":\"\"}},\"title\":{\"x\":0.05},\"xaxis\":{\"automargin\":true,\"gridcolor\":\"white\",\"linecolor\":\"white\",\"ticks\":\"\",\"title\":{\"standoff\":15},\"zerolinecolor\":\"white\",\"zerolinewidth\":2},\"yaxis\":{\"automargin\":true,\"gridcolor\":\"white\",\"linecolor\":\"white\",\"ticks\":\"\",\"title\":{\"standoff\":15},\"zerolinecolor\":\"white\",\"zerolinewidth\":2}}},\"title\":{\"text\":\"Low Profile Donors Count by Gender and Age Group\"},\"xaxis\":{\"title\":{\"text\":\"Age group\"}},\"yaxis\":{\"title\":{\"text\":\"Count of donors\"}}},                        {\"responsive\": true}                    ).then(function(){\n",
       "                            \n",
       "var gd = document.getElementById('c587aa87-1654-40dd-ac1d-bde61dec7e24');\n",
       "var x = new MutationObserver(function (mutations, observer) {{\n",
       "        var display = window.getComputedStyle(gd).display;\n",
       "        if (!display || display === 'none') {{\n",
       "            console.log([gd, 'removed!']);\n",
       "            Plotly.purge(gd);\n",
       "            observer.disconnect();\n",
       "        }}\n",
       "}});\n",
       "\n",
       "// Listen for the removal of the full notebook cells\n",
       "var notebookContainer = gd.closest('#notebook-container');\n",
       "if (notebookContainer) {{\n",
       "    x.observe(notebookContainer, {childList: true});\n",
       "}}\n",
       "\n",
       "// Listen for the clearing of the current output cell\n",
       "var outputEl = gd.closest('.output');\n",
       "if (outputEl) {{\n",
       "    x.observe(outputEl, {childList: true});\n",
       "}}\n",
       "\n",
       "                        })                };                });            </script>        </div>"
      ]
     },
     "metadata": {},
     "output_type": "display_data"
    }
   ],
   "source": [
    "fig = go.Figure(data=[\n",
    "    go.Bar(name='Female', x=worst_by_gender_agegroup[\"age_group\"], y=worst_by_gender_agegroup[\"Female\"]),\n",
    "    go.Bar(name='Male', x=worst_by_gender_agegroup[\"age_group\"], y=worst_by_gender_agegroup[\"Male\"])\n",
    "])\n",
    "fig.update_layout(\n",
    "    title=\"Low Profile Donors Count by Gender and Age Group\",\n",
    "        xaxis_title=\"Age group\",\n",
    "    yaxis_title=\"Count of donors\")\n",
    "fig.show()"
   ]
  },
  {
   "cell_type": "code",
   "execution_count": 417,
   "id": "8a42e575",
   "metadata": {
    "scrolled": false
   },
   "outputs": [
    {
     "data": {
      "application/vnd.plotly.v1+json": {
       "config": {
        "plotlyServerURL": "https://plot.ly"
       },
       "data": [
        {
         "name": "High Profile",
         "type": "bar",
         "x": [
          10,
          20,
          30,
          40,
          50,
          60,
          70,
          80
         ],
         "y": [
          95,
          257,
          338,
          472,
          496,
          491,
          237,
          125
         ]
        },
        {
         "name": "Low Profile",
         "type": "bar",
         "x": [
          10,
          20,
          30,
          40,
          50,
          60,
          70,
          80
         ],
         "y": [
          960,
          830,
          739,
          63,
          34,
          3,
          2,
          1
         ]
        }
       ],
       "layout": {
        "template": {
         "data": {
          "bar": [
           {
            "error_x": {
             "color": "#2a3f5f"
            },
            "error_y": {
             "color": "#2a3f5f"
            },
            "marker": {
             "line": {
              "color": "#E5ECF6",
              "width": 0.5
             },
             "pattern": {
              "fillmode": "overlay",
              "size": 10,
              "solidity": 0.2
             }
            },
            "type": "bar"
           }
          ],
          "barpolar": [
           {
            "marker": {
             "line": {
              "color": "#E5ECF6",
              "width": 0.5
             },
             "pattern": {
              "fillmode": "overlay",
              "size": 10,
              "solidity": 0.2
             }
            },
            "type": "barpolar"
           }
          ],
          "carpet": [
           {
            "aaxis": {
             "endlinecolor": "#2a3f5f",
             "gridcolor": "white",
             "linecolor": "white",
             "minorgridcolor": "white",
             "startlinecolor": "#2a3f5f"
            },
            "baxis": {
             "endlinecolor": "#2a3f5f",
             "gridcolor": "white",
             "linecolor": "white",
             "minorgridcolor": "white",
             "startlinecolor": "#2a3f5f"
            },
            "type": "carpet"
           }
          ],
          "choropleth": [
           {
            "colorbar": {
             "outlinewidth": 0,
             "ticks": ""
            },
            "type": "choropleth"
           }
          ],
          "contour": [
           {
            "colorbar": {
             "outlinewidth": 0,
             "ticks": ""
            },
            "colorscale": [
             [
              0,
              "#0d0887"
             ],
             [
              0.1111111111111111,
              "#46039f"
             ],
             [
              0.2222222222222222,
              "#7201a8"
             ],
             [
              0.3333333333333333,
              "#9c179e"
             ],
             [
              0.4444444444444444,
              "#bd3786"
             ],
             [
              0.5555555555555556,
              "#d8576b"
             ],
             [
              0.6666666666666666,
              "#ed7953"
             ],
             [
              0.7777777777777778,
              "#fb9f3a"
             ],
             [
              0.8888888888888888,
              "#fdca26"
             ],
             [
              1,
              "#f0f921"
             ]
            ],
            "type": "contour"
           }
          ],
          "contourcarpet": [
           {
            "colorbar": {
             "outlinewidth": 0,
             "ticks": ""
            },
            "type": "contourcarpet"
           }
          ],
          "heatmap": [
           {
            "colorbar": {
             "outlinewidth": 0,
             "ticks": ""
            },
            "colorscale": [
             [
              0,
              "#0d0887"
             ],
             [
              0.1111111111111111,
              "#46039f"
             ],
             [
              0.2222222222222222,
              "#7201a8"
             ],
             [
              0.3333333333333333,
              "#9c179e"
             ],
             [
              0.4444444444444444,
              "#bd3786"
             ],
             [
              0.5555555555555556,
              "#d8576b"
             ],
             [
              0.6666666666666666,
              "#ed7953"
             ],
             [
              0.7777777777777778,
              "#fb9f3a"
             ],
             [
              0.8888888888888888,
              "#fdca26"
             ],
             [
              1,
              "#f0f921"
             ]
            ],
            "type": "heatmap"
           }
          ],
          "heatmapgl": [
           {
            "colorbar": {
             "outlinewidth": 0,
             "ticks": ""
            },
            "colorscale": [
             [
              0,
              "#0d0887"
             ],
             [
              0.1111111111111111,
              "#46039f"
             ],
             [
              0.2222222222222222,
              "#7201a8"
             ],
             [
              0.3333333333333333,
              "#9c179e"
             ],
             [
              0.4444444444444444,
              "#bd3786"
             ],
             [
              0.5555555555555556,
              "#d8576b"
             ],
             [
              0.6666666666666666,
              "#ed7953"
             ],
             [
              0.7777777777777778,
              "#fb9f3a"
             ],
             [
              0.8888888888888888,
              "#fdca26"
             ],
             [
              1,
              "#f0f921"
             ]
            ],
            "type": "heatmapgl"
           }
          ],
          "histogram": [
           {
            "marker": {
             "pattern": {
              "fillmode": "overlay",
              "size": 10,
              "solidity": 0.2
             }
            },
            "type": "histogram"
           }
          ],
          "histogram2d": [
           {
            "colorbar": {
             "outlinewidth": 0,
             "ticks": ""
            },
            "colorscale": [
             [
              0,
              "#0d0887"
             ],
             [
              0.1111111111111111,
              "#46039f"
             ],
             [
              0.2222222222222222,
              "#7201a8"
             ],
             [
              0.3333333333333333,
              "#9c179e"
             ],
             [
              0.4444444444444444,
              "#bd3786"
             ],
             [
              0.5555555555555556,
              "#d8576b"
             ],
             [
              0.6666666666666666,
              "#ed7953"
             ],
             [
              0.7777777777777778,
              "#fb9f3a"
             ],
             [
              0.8888888888888888,
              "#fdca26"
             ],
             [
              1,
              "#f0f921"
             ]
            ],
            "type": "histogram2d"
           }
          ],
          "histogram2dcontour": [
           {
            "colorbar": {
             "outlinewidth": 0,
             "ticks": ""
            },
            "colorscale": [
             [
              0,
              "#0d0887"
             ],
             [
              0.1111111111111111,
              "#46039f"
             ],
             [
              0.2222222222222222,
              "#7201a8"
             ],
             [
              0.3333333333333333,
              "#9c179e"
             ],
             [
              0.4444444444444444,
              "#bd3786"
             ],
             [
              0.5555555555555556,
              "#d8576b"
             ],
             [
              0.6666666666666666,
              "#ed7953"
             ],
             [
              0.7777777777777778,
              "#fb9f3a"
             ],
             [
              0.8888888888888888,
              "#fdca26"
             ],
             [
              1,
              "#f0f921"
             ]
            ],
            "type": "histogram2dcontour"
           }
          ],
          "mesh3d": [
           {
            "colorbar": {
             "outlinewidth": 0,
             "ticks": ""
            },
            "type": "mesh3d"
           }
          ],
          "parcoords": [
           {
            "line": {
             "colorbar": {
              "outlinewidth": 0,
              "ticks": ""
             }
            },
            "type": "parcoords"
           }
          ],
          "pie": [
           {
            "automargin": true,
            "type": "pie"
           }
          ],
          "scatter": [
           {
            "marker": {
             "colorbar": {
              "outlinewidth": 0,
              "ticks": ""
             }
            },
            "type": "scatter"
           }
          ],
          "scatter3d": [
           {
            "line": {
             "colorbar": {
              "outlinewidth": 0,
              "ticks": ""
             }
            },
            "marker": {
             "colorbar": {
              "outlinewidth": 0,
              "ticks": ""
             }
            },
            "type": "scatter3d"
           }
          ],
          "scattercarpet": [
           {
            "marker": {
             "colorbar": {
              "outlinewidth": 0,
              "ticks": ""
             }
            },
            "type": "scattercarpet"
           }
          ],
          "scattergeo": [
           {
            "marker": {
             "colorbar": {
              "outlinewidth": 0,
              "ticks": ""
             }
            },
            "type": "scattergeo"
           }
          ],
          "scattergl": [
           {
            "marker": {
             "colorbar": {
              "outlinewidth": 0,
              "ticks": ""
             }
            },
            "type": "scattergl"
           }
          ],
          "scattermapbox": [
           {
            "marker": {
             "colorbar": {
              "outlinewidth": 0,
              "ticks": ""
             }
            },
            "type": "scattermapbox"
           }
          ],
          "scatterpolar": [
           {
            "marker": {
             "colorbar": {
              "outlinewidth": 0,
              "ticks": ""
             }
            },
            "type": "scatterpolar"
           }
          ],
          "scatterpolargl": [
           {
            "marker": {
             "colorbar": {
              "outlinewidth": 0,
              "ticks": ""
             }
            },
            "type": "scatterpolargl"
           }
          ],
          "scatterternary": [
           {
            "marker": {
             "colorbar": {
              "outlinewidth": 0,
              "ticks": ""
             }
            },
            "type": "scatterternary"
           }
          ],
          "surface": [
           {
            "colorbar": {
             "outlinewidth": 0,
             "ticks": ""
            },
            "colorscale": [
             [
              0,
              "#0d0887"
             ],
             [
              0.1111111111111111,
              "#46039f"
             ],
             [
              0.2222222222222222,
              "#7201a8"
             ],
             [
              0.3333333333333333,
              "#9c179e"
             ],
             [
              0.4444444444444444,
              "#bd3786"
             ],
             [
              0.5555555555555556,
              "#d8576b"
             ],
             [
              0.6666666666666666,
              "#ed7953"
             ],
             [
              0.7777777777777778,
              "#fb9f3a"
             ],
             [
              0.8888888888888888,
              "#fdca26"
             ],
             [
              1,
              "#f0f921"
             ]
            ],
            "type": "surface"
           }
          ],
          "table": [
           {
            "cells": {
             "fill": {
              "color": "#EBF0F8"
             },
             "line": {
              "color": "white"
             }
            },
            "header": {
             "fill": {
              "color": "#C8D4E3"
             },
             "line": {
              "color": "white"
             }
            },
            "type": "table"
           }
          ]
         },
         "layout": {
          "annotationdefaults": {
           "arrowcolor": "#2a3f5f",
           "arrowhead": 0,
           "arrowwidth": 1
          },
          "autotypenumbers": "strict",
          "coloraxis": {
           "colorbar": {
            "outlinewidth": 0,
            "ticks": ""
           }
          },
          "colorscale": {
           "diverging": [
            [
             0,
             "#8e0152"
            ],
            [
             0.1,
             "#c51b7d"
            ],
            [
             0.2,
             "#de77ae"
            ],
            [
             0.3,
             "#f1b6da"
            ],
            [
             0.4,
             "#fde0ef"
            ],
            [
             0.5,
             "#f7f7f7"
            ],
            [
             0.6,
             "#e6f5d0"
            ],
            [
             0.7,
             "#b8e186"
            ],
            [
             0.8,
             "#7fbc41"
            ],
            [
             0.9,
             "#4d9221"
            ],
            [
             1,
             "#276419"
            ]
           ],
           "sequential": [
            [
             0,
             "#0d0887"
            ],
            [
             0.1111111111111111,
             "#46039f"
            ],
            [
             0.2222222222222222,
             "#7201a8"
            ],
            [
             0.3333333333333333,
             "#9c179e"
            ],
            [
             0.4444444444444444,
             "#bd3786"
            ],
            [
             0.5555555555555556,
             "#d8576b"
            ],
            [
             0.6666666666666666,
             "#ed7953"
            ],
            [
             0.7777777777777778,
             "#fb9f3a"
            ],
            [
             0.8888888888888888,
             "#fdca26"
            ],
            [
             1,
             "#f0f921"
            ]
           ],
           "sequentialminus": [
            [
             0,
             "#0d0887"
            ],
            [
             0.1111111111111111,
             "#46039f"
            ],
            [
             0.2222222222222222,
             "#7201a8"
            ],
            [
             0.3333333333333333,
             "#9c179e"
            ],
            [
             0.4444444444444444,
             "#bd3786"
            ],
            [
             0.5555555555555556,
             "#d8576b"
            ],
            [
             0.6666666666666666,
             "#ed7953"
            ],
            [
             0.7777777777777778,
             "#fb9f3a"
            ],
            [
             0.8888888888888888,
             "#fdca26"
            ],
            [
             1,
             "#f0f921"
            ]
           ]
          },
          "colorway": [
           "#636efa",
           "#EF553B",
           "#00cc96",
           "#ab63fa",
           "#FFA15A",
           "#19d3f3",
           "#FF6692",
           "#B6E880",
           "#FF97FF",
           "#FECB52"
          ],
          "font": {
           "color": "#2a3f5f"
          },
          "geo": {
           "bgcolor": "white",
           "lakecolor": "white",
           "landcolor": "#E5ECF6",
           "showlakes": true,
           "showland": true,
           "subunitcolor": "white"
          },
          "hoverlabel": {
           "align": "left"
          },
          "hovermode": "closest",
          "mapbox": {
           "style": "light"
          },
          "paper_bgcolor": "white",
          "plot_bgcolor": "#E5ECF6",
          "polar": {
           "angularaxis": {
            "gridcolor": "white",
            "linecolor": "white",
            "ticks": ""
           },
           "bgcolor": "#E5ECF6",
           "radialaxis": {
            "gridcolor": "white",
            "linecolor": "white",
            "ticks": ""
           }
          },
          "scene": {
           "xaxis": {
            "backgroundcolor": "#E5ECF6",
            "gridcolor": "white",
            "gridwidth": 2,
            "linecolor": "white",
            "showbackground": true,
            "ticks": "",
            "zerolinecolor": "white"
           },
           "yaxis": {
            "backgroundcolor": "#E5ECF6",
            "gridcolor": "white",
            "gridwidth": 2,
            "linecolor": "white",
            "showbackground": true,
            "ticks": "",
            "zerolinecolor": "white"
           },
           "zaxis": {
            "backgroundcolor": "#E5ECF6",
            "gridcolor": "white",
            "gridwidth": 2,
            "linecolor": "white",
            "showbackground": true,
            "ticks": "",
            "zerolinecolor": "white"
           }
          },
          "shapedefaults": {
           "line": {
            "color": "#2a3f5f"
           }
          },
          "ternary": {
           "aaxis": {
            "gridcolor": "white",
            "linecolor": "white",
            "ticks": ""
           },
           "baxis": {
            "gridcolor": "white",
            "linecolor": "white",
            "ticks": ""
           },
           "bgcolor": "#E5ECF6",
           "caxis": {
            "gridcolor": "white",
            "linecolor": "white",
            "ticks": ""
           }
          },
          "title": {
           "x": 0.05
          },
          "xaxis": {
           "automargin": true,
           "gridcolor": "white",
           "linecolor": "white",
           "ticks": "",
           "title": {
            "standoff": 15
           },
           "zerolinecolor": "white",
           "zerolinewidth": 2
          },
          "yaxis": {
           "automargin": true,
           "gridcolor": "white",
           "linecolor": "white",
           "ticks": "",
           "title": {
            "standoff": 15
           },
           "zerolinecolor": "white",
           "zerolinewidth": 2
          }
         }
        },
        "title": {
         "text": "High Profile vs Low Profile Donors Count by Age Group"
        },
        "xaxis": {
         "title": {
          "text": "Age group"
         }
        },
        "yaxis": {
         "title": {
          "text": "Count of donors"
         }
        }
       }
      },
      "text/html": [
       "<div>                            <div id=\"5e81bf69-b1e2-4613-9760-609689bc4dec\" class=\"plotly-graph-div\" style=\"height:525px; width:100%;\"></div>            <script type=\"text/javascript\">                require([\"plotly\"], function(Plotly) {                    window.PLOTLYENV=window.PLOTLYENV || {};                                    if (document.getElementById(\"5e81bf69-b1e2-4613-9760-609689bc4dec\")) {                    Plotly.newPlot(                        \"5e81bf69-b1e2-4613-9760-609689bc4dec\",                        [{\"name\":\"High Profile\",\"x\":[10,20,30,40,50,60,70,80],\"y\":[95,257,338,472,496,491,237,125],\"type\":\"bar\"},{\"name\":\"Low Profile\",\"x\":[10,20,30,40,50,60,70,80],\"y\":[960,830,739,63,34,3,2,1],\"type\":\"bar\"}],                        {\"template\":{\"data\":{\"bar\":[{\"error_x\":{\"color\":\"#2a3f5f\"},\"error_y\":{\"color\":\"#2a3f5f\"},\"marker\":{\"line\":{\"color\":\"#E5ECF6\",\"width\":0.5},\"pattern\":{\"fillmode\":\"overlay\",\"size\":10,\"solidity\":0.2}},\"type\":\"bar\"}],\"barpolar\":[{\"marker\":{\"line\":{\"color\":\"#E5ECF6\",\"width\":0.5},\"pattern\":{\"fillmode\":\"overlay\",\"size\":10,\"solidity\":0.2}},\"type\":\"barpolar\"}],\"carpet\":[{\"aaxis\":{\"endlinecolor\":\"#2a3f5f\",\"gridcolor\":\"white\",\"linecolor\":\"white\",\"minorgridcolor\":\"white\",\"startlinecolor\":\"#2a3f5f\"},\"baxis\":{\"endlinecolor\":\"#2a3f5f\",\"gridcolor\":\"white\",\"linecolor\":\"white\",\"minorgridcolor\":\"white\",\"startlinecolor\":\"#2a3f5f\"},\"type\":\"carpet\"}],\"choropleth\":[{\"colorbar\":{\"outlinewidth\":0,\"ticks\":\"\"},\"type\":\"choropleth\"}],\"contour\":[{\"colorbar\":{\"outlinewidth\":0,\"ticks\":\"\"},\"colorscale\":[[0.0,\"#0d0887\"],[0.1111111111111111,\"#46039f\"],[0.2222222222222222,\"#7201a8\"],[0.3333333333333333,\"#9c179e\"],[0.4444444444444444,\"#bd3786\"],[0.5555555555555556,\"#d8576b\"],[0.6666666666666666,\"#ed7953\"],[0.7777777777777778,\"#fb9f3a\"],[0.8888888888888888,\"#fdca26\"],[1.0,\"#f0f921\"]],\"type\":\"contour\"}],\"contourcarpet\":[{\"colorbar\":{\"outlinewidth\":0,\"ticks\":\"\"},\"type\":\"contourcarpet\"}],\"heatmap\":[{\"colorbar\":{\"outlinewidth\":0,\"ticks\":\"\"},\"colorscale\":[[0.0,\"#0d0887\"],[0.1111111111111111,\"#46039f\"],[0.2222222222222222,\"#7201a8\"],[0.3333333333333333,\"#9c179e\"],[0.4444444444444444,\"#bd3786\"],[0.5555555555555556,\"#d8576b\"],[0.6666666666666666,\"#ed7953\"],[0.7777777777777778,\"#fb9f3a\"],[0.8888888888888888,\"#fdca26\"],[1.0,\"#f0f921\"]],\"type\":\"heatmap\"}],\"heatmapgl\":[{\"colorbar\":{\"outlinewidth\":0,\"ticks\":\"\"},\"colorscale\":[[0.0,\"#0d0887\"],[0.1111111111111111,\"#46039f\"],[0.2222222222222222,\"#7201a8\"],[0.3333333333333333,\"#9c179e\"],[0.4444444444444444,\"#bd3786\"],[0.5555555555555556,\"#d8576b\"],[0.6666666666666666,\"#ed7953\"],[0.7777777777777778,\"#fb9f3a\"],[0.8888888888888888,\"#fdca26\"],[1.0,\"#f0f921\"]],\"type\":\"heatmapgl\"}],\"histogram\":[{\"marker\":{\"pattern\":{\"fillmode\":\"overlay\",\"size\":10,\"solidity\":0.2}},\"type\":\"histogram\"}],\"histogram2d\":[{\"colorbar\":{\"outlinewidth\":0,\"ticks\":\"\"},\"colorscale\":[[0.0,\"#0d0887\"],[0.1111111111111111,\"#46039f\"],[0.2222222222222222,\"#7201a8\"],[0.3333333333333333,\"#9c179e\"],[0.4444444444444444,\"#bd3786\"],[0.5555555555555556,\"#d8576b\"],[0.6666666666666666,\"#ed7953\"],[0.7777777777777778,\"#fb9f3a\"],[0.8888888888888888,\"#fdca26\"],[1.0,\"#f0f921\"]],\"type\":\"histogram2d\"}],\"histogram2dcontour\":[{\"colorbar\":{\"outlinewidth\":0,\"ticks\":\"\"},\"colorscale\":[[0.0,\"#0d0887\"],[0.1111111111111111,\"#46039f\"],[0.2222222222222222,\"#7201a8\"],[0.3333333333333333,\"#9c179e\"],[0.4444444444444444,\"#bd3786\"],[0.5555555555555556,\"#d8576b\"],[0.6666666666666666,\"#ed7953\"],[0.7777777777777778,\"#fb9f3a\"],[0.8888888888888888,\"#fdca26\"],[1.0,\"#f0f921\"]],\"type\":\"histogram2dcontour\"}],\"mesh3d\":[{\"colorbar\":{\"outlinewidth\":0,\"ticks\":\"\"},\"type\":\"mesh3d\"}],\"parcoords\":[{\"line\":{\"colorbar\":{\"outlinewidth\":0,\"ticks\":\"\"}},\"type\":\"parcoords\"}],\"pie\":[{\"automargin\":true,\"type\":\"pie\"}],\"scatter\":[{\"marker\":{\"colorbar\":{\"outlinewidth\":0,\"ticks\":\"\"}},\"type\":\"scatter\"}],\"scatter3d\":[{\"line\":{\"colorbar\":{\"outlinewidth\":0,\"ticks\":\"\"}},\"marker\":{\"colorbar\":{\"outlinewidth\":0,\"ticks\":\"\"}},\"type\":\"scatter3d\"}],\"scattercarpet\":[{\"marker\":{\"colorbar\":{\"outlinewidth\":0,\"ticks\":\"\"}},\"type\":\"scattercarpet\"}],\"scattergeo\":[{\"marker\":{\"colorbar\":{\"outlinewidth\":0,\"ticks\":\"\"}},\"type\":\"scattergeo\"}],\"scattergl\":[{\"marker\":{\"colorbar\":{\"outlinewidth\":0,\"ticks\":\"\"}},\"type\":\"scattergl\"}],\"scattermapbox\":[{\"marker\":{\"colorbar\":{\"outlinewidth\":0,\"ticks\":\"\"}},\"type\":\"scattermapbox\"}],\"scatterpolar\":[{\"marker\":{\"colorbar\":{\"outlinewidth\":0,\"ticks\":\"\"}},\"type\":\"scatterpolar\"}],\"scatterpolargl\":[{\"marker\":{\"colorbar\":{\"outlinewidth\":0,\"ticks\":\"\"}},\"type\":\"scatterpolargl\"}],\"scatterternary\":[{\"marker\":{\"colorbar\":{\"outlinewidth\":0,\"ticks\":\"\"}},\"type\":\"scatterternary\"}],\"surface\":[{\"colorbar\":{\"outlinewidth\":0,\"ticks\":\"\"},\"colorscale\":[[0.0,\"#0d0887\"],[0.1111111111111111,\"#46039f\"],[0.2222222222222222,\"#7201a8\"],[0.3333333333333333,\"#9c179e\"],[0.4444444444444444,\"#bd3786\"],[0.5555555555555556,\"#d8576b\"],[0.6666666666666666,\"#ed7953\"],[0.7777777777777778,\"#fb9f3a\"],[0.8888888888888888,\"#fdca26\"],[1.0,\"#f0f921\"]],\"type\":\"surface\"}],\"table\":[{\"cells\":{\"fill\":{\"color\":\"#EBF0F8\"},\"line\":{\"color\":\"white\"}},\"header\":{\"fill\":{\"color\":\"#C8D4E3\"},\"line\":{\"color\":\"white\"}},\"type\":\"table\"}]},\"layout\":{\"annotationdefaults\":{\"arrowcolor\":\"#2a3f5f\",\"arrowhead\":0,\"arrowwidth\":1},\"autotypenumbers\":\"strict\",\"coloraxis\":{\"colorbar\":{\"outlinewidth\":0,\"ticks\":\"\"}},\"colorscale\":{\"diverging\":[[0,\"#8e0152\"],[0.1,\"#c51b7d\"],[0.2,\"#de77ae\"],[0.3,\"#f1b6da\"],[0.4,\"#fde0ef\"],[0.5,\"#f7f7f7\"],[0.6,\"#e6f5d0\"],[0.7,\"#b8e186\"],[0.8,\"#7fbc41\"],[0.9,\"#4d9221\"],[1,\"#276419\"]],\"sequential\":[[0.0,\"#0d0887\"],[0.1111111111111111,\"#46039f\"],[0.2222222222222222,\"#7201a8\"],[0.3333333333333333,\"#9c179e\"],[0.4444444444444444,\"#bd3786\"],[0.5555555555555556,\"#d8576b\"],[0.6666666666666666,\"#ed7953\"],[0.7777777777777778,\"#fb9f3a\"],[0.8888888888888888,\"#fdca26\"],[1.0,\"#f0f921\"]],\"sequentialminus\":[[0.0,\"#0d0887\"],[0.1111111111111111,\"#46039f\"],[0.2222222222222222,\"#7201a8\"],[0.3333333333333333,\"#9c179e\"],[0.4444444444444444,\"#bd3786\"],[0.5555555555555556,\"#d8576b\"],[0.6666666666666666,\"#ed7953\"],[0.7777777777777778,\"#fb9f3a\"],[0.8888888888888888,\"#fdca26\"],[1.0,\"#f0f921\"]]},\"colorway\":[\"#636efa\",\"#EF553B\",\"#00cc96\",\"#ab63fa\",\"#FFA15A\",\"#19d3f3\",\"#FF6692\",\"#B6E880\",\"#FF97FF\",\"#FECB52\"],\"font\":{\"color\":\"#2a3f5f\"},\"geo\":{\"bgcolor\":\"white\",\"lakecolor\":\"white\",\"landcolor\":\"#E5ECF6\",\"showlakes\":true,\"showland\":true,\"subunitcolor\":\"white\"},\"hoverlabel\":{\"align\":\"left\"},\"hovermode\":\"closest\",\"mapbox\":{\"style\":\"light\"},\"paper_bgcolor\":\"white\",\"plot_bgcolor\":\"#E5ECF6\",\"polar\":{\"angularaxis\":{\"gridcolor\":\"white\",\"linecolor\":\"white\",\"ticks\":\"\"},\"bgcolor\":\"#E5ECF6\",\"radialaxis\":{\"gridcolor\":\"white\",\"linecolor\":\"white\",\"ticks\":\"\"}},\"scene\":{\"xaxis\":{\"backgroundcolor\":\"#E5ECF6\",\"gridcolor\":\"white\",\"gridwidth\":2,\"linecolor\":\"white\",\"showbackground\":true,\"ticks\":\"\",\"zerolinecolor\":\"white\"},\"yaxis\":{\"backgroundcolor\":\"#E5ECF6\",\"gridcolor\":\"white\",\"gridwidth\":2,\"linecolor\":\"white\",\"showbackground\":true,\"ticks\":\"\",\"zerolinecolor\":\"white\"},\"zaxis\":{\"backgroundcolor\":\"#E5ECF6\",\"gridcolor\":\"white\",\"gridwidth\":2,\"linecolor\":\"white\",\"showbackground\":true,\"ticks\":\"\",\"zerolinecolor\":\"white\"}},\"shapedefaults\":{\"line\":{\"color\":\"#2a3f5f\"}},\"ternary\":{\"aaxis\":{\"gridcolor\":\"white\",\"linecolor\":\"white\",\"ticks\":\"\"},\"baxis\":{\"gridcolor\":\"white\",\"linecolor\":\"white\",\"ticks\":\"\"},\"bgcolor\":\"#E5ECF6\",\"caxis\":{\"gridcolor\":\"white\",\"linecolor\":\"white\",\"ticks\":\"\"}},\"title\":{\"x\":0.05},\"xaxis\":{\"automargin\":true,\"gridcolor\":\"white\",\"linecolor\":\"white\",\"ticks\":\"\",\"title\":{\"standoff\":15},\"zerolinecolor\":\"white\",\"zerolinewidth\":2},\"yaxis\":{\"automargin\":true,\"gridcolor\":\"white\",\"linecolor\":\"white\",\"ticks\":\"\",\"title\":{\"standoff\":15},\"zerolinecolor\":\"white\",\"zerolinewidth\":2}}},\"title\":{\"text\":\"High Profile vs Low Profile Donors Count by Age Group\"},\"xaxis\":{\"title\":{\"text\":\"Age group\"}},\"yaxis\":{\"title\":{\"text\":\"Count of donors\"}}},                        {\"responsive\": true}                    ).then(function(){\n",
       "                            \n",
       "var gd = document.getElementById('5e81bf69-b1e2-4613-9760-609689bc4dec');\n",
       "var x = new MutationObserver(function (mutations, observer) {{\n",
       "        var display = window.getComputedStyle(gd).display;\n",
       "        if (!display || display === 'none') {{\n",
       "            console.log([gd, 'removed!']);\n",
       "            Plotly.purge(gd);\n",
       "            observer.disconnect();\n",
       "        }}\n",
       "}});\n",
       "\n",
       "// Listen for the removal of the full notebook cells\n",
       "var notebookContainer = gd.closest('#notebook-container');\n",
       "if (notebookContainer) {{\n",
       "    x.observe(notebookContainer, {childList: true});\n",
       "}}\n",
       "\n",
       "// Listen for the clearing of the current output cell\n",
       "var outputEl = gd.closest('.output');\n",
       "if (outputEl) {{\n",
       "    x.observe(outputEl, {childList: true});\n",
       "}}\n",
       "\n",
       "                        })                };                });            </script>        </div>"
      ]
     },
     "metadata": {},
     "output_type": "display_data"
    }
   ],
   "source": [
    "fig = go.Figure(data=[\n",
    "    go.Bar(name='High Profile', x=best_by_age_group[\"age_group\"], y=best_by_age_group[\"total_donations_per_donor\"]),\n",
    "    go.Bar(name='Low Profile', x=worst_by_age_group[\"age_group\"], y=worst_by_age_group[\"total_donations_per_donor\"])])\n",
    "fig.update_layout(\n",
    "    title=\"High Profile vs Low Profile Donors Count by Age Group\",\n",
    "    xaxis_title=\"Age group\",\n",
    "    yaxis_title=\"Count of donors\")\n",
    "fig.show()"
   ]
  },
  {
   "cell_type": "code",
   "execution_count": 418,
   "id": "74b7e873",
   "metadata": {},
   "outputs": [
    {
     "data": {
      "application/vnd.plotly.v1+json": {
       "config": {
        "plotlyServerURL": "https://plot.ly"
       },
       "data": [
        {
         "name": "High Profile",
         "type": "bar",
         "x": [
          "High Profile",
          "Low Profile"
         ],
         "y": [
          49.58,
          32.25
         ]
        }
       ],
       "layout": {
        "template": {
         "data": {
          "bar": [
           {
            "error_x": {
             "color": "#2a3f5f"
            },
            "error_y": {
             "color": "#2a3f5f"
            },
            "marker": {
             "line": {
              "color": "#E5ECF6",
              "width": 0.5
             },
             "pattern": {
              "fillmode": "overlay",
              "size": 10,
              "solidity": 0.2
             }
            },
            "type": "bar"
           }
          ],
          "barpolar": [
           {
            "marker": {
             "line": {
              "color": "#E5ECF6",
              "width": 0.5
             },
             "pattern": {
              "fillmode": "overlay",
              "size": 10,
              "solidity": 0.2
             }
            },
            "type": "barpolar"
           }
          ],
          "carpet": [
           {
            "aaxis": {
             "endlinecolor": "#2a3f5f",
             "gridcolor": "white",
             "linecolor": "white",
             "minorgridcolor": "white",
             "startlinecolor": "#2a3f5f"
            },
            "baxis": {
             "endlinecolor": "#2a3f5f",
             "gridcolor": "white",
             "linecolor": "white",
             "minorgridcolor": "white",
             "startlinecolor": "#2a3f5f"
            },
            "type": "carpet"
           }
          ],
          "choropleth": [
           {
            "colorbar": {
             "outlinewidth": 0,
             "ticks": ""
            },
            "type": "choropleth"
           }
          ],
          "contour": [
           {
            "colorbar": {
             "outlinewidth": 0,
             "ticks": ""
            },
            "colorscale": [
             [
              0,
              "#0d0887"
             ],
             [
              0.1111111111111111,
              "#46039f"
             ],
             [
              0.2222222222222222,
              "#7201a8"
             ],
             [
              0.3333333333333333,
              "#9c179e"
             ],
             [
              0.4444444444444444,
              "#bd3786"
             ],
             [
              0.5555555555555556,
              "#d8576b"
             ],
             [
              0.6666666666666666,
              "#ed7953"
             ],
             [
              0.7777777777777778,
              "#fb9f3a"
             ],
             [
              0.8888888888888888,
              "#fdca26"
             ],
             [
              1,
              "#f0f921"
             ]
            ],
            "type": "contour"
           }
          ],
          "contourcarpet": [
           {
            "colorbar": {
             "outlinewidth": 0,
             "ticks": ""
            },
            "type": "contourcarpet"
           }
          ],
          "heatmap": [
           {
            "colorbar": {
             "outlinewidth": 0,
             "ticks": ""
            },
            "colorscale": [
             [
              0,
              "#0d0887"
             ],
             [
              0.1111111111111111,
              "#46039f"
             ],
             [
              0.2222222222222222,
              "#7201a8"
             ],
             [
              0.3333333333333333,
              "#9c179e"
             ],
             [
              0.4444444444444444,
              "#bd3786"
             ],
             [
              0.5555555555555556,
              "#d8576b"
             ],
             [
              0.6666666666666666,
              "#ed7953"
             ],
             [
              0.7777777777777778,
              "#fb9f3a"
             ],
             [
              0.8888888888888888,
              "#fdca26"
             ],
             [
              1,
              "#f0f921"
             ]
            ],
            "type": "heatmap"
           }
          ],
          "heatmapgl": [
           {
            "colorbar": {
             "outlinewidth": 0,
             "ticks": ""
            },
            "colorscale": [
             [
              0,
              "#0d0887"
             ],
             [
              0.1111111111111111,
              "#46039f"
             ],
             [
              0.2222222222222222,
              "#7201a8"
             ],
             [
              0.3333333333333333,
              "#9c179e"
             ],
             [
              0.4444444444444444,
              "#bd3786"
             ],
             [
              0.5555555555555556,
              "#d8576b"
             ],
             [
              0.6666666666666666,
              "#ed7953"
             ],
             [
              0.7777777777777778,
              "#fb9f3a"
             ],
             [
              0.8888888888888888,
              "#fdca26"
             ],
             [
              1,
              "#f0f921"
             ]
            ],
            "type": "heatmapgl"
           }
          ],
          "histogram": [
           {
            "marker": {
             "pattern": {
              "fillmode": "overlay",
              "size": 10,
              "solidity": 0.2
             }
            },
            "type": "histogram"
           }
          ],
          "histogram2d": [
           {
            "colorbar": {
             "outlinewidth": 0,
             "ticks": ""
            },
            "colorscale": [
             [
              0,
              "#0d0887"
             ],
             [
              0.1111111111111111,
              "#46039f"
             ],
             [
              0.2222222222222222,
              "#7201a8"
             ],
             [
              0.3333333333333333,
              "#9c179e"
             ],
             [
              0.4444444444444444,
              "#bd3786"
             ],
             [
              0.5555555555555556,
              "#d8576b"
             ],
             [
              0.6666666666666666,
              "#ed7953"
             ],
             [
              0.7777777777777778,
              "#fb9f3a"
             ],
             [
              0.8888888888888888,
              "#fdca26"
             ],
             [
              1,
              "#f0f921"
             ]
            ],
            "type": "histogram2d"
           }
          ],
          "histogram2dcontour": [
           {
            "colorbar": {
             "outlinewidth": 0,
             "ticks": ""
            },
            "colorscale": [
             [
              0,
              "#0d0887"
             ],
             [
              0.1111111111111111,
              "#46039f"
             ],
             [
              0.2222222222222222,
              "#7201a8"
             ],
             [
              0.3333333333333333,
              "#9c179e"
             ],
             [
              0.4444444444444444,
              "#bd3786"
             ],
             [
              0.5555555555555556,
              "#d8576b"
             ],
             [
              0.6666666666666666,
              "#ed7953"
             ],
             [
              0.7777777777777778,
              "#fb9f3a"
             ],
             [
              0.8888888888888888,
              "#fdca26"
             ],
             [
              1,
              "#f0f921"
             ]
            ],
            "type": "histogram2dcontour"
           }
          ],
          "mesh3d": [
           {
            "colorbar": {
             "outlinewidth": 0,
             "ticks": ""
            },
            "type": "mesh3d"
           }
          ],
          "parcoords": [
           {
            "line": {
             "colorbar": {
              "outlinewidth": 0,
              "ticks": ""
             }
            },
            "type": "parcoords"
           }
          ],
          "pie": [
           {
            "automargin": true,
            "type": "pie"
           }
          ],
          "scatter": [
           {
            "marker": {
             "colorbar": {
              "outlinewidth": 0,
              "ticks": ""
             }
            },
            "type": "scatter"
           }
          ],
          "scatter3d": [
           {
            "line": {
             "colorbar": {
              "outlinewidth": 0,
              "ticks": ""
             }
            },
            "marker": {
             "colorbar": {
              "outlinewidth": 0,
              "ticks": ""
             }
            },
            "type": "scatter3d"
           }
          ],
          "scattercarpet": [
           {
            "marker": {
             "colorbar": {
              "outlinewidth": 0,
              "ticks": ""
             }
            },
            "type": "scattercarpet"
           }
          ],
          "scattergeo": [
           {
            "marker": {
             "colorbar": {
              "outlinewidth": 0,
              "ticks": ""
             }
            },
            "type": "scattergeo"
           }
          ],
          "scattergl": [
           {
            "marker": {
             "colorbar": {
              "outlinewidth": 0,
              "ticks": ""
             }
            },
            "type": "scattergl"
           }
          ],
          "scattermapbox": [
           {
            "marker": {
             "colorbar": {
              "outlinewidth": 0,
              "ticks": ""
             }
            },
            "type": "scattermapbox"
           }
          ],
          "scatterpolar": [
           {
            "marker": {
             "colorbar": {
              "outlinewidth": 0,
              "ticks": ""
             }
            },
            "type": "scatterpolar"
           }
          ],
          "scatterpolargl": [
           {
            "marker": {
             "colorbar": {
              "outlinewidth": 0,
              "ticks": ""
             }
            },
            "type": "scatterpolargl"
           }
          ],
          "scatterternary": [
           {
            "marker": {
             "colorbar": {
              "outlinewidth": 0,
              "ticks": ""
             }
            },
            "type": "scatterternary"
           }
          ],
          "surface": [
           {
            "colorbar": {
             "outlinewidth": 0,
             "ticks": ""
            },
            "colorscale": [
             [
              0,
              "#0d0887"
             ],
             [
              0.1111111111111111,
              "#46039f"
             ],
             [
              0.2222222222222222,
              "#7201a8"
             ],
             [
              0.3333333333333333,
              "#9c179e"
             ],
             [
              0.4444444444444444,
              "#bd3786"
             ],
             [
              0.5555555555555556,
              "#d8576b"
             ],
             [
              0.6666666666666666,
              "#ed7953"
             ],
             [
              0.7777777777777778,
              "#fb9f3a"
             ],
             [
              0.8888888888888888,
              "#fdca26"
             ],
             [
              1,
              "#f0f921"
             ]
            ],
            "type": "surface"
           }
          ],
          "table": [
           {
            "cells": {
             "fill": {
              "color": "#EBF0F8"
             },
             "line": {
              "color": "white"
             }
            },
            "header": {
             "fill": {
              "color": "#C8D4E3"
             },
             "line": {
              "color": "white"
             }
            },
            "type": "table"
           }
          ]
         },
         "layout": {
          "annotationdefaults": {
           "arrowcolor": "#2a3f5f",
           "arrowhead": 0,
           "arrowwidth": 1
          },
          "autotypenumbers": "strict",
          "coloraxis": {
           "colorbar": {
            "outlinewidth": 0,
            "ticks": ""
           }
          },
          "colorscale": {
           "diverging": [
            [
             0,
             "#8e0152"
            ],
            [
             0.1,
             "#c51b7d"
            ],
            [
             0.2,
             "#de77ae"
            ],
            [
             0.3,
             "#f1b6da"
            ],
            [
             0.4,
             "#fde0ef"
            ],
            [
             0.5,
             "#f7f7f7"
            ],
            [
             0.6,
             "#e6f5d0"
            ],
            [
             0.7,
             "#b8e186"
            ],
            [
             0.8,
             "#7fbc41"
            ],
            [
             0.9,
             "#4d9221"
            ],
            [
             1,
             "#276419"
            ]
           ],
           "sequential": [
            [
             0,
             "#0d0887"
            ],
            [
             0.1111111111111111,
             "#46039f"
            ],
            [
             0.2222222222222222,
             "#7201a8"
            ],
            [
             0.3333333333333333,
             "#9c179e"
            ],
            [
             0.4444444444444444,
             "#bd3786"
            ],
            [
             0.5555555555555556,
             "#d8576b"
            ],
            [
             0.6666666666666666,
             "#ed7953"
            ],
            [
             0.7777777777777778,
             "#fb9f3a"
            ],
            [
             0.8888888888888888,
             "#fdca26"
            ],
            [
             1,
             "#f0f921"
            ]
           ],
           "sequentialminus": [
            [
             0,
             "#0d0887"
            ],
            [
             0.1111111111111111,
             "#46039f"
            ],
            [
             0.2222222222222222,
             "#7201a8"
            ],
            [
             0.3333333333333333,
             "#9c179e"
            ],
            [
             0.4444444444444444,
             "#bd3786"
            ],
            [
             0.5555555555555556,
             "#d8576b"
            ],
            [
             0.6666666666666666,
             "#ed7953"
            ],
            [
             0.7777777777777778,
             "#fb9f3a"
            ],
            [
             0.8888888888888888,
             "#fdca26"
            ],
            [
             1,
             "#f0f921"
            ]
           ]
          },
          "colorway": [
           "#636efa",
           "#EF553B",
           "#00cc96",
           "#ab63fa",
           "#FFA15A",
           "#19d3f3",
           "#FF6692",
           "#B6E880",
           "#FF97FF",
           "#FECB52"
          ],
          "font": {
           "color": "#2a3f5f"
          },
          "geo": {
           "bgcolor": "white",
           "lakecolor": "white",
           "landcolor": "#E5ECF6",
           "showlakes": true,
           "showland": true,
           "subunitcolor": "white"
          },
          "hoverlabel": {
           "align": "left"
          },
          "hovermode": "closest",
          "mapbox": {
           "style": "light"
          },
          "paper_bgcolor": "white",
          "plot_bgcolor": "#E5ECF6",
          "polar": {
           "angularaxis": {
            "gridcolor": "white",
            "linecolor": "white",
            "ticks": ""
           },
           "bgcolor": "#E5ECF6",
           "radialaxis": {
            "gridcolor": "white",
            "linecolor": "white",
            "ticks": ""
           }
          },
          "scene": {
           "xaxis": {
            "backgroundcolor": "#E5ECF6",
            "gridcolor": "white",
            "gridwidth": 2,
            "linecolor": "white",
            "showbackground": true,
            "ticks": "",
            "zerolinecolor": "white"
           },
           "yaxis": {
            "backgroundcolor": "#E5ECF6",
            "gridcolor": "white",
            "gridwidth": 2,
            "linecolor": "white",
            "showbackground": true,
            "ticks": "",
            "zerolinecolor": "white"
           },
           "zaxis": {
            "backgroundcolor": "#E5ECF6",
            "gridcolor": "white",
            "gridwidth": 2,
            "linecolor": "white",
            "showbackground": true,
            "ticks": "",
            "zerolinecolor": "white"
           }
          },
          "shapedefaults": {
           "line": {
            "color": "#2a3f5f"
           }
          },
          "ternary": {
           "aaxis": {
            "gridcolor": "white",
            "linecolor": "white",
            "ticks": ""
           },
           "baxis": {
            "gridcolor": "white",
            "linecolor": "white",
            "ticks": ""
           },
           "bgcolor": "#E5ECF6",
           "caxis": {
            "gridcolor": "white",
            "linecolor": "white",
            "ticks": ""
           }
          },
          "title": {
           "x": 0.05
          },
          "xaxis": {
           "automargin": true,
           "gridcolor": "white",
           "linecolor": "white",
           "ticks": "",
           "title": {
            "standoff": 15
           },
           "zerolinecolor": "white",
           "zerolinewidth": 2
          },
          "yaxis": {
           "automargin": true,
           "gridcolor": "white",
           "linecolor": "white",
           "ticks": "",
           "title": {
            "standoff": 15
           },
           "zerolinecolor": "white",
           "zerolinewidth": 2
          }
         }
        },
        "title": {
         "text": "High Profile vs Low Profile Median Amount Donations"
        },
        "yaxis": {
         "title": {
          "text": "Donations per donor"
         }
        }
       }
      },
      "text/html": [
       "<div>                            <div id=\"4395f5f4-4037-4af2-96fc-703cbc1a4341\" class=\"plotly-graph-div\" style=\"height:525px; width:100%;\"></div>            <script type=\"text/javascript\">                require([\"plotly\"], function(Plotly) {                    window.PLOTLYENV=window.PLOTLYENV || {};                                    if (document.getElementById(\"4395f5f4-4037-4af2-96fc-703cbc1a4341\")) {                    Plotly.newPlot(                        \"4395f5f4-4037-4af2-96fc-703cbc1a4341\",                        [{\"name\":\"High Profile\",\"x\":[\"High Profile\",\"Low Profile\"],\"y\":[49.58,32.25],\"type\":\"bar\"}],                        {\"template\":{\"data\":{\"bar\":[{\"error_x\":{\"color\":\"#2a3f5f\"},\"error_y\":{\"color\":\"#2a3f5f\"},\"marker\":{\"line\":{\"color\":\"#E5ECF6\",\"width\":0.5},\"pattern\":{\"fillmode\":\"overlay\",\"size\":10,\"solidity\":0.2}},\"type\":\"bar\"}],\"barpolar\":[{\"marker\":{\"line\":{\"color\":\"#E5ECF6\",\"width\":0.5},\"pattern\":{\"fillmode\":\"overlay\",\"size\":10,\"solidity\":0.2}},\"type\":\"barpolar\"}],\"carpet\":[{\"aaxis\":{\"endlinecolor\":\"#2a3f5f\",\"gridcolor\":\"white\",\"linecolor\":\"white\",\"minorgridcolor\":\"white\",\"startlinecolor\":\"#2a3f5f\"},\"baxis\":{\"endlinecolor\":\"#2a3f5f\",\"gridcolor\":\"white\",\"linecolor\":\"white\",\"minorgridcolor\":\"white\",\"startlinecolor\":\"#2a3f5f\"},\"type\":\"carpet\"}],\"choropleth\":[{\"colorbar\":{\"outlinewidth\":0,\"ticks\":\"\"},\"type\":\"choropleth\"}],\"contour\":[{\"colorbar\":{\"outlinewidth\":0,\"ticks\":\"\"},\"colorscale\":[[0.0,\"#0d0887\"],[0.1111111111111111,\"#46039f\"],[0.2222222222222222,\"#7201a8\"],[0.3333333333333333,\"#9c179e\"],[0.4444444444444444,\"#bd3786\"],[0.5555555555555556,\"#d8576b\"],[0.6666666666666666,\"#ed7953\"],[0.7777777777777778,\"#fb9f3a\"],[0.8888888888888888,\"#fdca26\"],[1.0,\"#f0f921\"]],\"type\":\"contour\"}],\"contourcarpet\":[{\"colorbar\":{\"outlinewidth\":0,\"ticks\":\"\"},\"type\":\"contourcarpet\"}],\"heatmap\":[{\"colorbar\":{\"outlinewidth\":0,\"ticks\":\"\"},\"colorscale\":[[0.0,\"#0d0887\"],[0.1111111111111111,\"#46039f\"],[0.2222222222222222,\"#7201a8\"],[0.3333333333333333,\"#9c179e\"],[0.4444444444444444,\"#bd3786\"],[0.5555555555555556,\"#d8576b\"],[0.6666666666666666,\"#ed7953\"],[0.7777777777777778,\"#fb9f3a\"],[0.8888888888888888,\"#fdca26\"],[1.0,\"#f0f921\"]],\"type\":\"heatmap\"}],\"heatmapgl\":[{\"colorbar\":{\"outlinewidth\":0,\"ticks\":\"\"},\"colorscale\":[[0.0,\"#0d0887\"],[0.1111111111111111,\"#46039f\"],[0.2222222222222222,\"#7201a8\"],[0.3333333333333333,\"#9c179e\"],[0.4444444444444444,\"#bd3786\"],[0.5555555555555556,\"#d8576b\"],[0.6666666666666666,\"#ed7953\"],[0.7777777777777778,\"#fb9f3a\"],[0.8888888888888888,\"#fdca26\"],[1.0,\"#f0f921\"]],\"type\":\"heatmapgl\"}],\"histogram\":[{\"marker\":{\"pattern\":{\"fillmode\":\"overlay\",\"size\":10,\"solidity\":0.2}},\"type\":\"histogram\"}],\"histogram2d\":[{\"colorbar\":{\"outlinewidth\":0,\"ticks\":\"\"},\"colorscale\":[[0.0,\"#0d0887\"],[0.1111111111111111,\"#46039f\"],[0.2222222222222222,\"#7201a8\"],[0.3333333333333333,\"#9c179e\"],[0.4444444444444444,\"#bd3786\"],[0.5555555555555556,\"#d8576b\"],[0.6666666666666666,\"#ed7953\"],[0.7777777777777778,\"#fb9f3a\"],[0.8888888888888888,\"#fdca26\"],[1.0,\"#f0f921\"]],\"type\":\"histogram2d\"}],\"histogram2dcontour\":[{\"colorbar\":{\"outlinewidth\":0,\"ticks\":\"\"},\"colorscale\":[[0.0,\"#0d0887\"],[0.1111111111111111,\"#46039f\"],[0.2222222222222222,\"#7201a8\"],[0.3333333333333333,\"#9c179e\"],[0.4444444444444444,\"#bd3786\"],[0.5555555555555556,\"#d8576b\"],[0.6666666666666666,\"#ed7953\"],[0.7777777777777778,\"#fb9f3a\"],[0.8888888888888888,\"#fdca26\"],[1.0,\"#f0f921\"]],\"type\":\"histogram2dcontour\"}],\"mesh3d\":[{\"colorbar\":{\"outlinewidth\":0,\"ticks\":\"\"},\"type\":\"mesh3d\"}],\"parcoords\":[{\"line\":{\"colorbar\":{\"outlinewidth\":0,\"ticks\":\"\"}},\"type\":\"parcoords\"}],\"pie\":[{\"automargin\":true,\"type\":\"pie\"}],\"scatter\":[{\"marker\":{\"colorbar\":{\"outlinewidth\":0,\"ticks\":\"\"}},\"type\":\"scatter\"}],\"scatter3d\":[{\"line\":{\"colorbar\":{\"outlinewidth\":0,\"ticks\":\"\"}},\"marker\":{\"colorbar\":{\"outlinewidth\":0,\"ticks\":\"\"}},\"type\":\"scatter3d\"}],\"scattercarpet\":[{\"marker\":{\"colorbar\":{\"outlinewidth\":0,\"ticks\":\"\"}},\"type\":\"scattercarpet\"}],\"scattergeo\":[{\"marker\":{\"colorbar\":{\"outlinewidth\":0,\"ticks\":\"\"}},\"type\":\"scattergeo\"}],\"scattergl\":[{\"marker\":{\"colorbar\":{\"outlinewidth\":0,\"ticks\":\"\"}},\"type\":\"scattergl\"}],\"scattermapbox\":[{\"marker\":{\"colorbar\":{\"outlinewidth\":0,\"ticks\":\"\"}},\"type\":\"scattermapbox\"}],\"scatterpolar\":[{\"marker\":{\"colorbar\":{\"outlinewidth\":0,\"ticks\":\"\"}},\"type\":\"scatterpolar\"}],\"scatterpolargl\":[{\"marker\":{\"colorbar\":{\"outlinewidth\":0,\"ticks\":\"\"}},\"type\":\"scatterpolargl\"}],\"scatterternary\":[{\"marker\":{\"colorbar\":{\"outlinewidth\":0,\"ticks\":\"\"}},\"type\":\"scatterternary\"}],\"surface\":[{\"colorbar\":{\"outlinewidth\":0,\"ticks\":\"\"},\"colorscale\":[[0.0,\"#0d0887\"],[0.1111111111111111,\"#46039f\"],[0.2222222222222222,\"#7201a8\"],[0.3333333333333333,\"#9c179e\"],[0.4444444444444444,\"#bd3786\"],[0.5555555555555556,\"#d8576b\"],[0.6666666666666666,\"#ed7953\"],[0.7777777777777778,\"#fb9f3a\"],[0.8888888888888888,\"#fdca26\"],[1.0,\"#f0f921\"]],\"type\":\"surface\"}],\"table\":[{\"cells\":{\"fill\":{\"color\":\"#EBF0F8\"},\"line\":{\"color\":\"white\"}},\"header\":{\"fill\":{\"color\":\"#C8D4E3\"},\"line\":{\"color\":\"white\"}},\"type\":\"table\"}]},\"layout\":{\"annotationdefaults\":{\"arrowcolor\":\"#2a3f5f\",\"arrowhead\":0,\"arrowwidth\":1},\"autotypenumbers\":\"strict\",\"coloraxis\":{\"colorbar\":{\"outlinewidth\":0,\"ticks\":\"\"}},\"colorscale\":{\"diverging\":[[0,\"#8e0152\"],[0.1,\"#c51b7d\"],[0.2,\"#de77ae\"],[0.3,\"#f1b6da\"],[0.4,\"#fde0ef\"],[0.5,\"#f7f7f7\"],[0.6,\"#e6f5d0\"],[0.7,\"#b8e186\"],[0.8,\"#7fbc41\"],[0.9,\"#4d9221\"],[1,\"#276419\"]],\"sequential\":[[0.0,\"#0d0887\"],[0.1111111111111111,\"#46039f\"],[0.2222222222222222,\"#7201a8\"],[0.3333333333333333,\"#9c179e\"],[0.4444444444444444,\"#bd3786\"],[0.5555555555555556,\"#d8576b\"],[0.6666666666666666,\"#ed7953\"],[0.7777777777777778,\"#fb9f3a\"],[0.8888888888888888,\"#fdca26\"],[1.0,\"#f0f921\"]],\"sequentialminus\":[[0.0,\"#0d0887\"],[0.1111111111111111,\"#46039f\"],[0.2222222222222222,\"#7201a8\"],[0.3333333333333333,\"#9c179e\"],[0.4444444444444444,\"#bd3786\"],[0.5555555555555556,\"#d8576b\"],[0.6666666666666666,\"#ed7953\"],[0.7777777777777778,\"#fb9f3a\"],[0.8888888888888888,\"#fdca26\"],[1.0,\"#f0f921\"]]},\"colorway\":[\"#636efa\",\"#EF553B\",\"#00cc96\",\"#ab63fa\",\"#FFA15A\",\"#19d3f3\",\"#FF6692\",\"#B6E880\",\"#FF97FF\",\"#FECB52\"],\"font\":{\"color\":\"#2a3f5f\"},\"geo\":{\"bgcolor\":\"white\",\"lakecolor\":\"white\",\"landcolor\":\"#E5ECF6\",\"showlakes\":true,\"showland\":true,\"subunitcolor\":\"white\"},\"hoverlabel\":{\"align\":\"left\"},\"hovermode\":\"closest\",\"mapbox\":{\"style\":\"light\"},\"paper_bgcolor\":\"white\",\"plot_bgcolor\":\"#E5ECF6\",\"polar\":{\"angularaxis\":{\"gridcolor\":\"white\",\"linecolor\":\"white\",\"ticks\":\"\"},\"bgcolor\":\"#E5ECF6\",\"radialaxis\":{\"gridcolor\":\"white\",\"linecolor\":\"white\",\"ticks\":\"\"}},\"scene\":{\"xaxis\":{\"backgroundcolor\":\"#E5ECF6\",\"gridcolor\":\"white\",\"gridwidth\":2,\"linecolor\":\"white\",\"showbackground\":true,\"ticks\":\"\",\"zerolinecolor\":\"white\"},\"yaxis\":{\"backgroundcolor\":\"#E5ECF6\",\"gridcolor\":\"white\",\"gridwidth\":2,\"linecolor\":\"white\",\"showbackground\":true,\"ticks\":\"\",\"zerolinecolor\":\"white\"},\"zaxis\":{\"backgroundcolor\":\"#E5ECF6\",\"gridcolor\":\"white\",\"gridwidth\":2,\"linecolor\":\"white\",\"showbackground\":true,\"ticks\":\"\",\"zerolinecolor\":\"white\"}},\"shapedefaults\":{\"line\":{\"color\":\"#2a3f5f\"}},\"ternary\":{\"aaxis\":{\"gridcolor\":\"white\",\"linecolor\":\"white\",\"ticks\":\"\"},\"baxis\":{\"gridcolor\":\"white\",\"linecolor\":\"white\",\"ticks\":\"\"},\"bgcolor\":\"#E5ECF6\",\"caxis\":{\"gridcolor\":\"white\",\"linecolor\":\"white\",\"ticks\":\"\"}},\"title\":{\"x\":0.05},\"xaxis\":{\"automargin\":true,\"gridcolor\":\"white\",\"linecolor\":\"white\",\"ticks\":\"\",\"title\":{\"standoff\":15},\"zerolinecolor\":\"white\",\"zerolinewidth\":2},\"yaxis\":{\"automargin\":true,\"gridcolor\":\"white\",\"linecolor\":\"white\",\"ticks\":\"\",\"title\":{\"standoff\":15},\"zerolinecolor\":\"white\",\"zerolinewidth\":2}}},\"title\":{\"text\":\"High Profile vs Low Profile Median Amount Donations\"},\"yaxis\":{\"title\":{\"text\":\"Donations per donor\"}}},                        {\"responsive\": true}                    ).then(function(){\n",
       "                            \n",
       "var gd = document.getElementById('4395f5f4-4037-4af2-96fc-703cbc1a4341');\n",
       "var x = new MutationObserver(function (mutations, observer) {{\n",
       "        var display = window.getComputedStyle(gd).display;\n",
       "        if (!display || display === 'none') {{\n",
       "            console.log([gd, 'removed!']);\n",
       "            Plotly.purge(gd);\n",
       "            observer.disconnect();\n",
       "        }}\n",
       "}});\n",
       "\n",
       "// Listen for the removal of the full notebook cells\n",
       "var notebookContainer = gd.closest('#notebook-container');\n",
       "if (notebookContainer) {{\n",
       "    x.observe(notebookContainer, {childList: true});\n",
       "}}\n",
       "\n",
       "// Listen for the clearing of the current output cell\n",
       "var outputEl = gd.closest('.output');\n",
       "if (outputEl) {{\n",
       "    x.observe(outputEl, {childList: true});\n",
       "}}\n",
       "\n",
       "                        })                };                });            </script>        </div>"
      ]
     },
     "metadata": {},
     "output_type": "display_data"
    }
   ],
   "source": [
    "\n",
    "\n",
    "fig = go.Figure(data=[\n",
    "    go.Bar(name='High Profile', x=[\"High Profile\", \"Low Profile\"], y=[best_pro_feat[\"total_donations_per_donor\"].median(),bad_pro_feat[\"total_donations_per_donor\"].median() ])\n",
    "])\n",
    "\n",
    "fig.update_layout(\n",
    "    title=\"High Profile vs Low Profile Median Amount Donations\",\n",
    "    yaxis_title=\"Donations per donor\")\n",
    "fig.show()\n"
   ]
  }
 ],
 "metadata": {
  "interpreter": {
   "hash": "81e0b57edd17c3833f38e5d4db6db81e2c0f982e51ee4890d9e870805c7d8a75"
  },
  "kernelspec": {
   "display_name": "Python 3 (ipykernel)",
   "language": "python",
   "name": "python3"
  },
  "language_info": {
   "codemirror_mode": {
    "name": "ipython",
    "version": 3
   },
   "file_extension": ".py",
   "mimetype": "text/x-python",
   "name": "python",
   "nbconvert_exporter": "python",
   "pygments_lexer": "ipython3",
   "version": "3.9.7"
  }
 },
 "nbformat": 4,
 "nbformat_minor": 5
}
